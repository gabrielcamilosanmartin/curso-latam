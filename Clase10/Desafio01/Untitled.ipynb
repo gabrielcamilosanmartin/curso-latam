{
 "cells": [
  {
   "cell_type": "code",
   "execution_count": 114,
   "metadata": {},
   "outputs": [
    {
     "data": {
      "text/html": [
       "<div>\n",
       "<style scoped>\n",
       "    .dataframe tbody tr th:only-of-type {\n",
       "        vertical-align: middle;\n",
       "    }\n",
       "\n",
       "    .dataframe tbody tr th {\n",
       "        vertical-align: top;\n",
       "    }\n",
       "\n",
       "    .dataframe thead th {\n",
       "        text-align: right;\n",
       "    }\n",
       "</style>\n",
       "<table border=\"1\" class=\"dataframe\">\n",
       "  <thead>\n",
       "    <tr style=\"text-align: right;\">\n",
       "      <th></th>\n",
       "      <th>team</th>\n",
       "      <th>continent</th>\n",
       "      <th>group</th>\n",
       "      <th>group_pos</th>\n",
       "      <th>cantidad_juegos</th>\n",
       "      <th>juegos_ganados</th>\n",
       "      <th>juegos_empatados</th>\n",
       "      <th>juegos_perdidos</th>\n",
       "      <th>goles_favor</th>\n",
       "      <th>goles_contra</th>\n",
       "      <th>goles_diferencia</th>\n",
       "      <th>puntos</th>\n",
       "      <th>clasificado</th>\n",
       "    </tr>\n",
       "  </thead>\n",
       "  <tbody>\n",
       "    <tr>\n",
       "      <th>0</th>\n",
       "      <td>Brazil</td>\n",
       "      <td>southamerica</td>\n",
       "      <td>A</td>\n",
       "      <td>1</td>\n",
       "      <td>3</td>\n",
       "      <td>2</td>\n",
       "      <td>1</td>\n",
       "      <td>0</td>\n",
       "      <td>7</td>\n",
       "      <td>2</td>\n",
       "      <td>5</td>\n",
       "      <td>7</td>\n",
       "      <td>1</td>\n",
       "    </tr>\n",
       "    <tr>\n",
       "      <th>1</th>\n",
       "      <td>Mexico</td>\n",
       "      <td>northamerica</td>\n",
       "      <td>A</td>\n",
       "      <td>2</td>\n",
       "      <td>3</td>\n",
       "      <td>2</td>\n",
       "      <td>1</td>\n",
       "      <td>0</td>\n",
       "      <td>4</td>\n",
       "      <td>1</td>\n",
       "      <td>3</td>\n",
       "      <td>7</td>\n",
       "      <td>1</td>\n",
       "    </tr>\n",
       "    <tr>\n",
       "      <th>2</th>\n",
       "      <td>Croatia</td>\n",
       "      <td>europe</td>\n",
       "      <td>A</td>\n",
       "      <td>3</td>\n",
       "      <td>3</td>\n",
       "      <td>1</td>\n",
       "      <td>0</td>\n",
       "      <td>2</td>\n",
       "      <td>6</td>\n",
       "      <td>6</td>\n",
       "      <td>0</td>\n",
       "      <td>3</td>\n",
       "      <td>0</td>\n",
       "    </tr>\n",
       "    <tr>\n",
       "      <th>3</th>\n",
       "      <td>Cameroon</td>\n",
       "      <td>africa</td>\n",
       "      <td>A</td>\n",
       "      <td>4</td>\n",
       "      <td>3</td>\n",
       "      <td>0</td>\n",
       "      <td>0</td>\n",
       "      <td>3</td>\n",
       "      <td>1</td>\n",
       "      <td>9</td>\n",
       "      <td>−8</td>\n",
       "      <td>0</td>\n",
       "      <td>0</td>\n",
       "    </tr>\n",
       "    <tr>\n",
       "      <th>4</th>\n",
       "      <td>Netherlands</td>\n",
       "      <td>europe</td>\n",
       "      <td>B</td>\n",
       "      <td>1</td>\n",
       "      <td>3</td>\n",
       "      <td>3</td>\n",
       "      <td>0</td>\n",
       "      <td>0</td>\n",
       "      <td>10</td>\n",
       "      <td>3</td>\n",
       "      <td>7</td>\n",
       "      <td>9</td>\n",
       "      <td>1</td>\n",
       "    </tr>\n",
       "  </tbody>\n",
       "</table>\n",
       "</div>"
      ],
      "text/plain": [
       "          team     continent group  group_pos  cantidad_juegos  \\\n",
       "0       Brazil  southamerica     A          1                3   \n",
       "1       Mexico  northamerica     A          2                3   \n",
       "2      Croatia        europe     A          3                3   \n",
       "3     Cameroon        africa     A          4                3   \n",
       "4  Netherlands        europe     B          1                3   \n",
       "\n",
       "   juegos_ganados  juegos_empatados  juegos_perdidos  goles_favor  \\\n",
       "0               2                 1                0            7   \n",
       "1               2                 1                0            4   \n",
       "2               1                 0                2            6   \n",
       "3               0                 0                3            1   \n",
       "4               3                 0                0           10   \n",
       "\n",
       "   goles_contra goles_diferencia  puntos  clasificado  \n",
       "0             2                5       7            1  \n",
       "1             1                3       7            1  \n",
       "2             6                0       3            0  \n",
       "3             9               −8       0            0  \n",
       "4             3                7       9            1  "
      ]
     },
     "execution_count": 114,
     "metadata": {},
     "output_type": "execute_result"
    }
   ],
   "source": [
    "import pandas as pd\n",
    "import numpy as np\n",
    "df = pd.read_csv('worldcup2014.csv')\n",
    "df.head()"
   ]
  },
  {
   "cell_type": "markdown",
   "metadata": {},
   "source": [
    "# DESAFIO 1"
   ]
  },
  {
   "cell_type": "code",
   "execution_count": 172,
   "metadata": {},
   "outputs": [],
   "source": [
    "\"\"\"\n",
    "Función que calcula el promedio de una serie\n",
    "@param x: Serie de panda\n",
    "@return: Promedio de la serie ingresada como parametro\n",
    "\"\"\"\n",
    "def media(x):\n",
    "    return x.sum()/len(x)\n",
    "\n",
    "\"\"\"\n",
    "Función que calcula la varianza de una serie\n",
    "@param x: Serie de panda\n",
    "@return: Varianza de la serie ingresada como parametro\n",
    "\"\"\"\n",
    "def varianza(x):\n",
    "    prom = promedio(x)\n",
    "    varianza = 0\n",
    "    for key, value in x.items():\n",
    "        varianza += (prom - value)**2\n",
    "    return (varianza/(len(x)))"
   ]
  },
  {
   "cell_type": "code",
   "execution_count": 173,
   "metadata": {},
   "outputs": [
    {
     "name": "stdout",
     "output_type": "stream",
     "text": [
      "El promedio de los goles a favor es   : 4.25. La varianza de los goles a favor es:     5.1875\n",
      "El promedio de los goles en contra es : 4.25. La varianza de los goles en contra es:   4.8125\n",
      "El promedio de los puntos es          : 4.21875. La varianza de los puntos a favor es: 8.0458984375\n"
     ]
    }
   ],
   "source": [
    "print(\"El promedio de los goles a favor es   : \" + str(media(df['goles_favor']))+ \". La varianza de los goles a favor es:     \"+ str(varianza(df['goles_favor'])))\n",
    "print(\"El promedio de los goles en contra es : \" + str(media(df['goles_contra']))+ \". La varianza de los goles en contra es:   \"+ str(varianza(df['goles_contra'])))\n",
    "print(\"El promedio de los puntos es          : \" + str(media(df['puntos'])) + \". La varianza de los puntos a favor es: \"+ str(varianza(df['puntos'])))"
   ]
  },
  {
   "cell_type": "markdown",
   "metadata": {},
   "source": [
    "# DESAFIO 2"
   ]
  },
  {
   "cell_type": "code",
   "execution_count": 166,
   "metadata": {},
   "outputs": [],
   "source": [
    "southamerica_df = df[df[\"continent\"] == \"southamerica\"]\n",
    "northamerica_df = df[df[\"continent\"] == \"northamerica\"]\n",
    "europe_df = df[df[\"continent\"] == \"europe\"]\n",
    "africa_df = df[df[\"continent\"] == \"africa\"]\n",
    "asia_df = df[df[\"continent\"] == \"asia\"]"
   ]
  },
  {
   "cell_type": "code",
   "execution_count": 197,
   "metadata": {},
   "outputs": [
    {
     "name": "stdout",
     "output_type": "stream",
     "text": [
      "Goles a favor\n",
      "-------------\n",
      "     continente  media_goles_favor  std_goles_favor\n",
      "0  southamerica           5.666667         3.888889\n",
      "1  northamerica           3.250000         1.687500\n",
      "2        europe           4.769231         6.331361\n",
      "3        africa           3.600000         2.640000\n",
      "4          asia           2.250000         0.687500\n",
      "\n",
      "Goles en contra\n",
      "---------------\n",
      "     continente  media_goles_contra  std_goles_contra\n",
      "0  southamerica            2.833333          0.472222\n",
      "1  northamerica            3.500000          8.250000\n",
      "2        europe            4.000000          3.538462\n",
      "3        africa            5.600000          3.840000\n",
      "4          asia            6.250000          3.187500\n",
      "\n",
      "puntos\n",
      "--------\n",
      "     continente  media_puntos  std_puntos\n",
      "0  southamerica      6.833333    3.138889\n",
      "1  northamerica      4.500000    8.250000\n",
      "2        europe      4.692308    6.366864\n",
      "3        africa      2.400000    2.640000\n",
      "4          asia      0.750000    0.187500\n"
     ]
    }
   ],
   "source": [
    "\n",
    "def funcion(group_by, var):\n",
    "    continent = []\n",
    "    store_mean = []\n",
    "    store_std = []\n",
    "    for d in group_by:\n",
    "        continent.append(d.iloc[0,1])\n",
    "        store_mean.append(media(d[var]))\n",
    "        store_std.append(varianza(d[var]))\n",
    "\n",
    "    tmp = pd.DataFrame({'continente': continent,\n",
    "                        'media_'+var: store_mean,\n",
    "                        'std_'+var: store_std})\n",
    "    return tmp\n",
    "\n",
    "\n",
    "lista_continentes = [southamerica_df, northamerica_df, europe_df, africa_df, asia_df]\n",
    "print (\"Goles a favor\")\n",
    "print (\"-------------\")\n",
    "favor = funcion(lista_continentes, 'goles_favor' )\n",
    "print (favor)\n",
    "\n",
    "print (\"\\nGoles en contra\")\n",
    "print (\"---------------\")\n",
    "contra = funcion(lista_continentes, 'goles_contra' )\n",
    "print (contra)\n",
    "\n",
    "print (\"\\npuntos\")\n",
    "print (\"--------\")\n",
    "puntos = funcion(lista_continentes, 'puntos' )\n",
    "print (puntos)"
   ]
  },
  {
   "cell_type": "markdown",
   "metadata": {},
   "source": [
    "El continente con más goles a favor es: southamerica\n",
    "\n",
    "El continente con más goles en contra es: asia\n",
    "\n",
    "El continente con más puntos es: southamerica"
   ]
  },
  {
   "cell_type": "markdown",
   "metadata": {},
   "source": [
    "# DESAFIO 3"
   ]
  },
  {
   "cell_type": "code",
   "execution_count": 115,
   "metadata": {},
   "outputs": [],
   "source": [
    "def generate_pet():\n",
    "    return np.random.choice(['perro', 'gato'])\n",
    "    "
   ]
  },
  {
   "cell_type": "code",
   "execution_count": 208,
   "metadata": {},
   "outputs": [
    {
     "name": "stdout",
     "output_type": "stream",
     "text": [
      "['perro', 'gato', 'gato', 'gato', 'perro', 'perro', 'perro', 'gato', 'gato', 'gato', 'perro', 'perro', 'gato', 'perro', 'perro', 'gato', 'gato', 'gato', 'perro', 'perro']\n"
     ]
    }
   ],
   "source": [
    "lista_pet=[]\n",
    "for aux in range(0,20):\n",
    "    lista_pet.append(generate_pet())\n",
    "print (lista_pet)"
   ]
  },
  {
   "cell_type": "code",
   "execution_count": 223,
   "metadata": {},
   "outputs": [
    {
     "name": "stdout",
     "output_type": "stream",
     "text": [
      "la probabilidad de sacar un perro es : 0.5\n",
      "la probabilidad de sacar un gato es : 0.5\n"
     ]
    }
   ],
   "source": [
    "prob_perro = str(lista_pet.count('perro')/len(lista))\n",
    "prob_gato = str(1-(lista_pet.count('perro')/len(lista)))\n",
    "\n",
    "print (\"la probabilidad de sacar un perro es : \" + prob_perro)\n",
    "print (\"la probabilidad de sacar un gato es : \" + prob_gato)"
   ]
  },
  {
   "cell_type": "code",
   "execution_count": 218,
   "metadata": {},
   "outputs": [
    {
     "name": "stdout",
     "output_type": "stream",
     "text": [
      "['perro', 'perro', 'perro', 'perro', 'perro', 'perro', 'perro', 'perro', 'perro', 'perro', 'perro', 'perro', 'perro', 'perro', 'perro', 'perro', 'perro', 'perro', 'perro', 'perro']\n"
     ]
    }
   ],
   "source": [
    "def generate_pet2():\n",
    "    np.random.seed(2)\n",
    "    return np.random.choice(['perro', 'gato'])\n",
    "\n",
    "lista_pet2=[]\n",
    "for aux in range(0,20):\n",
    "    lista_pet2.append(generate_pet2())\n",
    "print (lista_pet2)"
   ]
  },
  {
   "cell_type": "markdown",
   "metadata": {},
   "source": [
    "Al utilizar la misma seed de partida para elegir de forma aleatoria el elemento de la lista se obtiene siempre el mismo elemento, en esta caso \"perro\""
   ]
  },
  {
   "cell_type": "markdown",
   "metadata": {},
   "source": [
    "# DESAFIO 4"
   ]
  },
  {
   "cell_type": "code",
   "execution_count": 232,
   "metadata": {},
   "outputs": [
    {
     "name": "stdout",
     "output_type": "stream",
     "text": [
      "la probabilidad que almenos uno sea perro: \n",
      "1.0\n",
      "la probabilidad que salga un perro viejo: \n",
      "0.50241\n",
      "la probabilidad que ambos sean perros: \n",
      "0.50241\n"
     ]
    }
   ],
   "source": [
    "def simulate_pets_prob(n):\n",
    "    np.random.seed(1)\n",
    "    count_dog = 0\n",
    "    count_two_dog = 0\n",
    "    count_old_dog = 0\n",
    "    old_pet = []\n",
    "    young_pet = []\n",
    "    for i in range(0,n):\n",
    "        aux_old_pet = generate_pet()\n",
    "        aux_young_pet = generate_pet()\n",
    "        old_pet.append(aux_old_pet)\n",
    "        young_pet.append(aux_young_pet)\n",
    "        if (aux_old_pet == 'perro' or aux_young_pet):\n",
    "            count_dog += 1\n",
    "        if (aux_old_pet == 'perro' and aux_young_pet):\n",
    "            count_two_dog += 1\n",
    "        if (aux_old_pet == 'perro'):\n",
    "            count_old_dog += 1\n",
    "    print ( \"la probabilidad que almenos uno sea perro: \")\n",
    "    print(count_dog/n)\n",
    "    print ( \"la probabilidad que salga un perro viejo: \")\n",
    "    print(count_old_dog/n) \n",
    "    print ( \"la probabilidad que ambos sean perros: \")\n",
    "    print(count_two_dog/n)\n",
    "\n",
    "simulate_pets_prob(100000)\n",
    "\n"
   ]
  },
  {
   "cell_type": "code",
   "execution_count": null,
   "metadata": {},
   "outputs": [],
   "source": []
  }
 ],
 "metadata": {
  "kernelspec": {
   "display_name": "Python 3",
   "language": "python",
   "name": "python3"
  },
  "language_info": {
   "codemirror_mode": {
    "name": "ipython",
    "version": 3
   },
   "file_extension": ".py",
   "mimetype": "text/x-python",
   "name": "python",
   "nbconvert_exporter": "python",
   "pygments_lexer": "ipython3",
   "version": "3.7.3"
  }
 },
 "nbformat": 4,
 "nbformat_minor": 2
}

{
 "cells": [
  {
   "cell_type": "markdown",
   "metadata": {},
   "source": [
    "# Desafio 1"
   ]
  },
  {
   "cell_type": "code",
   "execution_count": 15,
   "metadata": {},
   "outputs": [],
   "source": [
    "import numpy as np\n",
    "array_1 = np.linspace(1,50, dtype=int)\n",
    "array_2 = np.linspace(50,150, dtype=int)"
   ]
  },
  {
   "cell_type": "markdown",
   "metadata": {},
   "source": [
    "# Desafio 2"
   ]
  },
  {
   "cell_type": "code",
   "execution_count": 16,
   "metadata": {},
   "outputs": [
    {
     "name": "stdout",
     "output_type": "stream",
     "text": [
      "El número \"1\" es impar\n",
      "El número \"2\" es par\n",
      "El número \"3\" es impar\n",
      "El número \"4\" es par\n",
      "El número \"5\" es impar\n",
      "El número \"6\" es par\n",
      "El número \"7\" es impar\n",
      "El número \"8\" es par\n",
      "El número \"9\" es impar\n",
      "El número \"10\" es par\n",
      "El número \"11\" es impar\n",
      "El número \"12\" es par\n",
      "El número \"13\" es impar\n",
      "El número \"14\" es par\n",
      "El número \"15\" es impar\n",
      "El número \"16\" es par\n",
      "El número \"17\" es impar\n",
      "El número \"18\" es par\n",
      "El número \"19\" es impar\n",
      "El número \"20\" es par\n",
      "El número \"21\" es impar\n",
      "El número \"22\" es par\n",
      "El número \"23\" es impar\n",
      "El número \"24\" es par\n",
      "El número \"25\" es impar\n",
      "El número \"26\" es par\n",
      "El número \"27\" es impar\n",
      "El número \"28\" es par\n",
      "El número \"29\" es impar\n",
      "El número \"30\" es par\n",
      "El número \"31\" es impar\n",
      "El número \"32\" es par\n",
      "El número \"33\" es impar\n",
      "El número \"34\" es par\n",
      "El número \"35\" es impar\n",
      "El número \"36\" es par\n",
      "El número \"37\" es impar\n",
      "El número \"38\" es par\n",
      "El número \"39\" es impar\n",
      "El número \"40\" es par\n",
      "El número \"41\" es impar\n",
      "El número \"42\" es par\n",
      "El número \"43\" es impar\n",
      "El número \"44\" es par\n",
      "El número \"45\" es impar\n",
      "El número \"46\" es par\n",
      "El número \"47\" es impar\n",
      "El número \"48\" es par\n",
      "El número \"49\" es impar\n",
      "El número \"50\" es par\n"
     ]
    }
   ],
   "source": [
    "for num in array_1: \n",
    "    if num % 2 == 0: \n",
    "        print ('El número \"' + str(num) + '\" es par')\n",
    "    else:\n",
    "        print ('El número \"' + str(num) + '\" es impar')"
   ]
  },
  {
   "cell_type": "markdown",
   "metadata": {},
   "source": [
    "# Desafio 3"
   ]
  },
  {
   "cell_type": "code",
   "execution_count": 18,
   "metadata": {},
   "outputs": [
    {
     "name": "stdout",
     "output_type": "stream",
     "text": [
      "[ 50  52  54  56  58  60  62  64  66  68  70  72  74  76  78  80  82  84\n",
      "  86  88  90  92  94  96  98 101 103 105 107 109 111 113 115 117 119 121\n",
      " 123 125 127 129 131 133 135 137 139 141 143 145 147 150]\n",
      "Hay 34 números divisibles por 2 o 3\n",
      "Hay 9 números divisibles por 2 y 3\n",
      "Hay 8 números divisibles por 3 pero no por 2\n",
      "Hay 16 números no divisibles por 2 ni 3\n"
     ]
    }
   ],
   "source": [
    "print (array_2)\n",
    "condicion_1 = 0 \n",
    "condicion_2 = 0\n",
    "condicion_3 = 0\n",
    "condicion_4 = 0\n",
    "for num in array_2:\n",
    "    #Si el número es divisible por 2 o 3\n",
    "    if num % 2 == 0 or num % 3 == 0: \n",
    "        condicion_1 += 1\n",
    "    #Si el número es divisible por 2 y 3\n",
    "    if num % 2 == 0 and num % 3 == 0: \n",
    "        condicion_2 += 1\n",
    "    #Si el número es divisible por 3 pero no por 2\n",
    "    if num % 2 != 0 and num % 3 == 0: \n",
    "        condicion_3 += 1\n",
    "    #Si el número no es divisible por 2 ni 3\n",
    "    if num % 2 != 0 and num % 3 != 0: \n",
    "        condicion_4 += 1\n",
    "print ('Hay ' + str(condicion_1) + ' números divisibles por 2 o 3')\n",
    "print ('Hay ' + str(condicion_2) + ' números divisibles por 2 y 3')\n",
    "print ('Hay ' + str(condicion_3) + ' números divisibles por 3 pero no por 2')\n",
    "print ('Hay ' + str(condicion_4) + ' números no divisibles por 2 ni 3')"
   ]
  },
  {
   "cell_type": "markdown",
   "metadata": {},
   "source": [
    "# Desafio 4"
   ]
  },
  {
   "cell_type": "code",
   "execution_count": 21,
   "metadata": {},
   "outputs": [
    {
     "name": "stdout",
     "output_type": "stream",
     "text": [
      "0\n",
      "1\n",
      "4\n",
      "9\n",
      "16\n",
      "25\n",
      "36\n",
      "49\n",
      "64\n",
      "81\n",
      "100\n",
      "121\n",
      "144\n",
      "169\n",
      "196\n",
      "225\n",
      "256\n",
      "289\n",
      "324\n",
      "361\n",
      "400\n",
      "441\n",
      "484\n",
      "529\n",
      "576\n",
      "625\n",
      "676\n",
      "729\n",
      "784\n",
      "841\n",
      "900\n",
      "961\n",
      "1024\n",
      "1089\n",
      "1156\n",
      "1225\n",
      "1296\n",
      "1369\n",
      "1444\n",
      "1521\n",
      "1600\n",
      "1681\n",
      "1764\n",
      "1849\n",
      "1936\n",
      "2025\n",
      "2116\n",
      "2209\n",
      "2304\n",
      "2401\n",
      "2500\n",
      "2601\n",
      "2704\n",
      "2809\n",
      "2916\n",
      "3025\n",
      "3136\n",
      "3249\n",
      "3364\n",
      "3481\n",
      "3600\n",
      "3721\n",
      "3844\n",
      "3969\n",
      "4096\n",
      "4225\n",
      "4356\n",
      "4489\n",
      "4624\n",
      "4761\n",
      "4900\n",
      "5041\n",
      "5184\n",
      "5329\n",
      "5476\n",
      "5625\n",
      "5776\n",
      "5929\n",
      "6084\n",
      "6241\n",
      "6400\n",
      "6561\n",
      "6724\n",
      "6889\n",
      "7056\n",
      "7225\n",
      "7396\n",
      "7569\n",
      "7744\n",
      "7921\n",
      "8100\n",
      "8281\n",
      "8464\n",
      "8649\n",
      "8836\n",
      "9025\n",
      "9216\n",
      "9409\n",
      "9604\n",
      "9801\n"
     ]
    }
   ],
   "source": [
    "for i in range(100):\n",
    "    print(i**2)"
   ]
  },
  {
   "cell_type": "markdown",
   "metadata": {},
   "source": [
    "# Desafio 5"
   ]
  },
  {
   "cell_type": "code",
   "execution_count": 58,
   "metadata": {},
   "outputs": [
    {
     "name": "stderr",
     "output_type": "stream",
     "text": [
      "c:\\users\\gabriel\\appdata\\local\\programs\\python\\python37-32\\lib\\site-packages\\ipykernel_launcher.py:8: FutureWarning: set_value is deprecated and will be removed in a future release. Please use .at[] or .iat[] accessors instead\n",
      "  \n"
     ]
    }
   ],
   "source": [
    "import pandas as pd\n",
    "\n",
    "df = pd.read_csv('flights.csv')\n",
    "media_passengers = df.mean()['passengers']\n",
    "df['underperforming'] = 0\n",
    "for index, val in df.iterrows():\n",
    "    if val['passengers'] < media_passengers:\n",
    "        df.set_value(index, 'underperforming', 1)"
   ]
  },
  {
   "cell_type": "markdown",
   "metadata": {},
   "source": [
    "# Desafio 6"
   ]
  },
  {
   "cell_type": "code",
   "execution_count": 71,
   "metadata": {},
   "outputs": [
    {
     "name": "stderr",
     "output_type": "stream",
     "text": [
      "c:\\users\\gabriel\\appdata\\local\\programs\\python\\python37-32\\lib\\site-packages\\ipykernel_launcher.py:6: FutureWarning: set_value is deprecated and will be removed in a future release. Please use .at[] or .iat[] accessors instead\n",
      "  \n"
     ]
    },
    {
     "data": {
      "text/plain": [
       "0    0.631944\n",
       "1    0.368056\n",
       "Name: outlier, dtype: float64"
      ]
     },
     "execution_count": 71,
     "metadata": {},
     "output_type": "execute_result"
    }
   ],
   "source": [
    "media_passengers = df.mean()['passengers']\n",
    "desviacion_estandar_passengers = df.std()['passengers']\n",
    "df['outlier'] = 0\n",
    "for index, val in df.iterrows():\n",
    "    if val['passengers'] < media_passengers-desviacion_estandar_passengers or val['passengers'] > media_passengers+desviacion_estandar_passengers:\n",
    "        df.set_value(index, 'outlier', 1)\n",
    "# print ('hay ' + str(df[df['outlier'] == 1]['outlier'].value_counts()) + ' casos que se escapen de la tendencia')\n",
    "df['outlier'].value_counts()"
   ]
  },
  {
   "cell_type": "code",
   "execution_count": null,
   "metadata": {},
   "outputs": [],
   "source": []
  }
 ],
 "metadata": {
  "kernelspec": {
   "display_name": "Python 3",
   "language": "python",
   "name": "python3"
  },
  "language_info": {
   "codemirror_mode": {
    "name": "ipython",
    "version": 3
   },
   "file_extension": ".py",
   "mimetype": "text/x-python",
   "name": "python",
   "nbconvert_exporter": "python",
   "pygments_lexer": "ipython3",
   "version": "3.7.0"
  }
 },
 "nbformat": 4,
 "nbformat_minor": 2
}

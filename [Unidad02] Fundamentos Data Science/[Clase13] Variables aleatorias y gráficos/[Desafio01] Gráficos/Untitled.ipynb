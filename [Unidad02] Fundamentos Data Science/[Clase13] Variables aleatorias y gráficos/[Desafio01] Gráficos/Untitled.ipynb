{
 "cells": [
  {
   "cell_type": "markdown",
   "metadata": {},
   "source": [
    "# Pregunta 1"
   ]
  },
  {
   "cell_type": "code",
   "execution_count": 2,
   "metadata": {},
   "outputs": [],
   "source": [
    "import numpy as np\n",
    "import pandas as pd"
   ]
  },
  {
   "cell_type": "code",
   "execution_count": 3,
   "metadata": {},
   "outputs": [],
   "source": [
    "df = pd.read_csv('qog_std_cs_jan18.csv')"
   ]
  },
  {
   "cell_type": "code",
   "execution_count": 4,
   "metadata": {},
   "outputs": [],
   "source": [
    "df_submuestra = df.sample(int(df.shape[0]/2), random_state=27)[['undp_hdi','ccodealp','ht_region','gle_cgdpc', 'imf_pop', 'ffp_hf', 'wef_qes', 'wdi_expedu', 'wdi_ners']]"
   ]
  },
  {
   "cell_type": "code",
   "execution_count": 5,
   "metadata": {},
   "outputs": [],
   "source": [
    "df_submuestra['region_recod'] = df_submuestra['ht_region'].replace([1, 2, 3, 4, 5, 6, 7, 8, 9, 10],['EastEurope', 'LatAm', 'NorthAfrica', 'SubSaharian', 'WesternDem', 'EastAsia', 'SouthEastAsia','SouthAsia','Pacific', 'Caribbean' ])"
   ]
  },
  {
   "cell_type": "code",
   "execution_count": 8,
   "metadata": {},
   "outputs": [
    {
     "data": {
      "text/html": [
       "<div>\n",
       "<style scoped>\n",
       "    .dataframe tbody tr th:only-of-type {\n",
       "        vertical-align: middle;\n",
       "    }\n",
       "\n",
       "    .dataframe tbody tr th {\n",
       "        vertical-align: top;\n",
       "    }\n",
       "\n",
       "    .dataframe thead th {\n",
       "        text-align: right;\n",
       "    }\n",
       "</style>\n",
       "<table border=\"1\" class=\"dataframe\">\n",
       "  <thead>\n",
       "    <tr style=\"text-align: right;\">\n",
       "      <th></th>\n",
       "      <th>undp_hdi</th>\n",
       "      <th>ccodealp</th>\n",
       "      <th>ht_region</th>\n",
       "      <th>gle_cgdpc</th>\n",
       "      <th>imf_pop</th>\n",
       "      <th>ffp_hf</th>\n",
       "      <th>wef_qes</th>\n",
       "      <th>wdi_expedu</th>\n",
       "      <th>wdi_ners</th>\n",
       "      <th>region_recod</th>\n",
       "    </tr>\n",
       "  </thead>\n",
       "  <tbody>\n",
       "    <tr>\n",
       "      <th>9</th>\n",
       "      <td>0.892</td>\n",
       "      <td>AUT</td>\n",
       "      <td>5</td>\n",
       "      <td>38868.0390</td>\n",
       "      <td>8.544000</td>\n",
       "      <td>1.5</td>\n",
       "      <td>4.492075</td>\n",
       "      <td>5.49955</td>\n",
       "      <td>NaN</td>\n",
       "      <td>WesternDem</td>\n",
       "    </tr>\n",
       "    <tr>\n",
       "      <th>12</th>\n",
       "      <td>0.575</td>\n",
       "      <td>BGD</td>\n",
       "      <td>8</td>\n",
       "      <td>1796.6400</td>\n",
       "      <td>154.695007</td>\n",
       "      <td>7.5</td>\n",
       "      <td>3.293150</td>\n",
       "      <td>1.95726</td>\n",
       "      <td>57.239899</td>\n",
       "      <td>SouthAsia</td>\n",
       "    </tr>\n",
       "    <tr>\n",
       "      <th>117</th>\n",
       "      <td>0.795</td>\n",
       "      <td>OMN</td>\n",
       "      <td>3</td>\n",
       "      <td>26158.7300</td>\n",
       "      <td>3.717000</td>\n",
       "      <td>1.9</td>\n",
       "      <td>3.535049</td>\n",
       "      <td>4.96038</td>\n",
       "      <td>94.329842</td>\n",
       "      <td>NorthAfrica</td>\n",
       "    </tr>\n",
       "    <tr>\n",
       "      <th>77</th>\n",
       "      <td>0.686</td>\n",
       "      <td>IDN</td>\n",
       "      <td>7</td>\n",
       "      <td>4780.0098</td>\n",
       "      <td>252.164993</td>\n",
       "      <td>6.3</td>\n",
       "      <td>4.464125</td>\n",
       "      <td>3.27861</td>\n",
       "      <td>75.018372</td>\n",
       "      <td>SouthEastAsia</td>\n",
       "    </tr>\n",
       "    <tr>\n",
       "      <th>63</th>\n",
       "      <td>0.450</td>\n",
       "      <td>GMB</td>\n",
       "      <td>4</td>\n",
       "      <td>1601.8800</td>\n",
       "      <td>NaN</td>\n",
       "      <td>7.7</td>\n",
       "      <td>4.276581</td>\n",
       "      <td>2.76771</td>\n",
       "      <td>NaN</td>\n",
       "      <td>SubSaharian</td>\n",
       "    </tr>\n",
       "  </tbody>\n",
       "</table>\n",
       "</div>"
      ],
      "text/plain": [
       "     undp_hdi ccodealp  ht_region   gle_cgdpc     imf_pop  ffp_hf   wef_qes  \\\n",
       "9       0.892      AUT          5  38868.0390    8.544000     1.5  4.492075   \n",
       "12      0.575      BGD          8   1796.6400  154.695007     7.5  3.293150   \n",
       "117     0.795      OMN          3  26158.7300    3.717000     1.9  3.535049   \n",
       "77      0.686      IDN          7   4780.0098  252.164993     6.3  4.464125   \n",
       "63      0.450      GMB          4   1601.8800         NaN     7.7  4.276581   \n",
       "\n",
       "     wdi_expedu   wdi_ners   region_recod  \n",
       "9       5.49955        NaN     WesternDem  \n",
       "12      1.95726  57.239899      SouthAsia  \n",
       "117     4.96038  94.329842    NorthAfrica  \n",
       "77      3.27861  75.018372  SouthEastAsia  \n",
       "63      2.76771        NaN    SubSaharian  "
      ]
     },
     "execution_count": 8,
     "metadata": {},
     "output_type": "execute_result"
    }
   ],
   "source": [
    "df_submuestra.head()"
   ]
  },
  {
   "cell_type": "markdown",
   "metadata": {},
   "source": [
    "# Pregunta 2"
   ]
  },
  {
   "cell_type": "code",
   "execution_count": 9,
   "metadata": {},
   "outputs": [
    {
     "name": "stdout",
     "output_type": "stream",
     "text": [
      "\n",
      "---gle_cgdpc---\n",
      "count        96.000000\n",
      "mean      15883.982812\n",
      "std       17865.289101\n",
      "min         488.269990\n",
      "25%        2976.932500\n",
      "50%        9534.515150\n",
      "75%       21956.875000\n",
      "max      108481.130000\n",
      "Name: gle_cgdpc, dtype: float64\n",
      "\n",
      "---undp_hdi---\n",
      "count    91.000000\n",
      "mean      0.718264\n",
      "std       0.148793\n",
      "min       0.414000\n",
      "25%       0.609000\n",
      "50%       0.747000\n",
      "75%       0.828500\n",
      "max       0.938000\n",
      "Name: undp_hdi, dtype: float64\n",
      "\n",
      "---imf_pop---\n",
      "count     74.000000\n",
      "mean      31.714419\n",
      "std       58.913717\n",
      "min        0.011000\n",
      "25%        1.466250\n",
      "50%        7.048000\n",
      "75%       32.576751\n",
      "max      318.789001\n",
      "Name: imf_pop, dtype: float64\n"
     ]
    }
   ],
   "source": [
    "def pregunta2(df): \n",
    "    for date, row in df.iteritems():\n",
    "        print('\\n---'+date+'---')\n",
    "        print(df[date].describe())\n",
    "        \n",
    "pregunta2(df_submuestra[['gle_cgdpc' , 'undp_hdi' , 'imf_pop']])"
   ]
  },
  {
   "cell_type": "markdown",
   "metadata": {},
   "source": [
    "# Pregunta 3"
   ]
  },
  {
   "cell_type": "code",
   "execution_count": 10,
   "metadata": {},
   "outputs": [
    {
     "name": "stdout",
     "output_type": "stream",
     "text": [
      "---------------undp_hdi------------------\n",
      "\n",
      "En undp_hdiel numero de casos perdidos es 6\n",
      "En undp_hdiel porcentaje de casos perdidos es 6.593406593406594%\n",
      "-------------------------------------------\n",
      "\n",
      "---------------ccodealp------------------\n",
      "\n",
      "En ccodealpel numero de casos perdidos es 0\n",
      "En ccodealpel porcentaje de casos perdidos es 0.0%\n",
      "-------------------------------------------\n",
      "\n",
      "---------------ht_region------------------\n",
      "\n",
      "En ht_regionel numero de casos perdidos es 0\n",
      "En ht_regionel porcentaje de casos perdidos es 0.0%\n",
      "-------------------------------------------\n",
      "\n",
      "---------------gle_cgdpc------------------\n",
      "\n",
      "En gle_cgdpcel numero de casos perdidos es 1\n",
      "En gle_cgdpcel porcentaje de casos perdidos es 1.0416666666666665%\n",
      "-------------------------------------------\n",
      "\n",
      "---------------imf_pop------------------\n",
      "\n",
      "En imf_popel numero de casos perdidos es 23\n",
      "En imf_popel porcentaje de casos perdidos es 31.08108108108108%\n",
      "-------------------------------------------\n",
      "\n",
      "---------------ffp_hf------------------\n",
      "\n",
      "En ffp_hfel numero de casos perdidos es 9\n",
      "En ffp_hfel porcentaje de casos perdidos es 10.227272727272728%\n",
      "-------------------------------------------\n",
      "\n",
      "---------------wef_qes------------------\n",
      "\n",
      "En wef_qesel numero de casos perdidos es 26\n",
      "En wef_qesel porcentaje de casos perdidos es 36.61971830985916%\n",
      "-------------------------------------------\n",
      "\n",
      "---------------wdi_expedu------------------\n",
      "\n",
      "En wdi_expeduel numero de casos perdidos es 29\n",
      "En wdi_expeduel porcentaje de casos perdidos es 42.64705882352941%\n",
      "-------------------------------------------\n",
      "\n",
      "---------------wdi_ners------------------\n",
      "\n",
      "En wdi_nersel numero de casos perdidos es 29\n",
      "En wdi_nersel porcentaje de casos perdidos es 42.64705882352941%\n",
      "-------------------------------------------\n",
      "\n",
      "---------------wdi_ners------------------\n",
      "\n",
      "En wdi_nersel numero de casos perdidos es 29\n",
      "En wdi_nersel porcentaje de casos perdidos es 42.64705882352941%\n",
      "\n",
      "Los paises con valores perdidos son: \n",
      "9      AUT\n",
      "63     GMB\n",
      "164    SDN\n",
      "176    TUN\n",
      "126    NGA\n",
      "147    VCT\n",
      "148    SMR\n",
      "111    MCO\n",
      "143    RUS\n",
      "157    VNM\n",
      "160    ZAF\n",
      "40     COG\n",
      "97     LBR\n",
      "18     BIH\n",
      "88     KEN\n",
      "128    FSM\n",
      "105    MDV\n",
      "172    TGO\n",
      "155    SGP\n",
      "182    MKD\n",
      "175    ARE\n",
      "139    GNB\n",
      "36     CHN\n",
      "156    SVK\n",
      "30     CAN\n",
      "6      AZE\n",
      "61     GAB\n",
      "22     SLB\n",
      "10     BHS\n",
      "Name: ccodealp, dtype: object\n",
      "-------------------------------------------\n",
      "\n",
      "---------------wdi_expedu------------------\n",
      "\n",
      "En wdi_expeduel numero de casos perdidos es 29\n",
      "En wdi_expeduel porcentaje de casos perdidos es 42.64705882352941%\n",
      "\n",
      "Los paises con valores perdidos son: \n",
      "189    UZB\n",
      "164    SDN\n",
      "126    NGA\n",
      "147    VCT\n",
      "89     PRK\n",
      "55     ERI\n",
      "40     COG\n",
      "95     LSO\n",
      "119    NRU\n",
      "115    MAR\n",
      "49     DMA\n",
      "150    SAU\n",
      "165    SUR\n",
      "169    SYR\n",
      "87     JOR\n",
      "129    MHL\n",
      "18     BIH\n",
      "5      ATG\n",
      "68     GRD\n",
      "182    MKD\n",
      "175    ARE\n",
      "191    WSM\n",
      "36     CHN\n",
      "179    TUV\n",
      "192    YEM\n",
      "22     SLB\n",
      "10     BHS\n",
      "91     KWT\n",
      "183    EGY\n",
      "Name: ccodealp, dtype: object\n",
      "-------------------------------------------\n",
      "\n",
      "---------------wef_qes------------------\n",
      "\n",
      "En wef_qesel numero de casos perdidos es 26\n",
      "En wef_qesel porcentaje de casos perdidos es 36.61971830985916%\n",
      "\n",
      "Los paises con valores perdidos son: \n",
      "27     BLR\n",
      "189    UZB\n",
      "164    SDN\n",
      "147    VCT\n",
      "89     PRK\n",
      "148    SMR\n",
      "111    MCO\n",
      "122    VUT\n",
      "55     ERI\n",
      "40     COG\n",
      "119    NRU\n",
      "49     DMA\n",
      "149    STP\n",
      "129    MHL\n",
      "145    KNA\n",
      "5      ATG\n",
      "128    FSM\n",
      "68     GRD\n",
      "105    MDV\n",
      "172    TGO\n",
      "139    GNB\n",
      "191    WSM\n",
      "179    TUV\n",
      "22     SLB\n",
      "10     BHS\n",
      "0      AFG\n",
      "Name: ccodealp, dtype: object\n",
      "-------------------------------------------\n",
      "\n"
     ]
    }
   ],
   "source": [
    "def pregunta3(df, var, print_list = False):\n",
    "    total = df[var].count()\n",
    "    count = df[var].isnull().sum()\n",
    "    print(\"En \" + var + \"el numero de casos perdidos es \" + str(count) ) \n",
    "    print(\"En \" + var + \"el porcentaje de casos perdidos es \" + str(count/total*100) +\"%\")\n",
    "    if (print_list):\n",
    "        if (count > 0):\n",
    "            print ('\\nLos paises con valores perdidos son: ')\n",
    "            print (df.loc[df[var].isnull()]['ccodealp'])\n",
    "        else:\n",
    "            print ('\\nNo hay datos perdidos ')\n",
    "        \n",
    "    \n",
    "\n",
    "for aux in ['undp_hdi','ccodealp','ht_region','gle_cgdpc', 'imf_pop', 'ffp_hf', 'wef_qes', 'wdi_expedu', 'wdi_ners']:\n",
    "    print ('---------------' + aux + '------------------\\n')\n",
    "    pregunta3(df_submuestra,aux )\n",
    "    print ('-------------------------------------------\\n')\n",
    "\n",
    "for aux in ['wdi_ners', 'wdi_expedu',  'wef_qes']:\n",
    "    print ('---------------' + aux + '------------------\\n')\n",
    "    pregunta3(df_submuestra,aux, True)\n",
    "    print ('-------------------------------------------\\n')\n",
    "    "
   ]
  },
  {
   "cell_type": "markdown",
   "metadata": {},
   "source": [
    "# Pregunta 4"
   ]
  },
  {
   "cell_type": "code",
   "execution_count": 19,
   "metadata": {},
   "outputs": [
    {
     "data": {
      "image/png": "[encoded data removed]",
      "text/plain": [
       "<Figure size 432x288 with 1 Axes>"
      ]
     },
     "metadata": {
      "needs_background": "light"
     },
     "output_type": "display_data"
    },
    {
     "data": {
      "image/png": "[encoded data removed]",
      "text/plain": [
       "<Figure size 432x288 with 1 Axes>"
      ]
     },
     "metadata": {
      "needs_background": "light"
     },
     "output_type": "display_data"
    },
    {
     "data": {
      "image/png": "[encoded data removed]",
      "text/plain": [
       "<Figure size 432x288 with 1 Axes>"
      ]
     },
     "metadata": {
      "needs_background": "light"
     },
     "output_type": "display_data"
    },
    {
     "data": {
      "image/png": "[encoded data removed]",
      "text/plain": [
       "<Figure size 432x288 with 1 Axes>"
      ]
     },
     "metadata": {
      "needs_background": "light"
     },
     "output_type": "display_data"
    }
   ],
   "source": [
    "import matplotlib.pyplot as plt\n",
    "\n",
    "def pregunta4(df_aux, var, true_mean, sample_mean = False) :\n",
    "    plt.hist(df_aux[var].dropna(), color='lightgrey')\n",
    "    plt.title(var)\n",
    "    if (sample_mean):\n",
    "        plt.axvline(df_aux[var].mean(),lw = 3,color = 'blue',linestyle = '--')\n",
    "    if (true_mean):\n",
    "        plt.axvline(df[var].mean(),lw = 3,color = 'tomato',linestyle = '--')\n",
    "    plt.show()\n",
    "    \n",
    "for aux in ['ffp_hf', 'wef_qes', 'wdi_expedu', 'wdi_ners']:\n",
    "    pregunta4(df_submuestra, aux, True, True)"
   ]
  },
  {
   "cell_type": "markdown",
   "metadata": {},
   "source": [
    "# Pregunta 5"
   ]
  },
  {
   "cell_type": "code",
   "execution_count": 12,
   "metadata": {},
   "outputs": [
    {
     "data": {
      "image/png": "[encoded data removed]",
      "text/plain": [
       "<Figure size 432x288 with 1 Axes>"
      ]
     },
     "metadata": {
      "needs_background": "light"
     },
     "output_type": "display_data"
    },
    {
     "data": {
      "image/png": "[encoded data removed]",
      "text/plain": [
       "<Figure size 432x288 with 1 Axes>"
      ]
     },
     "metadata": {
      "needs_background": "light"
     },
     "output_type": "display_data"
    },
    {
     "data": {
      "image/png": "[encoded data removed]",
      "text/plain": [
       "<Figure size 432x288 with 1 Axes>"
      ]
     },
     "metadata": {
      "needs_background": "light"
     },
     "output_type": "display_data"
    },
    {
     "data": {
      "image/png": "[encoded data removed]",
      "text/plain": [
       "<Figure size 432x288 with 1 Axes>"
      ]
     },
     "metadata": {
      "needs_background": "light"
     },
     "output_type": "display_data"
    }
   ],
   "source": [
    "def pregunta5(dataframe, plot_var, plot_by, global_stat= False, statistic='mean'):\n",
    "    if statistic=='mean' :\n",
    "        data = dataframe.groupby(plot_by)[plot_var].mean().dropna()\n",
    "    else: \n",
    "        data = dataframe.groupby(plot_by)[plot_var].median().dropna()\n",
    "    \n",
    "    if global_stat:\n",
    "        plt.axvline(df[plot_var].dropna().mean(),lw = 3,color = 'blue',linestyle = '--')\n",
    "    \n",
    "    plt.plot(data.values, data.index, '.', color='black')\n",
    "    plt.show()\n",
    "\n",
    "for aux in ['wef_qes', 'gle_cgdpc', 'ffp_hf', 'undp_hdi']:\n",
    "    pregunta5(df_submuestra, aux,'ht_region', True, 'mean')\n"
   ]
  },
  {
   "cell_type": "markdown",
   "metadata": {},
   "source": [
    "# Pregunta 6"
   ]
  },
  {
   "cell_type": "code",
   "execution_count": 39,
   "metadata": {},
   "outputs": [],
   "source": [
    "df_submuestra.to_csv('subsample_gacsm_demo.csv')"
   ]
  }
 ],
 "metadata": {
  "kernelspec": {
   "display_name": "Python 3",
   "language": "python",
   "name": "python3"
  },
  "language_info": {
   "codemirror_mode": {
    "name": "ipython",
    "version": 3
   },
   "file_extension": ".py",
   "mimetype": "text/x-python",
   "name": "python",
   "nbconvert_exporter": "python",
   "pygments_lexer": "ipython3",
   "version": "3.7.3"
  }
 },
 "nbformat": 4,
 "nbformat_minor": 2
}

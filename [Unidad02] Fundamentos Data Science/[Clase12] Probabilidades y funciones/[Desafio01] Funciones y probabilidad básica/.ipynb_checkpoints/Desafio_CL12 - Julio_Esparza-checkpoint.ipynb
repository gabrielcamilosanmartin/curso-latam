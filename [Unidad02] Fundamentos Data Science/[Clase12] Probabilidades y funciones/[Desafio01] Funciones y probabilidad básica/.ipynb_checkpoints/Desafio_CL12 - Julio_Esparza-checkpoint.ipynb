{
 "cells": [
  {
   "cell_type": "code",
   "execution_count": 3,
   "metadata": {},
   "outputs": [],
   "source": [
    "import pandas as pd\n",
    "import numpy as np"
   ]
  },
  {
   "cell_type": "code",
   "execution_count": 4,
   "metadata": {},
   "outputs": [],
   "source": [
    "df = pd.read_csv('worldcup2014.csv')"
   ]
  },
  {
   "cell_type": "markdown",
   "metadata": {},
   "source": [
    "Desafío 1: Generación de funciones\n",
    "Genere funciones para calcular la media y varianza de un vector. Debe cumplir con los\n",
    "siguientes requistos:\n",
    "Ambas funciones deben ingresar un argumento x .\n",
    "Las funciones deben contener docstrings con la documentación asociada a la variable.\n",
    "Deben retornar el resultado (tip: utilice return )."
   ]
  },
  {
   "cell_type": "code",
   "execution_count": 17,
   "metadata": {},
   "outputs": [],
   "source": [
    "def media(x):\n",
    "    for i in x:\n",
    "        media = (x.sum())/(len(x))\n",
    "    return media\n",
    "\n",
    "def varianza(x):\n",
    "    pre_var = 0\n",
    "    for i in x:\n",
    "        factor = (i-media(x))**2\n",
    "        pre_var += factor\n",
    "    var = pre_var/len(x)\n",
    "    return var\n",
    "\n",
    "#Para ambas funciones variable \"x\" corresponde a columna \n",
    "#de data frame."
   ]
  },
  {
   "cell_type": "markdown",
   "metadata": {},
   "source": [
    "Desafio I: La función de la varianza debe llamar a la función de la media. Utilice las funciones para reportar la información sobre goles_favor, goles_contra, puntos."
   ]
  },
  {
   "cell_type": "code",
   "execution_count": 18,
   "metadata": {},
   "outputs": [
    {
     "data": {
      "text/plain": [
       "4.25"
      ]
     },
     "execution_count": 18,
     "metadata": {},
     "output_type": "execute_result"
    }
   ],
   "source": [
    "media(df['goles_favor'])"
   ]
  },
  {
   "cell_type": "code",
   "execution_count": 19,
   "metadata": {},
   "outputs": [
    {
     "data": {
      "text/plain": [
       "4.25"
      ]
     },
     "execution_count": 19,
     "metadata": {},
     "output_type": "execute_result"
    }
   ],
   "source": [
    "media(df['goles_contra'])"
   ]
  },
  {
   "cell_type": "code",
   "execution_count": 20,
   "metadata": {},
   "outputs": [
    {
     "data": {
      "text/plain": [
       "4.21875"
      ]
     },
     "execution_count": 20,
     "metadata": {},
     "output_type": "execute_result"
    }
   ],
   "source": [
    "media(df['puntos'])"
   ]
  },
  {
   "cell_type": "code",
   "execution_count": 22,
   "metadata": {},
   "outputs": [
    {
     "data": {
      "text/plain": [
       "5.1875"
      ]
     },
     "execution_count": 22,
     "metadata": {},
     "output_type": "execute_result"
    }
   ],
   "source": [
    "varianza(df['goles_favor'])"
   ]
  },
  {
   "cell_type": "code",
   "execution_count": 23,
   "metadata": {},
   "outputs": [
    {
     "data": {
      "text/plain": [
       "4.8125"
      ]
     },
     "execution_count": 23,
     "metadata": {},
     "output_type": "execute_result"
    }
   ],
   "source": [
    "varianza(df['goles_contra'])"
   ]
  },
  {
   "cell_type": "code",
   "execution_count": 8,
   "metadata": {},
   "outputs": [
    {
     "data": {
      "text/plain": [
       "8.0458984375"
      ]
     },
     "execution_count": 8,
     "metadata": {},
     "output_type": "execute_result"
    }
   ],
   "source": [
    "varianza(df['puntos'])"
   ]
  },
  {
   "cell_type": "markdown",
   "metadata": {},
   "source": [
    "Desafio 2"
   ]
  },
  {
   "cell_type": "code",
   "execution_count": 24,
   "metadata": {},
   "outputs": [],
   "source": [
    "#Base datos de prueba.\n",
    "df_southamerica = df[df['continent'] == 'southamerica']\n",
    "df_asia = df[df['continent'] == 'asia']\n",
    "df_northamerica = df[df['continent'] == 'northamerica']\n",
    "df_europe = df[df['continent'] == 'europe']\n",
    "df_africa = df[df['continent'] == 'africa']\n",
    "prueba = [df_southamerica,df_asia,df_northamerica,df_europe,df_africa]"
   ]
  },
  {
   "cell_type": "code",
   "execution_count": 25,
   "metadata": {},
   "outputs": [],
   "source": [
    "#Función requerida.\n",
    "def fn(group_by,var):\n",
    "    continent = []\n",
    "    store_mean = []\n",
    "    store_std = []\n",
    "    for d in group_by:\n",
    "        continent.append(d.iloc[0,1])\n",
    "        store_mean.append(media(d[var]))\n",
    "        store_std.append(varianza(d[var]))\n",
    "        tmp = pd.DataFrame({'continente': continent,\n",
    "                            'media': store_mean,\n",
    "                            'std': store_std})\n",
    "    return tmp"
   ]
  },
  {
   "cell_type": "code",
   "execution_count": 26,
   "metadata": {},
   "outputs": [
    {
     "data": {
      "text/html": [
       "<div>\n",
       "<style scoped>\n",
       "    .dataframe tbody tr th:only-of-type {\n",
       "        vertical-align: middle;\n",
       "    }\n",
       "\n",
       "    .dataframe tbody tr th {\n",
       "        vertical-align: top;\n",
       "    }\n",
       "\n",
       "    .dataframe thead th {\n",
       "        text-align: right;\n",
       "    }\n",
       "</style>\n",
       "<table border=\"1\" class=\"dataframe\">\n",
       "  <thead>\n",
       "    <tr style=\"text-align: right;\">\n",
       "      <th></th>\n",
       "      <th>continente</th>\n",
       "      <th>media</th>\n",
       "      <th>std</th>\n",
       "    </tr>\n",
       "  </thead>\n",
       "  <tbody>\n",
       "    <tr>\n",
       "      <th>0</th>\n",
       "      <td>southamerica</td>\n",
       "      <td>6.833333</td>\n",
       "      <td>3.138889</td>\n",
       "    </tr>\n",
       "    <tr>\n",
       "      <th>1</th>\n",
       "      <td>asia</td>\n",
       "      <td>0.750000</td>\n",
       "      <td>0.187500</td>\n",
       "    </tr>\n",
       "    <tr>\n",
       "      <th>2</th>\n",
       "      <td>northamerica</td>\n",
       "      <td>4.500000</td>\n",
       "      <td>8.250000</td>\n",
       "    </tr>\n",
       "    <tr>\n",
       "      <th>3</th>\n",
       "      <td>europe</td>\n",
       "      <td>4.692308</td>\n",
       "      <td>6.366864</td>\n",
       "    </tr>\n",
       "    <tr>\n",
       "      <th>4</th>\n",
       "      <td>africa</td>\n",
       "      <td>2.400000</td>\n",
       "      <td>2.640000</td>\n",
       "    </tr>\n",
       "  </tbody>\n",
       "</table>\n",
       "</div>"
      ],
      "text/plain": [
       "     continente     media       std\n",
       "0  southamerica  6.833333  3.138889\n",
       "1          asia  0.750000  0.187500\n",
       "2  northamerica  4.500000  8.250000\n",
       "3        europe  4.692308  6.366864\n",
       "4        africa  2.400000  2.640000"
      ]
     },
     "execution_count": 26,
     "metadata": {},
     "output_type": "execute_result"
    }
   ],
   "source": [
    "#Prueba con base de datos.\n",
    "fn(prueba,'puntos')"
   ]
  },
  {
   "cell_type": "markdown",
   "metadata": {},
   "source": [
    "Desafío 3: Simulaciones"
   ]
  },
  {
   "cell_type": "code",
   "execution_count": 39,
   "metadata": {},
   "outputs": [],
   "source": [
    "#Función entrega de forma aleatoria una lista con palabra 'perro'\n",
    "# o 'gato'.\n",
    "np.random.seed(2)\n",
    "def generate_pet():\n",
    "    palabra = np.random.choice(['perro','gato'])\n",
    "    return palabra"
   ]
  },
  {
   "cell_type": "code",
   "execution_count": 43,
   "metadata": {},
   "outputs": [
    {
     "name": "stdout",
     "output_type": "stream",
     "text": [
      "['perro', 'gato', 'gato', 'perro', 'perro', 'gato', 'perro', 'gato', 'perro', 'gato', 'perro', 'gato', 'gato', 'gato', 'gato', 'gato', 'gato', 'gato', 'perro', 'perro']\n"
     ]
    }
   ],
   "source": [
    "#Se genera lista con resultados aleatorios de 'perros' y 'gatos'.\n",
    "np.random.seed(2)\n",
    "lista = []\n",
    "for i in range(20):\n",
    "    lista.append(generate_pet())\n",
    "print(lista)"
   ]
  },
  {
   "cell_type": "code",
   "execution_count": 50,
   "metadata": {},
   "outputs": [
    {
     "name": "stdout",
     "output_type": "stream",
     "text": [
      "0.4\n",
      "0.6\n"
     ]
    }
   ],
   "source": [
    "prom_perro = lista.count(\"perro\")/len(lista)\n",
    "prom_gato = lista.count(\"gato\")/len(lista)\n",
    "print(prom_perro)\n",
    "print(prom_gato)"
   ]
  },
  {
   "cell_type": "markdown",
   "metadata": {},
   "source": [
    "Al agregar np.random.seed(2) se pierde aleatoriedad de resultados."
   ]
  },
  {
   "cell_type": "markdown",
   "metadata": {},
   "source": [
    "Desafío 4: Función simuladora"
   ]
  },
  {
   "cell_type": "code",
   "execution_count": 51,
   "metadata": {},
   "outputs": [],
   "source": [
    "np.random.seed(1)\n",
    "def  simulate_pets_prob(n):\n",
    "    count1 = 0\n",
    "    count2 = 0\n",
    "    count3 = 0\n",
    "    young_pet = []\n",
    "    old_pet = []\n",
    "    for i in range(n):\n",
    "        young_pet.append(generate_pet())\n",
    "        old_pet.append(generate_pet())\n",
    "        if young_pet[i] == 'perro' or old_pet[i] == 'perro':\n",
    "            count1 += 1\n",
    "        if old_pet[i] == 'perro':\n",
    "            count2 += 1\n",
    "        if young_pet[i] == 'perro' and old_pet[i] == 'perro':\n",
    "            count3 += 1\n",
    "    print(count1,count2,count3)"
   ]
  },
  {
   "cell_type": "code",
   "execution_count": 66,
   "metadata": {},
   "outputs": [
    {
     "name": "stdout",
     "output_type": "stream",
     "text": [
      "16 11 6\n"
     ]
    }
   ],
   "source": [
    "simulate_pets_prob(20)"
   ]
  },
  {
   "cell_type": "markdown",
   "metadata": {},
   "source": [
    "De los 3 escenarios, el menos probable es que se repita 'perro' en cada lista, mientras que el más probable es que se repita 'perro' en alguna de las dos listas."
   ]
  },
  {
   "cell_type": "code",
   "execution_count": null,
   "metadata": {},
   "outputs": [],
   "source": []
  },
  {
   "cell_type": "code",
   "execution_count": null,
   "metadata": {},
   "outputs": [],
   "source": []
  }
 ],
 "metadata": {
  "kernelspec": {
   "display_name": "Python 3",
   "language": "python",
   "name": "python3"
  },
  "language_info": {
   "codemirror_mode": {
    "name": "ipython",
    "version": 3
   },
   "file_extension": ".py",
   "mimetype": "text/x-python",
   "name": "python",
   "nbconvert_exporter": "python",
   "pygments_lexer": "ipython3",
   "version": "3.7.3"
  }
 },
 "nbformat": 4,
 "nbformat_minor": 2
}

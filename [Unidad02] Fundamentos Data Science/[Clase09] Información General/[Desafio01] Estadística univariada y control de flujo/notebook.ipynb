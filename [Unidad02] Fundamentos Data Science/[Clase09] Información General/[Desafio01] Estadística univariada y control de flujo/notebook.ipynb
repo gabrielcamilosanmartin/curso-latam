{
 "cells": [
  {
   "cell_type": "markdown",
   "metadata": {},
   "source": [
    "# DESAFIO 1"
   ]
  },
  {
   "cell_type": "code",
   "execution_count": 1,
   "metadata": {},
   "outputs": [
    {
     "name": "stdout",
     "output_type": "stream",
     "text": [
      "Hola Mundo, esta es mi primera incursión en Python\n"
     ]
    }
   ],
   "source": [
    "print(\"Hola Mundo, esta es mi primera incursión en Python\")"
   ]
  },
  {
   "cell_type": "markdown",
   "metadata": {},
   "source": [
    "# DESAFIO 2"
   ]
  },
  {
   "cell_type": "markdown",
   "metadata": {},
   "source": [
    "## ITEM 1"
   ]
  },
  {
   "cell_type": "code",
   "execution_count": 27,
   "metadata": {},
   "outputs": [],
   "source": [
    "name = \"Gabriel Arístides Camilo San Martín\""
   ]
  },
  {
   "cell_type": "markdown",
   "metadata": {},
   "source": [
    "## ITEM 2"
   ]
  },
  {
   "cell_type": "code",
   "execution_count": null,
   "metadata": {},
   "outputs": [],
   "source": [
    "edad = 28"
   ]
  },
  {
   "cell_type": "markdown",
   "metadata": {},
   "source": [
    "## ITEM 3"
   ]
  },
  {
   "cell_type": "code",
   "execution_count": null,
   "metadata": {},
   "outputs": [],
   "source": [
    "actividades_favoritas = ['viajar', 'ver peliculas', 'dormir']"
   ]
  },
  {
   "cell_type": "markdown",
   "metadata": {},
   "source": [
    "## ITEM 4"
   ]
  },
  {
   "cell_type": "code",
   "execution_count": 9,
   "metadata": {},
   "outputs": [],
   "source": [
    "mascota = True"
   ]
  },
  {
   "cell_type": "markdown",
   "metadata": {},
   "source": [
    "# DESAFIO 3"
   ]
  },
  {
   "cell_type": "markdown",
   "metadata": {},
   "source": [
    "## ITEM 1"
   ]
  },
  {
   "cell_type": "code",
   "execution_count": 28,
   "metadata": {},
   "outputs": [
    {
     "name": "stdout",
     "output_type": "stream",
     "text": [
      "Gabriel Arístides Camilo San Martín\n",
      "28\n",
      "ver peliculas\n",
      "True\n"
     ]
    }
   ],
   "source": [
    "print(name)\n",
    "print(edad)\n",
    "print(actividades_favoritas[1])\n",
    "print(mascota)"
   ]
  },
  {
   "cell_type": "markdown",
   "metadata": {},
   "source": [
    "## ITEM 2"
   ]
  },
  {
   "cell_type": "code",
   "execution_count": 29,
   "metadata": {},
   "outputs": [
    {
     "name": "stdout",
     "output_type": "stream",
     "text": [
      "<class 'str'>\n",
      "<class 'int'>\n",
      "<class 'list'>\n",
      "<class 'bool'>\n"
     ]
    }
   ],
   "source": [
    "print(type(name))\n",
    "print(type(edad))\n",
    "print(type(actividades_favoritas))\n",
    "print(type(mascota))"
   ]
  },
  {
   "cell_type": "markdown",
   "metadata": {},
   "source": [
    "## ITEM 3"
   ]
  },
  {
   "cell_type": "code",
   "execution_count": 30,
   "metadata": {},
   "outputs": [
    {
     "name": "stdout",
     "output_type": "stream",
     "text": [
      "Mi nombre es Gabriel Arístides Camilo San Martín y tengo 28 años. Mis actividades favoritas son viajar, ver peliculas y dormir. Tengo una mascota\n"
     ]
    }
   ],
   "source": [
    "presentacion = 'Mi nombre es ' + name + ' y tengo ' + str(edad) + ' años. Mis actividades favoritas son '\n",
    "contador = 0\n",
    "for actividad in actividades_favoritas:\n",
    "    contador += 1\n",
    "    presentacion += actividad\n",
    "    if contador == 1:\n",
    "        presentacion += ', '\n",
    "    elif contador == 2:\n",
    "        presentacion += ' y '\n",
    "if mascota:\n",
    "    presentacion += '. Tengo una mascota'\n",
    "else:\n",
    "    presentacion += '. No tengo una mascota'\n",
    "print(presentacion)"
   ]
  },
  {
   "cell_type": "markdown",
   "metadata": {},
   "source": [
    "# DESAFIO 4"
   ]
  },
  {
   "cell_type": "markdown",
   "metadata": {},
   "source": [
    "## ITEM 1"
   ]
  },
  {
   "cell_type": "code",
   "execution_count": 19,
   "metadata": {},
   "outputs": [
    {
     "name": "stdout",
     "output_type": "stream",
     "text": [
      "Estaba la pájara pinta sentada en el verde limón\n"
     ]
    }
   ],
   "source": [
    "print('Estaba la pájara pinta sentada en el verde limón')\n"
   ]
  },
  {
   "cell_type": "markdown",
   "metadata": {},
   "source": [
    "Faltaba el cierre del string"
   ]
  },
  {
   "cell_type": "markdown",
   "metadata": {},
   "source": [
    "## ITEM 2"
   ]
  },
  {
   "cell_type": "code",
   "execution_count": 31,
   "metadata": {},
   "outputs": [
    {
     "name": "stdout",
     "output_type": "stream",
     "text": [
      "Mi nombre es Gabriel Arístides Camilo San Martín y tengo 28 años\n"
     ]
    }
   ],
   "source": [
    "print('Mi nombre es ' + name + ' y tengo ' + str(edad) + ' años')"
   ]
  },
  {
   "cell_type": "markdown",
   "metadata": {},
   "source": [
    "se debe agregar el signo \"+\" para concatenar los string. se añade espacios despues de la palabre \"es\" y \"tengo\" y antes de \"y\" y \"años\". finalmente la variable edad es un int que debe ser parseado a string"
   ]
  },
  {
   "cell_type": "markdown",
   "metadata": {},
   "source": [
    "## ITEM 3"
   ]
  },
  {
   "cell_type": "code",
   "execution_count": 36,
   "metadata": {},
   "outputs": [],
   "source": [
    "import pandas as pd\n",
    "import numpy as np"
   ]
  },
  {
   "cell_type": "markdown",
   "metadata": {},
   "source": [
    "Las librerias estan mal escritas"
   ]
  },
  {
   "cell_type": "markdown",
   "metadata": {},
   "source": [
    "## ITEM 4"
   ]
  },
  {
   "cell_type": "code",
   "execution_count": null,
   "metadata": {},
   "outputs": [],
   "source": [
    "\"Ornitorrinco\" + str(45)"
   ]
  },
  {
   "cell_type": "markdown",
   "metadata": {},
   "source": [
    "se debe parsear a string el numero 45"
   ]
  },
  {
   "cell_type": "markdown",
   "metadata": {},
   "source": [
    "# DESAFIO 5"
   ]
  },
  {
   "cell_type": "markdown",
   "metadata": {},
   "source": [
    "## ITEM 1"
   ]
  },
  {
   "cell_type": "code",
   "execution_count": 35,
   "metadata": {},
   "outputs": [],
   "source": [
    "import pandas as pd\n",
    "import numpy as np"
   ]
  },
  {
   "cell_type": "markdown",
   "metadata": {},
   "source": [
    "## ITEM 2"
   ]
  },
  {
   "cell_type": "code",
   "execution_count": 33,
   "metadata": {},
   "outputs": [],
   "source": [
    "df = pd.read_csv('flights.csv')"
   ]
  },
  {
   "cell_type": "markdown",
   "metadata": {},
   "source": [
    "## ITEM 3"
   ]
  },
  {
   "cell_type": "code",
   "execution_count": 43,
   "metadata": {},
   "outputs": [
    {
     "name": "stdout",
     "output_type": "stream",
     "text": [
      "   year     month  passengers\n",
      "0  1949   January         112\n",
      "1  1949  February         118\n",
      "2  1949     March         132\n",
      "3  1949     April         129\n",
      "4  1949       May         121\n",
      "     year      month  passengers\n",
      "139  1960     August         606\n",
      "140  1960  September         508\n",
      "141  1960    October         461\n",
      "142  1960   November         390\n",
      "143  1960   December         432\n"
     ]
    }
   ],
   "source": [
    "print (df[:5])\n",
    "print (df[-5:])"
   ]
  },
  {
   "cell_type": "markdown",
   "metadata": {},
   "source": [
    "## ITEM 4"
   ]
  },
  {
   "cell_type": "code",
   "execution_count": 45,
   "metadata": {},
   "outputs": [
    {
     "name": "stdout",
     "output_type": "stream",
     "text": [
      "count     144.000000\n",
      "mean     1954.500000\n",
      "std         3.464102\n",
      "min      1949.000000\n",
      "25%      1951.750000\n",
      "50%      1954.500000\n",
      "75%      1957.250000\n",
      "max      1960.000000\n",
      "Name: year, dtype: float64\n"
     ]
    }
   ],
   "source": [
    "print(df['year'].describe())"
   ]
  },
  {
   "cell_type": "markdown",
   "metadata": {},
   "source": [
    "## ITEM 5"
   ]
  },
  {
   "cell_type": "code",
   "execution_count": 49,
   "metadata": {},
   "outputs": [
    {
     "name": "stdout",
     "output_type": "stream",
     "text": [
      "1960    12\n",
      "1959    12\n",
      "1958    12\n",
      "1957    12\n",
      "1956    12\n",
      "1955    12\n",
      "1954    12\n",
      "1953    12\n",
      "1952    12\n",
      "1951    12\n",
      "1950    12\n",
      "1949    12\n",
      "Name: year, dtype: int64\n",
      "March        12\n",
      "June         12\n",
      "May          12\n",
      "November     12\n",
      "August       12\n",
      "September    12\n",
      "December     12\n",
      "January      12\n",
      "October      12\n",
      "April        12\n",
      "February     12\n",
      "July         12\n",
      "Name: month, dtype: int64\n"
     ]
    }
   ],
   "source": [
    "print(df['year'].value_counts())\n",
    "print(df['month'].value_counts())"
   ]
  },
  {
   "cell_type": "markdown",
   "metadata": {},
   "source": [
    "## ITEM 6"
   ]
  },
  {
   "cell_type": "code",
   "execution_count": 76,
   "metadata": {},
   "outputs": [
    {
     "name": "stdout",
     "output_type": "stream",
     "text": [
      "Primeras 15\n",
      "-----------\n",
      "    year      month  passengers\n",
      "0   1949    January         112\n",
      "1   1949   February         118\n",
      "2   1949      March         132\n",
      "3   1949      April         129\n",
      "4   1949        May         121\n",
      "5   1949       June         135\n",
      "6   1949       July         148\n",
      "7   1949     August         148\n",
      "8   1949  September         136\n",
      "9   1949    October         119\n",
      "10  1949   November         104\n",
      "11  1949   December         118\n",
      "12  1950    January         115\n",
      "13  1950   February         126\n",
      "14  1950      March         141\n",
      "\n",
      "Ultimas 15\n",
      "-----------\n",
      "     year      month  passengers\n",
      "129  1959    October         407\n",
      "130  1959   November         362\n",
      "131  1959   December         405\n",
      "132  1960    January         417\n",
      "133  1960   February         391\n",
      "134  1960      March         419\n",
      "135  1960      April         461\n",
      "136  1960        May         472\n",
      "137  1960       June         535\n",
      "138  1960       July         622\n",
      "139  1960     August         606\n",
      "140  1960  September         508\n",
      "141  1960    October         461\n",
      "142  1960   November         390\n",
      "143  1960   December         432\n"
     ]
    }
   ],
   "source": [
    "primeras = df[:15]\n",
    "ultimas = df[-15:]\n",
    "print('Primeras 15')\n",
    "print('-----------')\n",
    "print(primeras)\n",
    "print('\\nUltimas 15')\n",
    "print('-----------')\n",
    "print(ultimas)"
   ]
  },
  {
   "cell_type": "markdown",
   "metadata": {},
   "source": [
    "## ITEM 7"
   ]
  },
  {
   "cell_type": "code",
   "execution_count": 81,
   "metadata": {},
   "outputs": [
    {
     "name": "stdout",
     "output_type": "stream",
     "text": [
      "########MEDIA########\n",
      "Muestra Completa\n",
      "----------------\n",
      "280.2986111111111\n",
      "\n",
      "Primeras 15\n",
      "-----------\n",
      "126.8\n",
      "\n",
      "Últimas 15\n",
      "-----------\n",
      "459.2\n",
      "\n",
      "#######MEDIANA#######\n",
      "Muestra Completa\n",
      "----------------\n",
      "265.5\n",
      "\n",
      "Primeras 15\n",
      "-----------\n",
      "126.0\n",
      "\n",
      "Últimas 15\n",
      "-----------\n",
      "432.0\n",
      "\n",
      "#DESVIACIÓN ESTANDAR#\n",
      "Muestra Completa\n",
      "----------------\n",
      "119.9663169429432\n",
      "\n",
      "Primeras 15\n",
      "-----------\n",
      "13.126853610606226\n",
      "\n",
      "Últimas 15\n",
      "-----------\n",
      "77.93697087115606\n"
     ]
    }
   ],
   "source": [
    "print('########MEDIA########')\n",
    "print('Muestra Completa')\n",
    "print('----------------')\n",
    "print(np.mean(df['passengers']))\n",
    "print('\\nPrimeras 15')\n",
    "print('-----------')\n",
    "print(np.mean(primeras['passengers']))\n",
    "print('\\nÚltimas 15')\n",
    "print('-----------')\n",
    "print(np.mean(ultimas['passengers']))\n",
    "\n",
    "print('\\n#######MEDIANA#######')\n",
    "print('Muestra Completa')\n",
    "print('----------------')\n",
    "print(np.median(df['passengers']))\n",
    "print('\\nPrimeras 15')\n",
    "print('-----------')\n",
    "print(np.median(primeras['passengers']))\n",
    "print('\\nÚltimas 15')\n",
    "print('-----------')\n",
    "print(np.median(ultimas['passengers']))\n",
    "\n",
    "print('\\n#DESVIACIÓN ESTANDAR#')\n",
    "print('Muestra Completa')\n",
    "print('----------------')\n",
    "print(np.std(df['passengers'], ddof = 1 ))\n",
    "print('\\nPrimeras 15')\n",
    "print('-----------')\n",
    "print(np.std(primeras['passengers'], ddof = 1 ))\n",
    "print('\\nÚltimas 15')\n",
    "print('-----------')\n",
    "print(np.std(ultimas['passengers'], ddof = 1 ))\n"
   ]
  },
  {
   "cell_type": "markdown",
   "metadata": {},
   "source": [
    "Existe una gran diferencia entre las medidas de tendencia central (media y mediana) y dispersión calculadas a partir de todas las observaciones, las primeras 15 observaciones y las últimas 15 observaciones respectivas. \n",
    "\n",
    "En las primeras 15 observaciones media y mediana son relativamente similares (126) y presentan una desviación estándar relativamente baja (13,127 aprox.). Por su parte las ultimas 15 observaciones presentan una diferencia significativa de media y median, y además la desviación estándar es alta. Esto se ve reflejado en las medidas de todas las observaciones, la cual se ve fuertemente influenciada por las últimas observaciones quitándole homogeneidad. \n"
   ]
  }
 ],
 "metadata": {
  "kernelspec": {
   "display_name": "Python 3",
   "language": "python",
   "name": "python3"
  },
  "language_info": {
   "codemirror_mode": {
    "name": "ipython",
    "version": 3
   },
   "file_extension": ".py",
   "mimetype": "text/x-python",
   "name": "python",
   "nbconvert_exporter": "python",
   "pygments_lexer": "ipython3",
   "version": "3.7.0"
  }
 },
 "nbformat": 4,
 "nbformat_minor": 2
}

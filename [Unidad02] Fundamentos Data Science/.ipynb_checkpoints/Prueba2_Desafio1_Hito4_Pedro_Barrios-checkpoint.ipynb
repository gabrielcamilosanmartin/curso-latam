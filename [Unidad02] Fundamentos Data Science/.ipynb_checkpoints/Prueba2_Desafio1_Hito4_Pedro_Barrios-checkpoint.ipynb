{
 "cells": [
  {
   "cell_type": "markdown",
   "metadata": {},
   "source": [
    "<h1><center> PRUEBA 2: FUNDAMENTOS DATA SCIENCE </center></h1>\n",
    "<h1><center> Desafío 1: Determinantes del ingreso </center></h1>"
   ]
  },
  {
   "cell_type": "markdown",
   "metadata": {},
   "source": [
    "**Nombre:** Pedro Barrios\n",
    "\n",
    "**Grupo:** VIP\n",
    "\n",
    "**Generación:** G4"
   ]
  },
  {
   "cell_type": "markdown",
   "metadata": {},
   "source": [
    "## Enunciado\n",
    "\n",
    "Usted trabaja para un organismo no gubernamental que está interesado en las dinámicas socioeconómicas que determinan la desigualdad de ingreso y la erradicación de la pobreza extrema, enmarcado dentro de los objetivos del desarrollo del nuevo milenio del Programa de las Naciones Unidas para el Desarrollo. Le encomiendan el desarrollo de un modelo predictivo sobre la probabilidad que un individuo presente salarios por sobre o bajo los 50.000 dólares anuales, en base a una serie de atributos sociodemográficos."
   ]
  },
  {
   "cell_type": "markdown",
   "metadata": {},
   "source": [
    "## Descripción de la base de datos\n",
    "\n",
    "Para desarrollar este desafío se debe utilizar la base de datos income-db.csv .\n",
    "\n",
    "Las variables que componen esta base se detallan a continuación:\n",
    "- **age**: Edad del individuo.\n",
    "- **workclass**: Naturaleza de la organización que emplea al individuo.\n",
    "- **education**: Nivel educacional del individuo:Bachelors (Licenciado), Some-college (Superior incompleta), 11th (3ro medio), HS-grad (Secundaria completa), Prof-school (Escuela profesional), Assoc-acdm (Técnico superior administrativo) , Assoc-voc (Técnico superior vocacional), 9th (1ro medio), 7th-8th (7mo-8vo), 12th (4to medio), Masters (Maestría de postgrado), 1st-4th (1ro-4to básico), 10th(2do medio), Doctorate (Doctorado), 5th-6th (5to-6to), Preschool (Preescolar).\n",
    "- **capital-gains**: Ingresos generados por inversiones fuera del trabajo asalariado = Ingresos generados por inversiones fuera del trabajo asalariado.\n",
    "- **capital-losses**: Pérdidas generadas por inversiones fuera del trabajo asalariado.\n",
    "- **fnlwgt**: Ponderador muestral.\n",
    "- **marital-status**: Estado civil del individuo: Married-civ-spouse (Casado/a régimen civil), Divorced (Divorciado/a), Never-married (Soltero/a), Separated (Separado/a), Widowed (Viudo/a), Married-spouse-absent (Casado con esposo/a ausente), Married-AF-spouse (Casado/a régimen castrense).\n",
    "- **occupation**: Ocupación del individuo: Tech-support (Soporte técnico), Craft-repair (Reparaciones), Other-service (Otros servicios), Sales (Ventas), Exec-managerial (Ejecutivo administrativos), Prof-specialty (Profesores), Handlers-cleaners (Aseo y ornato), Machine-opinspct (Inspectores de maquinarias), Adm-clerical (Administrativos servicio al cliente), Farmingfishing (Pesca-ganadería), Transport-moving (Transporte), Priv-house-serv (Asesor del hogar), Protective-serv (servicios de seguridad), Armed-Forces (Fuerzas armadas).\n",
    "- **relationship**: Relación respecto a su familia Wife(Esposa), Own-child (hijo único), Husband (Esposo), Not-in-family (No pertenece a la familia), Other-relative (Familiar de otro tipo), Unmarried (Soltero).\n",
    "- **race**: Raza del encuestado White(Blanco caucásico), Asian-Pac-Islander (Isleño del Asia Pacífico), Amer-Indian-Eskimo (Pertenenciente a pueblos originarios), Other (Otro grupo), Black (Afroamericano).\n",
    "- **sex**: Sexo del encuestado.\n",
    "- **hours-per-week**: Cantidad de horas trabajadas por semana. \n",
    "- **native-country**: País de origen. United-States, Cambodia, England, Puerto-Rico, Canada, Germany, Outlying-US(Guam-USVI-etc), India, Japan, Greece, South, China, Cuba, Iran, Honduras, Philippines, Italy, Poland, Jamaica, Vietnam, Mexico, Portugal, Ireland, France, Dominican-Republic, Laos, Ecuador, Taiwan, Haiti, Columbia, Hungary, Guatemala, Nicaragua, Scotland, Thailand, Yugoslavia, El-Salvador, Trinadad&Tobago, Peru, Hong, HolandNetherlands.\n",
    "- **income**: <=50K Si el individuo percibe ingresos inferiores a 50.000 dólares anuales, >50K si el individuo percibe ingresos superiores a 50.000 dólares anuales. **Este es el vector objetivo.**"
   ]
  },
  {
   "cell_type": "markdown",
   "metadata": {},
   "source": [
    "## Consideraciones para el pre-procesamiento de los datos\n",
    "\n",
    "- La base de datos contiene los valores perdidos como ?. Deberá transformarlos para poder trabajar de forma adecuada.\n",
    "- Desde la organización le sugieren que debe recodificar las siguientes variables acorde a las siguientes nomenclaturas:\n",
    "  - **occupation** debe recodificarse como **collars** siguiendo una nomenclatura similar a:\n",
    "    - *white-collar* $\\leftarrow$ Prof-specialty, Exec-managerial, Adm-clerical, Sales, Tech-support.\n",
    "    - *blue-collar* $\\leftarrow$ Craft-repair, Machine-op-inspct, Transport-moving, Handlers-cleaners, Farming-fishing, Protective-serv, Priv-house-serv.\n",
    "    - *others* $\\leftarrow$ Other-service, Armed-Forces.\n",
    "  - **workclass** debe recodificarse como **workclass_recod** siguiendo una nomenclatura similar a:\n",
    "    - *federal-gov* $\\leftarrow$ Federal-gov.\n",
    "    - *state-level-gov* $\\leftarrow$ State-gov, Local-gov.\n",
    "    - *self-employed* $\\leftarrow$ Self-emp-inc, Self-emp-not-inc.\n",
    "    - *unemployed* $\\leftarrow$ Never-worked, Without-pay.\n",
    "  - **education** debe recodificarse como **educ_recod** siguiendo una nomenclatura similar a:\n",
    "    - *preschool* $\\leftarrow$ Preschool.\n",
    "    - *elementary-school* $\\leftarrow$ 1st-4th, 5th-6th.\n",
    "    - *high-school* $\\leftarrow$ 7th-8th, 9th, 10th,11th, 12th, HS-grad.\n",
    "    - *college* $\\leftarrow$ Assoc-voc, Assoc-acdm, Some-college.\n",
    "    - *university* $\\leftarrow$ Bachelors, Masters, Prof-school, Doctorate.\n",
    "  - **marital-status** debe recodificarse como **civstatus** siguiendo una nomenclatura similar a:\n",
    "    - *married* $\\leftarrow$ Married-civ-spouse, Married-spouse-absent, Married-AF- spouse.\n",
    "    - *divorced* $\\leftarrow$ Divorced.\n",
    "    - *separated* $\\leftarrow$ Separated.\n",
    "    - *widowed* $\\leftarrow$ Widowed.\n",
    "  - **native-country** debe recodificarse como **region** donde cada país debe asignarse a uno de los 5 continentes.\n",
    "  - **income** debe recodificarse de forma binaria."
   ]
  },
  {
   "cell_type": "markdown",
   "metadata": {},
   "source": [
    "## Preliminares"
   ]
  },
  {
   "cell_type": "markdown",
   "metadata": {},
   "source": [
    "**1. Descripción del problema**\n",
    "\n",
    "Corresponde a un problema de Clasificación, ya que debemos predecir el comportamiento de un atributo discreto (Variable 'income'), la cual tendrá un valor binario según si el individuo percibe ingresos superiores a USD50.000.- al año o no. Por lo tanto, se busca esclarecer los efectos que tienen los atributos soiodemográficos en la variable 'income'.\n",
    "\n",
    "**2. Objetivo**\n",
    "\n",
    "Desarrollar un modelo predictivo sobre la probabilidad que un individuo presente salarios por sobre o bajo los 50.000 dólares anuales (Variable 'income'), en base a una serie de atributos sociodemográficos (Base de datos 'income-db.csv').\n",
    "    \n",
    "**3. Metodología**\n",
    "  - Procedimiento:\n",
    "    - Explorar las variables de la base de datos.\n",
    "    - Recodificar variables.\n",
    "    - Eliminar los datos perdidos.\n",
    "    - Generar un modelo con todas las variables existentes.\n",
    "    - Depurar el modelo.\n",
    "    - Definir modelo con mejor ajuste posible.\n",
    "    \n",
    "    \n",
    "  - Criterios de optimización y métricas de desempeño econométricas:\n",
    "    - Las variables cualitativas serán binarizadas asignando valor 0 a la categoría más presente.\n",
    "    - La recodificación de las variables se realizará según lo sugerido por la organización.\n",
    "    - Dada la naturaleza discreta de nuestra variable objetivo, se utilizará una regresión logística en el modelamiento.\n",
    "    - El modelo depurado considerará las variables con significancia estadística sobre 97.5%.\n",
    "    - El desempeño del modelo obtenido se medirá según su bondad de ajuste (R^2).\n",
    "    \n",
    "  - Criterios de optimización y métricas de desempeño de machine learning:\n",
    "    - Precisión\n",
    "    - Recall (Sensibilidad)\n",
    "    - f1 (Exactitud)\n",
    "    - ROC (Área bajo la curva, Ratio entre la tasa de verdaderos positivos y la tasa de falsos positivos)\n",
    "    - K-Fold (Validación cruzada, consistencia de la exactitud de los modelos ante diferentes muestras)"
   ]
  },
  {
   "cell_type": "markdown",
   "metadata": {},
   "source": [
    "## Aspectos computacionales"
   ]
  },
  {
   "cell_type": "code",
   "execution_count": 1,
   "metadata": {},
   "outputs": [],
   "source": [
    "#IMPORTACIÓN DE LIBRERÍAS\n",
    "\n",
    "import numpy as np                                           #opera con vectores y matrices\n",
    "import pandas as pd                                          #opera con estructuras de datos\n",
    "import matplotlib.pyplot as plt                              #funciones de diseño que opera sobre figuras y gráficas\n",
    "\n",
    "import seaborn as sns                                        #visualización de datos, figuras y gráficas\n",
    "import scipy.stats as stats                                  #para simulaciones estadísticas\n",
    "\n",
    "import statsmodels.api as sm                                 #para modelación lineal\n",
    "import statsmodels.formula.api as smf                        #para modelación logística\n",
    "\n",
    "import warnings                                              #para evitar avisos de deprecación\n",
    "warnings.filterwarnings(\"ignore\")\n",
    "\n",
    "from sklearn.model_selection import train_test_split         #para la generación de modelos\n",
    "from sklearn.linear_model import LinearRegression\n",
    "from sklearn.linear_model import LogisticRegression\n",
    "from sklearn.preprocessing import StandardScaler\n",
    "\n",
    "from sklearn.metrics import mean_squared_error, r2_score     #para la generación de reportes y métricas de modelación\n",
    "from sklearn.metrics import accuracy_score\n",
    "from sklearn.metrics import classification_report\n",
    "from sklearn.metrics import roc_curve\n",
    "from sklearn.metrics import roc_auc_score\n",
    "from sklearn.metrics import confusion_matrix\n",
    "from sklearn.model_selection import KFold\n",
    "from sklearn.model_selection import cross_val_score\n",
    "from sklearn.model_selection import LeaveOneOut\n",
    "\n",
    "\n",
    "import factor_analyzer as factor                             #para el análisis de factores\n",
    "import missingno as msgn                                     #para visualizar patrones de datos perdidos"
   ]
  },
  {
   "cell_type": "code",
   "execution_count": 2,
   "metadata": {},
   "outputs": [],
   "source": [
    "#IMPORTACIÓN DE FUNCIONES\n",
    "\n",
    "from funciones_auxiliares import *"
   ]
  },
  {
   "cell_type": "markdown",
   "metadata": {},
   "source": [
    "**Funciones Auxiliares:**\n",
    "- descriptor: Entrega valores estadísticos descriptivos de una estructura de datos\n",
    "- lost_values: Entrega el número y tasa de datos perdidos dentro de una estructura de datos\n",
    "- histogramer: Entrega un histograma de la variable deseada dentro de una estructura de datos\n",
    "- concise_summary: Entrega un resumen acerca del desempeño de un modelo y sus regresores\n",
    "- inverse_logit: Entrega la probabilidad de ocurrencia a partir del valor obtenido de un modelo logístico"
   ]
  },
  {
   "cell_type": "code",
   "execution_count": 3,
   "metadata": {},
   "outputs": [
    {
     "data": {
      "text/html": [
       "<div>\n",
       "<style scoped>\n",
       "    .dataframe tbody tr th:only-of-type {\n",
       "        vertical-align: middle;\n",
       "    }\n",
       "\n",
       "    .dataframe tbody tr th {\n",
       "        vertical-align: top;\n",
       "    }\n",
       "\n",
       "    .dataframe thead th {\n",
       "        text-align: right;\n",
       "    }\n",
       "</style>\n",
       "<table border=\"1\" class=\"dataframe\">\n",
       "  <thead>\n",
       "    <tr style=\"text-align: right;\">\n",
       "      <th></th>\n",
       "      <th>age</th>\n",
       "      <th>workclass</th>\n",
       "      <th>fnlwgt</th>\n",
       "      <th>education</th>\n",
       "      <th>educational-num</th>\n",
       "      <th>marital-status</th>\n",
       "      <th>occupation</th>\n",
       "      <th>relationship</th>\n",
       "      <th>race</th>\n",
       "      <th>gender</th>\n",
       "      <th>capital-gain</th>\n",
       "      <th>capital-loss</th>\n",
       "      <th>hours-per-week</th>\n",
       "      <th>native-country</th>\n",
       "      <th>income</th>\n",
       "    </tr>\n",
       "  </thead>\n",
       "  <tbody>\n",
       "    <tr>\n",
       "      <th>0</th>\n",
       "      <td>25</td>\n",
       "      <td>Private</td>\n",
       "      <td>226802</td>\n",
       "      <td>11th</td>\n",
       "      <td>7</td>\n",
       "      <td>Never-married</td>\n",
       "      <td>Machine-op-inspct</td>\n",
       "      <td>Own-child</td>\n",
       "      <td>Black</td>\n",
       "      <td>Male</td>\n",
       "      <td>0</td>\n",
       "      <td>0</td>\n",
       "      <td>40</td>\n",
       "      <td>United-States</td>\n",
       "      <td>&lt;=50K</td>\n",
       "    </tr>\n",
       "    <tr>\n",
       "      <th>1</th>\n",
       "      <td>38</td>\n",
       "      <td>Private</td>\n",
       "      <td>89814</td>\n",
       "      <td>HS-grad</td>\n",
       "      <td>9</td>\n",
       "      <td>Married-civ-spouse</td>\n",
       "      <td>Farming-fishing</td>\n",
       "      <td>Husband</td>\n",
       "      <td>White</td>\n",
       "      <td>Male</td>\n",
       "      <td>0</td>\n",
       "      <td>0</td>\n",
       "      <td>50</td>\n",
       "      <td>United-States</td>\n",
       "      <td>&lt;=50K</td>\n",
       "    </tr>\n",
       "    <tr>\n",
       "      <th>2</th>\n",
       "      <td>28</td>\n",
       "      <td>Local-gov</td>\n",
       "      <td>336951</td>\n",
       "      <td>Assoc-acdm</td>\n",
       "      <td>12</td>\n",
       "      <td>Married-civ-spouse</td>\n",
       "      <td>Protective-serv</td>\n",
       "      <td>Husband</td>\n",
       "      <td>White</td>\n",
       "      <td>Male</td>\n",
       "      <td>0</td>\n",
       "      <td>0</td>\n",
       "      <td>40</td>\n",
       "      <td>United-States</td>\n",
       "      <td>&gt;50K</td>\n",
       "    </tr>\n",
       "    <tr>\n",
       "      <th>3</th>\n",
       "      <td>44</td>\n",
       "      <td>Private</td>\n",
       "      <td>160323</td>\n",
       "      <td>Some-college</td>\n",
       "      <td>10</td>\n",
       "      <td>Married-civ-spouse</td>\n",
       "      <td>Machine-op-inspct</td>\n",
       "      <td>Husband</td>\n",
       "      <td>Black</td>\n",
       "      <td>Male</td>\n",
       "      <td>7688</td>\n",
       "      <td>0</td>\n",
       "      <td>40</td>\n",
       "      <td>United-States</td>\n",
       "      <td>&gt;50K</td>\n",
       "    </tr>\n",
       "    <tr>\n",
       "      <th>4</th>\n",
       "      <td>18</td>\n",
       "      <td>?</td>\n",
       "      <td>103497</td>\n",
       "      <td>Some-college</td>\n",
       "      <td>10</td>\n",
       "      <td>Never-married</td>\n",
       "      <td>?</td>\n",
       "      <td>Own-child</td>\n",
       "      <td>White</td>\n",
       "      <td>Female</td>\n",
       "      <td>0</td>\n",
       "      <td>0</td>\n",
       "      <td>30</td>\n",
       "      <td>United-States</td>\n",
       "      <td>&lt;=50K</td>\n",
       "    </tr>\n",
       "  </tbody>\n",
       "</table>\n",
       "</div>"
      ],
      "text/plain": [
       "   age  workclass  fnlwgt     education  educational-num      marital-status  \\\n",
       "0   25    Private  226802          11th                7       Never-married   \n",
       "1   38    Private   89814       HS-grad                9  Married-civ-spouse   \n",
       "2   28  Local-gov  336951    Assoc-acdm               12  Married-civ-spouse   \n",
       "3   44    Private  160323  Some-college               10  Married-civ-spouse   \n",
       "4   18          ?  103497  Some-college               10       Never-married   \n",
       "\n",
       "          occupation relationship   race  gender  capital-gain  capital-loss  \\\n",
       "0  Machine-op-inspct    Own-child  Black    Male             0             0   \n",
       "1    Farming-fishing      Husband  White    Male             0             0   \n",
       "2    Protective-serv      Husband  White    Male             0             0   \n",
       "3  Machine-op-inspct      Husband  Black    Male          7688             0   \n",
       "4                  ?    Own-child  White  Female             0             0   \n",
       "\n",
       "   hours-per-week native-country income  \n",
       "0              40  United-States  <=50K  \n",
       "1              50  United-States  <=50K  \n",
       "2              40  United-States   >50K  \n",
       "3              40  United-States   >50K  \n",
       "4              30  United-States  <=50K  "
      ]
     },
     "execution_count": 3,
     "metadata": {},
     "output_type": "execute_result"
    }
   ],
   "source": [
    "#INGESTA DE LA BASE DE DATOS\n",
    "\n",
    "df = pd.read_csv('income-db.csv')        #se lee el archivo\n",
    "df.head()                                #se inspecciona la estructura de los datos"
   ]
  },
  {
   "cell_type": "code",
   "execution_count": 4,
   "metadata": {},
   "outputs": [
    {
     "data": {
      "text/plain": [
       "<matplotlib.axes._subplots.AxesSubplot at 0x10fb640b8>"
      ]
     },
     "execution_count": 4,
     "metadata": {},
     "output_type": "execute_result"
    },
    {
     "data": {
      "image/png": "[encoded data removed]",
      "text/plain": [
       "<Figure size 1800x720 with 2 Axes>"
      ]
     },
     "metadata": {
      "needs_background": "light"
     },
     "output_type": "display_data"
    }
   ],
   "source": [
    "#PREPROCESAMIENTO DE DATOS\n",
    "\n",
    "#Transformando los datos perdidos para poder procesarlos\n",
    "df.replace(to_replace = '?', value = np.nan, inplace = True)\n",
    "\n",
    "#Visualizando datos perdidos\n",
    "msgn.matrix(df)"
   ]
  },
  {
   "cell_type": "markdown",
   "metadata": {},
   "source": [
    "De acuerdo a la matriz de datos perdidos:\n",
    "- Existen entre 12 y 15 datos válidos en cada fila. Es decir, en cada fila existe un rango de datos perdidos que va desde 0 hasta 3 (Considerando que son 15 columnas en total).\n",
    "- Las variables 'workclass', 'occupation' y 'native-country' muestran datos perdidos."
   ]
  },
  {
   "cell_type": "code",
   "execution_count": 5,
   "metadata": {},
   "outputs": [
    {
     "name": "stdout",
     "output_type": "stream",
     "text": [
      "Para la variable workclass el total de datos perdidos es 2799\n",
      "Para la variable workclass el porcentaje de datos perdidos es 5.731 %\n",
      "\n",
      "\n",
      "Para la variable occupation el total de datos perdidos es 2809\n",
      "Para la variable occupation el porcentaje de datos perdidos es 5.7509999999999994 %\n",
      "\n",
      "\n",
      "Para la variable native-country el total de datos perdidos es 857\n",
      "Para la variable native-country el porcentaje de datos perdidos es 1.755 %\n",
      "\n",
      "\n"
     ]
    }
   ],
   "source": [
    "#Analizando la tasa de datos perdidos\n",
    "\n",
    "datos_perdidos = ['workclass', 'occupation', 'native-country']   #lista de columnas con datos perdidos\n",
    "    \n",
    "for colname in datos_perdidos:\n",
    "    lost_values(df, colname)"
   ]
  },
  {
   "cell_type": "code",
   "execution_count": 6,
   "metadata": {},
   "outputs": [
    {
     "data": {
      "text/html": [
       "<div>\n",
       "<style scoped>\n",
       "    .dataframe tbody tr th:only-of-type {\n",
       "        vertical-align: middle;\n",
       "    }\n",
       "\n",
       "    .dataframe tbody tr th {\n",
       "        vertical-align: top;\n",
       "    }\n",
       "\n",
       "    .dataframe thead th {\n",
       "        text-align: right;\n",
       "    }\n",
       "</style>\n",
       "<table border=\"1\" class=\"dataframe\">\n",
       "  <thead>\n",
       "    <tr style=\"text-align: right;\">\n",
       "      <th></th>\n",
       "      <th>age</th>\n",
       "      <th>workclass</th>\n",
       "      <th>fnlwgt</th>\n",
       "      <th>education</th>\n",
       "      <th>educational-num</th>\n",
       "      <th>marital-status</th>\n",
       "      <th>occupation</th>\n",
       "      <th>relationship</th>\n",
       "      <th>race</th>\n",
       "      <th>gender</th>\n",
       "      <th>capital-gain</th>\n",
       "      <th>capital-loss</th>\n",
       "      <th>hours-per-week</th>\n",
       "      <th>native-country</th>\n",
       "      <th>income</th>\n",
       "    </tr>\n",
       "  </thead>\n",
       "  <tbody>\n",
       "    <tr>\n",
       "      <th>0</th>\n",
       "      <td>25</td>\n",
       "      <td>Private</td>\n",
       "      <td>226802</td>\n",
       "      <td>11th</td>\n",
       "      <td>7</td>\n",
       "      <td>Never-married</td>\n",
       "      <td>Machine-op-inspct</td>\n",
       "      <td>Own-child</td>\n",
       "      <td>Black</td>\n",
       "      <td>Male</td>\n",
       "      <td>0</td>\n",
       "      <td>0</td>\n",
       "      <td>40</td>\n",
       "      <td>United-States</td>\n",
       "      <td>&lt;=50K</td>\n",
       "    </tr>\n",
       "    <tr>\n",
       "      <th>1</th>\n",
       "      <td>38</td>\n",
       "      <td>Private</td>\n",
       "      <td>89814</td>\n",
       "      <td>HS-grad</td>\n",
       "      <td>9</td>\n",
       "      <td>Married-civ-spouse</td>\n",
       "      <td>Farming-fishing</td>\n",
       "      <td>Husband</td>\n",
       "      <td>White</td>\n",
       "      <td>Male</td>\n",
       "      <td>0</td>\n",
       "      <td>0</td>\n",
       "      <td>50</td>\n",
       "      <td>United-States</td>\n",
       "      <td>&lt;=50K</td>\n",
       "    </tr>\n",
       "    <tr>\n",
       "      <th>2</th>\n",
       "      <td>28</td>\n",
       "      <td>Local-gov</td>\n",
       "      <td>336951</td>\n",
       "      <td>Assoc-acdm</td>\n",
       "      <td>12</td>\n",
       "      <td>Married-civ-spouse</td>\n",
       "      <td>Protective-serv</td>\n",
       "      <td>Husband</td>\n",
       "      <td>White</td>\n",
       "      <td>Male</td>\n",
       "      <td>0</td>\n",
       "      <td>0</td>\n",
       "      <td>40</td>\n",
       "      <td>United-States</td>\n",
       "      <td>&gt;50K</td>\n",
       "    </tr>\n",
       "    <tr>\n",
       "      <th>3</th>\n",
       "      <td>44</td>\n",
       "      <td>Private</td>\n",
       "      <td>160323</td>\n",
       "      <td>Some-college</td>\n",
       "      <td>10</td>\n",
       "      <td>Married-civ-spouse</td>\n",
       "      <td>Machine-op-inspct</td>\n",
       "      <td>Husband</td>\n",
       "      <td>Black</td>\n",
       "      <td>Male</td>\n",
       "      <td>7688</td>\n",
       "      <td>0</td>\n",
       "      <td>40</td>\n",
       "      <td>United-States</td>\n",
       "      <td>&gt;50K</td>\n",
       "    </tr>\n",
       "    <tr>\n",
       "      <th>5</th>\n",
       "      <td>34</td>\n",
       "      <td>Private</td>\n",
       "      <td>198693</td>\n",
       "      <td>10th</td>\n",
       "      <td>6</td>\n",
       "      <td>Never-married</td>\n",
       "      <td>Other-service</td>\n",
       "      <td>Not-in-family</td>\n",
       "      <td>White</td>\n",
       "      <td>Male</td>\n",
       "      <td>0</td>\n",
       "      <td>0</td>\n",
       "      <td>30</td>\n",
       "      <td>United-States</td>\n",
       "      <td>&lt;=50K</td>\n",
       "    </tr>\n",
       "  </tbody>\n",
       "</table>\n",
       "</div>"
      ],
      "text/plain": [
       "   age  workclass  fnlwgt     education  educational-num      marital-status  \\\n",
       "0   25    Private  226802          11th                7       Never-married   \n",
       "1   38    Private   89814       HS-grad                9  Married-civ-spouse   \n",
       "2   28  Local-gov  336951    Assoc-acdm               12  Married-civ-spouse   \n",
       "3   44    Private  160323  Some-college               10  Married-civ-spouse   \n",
       "5   34    Private  198693          10th                6       Never-married   \n",
       "\n",
       "          occupation   relationship   race gender  capital-gain  capital-loss  \\\n",
       "0  Machine-op-inspct      Own-child  Black   Male             0             0   \n",
       "1    Farming-fishing        Husband  White   Male             0             0   \n",
       "2    Protective-serv        Husband  White   Male             0             0   \n",
       "3  Machine-op-inspct        Husband  Black   Male          7688             0   \n",
       "5      Other-service  Not-in-family  White   Male             0             0   \n",
       "\n",
       "   hours-per-week native-country income  \n",
       "0              40  United-States  <=50K  \n",
       "1              50  United-States  <=50K  \n",
       "2              40  United-States   >50K  \n",
       "3              40  United-States   >50K  \n",
       "5              30  United-States  <=50K  "
      ]
     },
     "execution_count": 6,
     "metadata": {},
     "output_type": "execute_result"
    }
   ],
   "source": [
    "#Eliminando los datos perdidos del dataframe\n",
    "df = df.dropna()\n",
    "df.head()"
   ]
  },
  {
   "cell_type": "code",
   "execution_count": 7,
   "metadata": {},
   "outputs": [
    {
     "data": {
      "text/plain": [
       "(['United-States',\n",
       "  'Mexico',\n",
       "  'Philippines',\n",
       "  'Germany',\n",
       "  'Puerto-Rico',\n",
       "  'Canada',\n",
       "  'El-Salvador',\n",
       "  'India',\n",
       "  'Cuba',\n",
       "  'England',\n",
       "  'China',\n",
       "  'Jamaica',\n",
       "  'South',\n",
       "  'Italy',\n",
       "  'Dominican-Republic',\n",
       "  'Japan',\n",
       "  'Guatemala',\n",
       "  'Vietnam',\n",
       "  'Columbia',\n",
       "  'Poland',\n",
       "  'Haiti',\n",
       "  'Portugal',\n",
       "  'Iran',\n",
       "  'Taiwan',\n",
       "  'Greece',\n",
       "  'Nicaragua',\n",
       "  'Peru',\n",
       "  'Ecuador',\n",
       "  'France',\n",
       "  'Ireland',\n",
       "  'Thailand',\n",
       "  'Hong',\n",
       "  'Cambodia',\n",
       "  'Trinadad&Tobago',\n",
       "  'Yugoslavia',\n",
       "  'Outlying-US(Guam-USVI-etc)',\n",
       "  'Laos',\n",
       "  'Scotland',\n",
       "  'Honduras',\n",
       "  'Hungary',\n",
       "  'Holand-Netherlands'],\n",
       " 41)"
      ]
     },
     "execution_count": 7,
     "metadata": {},
     "output_type": "execute_result"
    }
   ],
   "source": [
    "#Para separar los paises por continente\n",
    "\n",
    "paises = df['native-country'].value_counts('%')   #Se genera un conteo de los paises de la base de datos\n",
    "\n",
    "lista_paises = []                                       #Se crea una lista vacía\n",
    "\n",
    "for j in range(len(paises)):\n",
    "    lista_paises.append(paises.index[j])                #Se agregan los nombres de los países a la lista_paises\n",
    "    \n",
    "valores, largo = lista_paises, len(lista_paises)        #Para conocer los paises de la base de datos y cuantos son\n",
    "valores, largo"
   ]
  },
  {
   "cell_type": "code",
   "execution_count": 8,
   "metadata": {},
   "outputs": [
    {
     "data": {
      "text/plain": [
       "<=50K    0.752156\n",
       ">50K     0.247844\n",
       "Name: income, dtype: float64"
      ]
     },
     "execution_count": 8,
     "metadata": {},
     "output_type": "execute_result"
    }
   ],
   "source": [
    "#Para conocer los valores de 'income' antes de recodificar\n",
    "\n",
    "df['income'].value_counts('%')"
   ]
  },
  {
   "cell_type": "code",
   "execution_count": 9,
   "metadata": {},
   "outputs": [
    {
     "data": {
      "text/plain": [
       "Index(['age', 'workclass', 'fnlwgt', 'education', 'educational-num',\n",
       "       'marital-status', 'occupation', 'relationship', 'race', 'gender',\n",
       "       'capital-gain', 'capital-loss', 'hours-per-week', 'native-country',\n",
       "       'income'],\n",
       "      dtype='object')"
      ]
     },
     "execution_count": 9,
     "metadata": {},
     "output_type": "execute_result"
    }
   ],
   "source": [
    "df.columns"
   ]
  },
  {
   "cell_type": "markdown",
   "metadata": {},
   "source": [
    "Como la mayoría del 'income' está por debajo de los USD50.000.- al año, en la recodificación de esta variable,\n",
    "asignaremos 0 a esta condición y 1 cuando está sobre este valor. "
   ]
  },
  {
   "cell_type": "code",
   "execution_count": 10,
   "metadata": {},
   "outputs": [],
   "source": [
    "#Recodificación de variables\n",
    "\n",
    "#Asignamos los valores sugeridos:\n",
    "\n",
    "df['occupation'].replace(to_replace = ['Prof-specialty', \n",
    "                                       'Exec-managerial', \n",
    "                                       'Adm-clerical',\n",
    "                                       'Sales', \n",
    "                                       'Tech-support'], value = 'white-collar', inplace = True)\n",
    "\n",
    "df['occupation'].replace(to_replace = ['Craft-repair', \n",
    "                                       'Machine-op-inspct', \n",
    "                                       'Transport-moving',\n",
    "                                       'Handlers-cleaners', \n",
    "                                       'Farming-fishing', \n",
    "                                       'Protective-serv', \n",
    "                                       'Priv-house-serv'], value = 'blue-collar', inplace = True)\n",
    "\n",
    "df['occupation'].replace(to_replace = ['Other-service', \n",
    "                                       'Armed-Forces'], value = 'others', inplace = True)\n",
    "\n",
    "df['workclass'].replace(to_replace = 'Federal-gov', value = 'federal-gov', inplace = True)\n",
    "\n",
    "df['workclass'].replace(to_replace = ['State-gov', \n",
    "                                      'Local-gov'], value = 'state-level-gov', inplace = True)\n",
    "\n",
    "df['workclass'].replace(to_replace = ['Self-emp-inc', \n",
    "                                      'Self-emp-not-inc'], value = 'self-employed', inplace = True)\n",
    "\n",
    "df['workclass'].replace(to_replace = ['Never-worked', \n",
    "                                      'Without-pay'], value = 'unemployed', inplace = True)\n",
    "\n",
    "df['education'].replace(to_replace = 'Preschool', value = 'preschool', inplace = True)\n",
    "\n",
    "df['education'].replace(to_replace = ['1st-4th', \n",
    "                                      '5th-6th'], value = 'elementary-school', inplace = True)\n",
    "\n",
    "df['education'].replace(to_replace = ['7th-8th', \n",
    "                                      '9th', \n",
    "                                      '10th', \n",
    "                                      '11th', \n",
    "                                      '12th', \n",
    "                                      'HS-grad'], value = 'high-school', inplace = True)\n",
    "\n",
    "df['education'].replace(to_replace = ['Assoc-voc', \n",
    "                                      'Assoc-acdm', \n",
    "                                      'Some-college'], value = 'college', inplace = True)\n",
    "\n",
    "df['education'].replace(to_replace = ['Bachelors', \n",
    "                                      'Masters', \n",
    "                                      'Prof-school', \n",
    "                                      'Doctorate'], value = 'university', inplace = True)\n",
    "\n",
    "df['marital-status'].replace(to_replace = ['Married-civ-spouse', \n",
    "                                           'Married-spouse-absent', \n",
    "                                           'Married-AF-spouse'], value = 'married', inplace = True)\n",
    "\n",
    "df['marital-status'].replace(to_replace = 'Divorced', value = 'divorced', inplace = True)\n",
    "\n",
    "df['marital-status'].replace(to_replace = 'Separated', value = 'separated', inplace = True)\n",
    "\n",
    "df['marital-status'].replace(to_replace = 'Widowed', value = 'widowed', inplace = True)\n",
    "\n",
    "df['native-country'].replace(to_replace = [], value = 'divorced', inplace = True)\n",
    "\n",
    "df['native-country'].replace(to_replace = ['United-States',\n",
    "                                           'Mexico', \n",
    "                                           'Puerto-Rico',\n",
    "                                           'Canada',\n",
    "                                           'El-Salvador',\n",
    "                                           'Cuba',\n",
    "                                           'Jamaica',\n",
    "                                           'Dominican-Republic',\n",
    "                                           'Guatemala',\n",
    "                                           'Columbia',\n",
    "                                           'Haiti',\n",
    "                                           'Nicaragua',\n",
    "                                           'Peru',\n",
    "                                           'Ecuador',\n",
    "                                           'Trinadad&Tobago',\n",
    "                                           'Outlying-US(Guam-USVI-etc)',\n",
    "                                           'Honduras'], value = 'America', inplace = True)\n",
    "\n",
    "df['native-country'].replace(to_replace = ['Philippines',\n",
    "                                           'India',\n",
    "                                           'China',\n",
    "                                           'South',\n",
    "                                           'Japan',\n",
    "                                           'Vietnam',\n",
    "                                           'Iran',\n",
    "                                           'Taiwan',\n",
    "                                           'Thailand',\n",
    "                                           'Hong',\n",
    "                                           'Cambodia',\n",
    "                                           'Laos'], value = 'Asia', inplace = True)\n",
    "#Se asume que el pais 'South' es 'South-Korea' y que 'Hong' es 'Hong-Kong'\n",
    "\n",
    "df['native-country'].replace(to_replace = ['Germany',\n",
    "                                           'England',\n",
    "                                           'Italy',\n",
    "                                           'Poland',\n",
    "                                           'Portugal',\n",
    "                                           'Greece',\n",
    "                                           'France',\n",
    "                                           'Ireland',\n",
    "                                           'Yugoslavia',\n",
    "                                           'Scotland',\n",
    "                                           'Hungary',\n",
    "                                           'Holand-Netherlands'], value = 'Europa', inplace = True)\n",
    "\n",
    "df['income'].replace(to_replace = '<=50K', value = 0, inplace = True)\n",
    "df['income'].replace(to_replace = '>50K', value = 1, inplace = True)\n",
    "\n",
    "#Renombramos las variables según lo sugerido:\n",
    "\n",
    "df = df.rename(columns = {'educational-num':'educational_num', \n",
    "                          'capital-gain':'capital_gains', \n",
    "                          'capital-loss':'capital_losses', \n",
    "                          'hours-per-week':'hours_per_week', \n",
    "                          'occupation':'collars', \n",
    "                          'workclass':'workclass_recod', \n",
    "                          'education':'educ_recod', \n",
    "                          'marital-status':'civstatus', \n",
    "                          'native-country':'region'})"
   ]
  },
  {
   "cell_type": "code",
   "execution_count": 11,
   "metadata": {},
   "outputs": [
    {
     "name": "stdout",
     "output_type": "stream",
     "text": [
      "Private            33307\n",
      "self-employed       5442\n",
      "state-level-gov     5046\n",
      "federal-gov         1406\n",
      "unemployed            21\n",
      "Name: workclass_recod, dtype: int64\n",
      "\n",
      "\n",
      "high-school          19701\n",
      "college              13365\n",
      "university           11413\n",
      "elementary-school      671\n",
      "preschool               72\n",
      "Name: educ_recod, dtype: int64\n",
      "\n",
      "\n",
      "married          21639\n",
      "Never-married    14598\n",
      "divorced          6297\n",
      "separated         1411\n",
      "widowed           1277\n",
      "Name: civstatus, dtype: int64\n",
      "\n",
      "\n",
      "white-collar    24360\n",
      "blue-collar     16040\n",
      "others           4822\n",
      "Name: collars, dtype: int64\n",
      "\n",
      "\n",
      "Husband           18666\n",
      "Not-in-family     11702\n",
      "Own-child          6626\n",
      "Unmarried          4788\n",
      "Wife               2091\n",
      "Other-relative     1349\n",
      "Name: relationship, dtype: int64\n",
      "\n",
      "\n",
      "White                 38903\n",
      "Black                  4228\n",
      "Asian-Pac-Islander     1303\n",
      "Amer-Indian-Eskimo      435\n",
      "Other                   353\n",
      "Name: race, dtype: int64\n",
      "\n",
      "\n",
      "Male      30527\n",
      "Female    14695\n",
      "Name: gender, dtype: int64\n",
      "\n",
      "\n",
      "America    43453\n",
      "Asia        1031\n",
      "Europa       738\n",
      "Name: region, dtype: int64\n",
      "\n",
      "\n"
     ]
    }
   ],
   "source": [
    "#Exploramos los valores de cada variable para analizar la binarización de las variables nominales\n",
    "\n",
    "categorias = ['workclass_recod','educ_recod','civstatus','collars','relationship','race','gender','region']\n",
    "\n",
    "for variable in categorias:\n",
    "    print(df[variable].value_counts())\n",
    "    print(\"\\n\")"
   ]
  },
  {
   "cell_type": "markdown",
   "metadata": {},
   "source": [
    "Las mayorías en cada variable son:\n",
    "- 'Private' para workclass_recod\n",
    "- 'high-school' para educ_recod\n",
    "- 'married' para civstatus\n",
    "- 'white-collar' para collars\n",
    "- 'Husband' para relationship\n",
    "- 'White' para race\n",
    "- 'Male' para gender\n",
    "- 'America' para region\n",
    "\n",
    "Estas serán descartadas de la binarización"
   ]
  },
  {
   "cell_type": "code",
   "execution_count": 12,
   "metadata": {},
   "outputs": [],
   "source": [
    "#Binarizamos las variables nominales asignando valor 1 a las categorías minoritarias\n",
    "\n",
    "df['bin_wcr_unemployed'] = np.where(df['workclass_recod'].str.strip() == 'unemployed', 1, 0)\n",
    "df['bin_wcr_federal_gov'] = np.where(df['workclass_recod'].str.strip() == 'federal-gov', 1, 0)\n",
    "df['bin_wcr_statelevel_gov'] = np.where(df['workclass_recod'].str.strip() == 'state-level-gov', 1, 0)\n",
    "df['bin_wcr_self_employed'] = np.where(df['workclass_recod'].str.strip() == 'self-employed', 1, 0)\n",
    "\n",
    "df['bin_educr_preschool'] = np.where(df['educ_recod'].str.strip() == 'preschool', 1, 0)\n",
    "df['bin_educr_elementary_sc'] = np.where(df['educ_recod'].str.strip() == 'elementary-school', 1, 0)\n",
    "df['bin_educr_university'] = np.where(df['educ_recod'].str.strip() == 'university', 1, 0)\n",
    "df['bin_educr_college'] = np.where(df['educ_recod'].str.strip() == 'college', 1, 0)\n",
    "\n",
    "df['bin_civstatus_widowed'] = np.where(df['civstatus'].str.strip() == 'widowed', 1, 0)\n",
    "df['bin_civstatus_separated'] = np.where(df['civstatus'].str.strip() == 'separated', 1, 0)\n",
    "df['bin_civstatus_divorced'] = np.where(df['civstatus'].str.strip() == 'divorced', 1, 0)\n",
    "df['bin_civstatus_never_married'] = np.where(df['civstatus'].str.strip() == 'Never-married', 1, 0)\n",
    "\n",
    "df['bin_collars_others'] = np.where(df['collars'].str.strip() == 'others', 1, 0)\n",
    "df['bin_collars_blue'] = np.where(df['collars'].str.strip() == 'blue-collar', 1, 0)\n",
    "\n",
    "df['bin_relation_other'] = np.where(df['relationship'].str.strip() == 'Other-relative', 1, 0)\n",
    "df['bin_relation_wife'] = np.where(df['relationship'].str.strip() == 'Wife', 1, 0)\n",
    "df['bin_relation_unmarried'] = np.where(df['relationship'].str.strip() == 'Unmarried', 1, 0)\n",
    "df['bin_relation_own_child'] = np.where(df['relationship'].str.strip() == 'Own-child', 1, 0)\n",
    "df['bin_relation_not_in_fam'] = np.where(df['relationship'].str.strip() == 'Not-in-family', 1, 0)\n",
    "\n",
    "df['bin_race_other'] = np.where(df['race'].str.strip() == 'Other', 1, 0)\n",
    "df['bin_race_ame_ind_esk'] = np.where(df['race'].str.strip() == 'Amer-Indian-Eskimo', 1, 0)\n",
    "df['bin_race_asi_pac_isl'] = np.where(df['race'].str.strip() == 'Asian-Pac-Islander', 1, 0)\n",
    "df['bin_race_black'] = np.where(df['race'].str.strip() == 'Black', 1, 0)\n",
    "\n",
    "df['bin_gender'] = np.where(df['gender'].str.strip() == 'Female', 1, 0)\n",
    "\n",
    "df['bin_region_europa'] = np.where(df['region'].str.strip() == 'Europa', 1, 0)\n",
    "df['bin_region_asia'] = np.where(df['region'].str.strip() == 'Asia', 1, 0)"
   ]
  },
  {
   "cell_type": "code",
   "execution_count": 13,
   "metadata": {},
   "outputs": [
    {
     "data": {
      "text/html": [
       "<div>\n",
       "<style scoped>\n",
       "    .dataframe tbody tr th:only-of-type {\n",
       "        vertical-align: middle;\n",
       "    }\n",
       "\n",
       "    .dataframe tbody tr th {\n",
       "        vertical-align: top;\n",
       "    }\n",
       "\n",
       "    .dataframe thead th {\n",
       "        text-align: right;\n",
       "    }\n",
       "</style>\n",
       "<table border=\"1\" class=\"dataframe\">\n",
       "  <thead>\n",
       "    <tr style=\"text-align: right;\">\n",
       "      <th></th>\n",
       "      <th>age</th>\n",
       "      <th>workclass_recod</th>\n",
       "      <th>fnlwgt</th>\n",
       "      <th>educ_recod</th>\n",
       "      <th>educational_num</th>\n",
       "      <th>civstatus</th>\n",
       "      <th>collars</th>\n",
       "      <th>relationship</th>\n",
       "      <th>race</th>\n",
       "      <th>gender</th>\n",
       "      <th>...</th>\n",
       "      <th>bin_relation_unmarried</th>\n",
       "      <th>bin_relation_own_child</th>\n",
       "      <th>bin_relation_not_in_fam</th>\n",
       "      <th>bin_race_other</th>\n",
       "      <th>bin_race_ame_ind_esk</th>\n",
       "      <th>bin_race_asi_pac_isl</th>\n",
       "      <th>bin_race_black</th>\n",
       "      <th>bin_gender</th>\n",
       "      <th>bin_region_europa</th>\n",
       "      <th>bin_region_asia</th>\n",
       "    </tr>\n",
       "  </thead>\n",
       "  <tbody>\n",
       "    <tr>\n",
       "      <th>0</th>\n",
       "      <td>25</td>\n",
       "      <td>Private</td>\n",
       "      <td>226802</td>\n",
       "      <td>high-school</td>\n",
       "      <td>7</td>\n",
       "      <td>Never-married</td>\n",
       "      <td>blue-collar</td>\n",
       "      <td>Own-child</td>\n",
       "      <td>Black</td>\n",
       "      <td>Male</td>\n",
       "      <td>...</td>\n",
       "      <td>0</td>\n",
       "      <td>1</td>\n",
       "      <td>0</td>\n",
       "      <td>0</td>\n",
       "      <td>0</td>\n",
       "      <td>0</td>\n",
       "      <td>1</td>\n",
       "      <td>0</td>\n",
       "      <td>0</td>\n",
       "      <td>0</td>\n",
       "    </tr>\n",
       "    <tr>\n",
       "      <th>1</th>\n",
       "      <td>38</td>\n",
       "      <td>Private</td>\n",
       "      <td>89814</td>\n",
       "      <td>high-school</td>\n",
       "      <td>9</td>\n",
       "      <td>married</td>\n",
       "      <td>blue-collar</td>\n",
       "      <td>Husband</td>\n",
       "      <td>White</td>\n",
       "      <td>Male</td>\n",
       "      <td>...</td>\n",
       "      <td>0</td>\n",
       "      <td>0</td>\n",
       "      <td>0</td>\n",
       "      <td>0</td>\n",
       "      <td>0</td>\n",
       "      <td>0</td>\n",
       "      <td>0</td>\n",
       "      <td>0</td>\n",
       "      <td>0</td>\n",
       "      <td>0</td>\n",
       "    </tr>\n",
       "    <tr>\n",
       "      <th>2</th>\n",
       "      <td>28</td>\n",
       "      <td>state-level-gov</td>\n",
       "      <td>336951</td>\n",
       "      <td>college</td>\n",
       "      <td>12</td>\n",
       "      <td>married</td>\n",
       "      <td>blue-collar</td>\n",
       "      <td>Husband</td>\n",
       "      <td>White</td>\n",
       "      <td>Male</td>\n",
       "      <td>...</td>\n",
       "      <td>0</td>\n",
       "      <td>0</td>\n",
       "      <td>0</td>\n",
       "      <td>0</td>\n",
       "      <td>0</td>\n",
       "      <td>0</td>\n",
       "      <td>0</td>\n",
       "      <td>0</td>\n",
       "      <td>0</td>\n",
       "      <td>0</td>\n",
       "    </tr>\n",
       "    <tr>\n",
       "      <th>3</th>\n",
       "      <td>44</td>\n",
       "      <td>Private</td>\n",
       "      <td>160323</td>\n",
       "      <td>college</td>\n",
       "      <td>10</td>\n",
       "      <td>married</td>\n",
       "      <td>blue-collar</td>\n",
       "      <td>Husband</td>\n",
       "      <td>Black</td>\n",
       "      <td>Male</td>\n",
       "      <td>...</td>\n",
       "      <td>0</td>\n",
       "      <td>0</td>\n",
       "      <td>0</td>\n",
       "      <td>0</td>\n",
       "      <td>0</td>\n",
       "      <td>0</td>\n",
       "      <td>1</td>\n",
       "      <td>0</td>\n",
       "      <td>0</td>\n",
       "      <td>0</td>\n",
       "    </tr>\n",
       "    <tr>\n",
       "      <th>5</th>\n",
       "      <td>34</td>\n",
       "      <td>Private</td>\n",
       "      <td>198693</td>\n",
       "      <td>high-school</td>\n",
       "      <td>6</td>\n",
       "      <td>Never-married</td>\n",
       "      <td>others</td>\n",
       "      <td>Not-in-family</td>\n",
       "      <td>White</td>\n",
       "      <td>Male</td>\n",
       "      <td>...</td>\n",
       "      <td>0</td>\n",
       "      <td>0</td>\n",
       "      <td>1</td>\n",
       "      <td>0</td>\n",
       "      <td>0</td>\n",
       "      <td>0</td>\n",
       "      <td>0</td>\n",
       "      <td>0</td>\n",
       "      <td>0</td>\n",
       "      <td>0</td>\n",
       "    </tr>\n",
       "  </tbody>\n",
       "</table>\n",
       "<p>5 rows × 41 columns</p>\n",
       "</div>"
      ],
      "text/plain": [
       "   age  workclass_recod  fnlwgt   educ_recod  educational_num      civstatus  \\\n",
       "0   25          Private  226802  high-school                7  Never-married   \n",
       "1   38          Private   89814  high-school                9        married   \n",
       "2   28  state-level-gov  336951      college               12        married   \n",
       "3   44          Private  160323      college               10        married   \n",
       "5   34          Private  198693  high-school                6  Never-married   \n",
       "\n",
       "       collars   relationship   race gender  ...  bin_relation_unmarried  \\\n",
       "0  blue-collar      Own-child  Black   Male  ...                       0   \n",
       "1  blue-collar        Husband  White   Male  ...                       0   \n",
       "2  blue-collar        Husband  White   Male  ...                       0   \n",
       "3  blue-collar        Husband  Black   Male  ...                       0   \n",
       "5       others  Not-in-family  White   Male  ...                       0   \n",
       "\n",
       "   bin_relation_own_child  bin_relation_not_in_fam bin_race_other  \\\n",
       "0                       1                        0              0   \n",
       "1                       0                        0              0   \n",
       "2                       0                        0              0   \n",
       "3                       0                        0              0   \n",
       "5                       0                        1              0   \n",
       "\n",
       "   bin_race_ame_ind_esk  bin_race_asi_pac_isl  bin_race_black  bin_gender  \\\n",
       "0                     0                     0               1           0   \n",
       "1                     0                     0               0           0   \n",
       "2                     0                     0               0           0   \n",
       "3                     0                     0               1           0   \n",
       "5                     0                     0               0           0   \n",
       "\n",
       "   bin_region_europa  bin_region_asia  \n",
       "0                  0                0  \n",
       "1                  0                0  \n",
       "2                  0                0  \n",
       "3                  0                0  \n",
       "5                  0                0  \n",
       "\n",
       "[5 rows x 41 columns]"
      ]
     },
     "execution_count": 13,
     "metadata": {},
     "output_type": "execute_result"
    }
   ],
   "source": [
    "#Inspeccionamos que los cambios hayan tenido efecto\n",
    "\n",
    "df.head()"
   ]
  },
  {
   "cell_type": "markdown",
   "metadata": {},
   "source": [
    "La recodificación fue exitosa!"
   ]
  },
  {
   "cell_type": "markdown",
   "metadata": {},
   "source": [
    "## Descripción"
   ]
  },
  {
   "cell_type": "markdown",
   "metadata": {},
   "source": [
    "Obtengamos algunos valores estadísticos descriptivos para cada variable en nuestro dataframe:"
   ]
  },
  {
   "cell_type": "code",
   "execution_count": 14,
   "metadata": {},
   "outputs": [
    {
     "name": "stdout",
     "output_type": "stream",
     "text": [
      "age :\n",
      "count    45222.000000\n",
      "mean        38.547941\n",
      "std         13.217870\n",
      "min         17.000000\n",
      "25%         28.000000\n",
      "50%         37.000000\n",
      "75%         47.000000\n",
      "max         90.000000\n",
      "Name: age, dtype: float64\n",
      "\n",
      "\n",
      "workclass_recod :\n",
      "count       45222\n",
      "unique          5\n",
      "top       Private\n",
      "freq        33307\n",
      "Name: workclass_recod, dtype: object\n",
      "\n",
      "\n",
      "fnlwgt :\n",
      "count    4.522200e+04\n",
      "mean     1.897347e+05\n",
      "std      1.056392e+05\n",
      "min      1.349200e+04\n",
      "25%      1.173882e+05\n",
      "50%      1.783160e+05\n",
      "75%      2.379260e+05\n",
      "max      1.490400e+06\n",
      "Name: fnlwgt, dtype: float64\n",
      "\n",
      "\n",
      "educ_recod :\n",
      "count           45222\n",
      "unique              5\n",
      "top       high-school\n",
      "freq            19701\n",
      "Name: educ_recod, dtype: object\n",
      "\n",
      "\n",
      "educational_num :\n",
      "count    45222.000000\n",
      "mean        10.118460\n",
      "std          2.552881\n",
      "min          1.000000\n",
      "25%          9.000000\n",
      "50%         10.000000\n",
      "75%         13.000000\n",
      "max         16.000000\n",
      "Name: educational_num, dtype: float64\n",
      "\n",
      "\n",
      "civstatus :\n",
      "count       45222\n",
      "unique          5\n",
      "top       married\n",
      "freq        21639\n",
      "Name: civstatus, dtype: object\n",
      "\n",
      "\n",
      "collars :\n",
      "count            45222\n",
      "unique               3\n",
      "top       white-collar\n",
      "freq             24360\n",
      "Name: collars, dtype: object\n",
      "\n",
      "\n",
      "relationship :\n",
      "count       45222\n",
      "unique          6\n",
      "top       Husband\n",
      "freq        18666\n",
      "Name: relationship, dtype: object\n",
      "\n",
      "\n",
      "race :\n",
      "count     45222\n",
      "unique        5\n",
      "top       White\n",
      "freq      38903\n",
      "Name: race, dtype: object\n",
      "\n",
      "\n",
      "gender :\n",
      "count     45222\n",
      "unique        2\n",
      "top        Male\n",
      "freq      30527\n",
      "Name: gender, dtype: object\n",
      "\n",
      "\n",
      "capital_gains :\n",
      "count    45222.000000\n",
      "mean      1101.430344\n",
      "std       7506.430084\n",
      "min          0.000000\n",
      "25%          0.000000\n",
      "50%          0.000000\n",
      "75%          0.000000\n",
      "max      99999.000000\n",
      "Name: capital_gains, dtype: float64\n",
      "\n",
      "\n",
      "capital_losses :\n",
      "count    45222.000000\n",
      "mean        88.595418\n",
      "std        404.956092\n",
      "min          0.000000\n",
      "25%          0.000000\n",
      "50%          0.000000\n",
      "75%          0.000000\n",
      "max       4356.000000\n",
      "Name: capital_losses, dtype: float64\n",
      "\n",
      "\n",
      "hours_per_week :\n",
      "count    45222.000000\n",
      "mean        40.938017\n",
      "std         12.007508\n",
      "min          1.000000\n",
      "25%         40.000000\n",
      "50%         40.000000\n",
      "75%         45.000000\n",
      "max         99.000000\n",
      "Name: hours_per_week, dtype: float64\n",
      "\n",
      "\n",
      "region :\n",
      "count       45222\n",
      "unique          3\n",
      "top       America\n",
      "freq        43453\n",
      "Name: region, dtype: object\n",
      "\n",
      "\n",
      "income :\n",
      "count    45222.000000\n",
      "mean         0.247844\n",
      "std          0.431766\n",
      "min          0.000000\n",
      "25%          0.000000\n",
      "50%          0.000000\n",
      "75%          0.000000\n",
      "max          1.000000\n",
      "Name: income, dtype: float64\n",
      "\n",
      "\n",
      "bin_wcr_unemployed :\n",
      "count    45222.000000\n",
      "mean         0.000464\n",
      "std          0.021545\n",
      "min          0.000000\n",
      "25%          0.000000\n",
      "50%          0.000000\n",
      "75%          0.000000\n",
      "max          1.000000\n",
      "Name: bin_wcr_unemployed, dtype: float64\n",
      "\n",
      "\n",
      "bin_wcr_federal_gov :\n",
      "count    45222.000000\n",
      "mean         0.031091\n",
      "std          0.173566\n",
      "min          0.000000\n",
      "25%          0.000000\n",
      "50%          0.000000\n",
      "75%          0.000000\n",
      "max          1.000000\n",
      "Name: bin_wcr_federal_gov, dtype: float64\n",
      "\n",
      "\n",
      "bin_wcr_statelevel_gov :\n",
      "count    45222.000000\n",
      "mean         0.111583\n",
      "std          0.314856\n",
      "min          0.000000\n",
      "25%          0.000000\n",
      "50%          0.000000\n",
      "75%          0.000000\n",
      "max          1.000000\n",
      "Name: bin_wcr_statelevel_gov, dtype: float64\n",
      "\n",
      "\n",
      "bin_wcr_self_employed :\n",
      "count    45222.000000\n",
      "mean         0.120340\n",
      "std          0.325362\n",
      "min          0.000000\n",
      "25%          0.000000\n",
      "50%          0.000000\n",
      "75%          0.000000\n",
      "max          1.000000\n",
      "Name: bin_wcr_self_employed, dtype: float64\n",
      "\n",
      "\n",
      "bin_educr_preschool :\n",
      "count    45222.000000\n",
      "mean         0.001592\n",
      "std          0.039870\n",
      "min          0.000000\n",
      "25%          0.000000\n",
      "50%          0.000000\n",
      "75%          0.000000\n",
      "max          1.000000\n",
      "Name: bin_educr_preschool, dtype: float64\n",
      "\n",
      "\n",
      "bin_educr_elementary_sc :\n",
      "count    45222.000000\n",
      "mean         0.014838\n",
      "std          0.120905\n",
      "min          0.000000\n",
      "25%          0.000000\n",
      "50%          0.000000\n",
      "75%          0.000000\n",
      "max          1.000000\n",
      "Name: bin_educr_elementary_sc, dtype: float64\n",
      "\n",
      "\n",
      "bin_educr_university :\n",
      "count    45222.000000\n",
      "mean         0.252377\n",
      "std          0.434381\n",
      "min          0.000000\n",
      "25%          0.000000\n",
      "50%          0.000000\n",
      "75%          1.000000\n",
      "max          1.000000\n",
      "Name: bin_educr_university, dtype: float64\n",
      "\n",
      "\n",
      "bin_educr_college :\n",
      "count    45222.000000\n",
      "mean         0.295542\n",
      "std          0.456291\n",
      "min          0.000000\n",
      "25%          0.000000\n",
      "50%          0.000000\n",
      "75%          1.000000\n",
      "max          1.000000\n",
      "Name: bin_educr_college, dtype: float64\n",
      "\n",
      "\n",
      "bin_civstatus_widowed :\n",
      "count    45222.000000\n",
      "mean         0.028238\n",
      "std          0.165655\n",
      "min          0.000000\n",
      "25%          0.000000\n",
      "50%          0.000000\n",
      "75%          0.000000\n",
      "max          1.000000\n",
      "Name: bin_civstatus_widowed, dtype: float64\n",
      "\n",
      "\n",
      "bin_civstatus_separated :\n",
      "count    45222.000000\n",
      "mean         0.031202\n",
      "std          0.173864\n",
      "min          0.000000\n",
      "25%          0.000000\n",
      "50%          0.000000\n",
      "75%          0.000000\n",
      "max          1.000000\n",
      "Name: bin_civstatus_separated, dtype: float64\n",
      "\n",
      "\n",
      "bin_civstatus_divorced :\n",
      "count    45222.000000\n",
      "mean         0.139246\n",
      "std          0.346207\n",
      "min          0.000000\n",
      "25%          0.000000\n",
      "50%          0.000000\n",
      "75%          0.000000\n",
      "max          1.000000\n",
      "Name: bin_civstatus_divorced, dtype: float64\n",
      "\n",
      "\n",
      "bin_civstatus_never_married :\n",
      "count    45222.000000\n",
      "mean         0.322807\n",
      "std          0.467555\n",
      "min          0.000000\n",
      "25%          0.000000\n",
      "50%          0.000000\n",
      "75%          1.000000\n",
      "max          1.000000\n",
      "Name: bin_civstatus_never_married, dtype: float64\n",
      "\n",
      "\n",
      "bin_collars_others :\n",
      "count    45222.000000\n",
      "mean         0.106630\n",
      "std          0.308645\n",
      "min          0.000000\n",
      "25%          0.000000\n",
      "50%          0.000000\n",
      "75%          0.000000\n",
      "max          1.000000\n",
      "Name: bin_collars_others, dtype: float64\n",
      "\n",
      "\n",
      "bin_collars_blue :\n",
      "count    45222.000000\n",
      "mean         0.354695\n",
      "std          0.478426\n",
      "min          0.000000\n",
      "25%          0.000000\n",
      "50%          0.000000\n",
      "75%          1.000000\n",
      "max          1.000000\n",
      "Name: bin_collars_blue, dtype: float64\n",
      "\n",
      "\n",
      "bin_relation_other :\n",
      "count    45222.000000\n",
      "mean         0.029831\n",
      "std          0.170122\n",
      "min          0.000000\n",
      "25%          0.000000\n",
      "50%          0.000000\n",
      "75%          0.000000\n",
      "max          1.000000\n",
      "Name: bin_relation_other, dtype: float64\n",
      "\n",
      "\n",
      "bin_relation_wife :\n",
      "count    45222.000000\n",
      "mean         0.046239\n",
      "std          0.210004\n",
      "min          0.000000\n",
      "25%          0.000000\n",
      "50%          0.000000\n",
      "75%          0.000000\n",
      "max          1.000000\n",
      "Name: bin_relation_wife, dtype: float64\n",
      "\n",
      "\n",
      "bin_relation_unmarried :\n",
      "count    45222.000000\n",
      "mean         0.105878\n",
      "std          0.307684\n",
      "min          0.000000\n",
      "25%          0.000000\n",
      "50%          0.000000\n",
      "75%          0.000000\n",
      "max          1.000000\n",
      "Name: bin_relation_unmarried, dtype: float64\n",
      "\n",
      "\n",
      "bin_relation_own_child :\n",
      "count    45222.000000\n",
      "mean         0.146522\n",
      "std          0.353632\n",
      "min          0.000000\n",
      "25%          0.000000\n",
      "50%          0.000000\n",
      "75%          0.000000\n",
      "max          1.000000\n",
      "Name: bin_relation_own_child, dtype: float64\n",
      "\n",
      "\n",
      "bin_relation_not_in_fam :\n",
      "count    45222.000000\n",
      "mean         0.258768\n",
      "std          0.437963\n",
      "min          0.000000\n",
      "25%          0.000000\n",
      "50%          0.000000\n",
      "75%          1.000000\n",
      "max          1.000000\n",
      "Name: bin_relation_not_in_fam, dtype: float64\n",
      "\n",
      "\n",
      "bin_race_other :\n",
      "count    45222.000000\n",
      "mean         0.007806\n",
      "std          0.088007\n",
      "min          0.000000\n",
      "25%          0.000000\n",
      "50%          0.000000\n",
      "75%          0.000000\n",
      "max          1.000000\n",
      "Name: bin_race_other, dtype: float64\n",
      "\n",
      "\n",
      "bin_race_ame_ind_esk :\n",
      "count    45222.000000\n",
      "mean         0.009619\n",
      "std          0.097606\n",
      "min          0.000000\n",
      "25%          0.000000\n",
      "50%          0.000000\n",
      "75%          0.000000\n",
      "max          1.000000\n",
      "Name: bin_race_ame_ind_esk, dtype: float64\n",
      "\n",
      "\n",
      "bin_race_asi_pac_isl :\n",
      "count    45222.000000\n",
      "mean         0.028813\n",
      "std          0.167284\n",
      "min          0.000000\n",
      "25%          0.000000\n",
      "50%          0.000000\n",
      "75%          0.000000\n",
      "max          1.000000\n",
      "Name: bin_race_asi_pac_isl, dtype: float64\n",
      "\n",
      "\n",
      "bin_race_black :\n",
      "count    45222.000000\n",
      "mean         0.093494\n",
      "std          0.291127\n",
      "min          0.000000\n",
      "25%          0.000000\n",
      "50%          0.000000\n",
      "75%          0.000000\n",
      "max          1.000000\n",
      "Name: bin_race_black, dtype: float64\n",
      "\n",
      "\n",
      "bin_gender :\n",
      "count    45222.000000\n",
      "mean         0.324952\n",
      "std          0.468362\n",
      "min          0.000000\n",
      "25%          0.000000\n",
      "50%          0.000000\n",
      "75%          1.000000\n",
      "max          1.000000\n",
      "Name: bin_gender, dtype: float64\n",
      "\n",
      "\n",
      "bin_region_europa :\n",
      "count    45222.000000\n",
      "mean         0.016319\n",
      "std          0.126702\n",
      "min          0.000000\n",
      "25%          0.000000\n",
      "50%          0.000000\n",
      "75%          0.000000\n",
      "max          1.000000\n",
      "Name: bin_region_europa, dtype: float64\n",
      "\n",
      "\n",
      "bin_region_asia :\n",
      "count    45222.000000\n",
      "mean         0.022799\n",
      "std          0.149263\n",
      "min          0.000000\n",
      "25%          0.000000\n",
      "50%          0.000000\n",
      "75%          0.000000\n",
      "max          1.000000\n",
      "Name: bin_region_asia, dtype: float64\n",
      "\n",
      "\n"
     ]
    }
   ],
   "source": [
    "descriptor(df)"
   ]
  },
  {
   "cell_type": "markdown",
   "metadata": {},
   "source": [
    "Observemos la distribución de cada variable en nuestro dataframe:"
   ]
  },
  {
   "cell_type": "code",
   "execution_count": 15,
   "metadata": {},
   "outputs": [
    {
     "data": {
      "image/png": "[encoded data removed]",
      "text/plain": [
       "<Figure size 432x288 with 1 Axes>"
      ]
     },
     "metadata": {
      "needs_background": "light"
     },
     "output_type": "display_data"
    },
    {
     "data": {
      "image/png": "[encoded data removed]",
      "text/plain": [
       "<Figure size 432x288 with 1 Axes>"
      ]
     },
     "metadata": {
      "needs_background": "light"
     },
     "output_type": "display_data"
    },
    {
     "data": {
      "image/png": "[encoded data removed]",
      "text/plain": [
       "<Figure size 432x288 with 1 Axes>"
      ]
     },
     "metadata": {
      "needs_background": "light"
     },
     "output_type": "display_data"
    },
    {
     "data": {
      "image/png": "[encoded data removed]",
      "text/plain": [
       "<Figure size 432x288 with 1 Axes>"
      ]
     },
     "metadata": {
      "needs_background": "light"
     },
     "output_type": "display_data"
    },
    {
     "data": {
      "image/png": "[encoded data removed]",
      "text/plain": [
       "<Figure size 432x288 with 1 Axes>"
      ]
     },
     "metadata": {
      "needs_background": "light"
     },
     "output_type": "display_data"
    },
    {
     "data": {
      "image/png": "[encoded data removed]",
      "text/plain": [
       "<Figure size 432x288 with 1 Axes>"
      ]
     },
     "metadata": {
      "needs_background": "light"
     },
     "output_type": "display_data"
    },
    {
     "data": {
      "image/png": "[encoded data removed]",
      "text/plain": [
       "<Figure size 432x288 with 1 Axes>"
      ]
     },
     "metadata": {
      "needs_background": "light"
     },
     "output_type": "display_data"
    },
    {
     "data": {
      "image/png": "[encoded data removed]",
      "text/plain": [
       "<Figure size 432x288 with 1 Axes>"
      ]
     },
     "metadata": {
      "needs_background": "light"
     },
     "output_type": "display_data"
    },
    {
     "data": {
      "image/png": "[encoded data removed]",
      "text/plain": [
       "<Figure size 432x288 with 1 Axes>"
      ]
     },
     "metadata": {
      "needs_background": "light"
     },
     "output_type": "display_data"
    },
    {
     "data": {
      "image/png": "[encoded data removed]",
      "text/plain": [
       "<Figure size 432x288 with 1 Axes>"
      ]
     },
     "metadata": {
      "needs_background": "light"
     },
     "output_type": "display_data"
    },
    {
     "data": {
      "image/png": "[encoded data removed]",
      "text/plain": [
       "<Figure size 432x288 with 1 Axes>"
      ]
     },
     "metadata": {
      "needs_background": "light"
     },
     "output_type": "display_data"
    },
    {
     "data": {
      "image/png": "[encoded data removed]",
      "text/plain": [
       "<Figure size 432x288 with 1 Axes>"
      ]
     },
     "metadata": {
      "needs_background": "light"
     },
     "output_type": "display_data"
    },
    {
     "data": {
      "image/png": "[encoded data removed]",
      "text/plain": [
       "<Figure size 432x288 with 1 Axes>"
      ]
     },
     "metadata": {
      "needs_background": "light"
     },
     "output_type": "display_data"
    },
    {
     "data": {
      "image/png": "[encoded data removed]",
      "text/plain": [
       "<Figure size 432x288 with 1 Axes>"
      ]
     },
     "metadata": {
      "needs_background": "light"
     },
     "output_type": "display_data"
    },
    {
     "data": {
      "image/png": "[encoded data removed]",
      "text/plain": [
       "<Figure size 432x288 with 1 Axes>"
      ]
     },
     "metadata": {
      "needs_background": "light"
     },
     "output_type": "display_data"
    }
   ],
   "source": [
    "countplots = ['workclass_recod','educ_recod','civstatus','collars','relationship','race','gender','region','income']\n",
    "\n",
    "histogramas = ['age','fnlwgt','educational_num','capital_gains','capital_losses','hours_per_week']\n",
    "\n",
    "for variable in histogramas:\n",
    "    histogramer(df, variable, mean_stat = True, median_stat = True)\n",
    "    \n",
    "for variable in countplots:\n",
    "    sns.countplot(y = df[variable])\n",
    "    plt.title(\"Distribución de la variable \" + variable)\n",
    "    plt.show()"
   ]
  },
  {
   "cell_type": "markdown",
   "metadata": {},
   "source": [
    "## Modelación descriptiva"
   ]
  },
  {
   "cell_type": "code",
   "execution_count": 16,
   "metadata": {},
   "outputs": [
    {
     "data": {
      "text/html": [
       "<div>\n",
       "<style scoped>\n",
       "    .dataframe tbody tr th:only-of-type {\n",
       "        vertical-align: middle;\n",
       "    }\n",
       "\n",
       "    .dataframe tbody tr th {\n",
       "        vertical-align: top;\n",
       "    }\n",
       "\n",
       "    .dataframe thead th {\n",
       "        text-align: right;\n",
       "    }\n",
       "</style>\n",
       "<table border=\"1\" class=\"dataframe\">\n",
       "  <thead>\n",
       "    <tr style=\"text-align: right;\">\n",
       "      <th></th>\n",
       "      <th>age</th>\n",
       "      <th>workclass_recod</th>\n",
       "      <th>fnlwgt</th>\n",
       "      <th>educ_recod</th>\n",
       "      <th>educational_num</th>\n",
       "      <th>civstatus</th>\n",
       "      <th>collars</th>\n",
       "      <th>relationship</th>\n",
       "      <th>race</th>\n",
       "      <th>gender</th>\n",
       "      <th>...</th>\n",
       "      <th>bin_relation_unmarried</th>\n",
       "      <th>bin_relation_own_child</th>\n",
       "      <th>bin_relation_not_in_fam</th>\n",
       "      <th>bin_race_other</th>\n",
       "      <th>bin_race_ame_ind_esk</th>\n",
       "      <th>bin_race_asi_pac_isl</th>\n",
       "      <th>bin_race_black</th>\n",
       "      <th>bin_gender</th>\n",
       "      <th>bin_region_europa</th>\n",
       "      <th>bin_region_asia</th>\n",
       "    </tr>\n",
       "  </thead>\n",
       "  <tbody>\n",
       "    <tr>\n",
       "      <th>0</th>\n",
       "      <td>25</td>\n",
       "      <td>Private</td>\n",
       "      <td>226802</td>\n",
       "      <td>high-school</td>\n",
       "      <td>7</td>\n",
       "      <td>Never-married</td>\n",
       "      <td>blue-collar</td>\n",
       "      <td>Own-child</td>\n",
       "      <td>Black</td>\n",
       "      <td>Male</td>\n",
       "      <td>...</td>\n",
       "      <td>0</td>\n",
       "      <td>1</td>\n",
       "      <td>0</td>\n",
       "      <td>0</td>\n",
       "      <td>0</td>\n",
       "      <td>0</td>\n",
       "      <td>1</td>\n",
       "      <td>0</td>\n",
       "      <td>0</td>\n",
       "      <td>0</td>\n",
       "    </tr>\n",
       "    <tr>\n",
       "      <th>1</th>\n",
       "      <td>38</td>\n",
       "      <td>Private</td>\n",
       "      <td>89814</td>\n",
       "      <td>high-school</td>\n",
       "      <td>9</td>\n",
       "      <td>married</td>\n",
       "      <td>blue-collar</td>\n",
       "      <td>Husband</td>\n",
       "      <td>White</td>\n",
       "      <td>Male</td>\n",
       "      <td>...</td>\n",
       "      <td>0</td>\n",
       "      <td>0</td>\n",
       "      <td>0</td>\n",
       "      <td>0</td>\n",
       "      <td>0</td>\n",
       "      <td>0</td>\n",
       "      <td>0</td>\n",
       "      <td>0</td>\n",
       "      <td>0</td>\n",
       "      <td>0</td>\n",
       "    </tr>\n",
       "    <tr>\n",
       "      <th>2</th>\n",
       "      <td>28</td>\n",
       "      <td>state-level-gov</td>\n",
       "      <td>336951</td>\n",
       "      <td>college</td>\n",
       "      <td>12</td>\n",
       "      <td>married</td>\n",
       "      <td>blue-collar</td>\n",
       "      <td>Husband</td>\n",
       "      <td>White</td>\n",
       "      <td>Male</td>\n",
       "      <td>...</td>\n",
       "      <td>0</td>\n",
       "      <td>0</td>\n",
       "      <td>0</td>\n",
       "      <td>0</td>\n",
       "      <td>0</td>\n",
       "      <td>0</td>\n",
       "      <td>0</td>\n",
       "      <td>0</td>\n",
       "      <td>0</td>\n",
       "      <td>0</td>\n",
       "    </tr>\n",
       "    <tr>\n",
       "      <th>3</th>\n",
       "      <td>44</td>\n",
       "      <td>Private</td>\n",
       "      <td>160323</td>\n",
       "      <td>college</td>\n",
       "      <td>10</td>\n",
       "      <td>married</td>\n",
       "      <td>blue-collar</td>\n",
       "      <td>Husband</td>\n",
       "      <td>Black</td>\n",
       "      <td>Male</td>\n",
       "      <td>...</td>\n",
       "      <td>0</td>\n",
       "      <td>0</td>\n",
       "      <td>0</td>\n",
       "      <td>0</td>\n",
       "      <td>0</td>\n",
       "      <td>0</td>\n",
       "      <td>1</td>\n",
       "      <td>0</td>\n",
       "      <td>0</td>\n",
       "      <td>0</td>\n",
       "    </tr>\n",
       "    <tr>\n",
       "      <th>4</th>\n",
       "      <td>34</td>\n",
       "      <td>Private</td>\n",
       "      <td>198693</td>\n",
       "      <td>high-school</td>\n",
       "      <td>6</td>\n",
       "      <td>Never-married</td>\n",
       "      <td>others</td>\n",
       "      <td>Not-in-family</td>\n",
       "      <td>White</td>\n",
       "      <td>Male</td>\n",
       "      <td>...</td>\n",
       "      <td>0</td>\n",
       "      <td>0</td>\n",
       "      <td>1</td>\n",
       "      <td>0</td>\n",
       "      <td>0</td>\n",
       "      <td>0</td>\n",
       "      <td>0</td>\n",
       "      <td>0</td>\n",
       "      <td>0</td>\n",
       "      <td>0</td>\n",
       "    </tr>\n",
       "  </tbody>\n",
       "</table>\n",
       "<p>5 rows × 41 columns</p>\n",
       "</div>"
      ],
      "text/plain": [
       "   age  workclass_recod  fnlwgt   educ_recod  educational_num      civstatus  \\\n",
       "0   25          Private  226802  high-school                7  Never-married   \n",
       "1   38          Private   89814  high-school                9        married   \n",
       "2   28  state-level-gov  336951      college               12        married   \n",
       "3   44          Private  160323      college               10        married   \n",
       "4   34          Private  198693  high-school                6  Never-married   \n",
       "\n",
       "       collars   relationship   race gender  ...  bin_relation_unmarried  \\\n",
       "0  blue-collar      Own-child  Black   Male  ...                       0   \n",
       "1  blue-collar        Husband  White   Male  ...                       0   \n",
       "2  blue-collar        Husband  White   Male  ...                       0   \n",
       "3  blue-collar        Husband  Black   Male  ...                       0   \n",
       "4       others  Not-in-family  White   Male  ...                       0   \n",
       "\n",
       "   bin_relation_own_child  bin_relation_not_in_fam bin_race_other  \\\n",
       "0                       1                        0              0   \n",
       "1                       0                        0              0   \n",
       "2                       0                        0              0   \n",
       "3                       0                        0              0   \n",
       "4                       0                        1              0   \n",
       "\n",
       "   bin_race_ame_ind_esk  bin_race_asi_pac_isl  bin_race_black  bin_gender  \\\n",
       "0                     0                     0               1           0   \n",
       "1                     0                     0               0           0   \n",
       "2                     0                     0               0           0   \n",
       "3                     0                     0               1           0   \n",
       "4                     0                     0               0           0   \n",
       "\n",
       "   bin_region_europa  bin_region_asia  \n",
       "0                  0                0  \n",
       "1                  0                0  \n",
       "2                  0                0  \n",
       "3                  0                0  \n",
       "4                  0                0  \n",
       "\n",
       "[5 rows x 41 columns]"
      ]
     },
     "execution_count": 16,
     "metadata": {},
     "output_type": "execute_result"
    }
   ],
   "source": [
    "df.reset_index(drop = True, inplace = True)\n",
    "df.head()"
   ]
  },
  {
   "cell_type": "code",
   "execution_count": 17,
   "metadata": {},
   "outputs": [
    {
     "data": {
      "text/plain": [
       "Index(['age', 'workclass_recod', 'fnlwgt', 'educ_recod', 'educational_num',\n",
       "       'civstatus', 'collars', 'relationship', 'race', 'gender',\n",
       "       'capital_gains', 'capital_losses', 'hours_per_week', 'region', 'income',\n",
       "       'bin_wcr_unemployed', 'bin_wcr_federal_gov', 'bin_wcr_statelevel_gov',\n",
       "       'bin_wcr_self_employed', 'bin_educr_preschool',\n",
       "       'bin_educr_elementary_sc', 'bin_educr_university', 'bin_educr_college',\n",
       "       'bin_civstatus_widowed', 'bin_civstatus_separated',\n",
       "       'bin_civstatus_divorced', 'bin_civstatus_never_married',\n",
       "       'bin_collars_others', 'bin_collars_blue', 'bin_relation_other',\n",
       "       'bin_relation_wife', 'bin_relation_unmarried', 'bin_relation_own_child',\n",
       "       'bin_relation_not_in_fam', 'bin_race_other', 'bin_race_ame_ind_esk',\n",
       "       'bin_race_asi_pac_isl', 'bin_race_black', 'bin_gender',\n",
       "       'bin_region_europa', 'bin_region_asia'],\n",
       "      dtype='object')"
      ]
     },
     "execution_count": 17,
     "metadata": {},
     "output_type": "execute_result"
    }
   ],
   "source": [
    "df.columns"
   ]
  },
  {
   "cell_type": "markdown",
   "metadata": {},
   "source": [
    "Como se trata de un problema de clasificación, donde debemos predecir el comportamiento de un atributo discreto (Variable 'income'), la cual tendrá un valor binario según si el individuo percibe o no ingresos superiores a USD50.000.- al año, el modelo a estimar es de la siguiente forma:\n",
    "\n",
    "$$\\log\\left(\\frac{p({ income = 1})}{1 - p({ income = 1})}\\right)={{\\beta }_{0} + \\sum_{j=0}^N {\\beta }_{j} \\cdot {X}}$$"
   ]
  },
  {
   "cell_type": "markdown",
   "metadata": {},
   "source": [
    "Por este motivo la regresión es del tipo logística (Usamos 'smf.logit').\n",
    "Iniciamos la modelación con el modelo saturado, es decir, incluyendo como regresores a todas las variables cuantitativas y las variables binarias creadas:"
   ]
  },
  {
   "cell_type": "code",
   "execution_count": 18,
   "metadata": {},
   "outputs": [
    {
     "name": "stdout",
     "output_type": "stream",
     "text": [
      "Optimization terminated successfully.\n",
      "         Current function value: 0.331949\n",
      "         Iterations 11\n"
     ]
    },
    {
     "data": {
      "text/html": [
       "<table class=\"simpletable\">\n",
       "<caption>Logit Regression Results</caption>\n",
       "<tr>\n",
       "  <th>Dep. Variable:</th>      <td>income</td>      <th>  No. Observations:  </th>  <td> 45222</td> \n",
       "</tr>\n",
       "<tr>\n",
       "  <th>Model:</th>               <td>Logit</td>      <th>  Df Residuals:      </th>  <td> 45190</td> \n",
       "</tr>\n",
       "<tr>\n",
       "  <th>Method:</th>               <td>MLE</td>       <th>  Df Model:          </th>  <td>    31</td> \n",
       "</tr>\n",
       "<tr>\n",
       "  <th>Date:</th>          <td>Fri, 26 Jul 2019</td> <th>  Pseudo R-squ.:     </th>  <td>0.4072</td> \n",
       "</tr>\n",
       "<tr>\n",
       "  <th>Time:</th>              <td>14:01:59</td>     <th>  Log-Likelihood:    </th> <td> -15011.</td>\n",
       "</tr>\n",
       "<tr>\n",
       "  <th>converged:</th>           <td>True</td>       <th>  LL-Null:           </th> <td> -25322.</td>\n",
       "</tr>\n",
       "<tr>\n",
       "  <th> </th>                      <td> </td>        <th>  LLR p-value:       </th>  <td> 0.000</td> \n",
       "</tr>\n",
       "</table>\n",
       "<table class=\"simpletable\">\n",
       "<tr>\n",
       "               <td></td>                  <th>coef</th>     <th>std err</th>      <th>z</th>      <th>P>|z|</th>  <th>[0.025</th>    <th>0.975]</th>  \n",
       "</tr>\n",
       "<tr>\n",
       "  <th>Intercept</th>                   <td>   -5.4033</td> <td>    0.171</td> <td>  -31.537</td> <td> 0.000</td> <td>   -5.739</td> <td>   -5.068</td>\n",
       "</tr>\n",
       "<tr>\n",
       "  <th>age</th>                         <td>    0.0248</td> <td>    0.001</td> <td>   18.399</td> <td> 0.000</td> <td>    0.022</td> <td>    0.027</td>\n",
       "</tr>\n",
       "<tr>\n",
       "  <th>educational_num</th>             <td>    0.2761</td> <td>    0.016</td> <td>   17.210</td> <td> 0.000</td> <td>    0.245</td> <td>    0.307</td>\n",
       "</tr>\n",
       "<tr>\n",
       "  <th>capital_gains</th>               <td>    0.0003</td> <td>  8.6e-06</td> <td>   36.915</td> <td> 0.000</td> <td>    0.000</td> <td>    0.000</td>\n",
       "</tr>\n",
       "<tr>\n",
       "  <th>capital_losses</th>              <td>    0.0007</td> <td> 3.07e-05</td> <td>   21.313</td> <td> 0.000</td> <td>    0.001</td> <td>    0.001</td>\n",
       "</tr>\n",
       "<tr>\n",
       "  <th>hours_per_week</th>              <td>    0.0295</td> <td>    0.001</td> <td>   22.354</td> <td> 0.000</td> <td>    0.027</td> <td>    0.032</td>\n",
       "</tr>\n",
       "<tr>\n",
       "  <th>bin_wcr_unemployed</th>          <td>   -1.1005</td> <td>    0.801</td> <td>   -1.374</td> <td> 0.170</td> <td>   -2.671</td> <td>    0.470</td>\n",
       "</tr>\n",
       "<tr>\n",
       "  <th>bin_wcr_federal_gov</th>         <td>    0.4397</td> <td>    0.075</td> <td>    5.867</td> <td> 0.000</td> <td>    0.293</td> <td>    0.587</td>\n",
       "</tr>\n",
       "<tr>\n",
       "  <th>bin_wcr_statelevel_gov</th>      <td>   -0.0754</td> <td>    0.046</td> <td>   -1.644</td> <td> 0.100</td> <td>   -0.165</td> <td>    0.014</td>\n",
       "</tr>\n",
       "<tr>\n",
       "  <th>bin_wcr_self_employed</th>       <td>   -0.3491</td> <td>    0.042</td> <td>   -8.277</td> <td> 0.000</td> <td>   -0.432</td> <td>   -0.266</td>\n",
       "</tr>\n",
       "<tr>\n",
       "  <th>bin_educr_preschool</th>         <td>   -3.8984</td> <td>    4.082</td> <td>   -0.955</td> <td> 0.340</td> <td>  -11.898</td> <td>    4.101</td>\n",
       "</tr>\n",
       "<tr>\n",
       "  <th>bin_educr_elementary_sc</th>     <td>    0.2362</td> <td>    0.223</td> <td>    1.059</td> <td> 0.290</td> <td>   -0.201</td> <td>    0.674</td>\n",
       "</tr>\n",
       "<tr>\n",
       "  <th>bin_educr_university</th>        <td>    0.1547</td> <td>    0.086</td> <td>    1.798</td> <td> 0.072</td> <td>   -0.014</td> <td>    0.323</td>\n",
       "</tr>\n",
       "<tr>\n",
       "  <th>bin_educr_college</th>           <td>    0.0659</td> <td>    0.047</td> <td>    1.411</td> <td> 0.158</td> <td>   -0.026</td> <td>    0.158</td>\n",
       "</tr>\n",
       "<tr>\n",
       "  <th>bin_civstatus_widowed</th>       <td>   -0.7185</td> <td>    0.176</td> <td>   -4.085</td> <td> 0.000</td> <td>   -1.063</td> <td>   -0.374</td>\n",
       "</tr>\n",
       "<tr>\n",
       "  <th>bin_civstatus_separated</th>     <td>   -0.8290</td> <td>    0.178</td> <td>   -4.653</td> <td> 0.000</td> <td>   -1.178</td> <td>   -0.480</td>\n",
       "</tr>\n",
       "<tr>\n",
       "  <th>bin_civstatus_divorced</th>      <td>   -0.8088</td> <td>    0.138</td> <td>   -5.848</td> <td> 0.000</td> <td>   -1.080</td> <td>   -0.538</td>\n",
       "</tr>\n",
       "<tr>\n",
       "  <th>bin_civstatus_never_married</th> <td>   -1.2930</td> <td>    0.137</td> <td>   -9.465</td> <td> 0.000</td> <td>   -1.561</td> <td>   -1.025</td>\n",
       "</tr>\n",
       "<tr>\n",
       "  <th>bin_collars_others</th>          <td>   -1.3354</td> <td>    0.086</td> <td>  -15.573</td> <td> 0.000</td> <td>   -1.504</td> <td>   -1.167</td>\n",
       "</tr>\n",
       "<tr>\n",
       "  <th>bin_collars_blue</th>            <td>   -0.6034</td> <td>    0.035</td> <td>  -17.070</td> <td> 0.000</td> <td>   -0.673</td> <td>   -0.534</td>\n",
       "</tr>\n",
       "<tr>\n",
       "  <th>bin_relation_other</th>          <td>   -1.4149</td> <td>    0.187</td> <td>   -7.553</td> <td> 0.000</td> <td>   -1.782</td> <td>   -1.048</td>\n",
       "</tr>\n",
       "<tr>\n",
       "  <th>bin_relation_wife</th>           <td>    1.0598</td> <td>    0.084</td> <td>   12.607</td> <td> 0.000</td> <td>    0.895</td> <td>    1.225</td>\n",
       "</tr>\n",
       "<tr>\n",
       "  <th>bin_relation_unmarried</th>      <td>   -1.1865</td> <td>    0.150</td> <td>   -7.890</td> <td> 0.000</td> <td>   -1.481</td> <td>   -0.892</td>\n",
       "</tr>\n",
       "<tr>\n",
       "  <th>bin_relation_own_child</th>      <td>   -1.9407</td> <td>    0.166</td> <td>  -11.663</td> <td> 0.000</td> <td>   -2.267</td> <td>   -1.615</td>\n",
       "</tr>\n",
       "<tr>\n",
       "  <th>bin_relation_not_in_fam</th>     <td>   -0.9533</td> <td>    0.134</td> <td>   -7.123</td> <td> 0.000</td> <td>   -1.216</td> <td>   -0.691</td>\n",
       "</tr>\n",
       "<tr>\n",
       "  <th>bin_race_other</th>              <td>   -0.2640</td> <td>    0.206</td> <td>   -1.283</td> <td> 0.199</td> <td>   -0.667</td> <td>    0.139</td>\n",
       "</tr>\n",
       "<tr>\n",
       "  <th>bin_race_ame_ind_esk</th>        <td>   -0.5534</td> <td>    0.179</td> <td>   -3.085</td> <td> 0.002</td> <td>   -0.905</td> <td>   -0.202</td>\n",
       "</tr>\n",
       "<tr>\n",
       "  <th>bin_race_asi_pac_isl</th>        <td>    0.2624</td> <td>    0.135</td> <td>    1.946</td> <td> 0.052</td> <td>   -0.002</td> <td>    0.527</td>\n",
       "</tr>\n",
       "<tr>\n",
       "  <th>bin_race_black</th>              <td>   -0.2048</td> <td>    0.062</td> <td>   -3.280</td> <td> 0.001</td> <td>   -0.327</td> <td>   -0.082</td>\n",
       "</tr>\n",
       "<tr>\n",
       "  <th>bin_gender</th>                  <td>   -0.7895</td> <td>    0.064</td> <td>  -12.295</td> <td> 0.000</td> <td>   -0.915</td> <td>   -0.664</td>\n",
       "</tr>\n",
       "<tr>\n",
       "  <th>bin_region_europa</th>           <td>    0.2009</td> <td>    0.106</td> <td>    1.902</td> <td> 0.057</td> <td>   -0.006</td> <td>    0.408</td>\n",
       "</tr>\n",
       "<tr>\n",
       "  <th>bin_region_asia</th>             <td>   -0.4915</td> <td>    0.150</td> <td>   -3.281</td> <td> 0.001</td> <td>   -0.785</td> <td>   -0.198</td>\n",
       "</tr>\n",
       "</table>"
      ],
      "text/plain": [
       "<class 'statsmodels.iolib.summary.Summary'>\n",
       "\"\"\"\n",
       "                           Logit Regression Results                           \n",
       "==============================================================================\n",
       "Dep. Variable:                 income   No. Observations:                45222\n",
       "Model:                          Logit   Df Residuals:                    45190\n",
       "Method:                           MLE   Df Model:                           31\n",
       "Date:                Fri, 26 Jul 2019   Pseudo R-squ.:                  0.4072\n",
       "Time:                        14:01:59   Log-Likelihood:                -15011.\n",
       "converged:                       True   LL-Null:                       -25322.\n",
       "                                        LLR p-value:                     0.000\n",
       "===============================================================================================\n",
       "                                  coef    std err          z      P>|z|      [0.025      0.975]\n",
       "-----------------------------------------------------------------------------------------------\n",
       "Intercept                      -5.4033      0.171    -31.537      0.000      -5.739      -5.068\n",
       "age                             0.0248      0.001     18.399      0.000       0.022       0.027\n",
       "educational_num                 0.2761      0.016     17.210      0.000       0.245       0.307\n",
       "capital_gains                   0.0003    8.6e-06     36.915      0.000       0.000       0.000\n",
       "capital_losses                  0.0007   3.07e-05     21.313      0.000       0.001       0.001\n",
       "hours_per_week                  0.0295      0.001     22.354      0.000       0.027       0.032\n",
       "bin_wcr_unemployed             -1.1005      0.801     -1.374      0.170      -2.671       0.470\n",
       "bin_wcr_federal_gov             0.4397      0.075      5.867      0.000       0.293       0.587\n",
       "bin_wcr_statelevel_gov         -0.0754      0.046     -1.644      0.100      -0.165       0.014\n",
       "bin_wcr_self_employed          -0.3491      0.042     -8.277      0.000      -0.432      -0.266\n",
       "bin_educr_preschool            -3.8984      4.082     -0.955      0.340     -11.898       4.101\n",
       "bin_educr_elementary_sc         0.2362      0.223      1.059      0.290      -0.201       0.674\n",
       "bin_educr_university            0.1547      0.086      1.798      0.072      -0.014       0.323\n",
       "bin_educr_college               0.0659      0.047      1.411      0.158      -0.026       0.158\n",
       "bin_civstatus_widowed          -0.7185      0.176     -4.085      0.000      -1.063      -0.374\n",
       "bin_civstatus_separated        -0.8290      0.178     -4.653      0.000      -1.178      -0.480\n",
       "bin_civstatus_divorced         -0.8088      0.138     -5.848      0.000      -1.080      -0.538\n",
       "bin_civstatus_never_married    -1.2930      0.137     -9.465      0.000      -1.561      -1.025\n",
       "bin_collars_others             -1.3354      0.086    -15.573      0.000      -1.504      -1.167\n",
       "bin_collars_blue               -0.6034      0.035    -17.070      0.000      -0.673      -0.534\n",
       "bin_relation_other             -1.4149      0.187     -7.553      0.000      -1.782      -1.048\n",
       "bin_relation_wife               1.0598      0.084     12.607      0.000       0.895       1.225\n",
       "bin_relation_unmarried         -1.1865      0.150     -7.890      0.000      -1.481      -0.892\n",
       "bin_relation_own_child         -1.9407      0.166    -11.663      0.000      -2.267      -1.615\n",
       "bin_relation_not_in_fam        -0.9533      0.134     -7.123      0.000      -1.216      -0.691\n",
       "bin_race_other                 -0.2640      0.206     -1.283      0.199      -0.667       0.139\n",
       "bin_race_ame_ind_esk           -0.5534      0.179     -3.085      0.002      -0.905      -0.202\n",
       "bin_race_asi_pac_isl            0.2624      0.135      1.946      0.052      -0.002       0.527\n",
       "bin_race_black                 -0.2048      0.062     -3.280      0.001      -0.327      -0.082\n",
       "bin_gender                     -0.7895      0.064    -12.295      0.000      -0.915      -0.664\n",
       "bin_region_europa               0.2009      0.106      1.902      0.057      -0.006       0.408\n",
       "bin_region_asia                -0.4915      0.150     -3.281      0.001      -0.785      -0.198\n",
       "===============================================================================================\n",
       "\"\"\""
      ]
     },
     "execution_count": 18,
     "metadata": {},
     "output_type": "execute_result"
    }
   ],
   "source": [
    "modelo_saturado = smf.logit(\"income ~ age + educational_num + capital_gains + capital_losses + hours_per_week + bin_wcr_unemployed + bin_wcr_federal_gov + bin_wcr_statelevel_gov + bin_wcr_self_employed + bin_educr_preschool + bin_educr_elementary_sc + bin_educr_university + bin_educr_college + bin_civstatus_widowed + bin_civstatus_separated + bin_civstatus_divorced + bin_civstatus_never_married + bin_collars_others + bin_collars_blue + bin_relation_other + bin_relation_wife + bin_relation_unmarried + bin_relation_own_child + bin_relation_not_in_fam + bin_race_other + bin_race_ame_ind_esk + bin_race_asi_pac_isl + bin_race_black + bin_gender + bin_region_europa + bin_region_asia\", df).fit()\n",
    "modelo_saturado.summary()"
   ]
  },
  {
   "cell_type": "markdown",
   "metadata": {},
   "source": [
    "Comenzamos a depurar el modelo eliminando como regresores a las variables que tienen una significancia menor a 97.5% (Mantendremos sólo los regresores con p-value < 0.025). Por lo tanto, se descartan 9 regresores:\n",
    "- bin_wcr_unemployed (p-value = 0.170)\n",
    "- bin_wcr_statelevel_gov (p-value = 0.100)\n",
    "- bin_educr_preschool (p-value = 0.340)\n",
    "- bin_educr_elementary_sc\t(p-value = 0.290)\n",
    "- bin_educr_university (p-value = 0.072)\n",
    "- bin_educr_college (p-value = 0.158)\n",
    "- bin_race_other (p_value = 0.199)\n",
    "- bin_race_asi_pac_isl (p-value = 0.052)\n",
    "- bin_region_europa (p-value = 0.057)"
   ]
  },
  {
   "cell_type": "markdown",
   "metadata": {},
   "source": [
    "Cabe destacar que las variables binarias referentes a 'educ_recod' fueron descartadas en todas sus categorías, lo que puede deberse a la redundancia de estas con la variable educational_number."
   ]
  },
  {
   "cell_type": "code",
   "execution_count": 19,
   "metadata": {},
   "outputs": [
    {
     "name": "stdout",
     "output_type": "stream",
     "text": [
      "Optimization terminated successfully.\n",
      "         Current function value: 0.332201\n",
      "         Iterations 9\n"
     ]
    },
    {
     "data": {
      "text/html": [
       "<table class=\"simpletable\">\n",
       "<caption>Logit Regression Results</caption>\n",
       "<tr>\n",
       "  <th>Dep. Variable:</th>      <td>income</td>      <th>  No. Observations:  </th>  <td> 45222</td> \n",
       "</tr>\n",
       "<tr>\n",
       "  <th>Model:</th>               <td>Logit</td>      <th>  Df Residuals:      </th>  <td> 45199</td> \n",
       "</tr>\n",
       "<tr>\n",
       "  <th>Method:</th>               <td>MLE</td>       <th>  Df Model:          </th>  <td>    22</td> \n",
       "</tr>\n",
       "<tr>\n",
       "  <th>Date:</th>          <td>Fri, 26 Jul 2019</td> <th>  Pseudo R-squ.:     </th>  <td>0.4067</td> \n",
       "</tr>\n",
       "<tr>\n",
       "  <th>Time:</th>              <td>14:01:59</td>     <th>  Log-Likelihood:    </th> <td> -15023.</td>\n",
       "</tr>\n",
       "<tr>\n",
       "  <th>converged:</th>           <td>True</td>       <th>  LL-Null:           </th> <td> -25322.</td>\n",
       "</tr>\n",
       "<tr>\n",
       "  <th> </th>                      <td> </td>        <th>  LLR p-value:       </th>  <td> 0.000</td> \n",
       "</tr>\n",
       "</table>\n",
       "<table class=\"simpletable\">\n",
       "<tr>\n",
       "               <td></td>                  <th>coef</th>     <th>std err</th>      <th>z</th>      <th>P>|z|</th>  <th>[0.025</th>    <th>0.975]</th>  \n",
       "</tr>\n",
       "<tr>\n",
       "  <th>Intercept</th>                   <td>   -5.5628</td> <td>    0.125</td> <td>  -44.348</td> <td> 0.000</td> <td>   -5.809</td> <td>   -5.317</td>\n",
       "</tr>\n",
       "<tr>\n",
       "  <th>age</th>                         <td>    0.0248</td> <td>    0.001</td> <td>   18.465</td> <td> 0.000</td> <td>    0.022</td> <td>    0.027</td>\n",
       "</tr>\n",
       "<tr>\n",
       "  <th>educational_num</th>             <td>    0.2976</td> <td>    0.007</td> <td>   41.470</td> <td> 0.000</td> <td>    0.284</td> <td>    0.312</td>\n",
       "</tr>\n",
       "<tr>\n",
       "  <th>capital_gains</th>               <td>    0.0003</td> <td> 8.59e-06</td> <td>   36.940</td> <td> 0.000</td> <td>    0.000</td> <td>    0.000</td>\n",
       "</tr>\n",
       "<tr>\n",
       "  <th>capital_losses</th>              <td>    0.0007</td> <td> 3.07e-05</td> <td>   21.304</td> <td> 0.000</td> <td>    0.001</td> <td>    0.001</td>\n",
       "</tr>\n",
       "<tr>\n",
       "  <th>hours_per_week</th>              <td>    0.0295</td> <td>    0.001</td> <td>   22.369</td> <td> 0.000</td> <td>    0.027</td> <td>    0.032</td>\n",
       "</tr>\n",
       "<tr>\n",
       "  <th>bin_wcr_federal_gov</th>         <td>    0.4523</td> <td>    0.074</td> <td>    6.083</td> <td> 0.000</td> <td>    0.307</td> <td>    0.598</td>\n",
       "</tr>\n",
       "<tr>\n",
       "  <th>bin_wcr_self_employed</th>       <td>   -0.3372</td> <td>    0.042</td> <td>   -8.122</td> <td> 0.000</td> <td>   -0.419</td> <td>   -0.256</td>\n",
       "</tr>\n",
       "<tr>\n",
       "  <th>bin_civstatus_widowed</th>       <td>   -0.7298</td> <td>    0.176</td> <td>   -4.154</td> <td> 0.000</td> <td>   -1.074</td> <td>   -0.385</td>\n",
       "</tr>\n",
       "<tr>\n",
       "  <th>bin_civstatus_separated</th>     <td>   -0.8429</td> <td>    0.178</td> <td>   -4.737</td> <td> 0.000</td> <td>   -1.192</td> <td>   -0.494</td>\n",
       "</tr>\n",
       "<tr>\n",
       "  <th>bin_civstatus_divorced</th>      <td>   -0.8197</td> <td>    0.138</td> <td>   -5.935</td> <td> 0.000</td> <td>   -1.090</td> <td>   -0.549</td>\n",
       "</tr>\n",
       "<tr>\n",
       "  <th>bin_civstatus_never_married</th> <td>   -1.2958</td> <td>    0.136</td> <td>   -9.495</td> <td> 0.000</td> <td>   -1.563</td> <td>   -1.028</td>\n",
       "</tr>\n",
       "<tr>\n",
       "  <th>bin_collars_others</th>          <td>   -1.3401</td> <td>    0.086</td> <td>  -15.655</td> <td> 0.000</td> <td>   -1.508</td> <td>   -1.172</td>\n",
       "</tr>\n",
       "<tr>\n",
       "  <th>bin_collars_blue</th>            <td>   -0.6152</td> <td>    0.035</td> <td>  -17.566</td> <td> 0.000</td> <td>   -0.684</td> <td>   -0.547</td>\n",
       "</tr>\n",
       "<tr>\n",
       "  <th>bin_relation_other</th>          <td>   -1.4022</td> <td>    0.187</td> <td>   -7.481</td> <td> 0.000</td> <td>   -1.770</td> <td>   -1.035</td>\n",
       "</tr>\n",
       "<tr>\n",
       "  <th>bin_relation_wife</th>           <td>    1.0583</td> <td>    0.084</td> <td>   12.596</td> <td> 0.000</td> <td>    0.894</td> <td>    1.223</td>\n",
       "</tr>\n",
       "<tr>\n",
       "  <th>bin_relation_unmarried</th>      <td>   -1.1775</td> <td>    0.150</td> <td>   -7.840</td> <td> 0.000</td> <td>   -1.472</td> <td>   -0.883</td>\n",
       "</tr>\n",
       "<tr>\n",
       "  <th>bin_relation_own_child</th>      <td>   -1.9261</td> <td>    0.166</td> <td>  -11.601</td> <td> 0.000</td> <td>   -2.252</td> <td>   -1.601</td>\n",
       "</tr>\n",
       "<tr>\n",
       "  <th>bin_relation_not_in_fam</th>     <td>   -0.9418</td> <td>    0.134</td> <td>   -7.047</td> <td> 0.000</td> <td>   -1.204</td> <td>   -0.680</td>\n",
       "</tr>\n",
       "<tr>\n",
       "  <th>bin_race_ame_ind_esk</th>        <td>   -0.5685</td> <td>    0.179</td> <td>   -3.173</td> <td> 0.002</td> <td>   -0.920</td> <td>   -0.217</td>\n",
       "</tr>\n",
       "<tr>\n",
       "  <th>bin_race_black</th>              <td>   -0.2149</td> <td>    0.062</td> <td>   -3.451</td> <td> 0.001</td> <td>   -0.337</td> <td>   -0.093</td>\n",
       "</tr>\n",
       "<tr>\n",
       "  <th>bin_gender</th>                  <td>   -0.7953</td> <td>    0.064</td> <td>  -12.403</td> <td> 0.000</td> <td>   -0.921</td> <td>   -0.670</td>\n",
       "</tr>\n",
       "<tr>\n",
       "  <th>bin_region_asia</th>             <td>   -0.2717</td> <td>    0.096</td> <td>   -2.840</td> <td> 0.005</td> <td>   -0.459</td> <td>   -0.084</td>\n",
       "</tr>\n",
       "</table>"
      ],
      "text/plain": [
       "<class 'statsmodels.iolib.summary.Summary'>\n",
       "\"\"\"\n",
       "                           Logit Regression Results                           \n",
       "==============================================================================\n",
       "Dep. Variable:                 income   No. Observations:                45222\n",
       "Model:                          Logit   Df Residuals:                    45199\n",
       "Method:                           MLE   Df Model:                           22\n",
       "Date:                Fri, 26 Jul 2019   Pseudo R-squ.:                  0.4067\n",
       "Time:                        14:01:59   Log-Likelihood:                -15023.\n",
       "converged:                       True   LL-Null:                       -25322.\n",
       "                                        LLR p-value:                     0.000\n",
       "===============================================================================================\n",
       "                                  coef    std err          z      P>|z|      [0.025      0.975]\n",
       "-----------------------------------------------------------------------------------------------\n",
       "Intercept                      -5.5628      0.125    -44.348      0.000      -5.809      -5.317\n",
       "age                             0.0248      0.001     18.465      0.000       0.022       0.027\n",
       "educational_num                 0.2976      0.007     41.470      0.000       0.284       0.312\n",
       "capital_gains                   0.0003   8.59e-06     36.940      0.000       0.000       0.000\n",
       "capital_losses                  0.0007   3.07e-05     21.304      0.000       0.001       0.001\n",
       "hours_per_week                  0.0295      0.001     22.369      0.000       0.027       0.032\n",
       "bin_wcr_federal_gov             0.4523      0.074      6.083      0.000       0.307       0.598\n",
       "bin_wcr_self_employed          -0.3372      0.042     -8.122      0.000      -0.419      -0.256\n",
       "bin_civstatus_widowed          -0.7298      0.176     -4.154      0.000      -1.074      -0.385\n",
       "bin_civstatus_separated        -0.8429      0.178     -4.737      0.000      -1.192      -0.494\n",
       "bin_civstatus_divorced         -0.8197      0.138     -5.935      0.000      -1.090      -0.549\n",
       "bin_civstatus_never_married    -1.2958      0.136     -9.495      0.000      -1.563      -1.028\n",
       "bin_collars_others             -1.3401      0.086    -15.655      0.000      -1.508      -1.172\n",
       "bin_collars_blue               -0.6152      0.035    -17.566      0.000      -0.684      -0.547\n",
       "bin_relation_other             -1.4022      0.187     -7.481      0.000      -1.770      -1.035\n",
       "bin_relation_wife               1.0583      0.084     12.596      0.000       0.894       1.223\n",
       "bin_relation_unmarried         -1.1775      0.150     -7.840      0.000      -1.472      -0.883\n",
       "bin_relation_own_child         -1.9261      0.166    -11.601      0.000      -2.252      -1.601\n",
       "bin_relation_not_in_fam        -0.9418      0.134     -7.047      0.000      -1.204      -0.680\n",
       "bin_race_ame_ind_esk           -0.5685      0.179     -3.173      0.002      -0.920      -0.217\n",
       "bin_race_black                 -0.2149      0.062     -3.451      0.001      -0.337      -0.093\n",
       "bin_gender                     -0.7953      0.064    -12.403      0.000      -0.921      -0.670\n",
       "bin_region_asia                -0.2717      0.096     -2.840      0.005      -0.459      -0.084\n",
       "===============================================================================================\n",
       "\"\"\""
      ]
     },
     "execution_count": 19,
     "metadata": {},
     "output_type": "execute_result"
    }
   ],
   "source": [
    "modelo_01 = smf.logit(\"income ~ age + educational_num + capital_gains + capital_losses + hours_per_week + bin_wcr_federal_gov + bin_wcr_self_employed + bin_civstatus_widowed + bin_civstatus_separated + bin_civstatus_divorced + bin_civstatus_never_married + bin_collars_others + bin_collars_blue + bin_relation_other + bin_relation_wife + bin_relation_unmarried + bin_relation_own_child + bin_relation_not_in_fam + bin_race_ame_ind_esk + bin_race_black + bin_gender + bin_region_asia\", df).fit()\n",
    "modelo_01.summary()"
   ]
  },
  {
   "cell_type": "markdown",
   "metadata": {},
   "source": [
    "De este nuevo modelo se puede observar que todos los regresores son significativos, manteniendo prácticamente el mismo nivel de ajuste que el modelo anterior (R_nuevo = 0.4067, R_anterior = 0.4072), con menos variables."
   ]
  },
  {
   "cell_type": "code",
   "execution_count": 20,
   "metadata": {},
   "outputs": [
    {
     "name": "stdout",
     "output_type": "stream",
     "text": [
      "\n",
      "\n",
      "Goodness of Fit statistics\n",
      "         Statistics       Value\n",
      "2             BIC:  30292.1455\n",
      "3  Log-Likelihood:     -15023.\n",
      "4         LL-Null:     -25322.\n",
      "5     LLR p-value:      0.0000\n",
      "6           Scale:      1.0000\n",
      "7                             \n",
      "\n",
      "\n",
      "Point estimates\n",
      "\n",
      "                                 Coef.  Std.Err.\n",
      "Intercept                   -5.562821  0.125436\n",
      "age                          0.024763  0.001341\n",
      "educational_num              0.297648  0.007178\n",
      "capital_gains                0.000317  0.000009\n",
      "capital_losses               0.000655  0.000031\n",
      "hours_per_week               0.029490  0.001318\n",
      "bin_wcr_federal_gov          0.452313  0.074358\n",
      "bin_wcr_self_employed       -0.337211  0.041521\n",
      "bin_civstatus_widowed       -0.729849  0.175711\n",
      "bin_civstatus_separated     -0.842947  0.177940\n",
      "bin_civstatus_divorced      -0.819686  0.138112\n",
      "bin_civstatus_never_married -1.295842  0.136471\n",
      "bin_collars_others          -1.340064  0.085599\n",
      "bin_collars_blue            -0.615184  0.035021\n",
      "bin_relation_other          -1.402163  0.187428\n",
      "bin_relation_wife            1.058275  0.084018\n",
      "bin_relation_unmarried      -1.177538  0.150188\n",
      "bin_relation_own_child      -1.926138  0.166037\n",
      "bin_relation_not_in_fam     -0.941757  0.133640\n",
      "bin_race_ame_ind_esk        -0.568510  0.179172\n",
      "bin_race_black              -0.214928  0.062282\n",
      "bin_gender                  -0.795273  0.064121\n",
      "bin_region_asia             -0.271743  0.095683\n"
     ]
    }
   ],
   "source": [
    "concise_summary(modelo_01)"
   ]
  },
  {
   "cell_type": "markdown",
   "metadata": {},
   "source": [
    "Observemos, como se comportan los regresores del modelo, utilizando la funcion inversa para obtener el valor de la probabilidad de ingreso anual de un individuo:"
   ]
  },
  {
   "cell_type": "code",
   "execution_count": 21,
   "metadata": {},
   "outputs": [],
   "source": [
    "#creamos un dataframe auxiliar con cada variable y los valores de cada coeficiente, ordenados de menor a mayor\n",
    "\n",
    "regresor, coeficiente = [], []\n",
    "\n",
    "for i in range(len(modelo_01.params)):\n",
    "    regresor.append(modelo_01.params.index[i])\n",
    "    coeficiente.append(modelo_01.params.values[i])\n",
    "    \n",
    "df_auxiliar = pd.DataFrame({'regresor': regresor, 'coeficiente': coeficiente}).sort_values(by = ['coeficiente'])"
   ]
  },
  {
   "cell_type": "code",
   "execution_count": 22,
   "metadata": {},
   "outputs": [
    {
     "data": {
      "text/plain": [
       "<bound method NDFrame.head of                        regresor  coeficiente\n",
       "0                     Intercept    -5.562821\n",
       "1        bin_relation_own_child    -1.926138\n",
       "2            bin_relation_other    -1.402163\n",
       "3            bin_collars_others    -1.340064\n",
       "4   bin_civstatus_never_married    -1.295842\n",
       "5        bin_relation_unmarried    -1.177538\n",
       "6       bin_relation_not_in_fam    -0.941757\n",
       "7       bin_civstatus_separated    -0.842947\n",
       "8        bin_civstatus_divorced    -0.819686\n",
       "9                    bin_gender    -0.795273\n",
       "10        bin_civstatus_widowed    -0.729849\n",
       "11             bin_collars_blue    -0.615184\n",
       "12         bin_race_ame_ind_esk    -0.568510\n",
       "13        bin_wcr_self_employed    -0.337211\n",
       "14              bin_region_asia    -0.271743\n",
       "15               bin_race_black    -0.214928\n",
       "16                capital_gains     0.000317\n",
       "17               capital_losses     0.000655\n",
       "18                          age     0.024763\n",
       "19               hours_per_week     0.029490\n",
       "20              educational_num     0.297648\n",
       "21          bin_wcr_federal_gov     0.452313\n",
       "22            bin_relation_wife     1.058275>"
      ]
     },
     "execution_count": 22,
     "metadata": {},
     "output_type": "execute_result"
    }
   ],
   "source": [
    "df_auxiliar.reset_index(drop = True, inplace = True)\n",
    "df_auxiliar.head"
   ]
  },
  {
   "cell_type": "markdown",
   "metadata": {},
   "source": [
    "Calculamos el valor de la probabilidad de ocurrencia del ingreso promedio anual por sobre los USD50.000.- para cada coeficiente obtenido y lo graficamos:"
   ]
  },
  {
   "cell_type": "code",
   "execution_count": 23,
   "metadata": {},
   "outputs": [
    {
     "data": {
      "image/png": "[encoded data removed]",
      "text/plain": [
       "<Figure size 864x432 with 1 Axes>"
      ]
     },
     "metadata": {
      "needs_background": "light"
     },
     "output_type": "display_data"
    }
   ],
   "source": [
    "probabilidad = []\n",
    "\n",
    "for i in range(len(modelo_01.params)):\n",
    "    probabilidad.append(inverse_logit(df_auxiliar['coeficiente'][i]))\n",
    "\n",
    "plt.rcParams['figure.figsize'] = (12, 6)\n",
    "plt.plot(df_auxiliar['regresor'], probabilidad, 'o-', color = 'blue')\n",
    "plt.title(\"Inspección de la probabilidad obtenida\")\n",
    "plt.xticks(rotation = 90)\n",
    "plt.show()"
   ]
  },
  {
   "cell_type": "markdown",
   "metadata": {},
   "source": [
    "Del gráfico podemos observar que a medida que van creciendo los coeficientes mayor es la probabilidad de ocurrencia, por lo que podemos concluir que los factores que más contribuyen a la probabilidad de obtener un ingreso promedio anual por sobre los USD50.000.- son:\n",
    "- bin_relation_wife $\\rightarrow$ Tener esposa aumenta la probabilidad.\n",
    "- bin_wcr_federal_gov $\\rightarrow$ Trabajar en el gobierno federal aumenta la probabilidad.\n",
    "- educational_num $\\rightarrow$ El nivel educacional del individuo aumenta la probabilidad.\n",
    "  \n",
    "  \n",
    "Por otra parte, los factores que menos contribuyen a la probabilidad de obtener un ingreso promedio anual por sobre los USD50.000.- son:\n",
    "- bin_relation_own_child $\\rightarrow$ Tener hijo único disminuye la probabilidad.\n",
    "- bin_relation_other $\\rightarrow$ Tener familiar de otro tipo disminuye la probabilidad.\n",
    "- bin_collars_others $\\rightarrow$ Tener ocupación en las fuerzas armadas u otros servicios disminuye la probabilidad."
   ]
  },
  {
   "cell_type": "markdown",
   "metadata": {},
   "source": [
    "Para la modelación predictiva es necesario definir una estrategia:\n",
    "- En primer lugar debemos estandarizar la matriz de atributos.\n",
    "- Luego generaremos subconjuntos de entrenamiento y validación, separando el 33% de la muestra en el conjunto de validación.\n",
    "- Se implementarán 3 modelos:\n",
    "  - Saturado\n",
    "  - Depurado sin alterar los hiperparámetros\n",
    "  - Depurado alterando un hiperparámetro\n",
    "- Se generan y evalúan las métricas de cada modelo:\n",
    "  - Precisión\n",
    "  - Recall (Sensibilidad)\n",
    "  - f1 (Exactitud)\n",
    "  - ROC (Área bajo la curva, Ratio entre la tasa de verdaderos positivos y la tasa de falsos positivos)\n",
    "  - K-Fold (Validación cruzada, consistencia de la exactitud de los modelos ante diferentes muestras)"
   ]
  },
  {
   "cell_type": "markdown",
   "metadata": {},
   "source": [
    "## Modelación predictiva"
   ]
  },
  {
   "cell_type": "code",
   "execution_count": 24,
   "metadata": {},
   "outputs": [],
   "source": [
    "#Comenzamos con un modelo predictivo saturado\n",
    "\n",
    "y_vector = df['income']\n",
    "x_matriz = df.loc[:, ['age','educational_num','capital_gains','capital_losses','hours_per_week','bin_wcr_unemployed','bin_wcr_federal_gov','bin_wcr_statelevel_gov','bin_wcr_self_employed','bin_educr_preschool','bin_educr_elementary_sc','bin_educr_university','bin_educr_college','bin_civstatus_widowed','bin_civstatus_separated','bin_civstatus_divorced','bin_civstatus_never_married','bin_collars_others','bin_collars_blue','bin_relation_other','bin_relation_wife','bin_relation_unmarried','bin_relation_own_child','bin_relation_not_in_fam','bin_race_other','bin_race_ame_ind_esk','bin_race_asi_pac_isl','bin_race_black','bin_gender','bin_region_europa','bin_region_asia']]\n",
    "\n",
    "#Estandarizamos la matriz de atributos y generamos un subconjunto de entrenamiento y validación, separando el 33% de la muestra\n",
    "x_train, x_test, y_train, y_test = train_test_split(StandardScaler().fit_transform(x_matriz), y_vector, test_size = .33, random_state = 16110)\n",
    "\n",
    "#Implementamos el modelo sin alterar los hiperparámetros\n",
    "saturated_model = LogisticRegression().fit(x_train, y_train)"
   ]
  },
  {
   "cell_type": "code",
   "execution_count": 25,
   "metadata": {},
   "outputs": [],
   "source": [
    "y_hat_1 = saturated_model.predict(x_test)\n",
    "\n",
    "predicted_y_1 = saturated_model.predict_proba(x_test)"
   ]
  },
  {
   "cell_type": "code",
   "execution_count": 26,
   "metadata": {},
   "outputs": [
    {
     "data": {
      "text/plain": [
       "array([[10369,   878],\n",
       "       [ 1454,  2223]])"
      ]
     },
     "execution_count": 26,
     "metadata": {},
     "output_type": "execute_result"
    }
   ],
   "source": [
    "#Matriz de confusion\n",
    "\n",
    "confusion_matrix(y_test, y_hat_1)"
   ]
  },
  {
   "cell_type": "markdown",
   "metadata": {},
   "source": [
    "Como se puede observar, el modelo saturado predijo:\n",
    "- Positivos de manera correcta en 10.369 ocasiones y de manera incorrecta en 878.\n",
    "- Negativos de manera correcta en 2.223 ocasiones y de manera incorrecta en 1454."
   ]
  },
  {
   "cell_type": "code",
   "execution_count": 27,
   "metadata": {},
   "outputs": [
    {
     "data": {
      "text/plain": [
       "0.8437416242294291"
      ]
     },
     "execution_count": 27,
     "metadata": {},
     "output_type": "execute_result"
    }
   ],
   "source": [
    "accuracy_score(y_test, y_hat_1)"
   ]
  },
  {
   "cell_type": "markdown",
   "metadata": {},
   "source": [
    "La exactitud promedio es 84.37%, un 34.37% superior al desempeño de un clasificador aleatorio"
   ]
  },
  {
   "cell_type": "code",
   "execution_count": 28,
   "metadata": {},
   "outputs": [
    {
     "name": "stdout",
     "output_type": "stream",
     "text": [
      "              precision    recall  f1-score   support\n",
      "\n",
      "           0       0.88      0.92      0.90     11247\n",
      "           1       0.72      0.60      0.66      3677\n",
      "\n",
      "   micro avg       0.84      0.84      0.84     14924\n",
      "   macro avg       0.80      0.76      0.78     14924\n",
      "weighted avg       0.84      0.84      0.84     14924\n",
      "\n"
     ]
    }
   ],
   "source": [
    "print(classification_report(y_test, y_hat_1))"
   ]
  },
  {
   "cell_type": "markdown",
   "metadata": {},
   "source": [
    "Respecto a la precisión del modelo:\n",
    "- Para identificar los verdaderos negativos es del 88%. \n",
    "- Para identificar los verdaderos positivos tiene una precisión del 72%.\n",
    "  \n",
    "  \n",
    "Respecto a la métrica 'Recall':\n",
    "- El modelo identificó correctamente los verdaderos negativos el 92% de las ocasiones.\n",
    "- El modelo identificó correctamente los verdaderos positivos el 60% de las ocasiones.\n",
    "\n",
    "\n",
    "Respecto a la métrica 'f1-score':\n",
    "- La tasa de acierto para la identificación de verdaderos negativos es del 90%\n",
    "- La tasa de acierto para la identificación de verdaderos positivos es del 66%"
   ]
  },
  {
   "cell_type": "code",
   "execution_count": 29,
   "metadata": {},
   "outputs": [
    {
     "data": {
      "text/plain": [
       "Text(0.5, 0, 'Falsos positivos')"
      ]
     },
     "execution_count": 29,
     "metadata": {},
     "output_type": "execute_result"
    },
    {
     "data": {
      "image/png": "[encoded data removed]",
      "text/plain": [
       "<Figure size 864x432 with 1 Axes>"
      ]
     },
     "metadata": {
      "needs_background": "light"
     },
     "output_type": "display_data"
    }
   ],
   "source": [
    "y_hat_prob = saturated_model.predict_proba(x_test)[:,1]\n",
    "\n",
    "false_positive, true_positive, threshold = roc_curve(y_test, y_hat_prob)\n",
    "\n",
    "plt.plot(false_positive, true_positive)\n",
    "plt.plot([0, 1], linestyle = \"--\")\n",
    "plt.axhline(0.9, color = 'r')\n",
    "plt.ylabel (\"Verdaderos positivos\")\n",
    "plt.xlabel (\"Falsos positivos\")"
   ]
  },
  {
   "cell_type": "code",
   "execution_count": 30,
   "metadata": {},
   "outputs": [
    {
     "data": {
      "text/plain": [
       "0.8962373890463498"
      ]
     },
     "execution_count": 30,
     "metadata": {},
     "output_type": "execute_result"
    }
   ],
   "source": [
    "roc_auc_score(y_test, y_hat_prob)"
   ]
  },
  {
   "cell_type": "markdown",
   "metadata": {},
   "source": [
    "El área bajo la curva representa el 89,62%. Es decir, el ratio entre los verdaderos positivos y los verdaderos negativos es de 89,62% para el modelo saturado.\n"
   ]
  },
  {
   "cell_type": "code",
   "execution_count": 31,
   "metadata": {},
   "outputs": [
    {
     "name": "stdout",
     "output_type": "stream",
     "text": [
      "[0.64619679 0.65037853 0.65982906 0.6416406  0.66576179 0.65246716\n",
      " 0.66190476]\n",
      "\n",
      "\n",
      "0.6540255274309835 0.00814079622215028\n"
     ]
    }
   ],
   "source": [
    "#Validación cruzada para observar el desempeño del modelo ante distintas muestras y verificar su consistencia\n",
    "\n",
    "model_cv = cross_val_score(LogisticRegression(),  x_matriz, y_vector, cv = 7, scoring = 'f1')\n",
    "print(model_cv)\n",
    "print('\\n')\n",
    "#Analicemos la consistencia de los puntajes 'f1' (exactitud del modelo en la predicción)\n",
    "\n",
    "media, desviacion = np.mean(model_cv), np.std(model_cv)\n",
    "print(media, desviacion)"
   ]
  },
  {
   "cell_type": "markdown",
   "metadata": {},
   "source": [
    "La exactitud del modelo creado es bastante consistente, con una media de 65.40% y desviación estándar de 0.81%"
   ]
  },
  {
   "cell_type": "code",
   "execution_count": 32,
   "metadata": {},
   "outputs": [],
   "source": [
    "#Seguimos con un modelo predictivo depurado\n",
    "\n",
    "y_vector = df['income']\n",
    "x_matriz = df.loc[:, ['age','educational_num','capital_gains','capital_losses','hours_per_week','bin_wcr_federal_gov','bin_wcr_self_employed','bin_civstatus_widowed','bin_civstatus_separated','bin_civstatus_divorced','bin_civstatus_never_married','bin_collars_others','bin_collars_blue','bin_relation_other','bin_relation_wife','bin_relation_unmarried','bin_relation_own_child','bin_relation_not_in_fam','bin_race_ame_ind_esk','bin_race_black','bin_gender','bin_region_asia']]\n",
    "\n",
    "#Estandarizamos la matriz de atributos y generamos un subconjunto de entrenamiento y validación, separando el 33% de la muestra\n",
    "x_train, x_test, y_train, y_test = train_test_split(StandardScaler().fit_transform(x_matriz), y_vector, test_size = .33, random_state = 16110)\n",
    "\n",
    "#Implementamos el modelo sin alterar los hiperparámetros\n",
    "depurated_model = LogisticRegression().fit(x_train, y_train)"
   ]
  },
  {
   "cell_type": "code",
   "execution_count": 33,
   "metadata": {},
   "outputs": [],
   "source": [
    "y_hat_1 = depurated_model.predict(x_test)\n",
    "\n",
    "predicted_y_1 = depurated_model.predict_proba(x_test)"
   ]
  },
  {
   "cell_type": "code",
   "execution_count": 34,
   "metadata": {},
   "outputs": [
    {
     "data": {
      "text/plain": [
       "array([[10356,   891],\n",
       "       [ 1457,  2220]])"
      ]
     },
     "execution_count": 34,
     "metadata": {},
     "output_type": "execute_result"
    }
   ],
   "source": [
    "#Matriz de confusion\n",
    "\n",
    "confusion_matrix(y_test, y_hat_1)"
   ]
  },
  {
   "cell_type": "markdown",
   "metadata": {},
   "source": [
    "Como se puede observar, el modelo depurado predijo:\n",
    "- Positivos de manera correcta en 10.356 ocasiones y de manera incorrecta en 891.\n",
    "- Negativos de manera correcta en 2.220 ocasiones y de manera incorrecta en 1457.\n",
    "\n",
    "Bastante similar al modelo saturado"
   ]
  },
  {
   "cell_type": "code",
   "execution_count": 35,
   "metadata": {},
   "outputs": [
    {
     "data": {
      "text/plain": [
       "0.8426695255963549"
      ]
     },
     "execution_count": 35,
     "metadata": {},
     "output_type": "execute_result"
    }
   ],
   "source": [
    "accuracy_score(y_test, y_hat_1)"
   ]
  },
  {
   "cell_type": "markdown",
   "metadata": {},
   "source": [
    "La exactitud promedio es 84.27% (Similar al modelo saturado), un 34.27% superior al desempeño de un clasificador aleatorio"
   ]
  },
  {
   "cell_type": "code",
   "execution_count": 36,
   "metadata": {},
   "outputs": [
    {
     "name": "stdout",
     "output_type": "stream",
     "text": [
      "              precision    recall  f1-score   support\n",
      "\n",
      "           0       0.88      0.92      0.90     11247\n",
      "           1       0.71      0.60      0.65      3677\n",
      "\n",
      "   micro avg       0.84      0.84      0.84     14924\n",
      "   macro avg       0.80      0.76      0.78     14924\n",
      "weighted avg       0.84      0.84      0.84     14924\n",
      "\n"
     ]
    }
   ],
   "source": [
    "print(classification_report(y_test, y_hat_1))"
   ]
  },
  {
   "cell_type": "markdown",
   "metadata": {},
   "source": [
    "Respecto a la precisión del modelo:\n",
    "- Para identificar los verdaderos negativos es del 88%. \n",
    "- Para identificar los verdaderos positivos tiene una precisión del 71%.\n",
    "  \n",
    "  \n",
    "Respecto a la métrica 'Recall':\n",
    "- El modelo identificó correctamente los verdaderos negativos el 92% de las ocasiones.\n",
    "- El modelo identificó correctamente los verdaderos positivos el 60% de las ocasiones.\n",
    "\n",
    "\n",
    "Respecto a la métrica 'f1-score':\n",
    "- La tasa de acierto para la identificación de verdaderos negativos es del 90%\n",
    "- La tasa de acierto para la identificación de verdaderos positivos es del 65%"
   ]
  },
  {
   "cell_type": "code",
   "execution_count": 37,
   "metadata": {},
   "outputs": [
    {
     "data": {
      "text/plain": [
       "Text(0.5, 0, 'Falsos positivos')"
      ]
     },
     "execution_count": 37,
     "metadata": {},
     "output_type": "execute_result"
    },
    {
     "data": {
      "image/png": "[encoded data removed]",
      "text/plain": [
       "<Figure size 864x432 with 1 Axes>"
      ]
     },
     "metadata": {
      "needs_background": "light"
     },
     "output_type": "display_data"
    }
   ],
   "source": [
    "y_hat_prob = depurated_model.predict_proba(x_test)[:,1]\n",
    "\n",
    "false_positive, true_positive, threshold = roc_curve(y_test, y_hat_prob)\n",
    "\n",
    "plt.plot(false_positive, true_positive)\n",
    "plt.plot([0, 1], linestyle = \"--\")\n",
    "plt.axhline(0.9, color = 'r')\n",
    "plt.ylabel (\"Verdaderos positivos\")\n",
    "plt.xlabel (\"Falsos positivos\")"
   ]
  },
  {
   "cell_type": "code",
   "execution_count": 38,
   "metadata": {},
   "outputs": [
    {
     "data": {
      "text/plain": [
       "0.8965451615671531"
      ]
     },
     "execution_count": 38,
     "metadata": {},
     "output_type": "execute_result"
    }
   ],
   "source": [
    "roc_auc_score(y_test, y_hat_prob)"
   ]
  },
  {
   "cell_type": "markdown",
   "metadata": {},
   "source": [
    "El área bajo la curva representa el 89,65% (Un poco mejor que el modelo anterior). Es decir, el ratio entre los verdaderos positivos y los verdaderos negativos es de 89,65% para el modelo depurado."
   ]
  },
  {
   "cell_type": "code",
   "execution_count": 39,
   "metadata": {},
   "outputs": [
    {
     "name": "stdout",
     "output_type": "stream",
     "text": [
      "[0.64556522 0.65294925 0.66123004 0.64360587 0.66621484 0.65453273\n",
      " 0.6655348 ]\n",
      "\n",
      "\n",
      "0.6556618205924829 0.008415694362189688\n"
     ]
    }
   ],
   "source": [
    "#Validación cruzada para observar el desempeño del modelo ante distintas muestras y verificar su consistencia\n",
    "\n",
    "model_cv = cross_val_score(LogisticRegression(),  x_matriz, y_vector, cv = 7, scoring = 'f1')\n",
    "print(model_cv)\n",
    "print('\\n')\n",
    "#Analicemos la consistencia de los puntajes 'f1' (exactitud del modelo en la predicción)\n",
    "\n",
    "media, desviacion = np.mean(model_cv), np.std(model_cv)\n",
    "print(media, desviacion)"
   ]
  },
  {
   "cell_type": "markdown",
   "metadata": {},
   "source": [
    "La exactitud del modelo creado es bastante consistente, con una media de 65.56% y desviación estándar de 0.84%. Muy similar al modelo anterior"
   ]
  },
  {
   "cell_type": "code",
   "execution_count": 40,
   "metadata": {},
   "outputs": [
    {
     "data": {
      "text/plain": [
       "LogisticRegression(C=1.0, class_weight=None, dual=False, fit_intercept=False,\n",
       "          intercept_scaling=1, max_iter=100, multi_class='warn',\n",
       "          n_jobs=None, penalty='l2', random_state=None, solver='warn',\n",
       "          tol=0.0001, verbose=0, warm_start=False)"
      ]
     },
     "execution_count": 40,
     "metadata": {},
     "output_type": "execute_result"
    }
   ],
   "source": [
    "#Ahora con un modelo predictivo con variación en los hiperparámetros\n",
    "\n",
    "y_vector = df['income']\n",
    "x_matriz = df.loc[:, ['age','educational_num','capital_gains','capital_losses','hours_per_week','bin_wcr_federal_gov','bin_wcr_self_employed','bin_civstatus_widowed','bin_civstatus_separated','bin_civstatus_divorced','bin_civstatus_never_married','bin_collars_others','bin_collars_blue','bin_relation_other','bin_relation_wife','bin_relation_unmarried','bin_relation_own_child','bin_relation_not_in_fam','bin_race_ame_ind_esk','bin_race_black','bin_gender','bin_region_asia']]\n",
    "\n",
    "#Estandarizamos la matriz de atributos y generamos un subconjunto de entrenamiento y validación, separando el 33% de la muestra\n",
    "x_train, x_test, y_train, y_test = train_test_split(StandardScaler().fit_transform(x_matriz), y_vector, test_size = .33, random_state = 16110)\n",
    "\n",
    "#Implementamos el modelo sin el intercepto\n",
    "modifyed_model = LogisticRegression(fit_intercept = False)\n",
    "modifyed_model.fit(x_train, y_train)"
   ]
  },
  {
   "cell_type": "code",
   "execution_count": 41,
   "metadata": {},
   "outputs": [],
   "source": [
    "y_hat_1 = modifyed_model.predict(x_test)\n",
    "\n",
    "predicted_y_1 = modifyed_model.predict_proba(x_test)"
   ]
  },
  {
   "cell_type": "code",
   "execution_count": 42,
   "metadata": {},
   "outputs": [
    {
     "data": {
      "text/plain": [
       "array([[9712, 1535],\n",
       "       [1130, 2547]])"
      ]
     },
     "execution_count": 42,
     "metadata": {},
     "output_type": "execute_result"
    }
   ],
   "source": [
    "#Matriz de confusion\n",
    "\n",
    "confusion_matrix(y_test, y_hat_1)"
   ]
  },
  {
   "cell_type": "markdown",
   "metadata": {},
   "source": [
    "Como se puede observar, el modelo depurado sin intercepto predijo:\n",
    "- Positivos de manera correcta en 9.712 ocasiones y de manera incorrecta en 1535.\n",
    "- Negativos de manera correcta en 2.547 ocasiones y de manera incorrecta en 1130.\n",
    "\n",
    "Aumentaron los falsos positivos significativamente, por lo que se vislumbra un desempeño peor que modelo depurado con intercepto"
   ]
  },
  {
   "cell_type": "code",
   "execution_count": 43,
   "metadata": {},
   "outputs": [
    {
     "data": {
      "text/plain": [
       "0.8214285714285714"
      ]
     },
     "execution_count": 43,
     "metadata": {},
     "output_type": "execute_result"
    }
   ],
   "source": [
    "accuracy_score(y_test, y_hat_1)"
   ]
  },
  {
   "cell_type": "markdown",
   "metadata": {},
   "source": [
    "La exactitud promedio es 82.14% (Menor a los modelos anteriores), un 32.14% superior al desempeño de un clasificador aleatorio"
   ]
  },
  {
   "cell_type": "code",
   "execution_count": 44,
   "metadata": {},
   "outputs": [
    {
     "name": "stdout",
     "output_type": "stream",
     "text": [
      "              precision    recall  f1-score   support\n",
      "\n",
      "           0       0.90      0.86      0.88     11247\n",
      "           1       0.62      0.69      0.66      3677\n",
      "\n",
      "   micro avg       0.82      0.82      0.82     14924\n",
      "   macro avg       0.76      0.78      0.77     14924\n",
      "weighted avg       0.83      0.82      0.82     14924\n",
      "\n"
     ]
    }
   ],
   "source": [
    "print(classification_report(y_test, y_hat_1))"
   ]
  },
  {
   "cell_type": "markdown",
   "metadata": {},
   "source": [
    "Respecto a la precisión del modelo:\n",
    "- Para identificar los verdaderos negativos es del 88%. \n",
    "- Para identificar los verdaderos positivos tiene una precisión del 71%.\n",
    "  \n",
    "  \n",
    "Respecto a la métrica 'Recall':\n",
    "- El modelo identificó correctamente los verdaderos negativos el 92% de las ocasiones.\n",
    "- El modelo identificó correctamente los verdaderos positivos el 60% de las ocasiones.\n",
    "\n",
    "\n",
    "Respecto a la métrica 'f1-score':\n",
    "- La tasa de acierto para la identificación de verdaderos negativos es del 90%\n",
    "- La tasa de acierto para la identificación de verdaderos positivos es del 65%\n",
    "\n",
    "\n",
    "No se aprecian cambios respecto al modelo con intercepto"
   ]
  },
  {
   "cell_type": "code",
   "execution_count": 45,
   "metadata": {},
   "outputs": [
    {
     "data": {
      "text/plain": [
       "Text(0.5, 0, 'Falsos positivos')"
      ]
     },
     "execution_count": 45,
     "metadata": {},
     "output_type": "execute_result"
    },
    {
     "data": {
      "image/png": "[encoded data removed]",
      "text/plain": [
       "<Figure size 864x432 with 1 Axes>"
      ]
     },
     "metadata": {
      "needs_background": "light"
     },
     "output_type": "display_data"
    }
   ],
   "source": [
    "y_hat_prob = modifyed_model.predict_proba(x_test)[:,1]\n",
    "\n",
    "false_positive, true_positive, threshold = roc_curve(y_test, y_hat_prob)\n",
    "\n",
    "plt.plot(false_positive, true_positive)\n",
    "plt.plot([0, 1], linestyle = \"--\")\n",
    "plt.axhline(0.9, color = 'r')\n",
    "plt.ylabel (\"Verdaderos positivos\")\n",
    "plt.xlabel (\"Falsos positivos\")"
   ]
  },
  {
   "cell_type": "code",
   "execution_count": 46,
   "metadata": {},
   "outputs": [
    {
     "data": {
      "text/plain": [
       "0.8804982631091858"
      ]
     },
     "execution_count": 46,
     "metadata": {},
     "output_type": "execute_result"
    }
   ],
   "source": [
    "roc_auc_score(y_test, y_hat_prob)"
   ]
  },
  {
   "cell_type": "markdown",
   "metadata": {},
   "source": [
    "El área bajo la curva representa el 88,05% (Ligeramente peor que el modelo anterior). Es decir, el ratio entre los verdaderos positivos y los verdaderos negativos es de 88,05% para el modelo depurado sin intercepto."
   ]
  },
  {
   "cell_type": "code",
   "execution_count": 47,
   "metadata": {},
   "outputs": [
    {
     "name": "stdout",
     "output_type": "stream",
     "text": [
      "[0.64556522 0.65294925 0.66123004 0.64360587 0.66621484 0.65453273\n",
      " 0.6655348 ]\n",
      "\n",
      "\n",
      "0.6556618205924829 0.008415694362189688\n"
     ]
    }
   ],
   "source": [
    "#Validación cruzada para observar el desempeño del modelo ante distintas muestras y verificar su consistencia\n",
    "\n",
    "model_cv = cross_val_score(LogisticRegression(),  x_matriz, y_vector, cv = 7, scoring = 'f1')\n",
    "print(model_cv)\n",
    "print('\\n')\n",
    "#Analicemos la consistencia de los puntajes 'f1' (exactitud del modelo en la predicción)\n",
    "\n",
    "media, desviacion = np.mean(model_cv), np.std(model_cv)\n",
    "print(media, desviacion)"
   ]
  },
  {
   "cell_type": "markdown",
   "metadata": {},
   "source": [
    "La exactitud del modelo creado es bastante consistente, con una media de 65.57% y desviación estándar de 0.84%. Muy similar a los modelos anteriores."
   ]
  },
  {
   "cell_type": "markdown",
   "metadata": {},
   "source": [
    "De acuerdo a las métricas obtenidas para cada modelo:\n",
    "\n",
    "1) **Modelo Saturado**\n",
    "\n",
    "    - Matriz de confusión\n",
    "      [10369   878]\n",
    "      [1454   2223]\n",
    "\n",
    "    - Exactitud promedio = 84.37%\n",
    "\n",
    "    - Precisión, sensibilidad y exactitud\n",
    "\n",
    "           precision   recall   f1-score  support\n",
    "      0       0.88      0.92      0.90     11247\n",
    "      1       0.72      0.60      0.66      3677\n",
    "\n",
    "    - ROC = 89,62%\n",
    "    \n",
    "    - K-Fold = 65.40% +/- 0,81% \n",
    "  \n",
    "  \n",
    "2) **Modelo Depurado**\n",
    "\n",
    "    - Matriz de confusión\n",
    "      [10356    891]\n",
    "      [ 1457   2220]\n",
    "      \n",
    "    - Exactitud promedio = 84.27%\n",
    "\n",
    "    - Precisión, sensibilidad y exactitud\n",
    "\n",
    "           precision   recall   f1-score  support\n",
    "      0       0.88      0.92      0.90     11247\n",
    "      1       0.71      0.60      0.65      3677\n",
    "\n",
    "    - ROC = 89,65%\n",
    "    \n",
    "    - K-Fold = 65.56% +/- 0,84% \n",
    "  \n",
    "  \n",
    "3) **Modelo Depurado sin intercepto**\n",
    "\n",
    "    - Matriz de confusión\n",
    "      [9712   1535]\n",
    "      [1130   2547]\n",
    "      \n",
    "    - Exactitud promedio = 82.14%\n",
    "\n",
    "    - Precisión, sensibilidad y exactitud\n",
    "\n",
    "           precision   recall   f1-score  support\n",
    "      0       0.90      0.86      0.88     11247\n",
    "      1       0.62      0.69      0.66      3677\n",
    "\n",
    "    - ROC = 88,05%\n",
    "    \n",
    "    - K-Fold = 65.57% +/- 0,84%\n",
    "\n",
    "El modelo predictivo de mejor desempeño es el depurado con intercepto.\n",
    "- Mayor significancia en sus regresores\n",
    "- Prácticamente la misma precisión, sensibilidad y exactitud que modelo saturado y mejor exactitud que el modelo sin intercepto\n",
    "- Mejor ratio entre las tasas de verdaderos positivos y verdaderos negativos (ROC)\n",
    "- Prácticamente la misma consistencia en la exactitud ante distintas muestras que el modelo depurado sin intercepto y mejor que el modelo saturado"
   ]
  },
  {
   "cell_type": "code",
   "execution_count": null,
   "metadata": {},
   "outputs": [],
   "source": []
  }
 ],
 "metadata": {
  "kernelspec": {
   "display_name": "Python 3",
   "language": "python",
   "name": "python3"
  },
  "language_info": {
   "codemirror_mode": {
    "name": "ipython",
    "version": 3
   },
   "file_extension": ".py",
   "mimetype": "text/x-python",
   "name": "python",
   "nbconvert_exporter": "python",
   "pygments_lexer": "ipython3",
   "version": "3.7.3"
  }
 },
 "nbformat": 4,
 "nbformat_minor": 2
}

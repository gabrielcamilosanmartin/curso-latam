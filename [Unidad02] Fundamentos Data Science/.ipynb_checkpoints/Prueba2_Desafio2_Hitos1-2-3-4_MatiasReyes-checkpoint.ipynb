{
 "cells": [
  {
   "cell_type": "markdown",
   "metadata": {},
   "source": [
    "<h1><center> PRUEBA 2: FUNDAMENTOS DATA SCIENCE </center></h1>\n",
    "<h1><center> Desafío 2: Rendimiento escolar </center></h1>"
   ]
  },
  {
   "cell_type": "markdown",
   "metadata": {},
   "source": [
    "**Nombre:** Matias Reyes\n",
    "\n",
    "**Grupo:** VIP\n",
    "\n",
    "**Generación:** G4\n",
    "\n",
    "**Profesor:** Josue Fredes"
   ]
  },
  {
   "cell_type": "markdown",
   "metadata": {},
   "source": [
    "## Enunciado\n",
    "\n",
    "Lo contactan de una escuela Portuguesa para generar un modelo que identifique aquellos alumnos que presentan un bajo desempeño académico, medido en el promedio final del año escolar. Para ello le envían un archivo con registros sociodemográficos y conductuales de los alumnos dos escuelas para perfilar a los estudiantes.\n",
    "\n",
    "De manera adicional la psicopedagoga sugiere inspeccionar una batería de preguntas asociadas a aspectos ambientales del alumno (de famrel a health ) y ver si éstas se pueden abstraer en categorías latentes."
   ]
  },
  {
   "cell_type": "markdown",
   "metadata": {},
   "source": [
    "## Descripción de la base de datos\n",
    "\n",
    "Para responder esta pregunta deben utilizar el archivo students.csv.\n",
    "\n",
    "Las variables que componen la base se detallan a continuación:\n",
    "- **school**: Escuela del estudiante. (binaria: 'GP' - Gabriel Pereira o 'MS' - Mousinho da Silveira)\n",
    "- **sex**: Sexo del estudiante. (binaria: 'F' - Mujer o 'M' - Hombre)\n",
    "- **age**: Edad del estudiante. (numérica: de 15 a 22)\n",
    "- **address**: Ubicación de la casa del estudiante. (binaria: 'U' - urbana o 'R' - rural)\n",
    "- **famsize**: Tamaño de la familia. (binaria: 'LE3' - less or equal to 3 or 'GT3' - greater than 3)\n",
    "- **Pstatus**: Estado cohabitacional de los padres. (binaria: 'T' - cohabitando juntos o 'A' - viviendo separados)\n",
    "- **Medu**: Nivel educacional de la madre. (numérica: 0 - ninguno, 1 - educación básica (4to), 2 - de 5to a 9, 3 - educación media, o 4 - educación superior)\n",
    "- **Fedu**: Nivel educacional del padre. (numérica: 0 - ninguno, 1 - educación básica (4to), 2 - de 5to a 9, 3 - educación media, o 4 - educación superior)\n",
    "- **Mjob**: Ocupación de la madre. (nominal: 'teacher' profesora, 'health' relacionada a salud, 'services' (e.g. administración pública o policía), 'at_home' en casa u 'other' otra)\n",
    "- **Fjob**: Ocupación del padre (nominal: 'teacher' profesor, 'health' relacionado a salud, 'services' (e.g. administración pública o policía), 'at_home' en casa u 'other' otra)\n",
    "- **reason**: Razón para escoger la escuela (nominal: 'home' cercano a casa, 'reputation' reputación de la escuela, 'course' preferencia de cursos u 'other' otra)\n",
    "- **guardian**: Apoderado del estudiante (nominal: 'mother' madre, 'father' padre u 'other' otro)\n",
    "- **traveltime**: Tiempo de viaje entre hogar y colegio. (numeric: 1 - <15 min., 2 - 15 a 30 min., 3 - 30 min. a 1 hora, or 4 - >1 hora)\n",
    "- **studytime**: Horas semanales dedicadas al estudio. (numérica: 1 - <2 horas, 2 - 2 a 5 horas, 3 - 5 a 10 horas, o 4 - >10 horas)\n",
    "- **failures**: Número de clases reprobadas. (numérica: n si 1<=n<3, de lo contrario 4)\n",
    "- **schoolsup**: Apoyo educacional del colegio. (binaria: si o no)\n",
    "- **famsup**: Apoyo educacional familiar. (binaria: si o no)\n",
    "- **paid**: Clases particulares pagadas (matemáticas o portugués). (binaria: si o no)\n",
    "- **activities**: Actividades extracurriculares. (binaria: si o no)\n",
    "- **nursery**: Asistió a guardería infantil. (binaria: si o no)\n",
    "- **higher**: Desea proseguir estudios superiores. (binaria: si o no)\n",
    "- **internet**: Acceso a internet desde el hogar. (binaria: si o no)\n",
    "- **romantic**: Relación romántica. (binaria: si o no)\n",
    "- **famrel**: Calidad de las relaciones familiares. (numérica: de 1 - muy malas a 5 - excelentes)\n",
    "- **freetime**: Tiempo libre fuera del colegio. (numérica: de 1 - muy poco a 5 - mucho)\n",
    "- **goout**: Salidas con amigos. (numérica: de 1 - muy pocas a 5 - muchas)\n",
    "- **Dalc**: Consumo de alcohol en día de semana. (numérica: de 1 - muy bajo a 5 - muy alto)\n",
    "- **Walc**: Consumo de alcohol en fines de semana. (numérica: de 1 - muy bajo a 5 - muy alto)\n",
    "- **health**: Estado de salud actual. (numérica: from 1 - muy malo to 5 - muy bueno) \n",
    "- **absences**: Cantidad de ausencias escolares. (numérica: de 0 a 93)\n",
    "- **G1**: Notas durante el primer semestre. (numérica: de 0 a 20) **Este es uno de los vectores objetivos para el modelo descriptivo.**\n",
    "- **G2**: Notas durante el segundo semestre. (numérica: de 0 a 20) **Este es uno de los vectores objetivos para el modelo descriptivo.**\n",
    "- **G3**: Promedio final. (numérica: de 0 a 20) **Este es uno de los vectores objetivos para el modelo descriptivo y el vector a predecir en el modelo predictivo.**"
   ]
  },
  {
   "cell_type": "markdown",
   "metadata": {},
   "source": [
    "# Aspectos adicionales a considerar\n",
    "\n",
    "- La base de datos presenta una serie de anomalías. En la escuela no tienen buenas prácticas sobre cómo ingresar datos, por lo que existen datos perdidos que están registrados bajo tres categorías: **nulidade, sem validade, zero**. De manera adicional, hay 3 variables numéricas que se registraron como strings, cuya interpretación en **pandas** devuelve una estructura de datos genérica. Finalmente, la base está con un encoding distinto al normal y los delimitadores son distintos.\n",
    "  \n",
    "  \n",
    "- Para simplficar el análisis y su posterior inclusión en un modelo predictivo, se sugiere recodificar las variables binarias como 0 y 1. Se recomienda seguir en criterio de asignarle 1 a aquellas categorías minoritarias.\n",
    "  \n",
    "  \n",
    "- El procedimiento también debe aplicarse para aquelas variables nominales con más de 2 categorías siguiendo la misma lógica.\n",
    "  \n",
    "  \n",
    "- En la parte de modelación descriptiva, se deben generar modelos saturados por cada una de las notas registradas en **G1 , G2 y G3**.\n",
    "  \n",
    "  \n",
    "- Para la parte de modelación predictiva, se debe generar un modelo para predecir las notas en **G3**."
   ]
  },
  {
   "cell_type": "markdown",
   "metadata": {},
   "source": [
    "## Preliminares"
   ]
  },
  {
   "cell_type": "markdown",
   "metadata": {},
   "source": [
    "**1. Descripción del problema**\n",
    "\n",
    "Corresponde a un problema de Regresión, ya que debemos predecir el valor de variable 'G3' (promedio final del año escolar), para identificar aquellos alumnos que presentan un bajo desempeño académico. \n",
    "\n",
    "**2. Objetivos**\n",
    "  - Objetivo General: Predecir el comportamiento de variable 'G3', creando un modelo que estime los valores de 'G1' y 'G2', a partir de la base de datos 'students.csv'.\n",
    "    \n",
    "Objetivos Específicos:\n",
    "\n",
    "- Limpieza y descripcion univariada de la base de datos.\n",
    "- Análisis bivariado para G1, G2 y G3 con variables sociodemograficas para conocer su comportamiento.\n",
    "- Recodificacion de las variables para ser ingresadas al modelo (codificacion binaria)\n",
    "- Evaluar variables relevantes a usar para predictibilidad del modelo.\n",
    "- Establecer metricas de evaluación para mejora del modelo.\n",
    "- Definir modelo con mejor predictibilidad y establecer la solución con el mejor ajuste posible.\n",
    "\n",
    "3. Criterios de optimización y métricas de desempeño\n",
    "\n",
    "Lo primero a realizar es cambiar la forma de expresar información de base de datos. Para esto, se cambiará toda la información de texto a numeración desde el 1 hasta valor que corresponda. La clasificación se realizará según lo indicado en instrucciones de desafío.\n",
    "\n",
    "Posterior a las mejoras de pre-procesamiento, se determinarán las variables a seleccionar para conformar modelo predictivo. Esta selección se realizará en base a la significancia que aporten al modelo obtenido."
   ]
  },
  {
   "cell_type": "markdown",
   "metadata": {},
   "source": [
    "## Aspectos computacionales"
   ]
  },
  {
   "cell_type": "code",
   "execution_count": 1,
   "metadata": {},
   "outputs": [],
   "source": [
    "#1.- Librerías y módulos a implementar\n",
    "import numpy as np\n",
    "import pandas as pd\n",
    "import matplotlib.pyplot as plt\n",
    "import math\n",
    "import seaborn as sns\n",
    "plt.style.use('seaborn')\n",
    "import warnings\n",
    "warnings.filterwarnings(\"ignore\")\n",
    "import factor_analyzer as factor\n",
    "\n",
    "\n",
    "# scipy stats para simular\n",
    "import scipy.stats as stats\n",
    "# statsmodels para modelación\n",
    "import statsmodels.api as sm\n",
    "import statsmodels.formula.api as smf\n",
    "import missingno as msgn\n",
    "\n",
    "#Modelo predictivo\n",
    "from sklearn.linear_model import LogisticRegression\n",
    "from sklearn.linear_model import LinearRegression\n",
    "from sklearn.model_selection import train_test_split\n",
    "from sklearn import linear_model\n",
    "from sklearn.preprocessing import StandardScaler\n",
    "from sklearn.model_selection import train_test_split\n",
    "from sklearn.metrics import confusion_matrix\n",
    "\n",
    "#Métricas evaluación\n",
    "from sklearn.metrics import mean_squared_error, r2_score\n",
    "from sklearn.metrics import classification_report\n",
    "from sklearn.metrics import roc_curve\n",
    "from sklearn.metrics import roc_auc_score\n",
    "from sklearn.metrics import accuracy_score\n",
    "\n",
    "#Funcion para datos perdidos.\n",
    "#Le entregamos nuestro DataFrame y devuelve cantidad de datos perdidos por columna.\n",
    "#Las primeras 3 lineas de esta funcion cambia la codificacion de los datos perdidos NaN\n",
    "def datos_perdidos(DataFrame):\n",
    "    df[df==\"nulidade\"] = np.NaN\n",
    "    df[df==\"sem validade\"] = np.NaN\n",
    "    df[df==\"zero\"] = np.NaN\n",
    "    for i in range(df.shape[1]):\n",
    "        print(df.columns[i], ':', round(100 * df[df.columns[i]].isnull().sum() / df.shape[0], 2), '% de datos perdidos')\n",
    "    msgn.matrix(df)\n",
    "    return\n",
    "\n",
    "#Analisis de datos descriptivos. Le entregas un DataFrame y devuelve el analisis descriptivo de las variables.\n",
    "#Para las variables que tengan mas de 10 categorias de respuestas realiza analisis descriptivo y si son menos de 10 categorias entre los % por categoria\n",
    "def descriptivos(DataFrame):\n",
    "    for i in df:\n",
    "        if len(df[i].value_counts()) > 10:\n",
    "            print(df[i].describe(), \"\\n\")\n",
    "        else:\n",
    "            print(df[i].value_counts('%')*100, \"\\n\")\n",
    "    return\n",
    "\n",
    "#Funcion para graficar histograma. Le entregamos dataframe y variable y nos devuelve histograma con la media graficada.\n",
    "def histogramas (dataframe, var, sample_mean = False, true_mean = False):\n",
    "    columna = dataframe[var].dropna()\n",
    "    medias = round(columna.mean(), 2)\n",
    "    mediana = columna.median()\n",
    "    plt.hist(columna)\n",
    "    plt.axvline(medias, color=\"tomato\", label = \"Media {}\".format(medias), linestyle = \"-\")\n",
    "    plt.axvline(mediana, color = \"green\", label = \"Mediana {}\".format(mediana), linestyle = \"--\")\n",
    "    plt.title(var)\n",
    "    plt.legend()\n",
    "    print(\"La media de {} es {}, con una mediana de {}\".format(var, medias, mediana))\n",
    "    plt.show()\n",
    "    \n",
    "#Funcion para graficar variables categoricas con grafico de barras.   \n",
    "def graficar_categoricas (dataframe, var):\n",
    "    columna = dataframe[var].dropna()\n",
    "    sns.countplot(x = columna, data = dataframe, palette=\"Set3\")\n",
    "    plt.title(var)\n",
    "    plt.show()\n",
    "    \n",
    "#Funcion genera un resumen abreviado de los principales estadisticos de un modelo. Se le entrega un modelo y devuelve sus principales estadisticos\n",
    "#ingresar modelo  \n",
    "def concise_summary(mod, print_fit=True):\n",
    "\n",
    "    \n",
    "    fit = pd.DataFrame({'Statistics': mod.summary2().tables[0][2][2:], \n",
    "                        'Value':  mod.summary2().tables[0][3][2:]})\n",
    "    estimates = pd.DataFrame(mod.summary2().tables[1].loc[:, 'Coef.':'Std.Err.'])\n",
    "    if print_fit is True:\n",
    "        print(\"\\n\\nGoodness of Fit statistics\\n\", fit)\n",
    "        print(\"\\n\\nPoint estimates\\n\\n\", estimates)"
   ]
  },
  {
   "cell_type": "markdown",
   "metadata": {},
   "source": [
    "## Descripción"
   ]
  },
  {
   "cell_type": "code",
   "execution_count": 2,
   "metadata": {},
   "outputs": [
    {
     "data": {
      "text/html": [
       "<div>\n",
       "<style scoped>\n",
       "    .dataframe tbody tr th:only-of-type {\n",
       "        vertical-align: middle;\n",
       "    }\n",
       "\n",
       "    .dataframe tbody tr th {\n",
       "        vertical-align: top;\n",
       "    }\n",
       "\n",
       "    .dataframe thead th {\n",
       "        text-align: right;\n",
       "    }\n",
       "</style>\n",
       "<table border=\"1\" class=\"dataframe\">\n",
       "  <thead>\n",
       "    <tr style=\"text-align: right;\">\n",
       "      <th></th>\n",
       "      <th>Unnamed: 0</th>\n",
       "      <th>school</th>\n",
       "      <th>sex</th>\n",
       "      <th>age</th>\n",
       "      <th>address</th>\n",
       "      <th>famsize</th>\n",
       "      <th>Pstatus</th>\n",
       "      <th>Medu</th>\n",
       "      <th>Fedu</th>\n",
       "      <th>Mjob</th>\n",
       "      <th>...</th>\n",
       "      <th>famrel</th>\n",
       "      <th>freetime</th>\n",
       "      <th>goout</th>\n",
       "      <th>Dalc</th>\n",
       "      <th>Walc</th>\n",
       "      <th>health</th>\n",
       "      <th>absences</th>\n",
       "      <th>G1</th>\n",
       "      <th>G2</th>\n",
       "      <th>G3</th>\n",
       "    </tr>\n",
       "  </thead>\n",
       "  <tbody>\n",
       "    <tr>\n",
       "      <th>88</th>\n",
       "      <td>88</td>\n",
       "      <td>GP</td>\n",
       "      <td>M</td>\n",
       "      <td>\"16\"</td>\n",
       "      <td>U</td>\n",
       "      <td>GT3</td>\n",
       "      <td>T</td>\n",
       "      <td>2</td>\n",
       "      <td>2</td>\n",
       "      <td>services</td>\n",
       "      <td>...</td>\n",
       "      <td>4</td>\n",
       "      <td>4</td>\n",
       "      <td>\"2\"</td>\n",
       "      <td>1</td>\n",
       "      <td>1</td>\n",
       "      <td>\"3\"</td>\n",
       "      <td>12</td>\n",
       "      <td>11</td>\n",
       "      <td>10</td>\n",
       "      <td>10</td>\n",
       "    </tr>\n",
       "  </tbody>\n",
       "</table>\n",
       "<p>1 rows × 34 columns</p>\n",
       "</div>"
      ],
      "text/plain": [
       "    Unnamed: 0 school sex   age address famsize Pstatus Medu Fedu      Mjob  \\\n",
       "88          88     GP   M  \"16\"       U     GT3       T    2    2  services   \n",
       "\n",
       "    ... famrel freetime goout Dalc Walc health absences  G1  G2  G3  \n",
       "88  ...      4        4   \"2\"    1    1    \"3\"       12  11  10  10  \n",
       "\n",
       "[1 rows x 34 columns]"
      ]
     },
     "execution_count": 2,
     "metadata": {},
     "output_type": "execute_result"
    }
   ],
   "source": [
    "#Ingresamos base de datos y revisamos que contiene. Agregamos parametro sep \"|\" para que ingrese los valores por casilla.\n",
    "df = pd.read_csv('students.csv', sep = \"|\")\n",
    "df.sample()"
   ]
  },
  {
   "cell_type": "code",
   "execution_count": 3,
   "metadata": {},
   "outputs": [],
   "source": [
    "#Eliminamos la columna Unnamed: 0 y la agregamos a un nuevo objeto\n",
    "df = df.drop([\"Unnamed: 0\"],axis=1)"
   ]
  },
  {
   "cell_type": "markdown",
   "metadata": {},
   "source": [
    "## Datos perdidos"
   ]
  },
  {
   "cell_type": "code",
   "execution_count": 4,
   "metadata": {},
   "outputs": [
    {
     "name": "stdout",
     "output_type": "stream",
     "text": [
      "school : 1.27 % de datos perdidos\n",
      "sex : 0.76 % de datos perdidos\n",
      "age : 1.01 % de datos perdidos\n",
      "address : 0.51 % de datos perdidos\n",
      "famsize : 1.01 % de datos perdidos\n",
      "Pstatus : 1.52 % de datos perdidos\n",
      "Medu : 0.76 % de datos perdidos\n",
      "Fedu : 1.27 % de datos perdidos\n",
      "Mjob : 1.52 % de datos perdidos\n",
      "Fjob : 0.0 % de datos perdidos\n",
      "reason : 1.01 % de datos perdidos\n",
      "guardian : 1.01 % de datos perdidos\n",
      "traveltime : 0.76 % de datos perdidos\n",
      "studytime : 1.27 % de datos perdidos\n",
      "failures : 1.27 % de datos perdidos\n",
      "schoolsup : 2.03 % de datos perdidos\n",
      "famsup : 1.27 % de datos perdidos\n",
      "paid : 0.25 % de datos perdidos\n",
      "activities : 1.27 % de datos perdidos\n",
      "nursery : 1.52 % de datos perdidos\n",
      "higher : 1.52 % de datos perdidos\n",
      "internet : 0.76 % de datos perdidos\n",
      "romantic : 0.51 % de datos perdidos\n",
      "famrel : 1.27 % de datos perdidos\n",
      "freetime : 0.51 % de datos perdidos\n",
      "goout : 1.27 % de datos perdidos\n",
      "Dalc : 0.76 % de datos perdidos\n",
      "Walc : 1.27 % de datos perdidos\n",
      "health : 1.01 % de datos perdidos\n",
      "absences : 1.01 % de datos perdidos\n",
      "G1 : 1.01 % de datos perdidos\n",
      "G2 : 0.0 % de datos perdidos\n",
      "G3 : 0.76 % de datos perdidos\n"
     ]
    },
    {
     "data": {
      "image/png": "[encoded data removed]",
      "text/plain": [
       "<Figure size 1800x720 with 2 Axes>"
      ]
     },
     "metadata": {
      "needs_background": "light"
     },
     "output_type": "display_data"
    }
   ],
   "source": [
    "#Utilizamos nuestra funcion para datos perdidos.\n",
    "datos_perdidos(df)"
   ]
  },
  {
   "cell_type": "code",
   "execution_count": 5,
   "metadata": {},
   "outputs": [
    {
     "name": "stdout",
     "output_type": "stream",
     "text": [
      "school : 0.0 % de datos perdidos\n",
      "sex : 0.0 % de datos perdidos\n",
      "age : 0.0 % de datos perdidos\n",
      "address : 0.0 % de datos perdidos\n",
      "famsize : 0.0 % de datos perdidos\n",
      "Pstatus : 0.0 % de datos perdidos\n",
      "Medu : 0.0 % de datos perdidos\n",
      "Fedu : 0.0 % de datos perdidos\n",
      "Mjob : 0.0 % de datos perdidos\n",
      "Fjob : 0.0 % de datos perdidos\n",
      "reason : 0.0 % de datos perdidos\n",
      "guardian : 0.0 % de datos perdidos\n",
      "traveltime : 0.0 % de datos perdidos\n",
      "studytime : 0.0 % de datos perdidos\n",
      "failures : 0.0 % de datos perdidos\n",
      "schoolsup : 0.0 % de datos perdidos\n",
      "famsup : 0.0 % de datos perdidos\n",
      "paid : 0.0 % de datos perdidos\n",
      "activities : 0.0 % de datos perdidos\n",
      "nursery : 0.0 % de datos perdidos\n",
      "higher : 0.0 % de datos perdidos\n",
      "internet : 0.0 % de datos perdidos\n",
      "romantic : 0.0 % de datos perdidos\n",
      "famrel : 0.0 % de datos perdidos\n",
      "freetime : 0.0 % de datos perdidos\n",
      "goout : 0.0 % de datos perdidos\n",
      "Dalc : 0.0 % de datos perdidos\n",
      "Walc : 0.0 % de datos perdidos\n",
      "health : 0.0 % de datos perdidos\n",
      "absences : 0.0 % de datos perdidos\n",
      "G1 : 0.0 % de datos perdidos\n",
      "G2 : 0.0 % de datos perdidos\n",
      "G3 : 0.0 % de datos perdidos\n"
     ]
    },
    {
     "data": {
      "image/png": "[encoded data removed]",
      "text/plain": [
       "<Figure size 1800x720 with 2 Axes>"
      ]
     },
     "metadata": {
      "needs_background": "light"
     },
     "output_type": "display_data"
    }
   ],
   "source": [
    "#Luego de revisar los datos perdidos, los eliminamos y agregamos la base a un nuevo objeto. Revisamos que no queden NN.\n",
    "df = df.dropna()\n",
    "datos_perdidos(df)"
   ]
  },
  {
   "cell_type": "markdown",
   "metadata": {},
   "source": [
    "## Recodificacion de las variables numericas ingresadas como string para utilizar funcion descriptiva"
   ]
  },
  {
   "cell_type": "code",
   "execution_count": 6,
   "metadata": {},
   "outputs": [
    {
     "name": "stdout",
     "output_type": "stream",
     "text": [
      "school ['GP' 'MS']\n",
      "sex ['F' 'M']\n",
      "age ['\"17\"' '\"15\"' '\"16\"' '\"18\"' '\"19\"' '\"20\"' '\"21\"']\n",
      "address ['U' 'R']\n",
      "famsize ['GT3' 'LE3']\n",
      "Pstatus ['T' 'A']\n",
      "Medu ['1' '4' '2' '3' '0']\n",
      "Fedu ['1' '2' '3' '4' '0']\n",
      "Mjob ['at_home' 'health' 'services' 'other' 'teacher']\n",
      "Fjob ['other' 'services' 'teacher' 'health' 'at_home']\n",
      "reason ['course' 'home' 'reputation' 'other']\n",
      "guardian ['father' 'mother' 'other']\n",
      "traveltime ['1' '2' '3' '4']\n",
      "studytime ['2' '3' '1' '4']\n",
      "failures ['0' '3' '1' '2']\n",
      "schoolsup ['no' 'yes']\n",
      "famsup ['yes' 'no']\n",
      "paid ['no' 'yes']\n",
      "activities ['no' 'yes']\n",
      "nursery ['no' 'yes']\n",
      "higher ['yes' 'no']\n",
      "internet ['yes' 'no']\n",
      "romantic ['no' 'yes']\n",
      "famrel ['5' '3' '4' '2' '1']\n",
      "freetime ['3' '2' '4' '1' '5']\n",
      "goout ['\"3\"' '\"2\"' '\"4\"' '\"1\"' '\"5\"']\n",
      "Dalc ['1' '2' '3' '4' '5']\n",
      "Walc ['1' '2' '3' '4' '5']\n",
      "health ['\"3\"' '\"5\"' '\"1\"' '\"4\"' '\"2\"']\n",
      "absences ['4' '2' '10' '0' '6' '16' '7' '8' '25' '12' '54' '18' '14' '26' '20' '24'\n",
      " '28' '5' '13' '15' '22' '21' '1' '75' '30' '19' '11' '38' '3' '40' '9'\n",
      " '17']\n",
      "G1 ['5' '15' '12' '6' '16' '14' '10' '13' '8' '17' '7' '19' '11' '9' '18' '4']\n",
      "G2 [ 5 14 15 12 18 10 16 13  9  7  8 19 11  6 17  4  0]\n",
      "G3 ['6' '15' '11' '19' '12' '14' '16' '10' '5' '8' '17' '18' '13' '20' '7'\n",
      " '9' '0' '4']\n"
     ]
    }
   ],
   "source": [
    "#Para poder analizar descriptivamente nuestras variables numericas es necesaria una recodificacion.\n",
    "#Revisamos que valores debemos recodificar utilizando .unique()\n",
    "for i in df:\n",
    "    print(i, df[i].unique())"
   ]
  },
  {
   "cell_type": "code",
   "execution_count": 7,
   "metadata": {},
   "outputs": [],
   "source": [
    "#Reemplazamos los numeros ingresados como string por valores numericos.\n",
    "df.age.replace(to_replace = ['\"15\"','\"16\"','\"17\"','\"18\"','\"19\"','\"20\"','\"21\"'], \n",
    "                       value = [  15,    16,    17,    18,    19,    20,    21], inplace = True)\n",
    "\n",
    "df.goout.replace(to_replace = ['\"1\"','\"2\"','\"3\"','\"4\"','\"5\"'], \n",
    "                        value = [  1,    2,    3,    4,    5], inplace = True)\n",
    "\n",
    "df.health.replace(to_replace = ['\"1\"','\"2\"','\"3\"','\"4\"','\"5\"'], \n",
    "                         value = [   1,    2,    3,    4,    5], inplace = True)\n",
    "\n",
    "df.famrel.replace(to_replace = [\"1\",\"2\",\"3\",\"4\",\"5\"], \n",
    "                         value = [   1,    2,    3,    4,    5], inplace = True)\n",
    "\n",
    "df.freetime.replace(to_replace = [\"1\",\"2\",\"3\",\"4\",\"5\"], \n",
    "                         value = [1, 2, 3, 4, 5], inplace = True)\n",
    "df.Dalc.replace(to_replace = [\"1\",\"2\",\"3\",\"4\",\"5\"], \n",
    "                         value = [1, 2, 3, 4, 5], inplace = True)\n",
    "\n",
    "df.Walc.replace(to_replace = [\"1\",\"2\",\"3\",\"4\",\"5\"], \n",
    "                         value = [1, 2, 3, 4, 5], inplace = True)\n",
    "\n",
    "df.absences.replace(to_replace = ['4', '2', '10', '0', '6', '16', '7', '8', '25', '12', '54', '18', '14', '26', '20', '24',\n",
    "                                  '28', '5', '13', '15', '22', '21', '1', '75', '30', '19', '11', '38', '3', '40', '9', '17'], \n",
    "                         value = [4, 2, 10, 0, 6, 16, 7, 8, 25, 12, 54, 18, 14, 26, 20, 24, 28, 5, 13, 15, 22, 21, 1, 75, 30, 19, 11, 38, 3, 40, 9, 17], inplace = True)\n",
    "\n",
    "df.G1.replace(to_replace = ['5', '15', '12', '6', '16', '14', '10', '13', '8', '17', '7', '19', '11', '9', '18', '4'],\n",
    "              value = [5, 15, 12, 6, 16, 14, 10, 13, 8, 17, 7, 19, 11, 9, 18, 4], inplace = True)\n",
    "\n",
    "df.G3.replace(to_replace = ['6', '15', '11', '19', '12', '14', '16', '10', '5', '8', '17', '18', '13', '20', '7', '9', '0', '4'],\n",
    "              value = [6, 15, 11, 19, 12, 14, 16, 10, 5, 8, 17, 18, 13, 20, 7, 9, 0, 4], inplace = True)\n",
    "\n",
    "\n",
    "df.Medu.replace(to_replace = [\"1\",\"2\",\"3\",\"4\",\"5\"], \n",
    "                         value = [1, 2, 3, 4, 5], inplace = True)\n",
    "\n",
    "df.Fedu.replace(to_replace = [\"1\",\"2\",\"3\",\"4\",\"5\"], \n",
    "                         value = [1, 2, 3, 4, 5], inplace = True)\n",
    "\n",
    "df.traveltime.replace(to_replace = [\"1\",\"2\",\"3\",\"4\",\"5\"], \n",
    "                         value = [1, 2, 3, 4, 5], inplace = True)\n",
    "\n",
    "df.studytime.replace(to_replace = [\"1\",\"2\",\"3\",\"4\",\"5\"], \n",
    "                         value = [1, 2, 3, 4, 5], inplace = True)\n",
    "\n",
    "df.failures.replace(to_replace = [\"1\",\"2\",\"3\",\"4\",\"5\"], \n",
    "                         value = [1, 2, 3, 4, 5], inplace = True)\n",
    "\n",
    "df.reset_index(drop = True, inplace = True)"
   ]
  },
  {
   "cell_type": "markdown",
   "metadata": {},
   "source": [
    "## Analisis descriptivo de las variables previo a la recodificacion en binarias"
   ]
  },
  {
   "cell_type": "code",
   "execution_count": 8,
   "metadata": {},
   "outputs": [
    {
     "name": "stdout",
     "output_type": "stream",
     "text": [
      "GP    86.971831\n",
      "MS    13.028169\n",
      "Name: school, dtype: float64 \n",
      "\n",
      "F    51.760563\n",
      "M    48.239437\n",
      "Name: sex, dtype: float64 \n",
      "\n",
      "16    26.056338\n",
      "18    24.647887\n",
      "15    21.478873\n",
      "17    21.126761\n",
      "19     5.281690\n",
      "20     1.056338\n",
      "21     0.352113\n",
      "Name: age, dtype: float64 \n",
      "\n",
      "U    75.352113\n",
      "R    24.647887\n",
      "Name: address, dtype: float64 \n",
      "\n",
      "GT3    73.591549\n",
      "LE3    26.408451\n",
      "Name: famsize, dtype: float64 \n",
      "\n",
      "T    90.492958\n",
      "A     9.507042\n",
      "Name: Pstatus, dtype: float64 \n",
      "\n",
      "4    34.507042\n",
      "2    25.000000\n",
      "3    24.647887\n",
      "1    15.492958\n",
      "0     0.352113\n",
      "Name: Medu, dtype: float64 \n",
      "\n",
      "2    27.112676\n",
      "3    26.760563\n",
      "4    23.943662\n",
      "1    21.830986\n",
      "0     0.352113\n",
      "Name: Fedu, dtype: float64 \n",
      "\n",
      "other       36.267606\n",
      "services    23.943662\n",
      "teacher     15.492958\n",
      "at_home     15.140845\n",
      "health       9.154930\n",
      "Name: Mjob, dtype: float64 \n",
      "\n",
      "other       55.985915\n",
      "services    28.169014\n",
      "teacher      7.394366\n",
      "health       4.577465\n",
      "at_home      3.873239\n",
      "Name: Fjob, dtype: float64 \n",
      "\n",
      "course        35.915493\n",
      "home          27.464789\n",
      "reputation    27.112676\n",
      "other          9.507042\n",
      "Name: reason, dtype: float64 \n",
      "\n",
      "mother    70.422535\n",
      "father    21.126761\n",
      "other      8.450704\n",
      "Name: guardian, dtype: float64 \n",
      "\n",
      "1    62.323944\n",
      "2    29.577465\n",
      "3     6.338028\n",
      "4     1.760563\n",
      "Name: traveltime, dtype: float64 \n",
      "\n",
      "2    48.943662\n",
      "1    26.408451\n",
      "3    17.957746\n",
      "4     6.690141\n",
      "Name: studytime, dtype: float64 \n",
      "\n",
      "0    78.521127\n",
      "1    13.028169\n",
      "2     4.929577\n",
      "3     3.521127\n",
      "Name: failures, dtype: float64 \n",
      "\n",
      "no     86.619718\n",
      "yes    13.380282\n",
      "Name: schoolsup, dtype: float64 \n",
      "\n",
      "yes    61.267606\n",
      "no     38.732394\n",
      "Name: famsup, dtype: float64 \n",
      "\n",
      "no     55.633803\n",
      "yes    44.366197\n",
      "Name: paid, dtype: float64 \n",
      "\n",
      "yes    52.112676\n",
      "no     47.887324\n",
      "Name: activities, dtype: float64 \n",
      "\n",
      "yes    78.521127\n",
      "no     21.478873\n",
      "Name: nursery, dtype: float64 \n",
      "\n",
      "yes    94.71831\n",
      "no      5.28169\n",
      "Name: higher, dtype: float64 \n",
      "\n",
      "yes    81.338028\n",
      "no     18.661972\n",
      "Name: internet, dtype: float64 \n",
      "\n",
      "no     66.549296\n",
      "yes    33.450704\n",
      "Name: romantic, dtype: float64 \n",
      "\n",
      "4    51.056338\n",
      "5    25.704225\n",
      "3    16.549296\n",
      "2     4.929577\n",
      "1     1.760563\n",
      "Name: famrel, dtype: float64 \n",
      "\n",
      "3    40.140845\n",
      "4    26.760563\n",
      "2    17.253521\n",
      "5    10.211268\n",
      "1     5.633803\n",
      "Name: freetime, dtype: float64 \n",
      "\n",
      "3    35.563380\n",
      "2    26.760563\n",
      "4    20.422535\n",
      "5    12.323944\n",
      "1     4.929577\n",
      "Name: goout, dtype: float64 \n",
      "\n",
      "1    69.718310\n",
      "2    18.661972\n",
      "3     7.042254\n",
      "4     2.816901\n",
      "5     1.760563\n",
      "Name: Dalc, dtype: float64 \n",
      "\n",
      "1    40.845070\n",
      "2    20.422535\n",
      "3    19.014085\n",
      "4    13.380282\n",
      "5     6.338028\n",
      "Name: Walc, dtype: float64 \n",
      "\n",
      "5    36.619718\n",
      "3    25.704225\n",
      "4    18.309859\n",
      "2     9.859155\n",
      "1     9.507042\n",
      "Name: health, dtype: float64 \n",
      "\n",
      "count    284.000000\n",
      "mean       5.588028\n",
      "std        8.156335\n",
      "min        0.000000\n",
      "25%        0.000000\n",
      "50%        4.000000\n",
      "75%        7.000000\n",
      "max       75.000000\n",
      "Name: absences, dtype: float64 \n",
      "\n",
      "count    284.000000\n",
      "mean      10.933099\n",
      "std        3.289199\n",
      "min        4.000000\n",
      "25%        8.000000\n",
      "50%       11.000000\n",
      "75%       13.000000\n",
      "max       19.000000\n",
      "Name: G1, dtype: float64 \n",
      "\n",
      "count    284.000000\n",
      "mean      10.640845\n",
      "std        3.789220\n",
      "min        0.000000\n",
      "25%        9.000000\n",
      "50%       10.500000\n",
      "75%       13.000000\n",
      "max       19.000000\n",
      "Name: G2, dtype: float64 \n",
      "\n",
      "count    284.000000\n",
      "mean      10.394366\n",
      "std        4.565902\n",
      "min        0.000000\n",
      "25%        8.000000\n",
      "50%       11.000000\n",
      "75%       13.000000\n",
      "max       20.000000\n",
      "Name: G3, dtype: float64 \n",
      "\n"
     ]
    }
   ],
   "source": [
    "#Luego de nuestra recodificacion podemos aplicar la funcion descriptivos\n",
    "descriptivos(df)"
   ]
  },
  {
   "cell_type": "markdown",
   "metadata": {},
   "source": [
    "## Visualizacion de las variables"
   ]
  },
  {
   "cell_type": "code",
   "execution_count": 9,
   "metadata": {},
   "outputs": [
    {
     "name": "stdout",
     "output_type": "stream",
     "text": [
      "La media de age es 16.71, con una mediana de 17.0\n"
     ]
    },
    {
     "data": {
      "image/png": "[encoded data removed]",
      "text/plain": [
       "<Figure size 432x288 with 1 Axes>"
      ]
     },
     "metadata": {
      "needs_background": "light"
     },
     "output_type": "display_data"
    },
    {
     "name": "stdout",
     "output_type": "stream",
     "text": [
      "La media de goout es 3.08, con una mediana de 3.0\n"
     ]
    },
    {
     "data": {
      "image/png": "[encoded data removed]",
      "text/plain": [
       "<Figure size 432x288 with 1 Axes>"
      ]
     },
     "metadata": {
      "needs_background": "light"
     },
     "output_type": "display_data"
    },
    {
     "name": "stdout",
     "output_type": "stream",
     "text": [
      "La media de health es 3.63, con una mediana de 4.0\n"
     ]
    },
    {
     "data": {
      "image/png": "[encoded data removed]",
      "text/plain": [
       "<Figure size 432x288 with 1 Axes>"
      ]
     },
     "metadata": {
      "needs_background": "light"
     },
     "output_type": "display_data"
    },
    {
     "name": "stdout",
     "output_type": "stream",
     "text": [
      "La media de famrel es 3.94, con una mediana de 4.0\n"
     ]
    },
    {
     "data": {
      "image/png": "[encoded data removed]",
      "text/plain": [
       "<Figure size 432x288 with 1 Axes>"
      ]
     },
     "metadata": {
      "needs_background": "light"
     },
     "output_type": "display_data"
    },
    {
     "name": "stdout",
     "output_type": "stream",
     "text": [
      "La media de freetime es 3.19, con una mediana de 3.0\n"
     ]
    },
    {
     "data": {
      "image/png": "[encoded data removed]",
      "text/plain": [
       "<Figure size 432x288 with 1 Axes>"
      ]
     },
     "metadata": {
      "needs_background": "light"
     },
     "output_type": "display_data"
    },
    {
     "name": "stdout",
     "output_type": "stream",
     "text": [
      "La media de Dalc es 1.48, con una mediana de 1.0\n"
     ]
    },
    {
     "data": {
      "image/png": "[encoded data removed]",
      "text/plain": [
       "<Figure size 432x288 with 1 Axes>"
      ]
     },
     "metadata": {
      "needs_background": "light"
     },
     "output_type": "display_data"
    },
    {
     "name": "stdout",
     "output_type": "stream",
     "text": [
      "La media de Walc es 2.24, con una mediana de 2.0\n"
     ]
    },
    {
     "data": {
      "image/png": "[encoded data removed]",
      "text/plain": [
       "<Figure size 432x288 with 1 Axes>"
      ]
     },
     "metadata": {
      "needs_background": "light"
     },
     "output_type": "display_data"
    },
    {
     "name": "stdout",
     "output_type": "stream",
     "text": [
      "La media de absences es 5.59, con una mediana de 4.0\n"
     ]
    },
    {
     "data": {
      "image/png": "[encoded data removed]",
      "text/plain": [
       "<Figure size 432x288 with 1 Axes>"
      ]
     },
     "metadata": {
      "needs_background": "light"
     },
     "output_type": "display_data"
    },
    {
     "name": "stdout",
     "output_type": "stream",
     "text": [
      "La media de G1 es 10.93, con una mediana de 11.0\n"
     ]
    },
    {
     "data": {
      "image/png": "[encoded data removed]",
      "text/plain": [
       "<Figure size 432x288 with 1 Axes>"
      ]
     },
     "metadata": {
      "needs_background": "light"
     },
     "output_type": "display_data"
    },
    {
     "name": "stdout",
     "output_type": "stream",
     "text": [
      "La media de G2 es 10.64, con una mediana de 10.5\n"
     ]
    },
    {
     "data": {
      "image/png": "[encoded data removed]",
      "text/plain": [
       "<Figure size 432x288 with 1 Axes>"
      ]
     },
     "metadata": {
      "needs_background": "light"
     },
     "output_type": "display_data"
    },
    {
     "name": "stdout",
     "output_type": "stream",
     "text": [
      "La media de G3 es 10.39, con una mediana de 11.0\n"
     ]
    },
    {
     "data": {
      "image/png": "[encoded data removed]",
      "text/plain": [
       "<Figure size 432x288 with 1 Axes>"
      ]
     },
     "metadata": {
      "needs_background": "light"
     },
     "output_type": "display_data"
    },
    {
     "name": "stdout",
     "output_type": "stream",
     "text": [
      "La media de G3 es 10.39, con una mediana de 11.0\n"
     ]
    },
    {
     "data": {
      "image/png": "[encoded data removed]",
      "text/plain": [
       "<Figure size 432x288 with 1 Axes>"
      ]
     },
     "metadata": {
      "needs_background": "light"
     },
     "output_type": "display_data"
    }
   ],
   "source": [
    "#Utilizamos nuestras funciones para graficas las variables numericas con histogramas y las variables categoricas con grafico de barras\n",
    "histogramas(df, \"age\")\n",
    "histogramas(df, \"goout\")\n",
    "histogramas(df, \"health\")\n",
    "histogramas(df, \"famrel\")\n",
    "histogramas(df, \"freetime\")\n",
    "histogramas(df, \"Dalc\")\n",
    "histogramas(df, \"Walc\")\n",
    "histogramas(df, \"absences\")\n",
    "histogramas(df, \"G1\")\n",
    "histogramas(df, \"G2\")\n",
    "histogramas(df, \"G3\")\n",
    "histogramas(df, \"G3\")"
   ]
  },
  {
   "cell_type": "code",
   "execution_count": 10,
   "metadata": {},
   "outputs": [
    {
     "data": {
      "image/png": "[encoded data removed]",
      "text/plain": [
       "<Figure size 432x288 with 1 Axes>"
      ]
     },
     "metadata": {
      "needs_background": "light"
     },
     "output_type": "display_data"
    },
    {
     "data": {
      "image/png": "[encoded data removed]",
      "text/plain": [
       "<Figure size 432x288 with 1 Axes>"
      ]
     },
     "metadata": {
      "needs_background": "light"
     },
     "output_type": "display_data"
    },
    {
     "data": {
      "image/png": "[encoded data removed]",
      "text/plain": [
       "<Figure size 432x288 with 1 Axes>"
      ]
     },
     "metadata": {
      "needs_background": "light"
     },
     "output_type": "display_data"
    },
    {
     "data": {
      "image/png": "[encoded data removed]",
      "text/plain": [
       "<Figure size 432x288 with 1 Axes>"
      ]
     },
     "metadata": {
      "needs_background": "light"
     },
     "output_type": "display_data"
    },
    {
     "data": {
      "image/png": "[encoded data removed]",
      "text/plain": [
       "<Figure size 432x288 with 1 Axes>"
      ]
     },
     "metadata": {
      "needs_background": "light"
     },
     "output_type": "display_data"
    },
    {
     "data": {
      "image/png": "[encoded data removed]",
      "text/plain": [
       "<Figure size 432x288 with 1 Axes>"
      ]
     },
     "metadata": {
      "needs_background": "light"
     },
     "output_type": "display_data"
    },
    {
     "data": {
      "image/png": "[encoded data removed]",
      "text/plain": [
       "<Figure size 432x288 with 1 Axes>"
      ]
     },
     "metadata": {
      "needs_background": "light"
     },
     "output_type": "display_data"
    },
    {
     "data": {
      "image/png": "[encoded data removed]",
      "text/plain": [
       "<Figure size 432x288 with 1 Axes>"
      ]
     },
     "metadata": {
      "needs_background": "light"
     },
     "output_type": "display_data"
    },
    {
     "data": {
      "image/png": "[encoded data removed]",
      "text/plain": [
       "<Figure size 432x288 with 1 Axes>"
      ]
     },
     "metadata": {
      "needs_background": "light"
     },
     "output_type": "display_data"
    },
    {
     "data": {
      "image/png": "[encoded data removed]",
      "text/plain": [
       "<Figure size 432x288 with 1 Axes>"
      ]
     },
     "metadata": {
      "needs_background": "light"
     },
     "output_type": "display_data"
    },
    {
     "data": {
      "image/png": "[encoded data removed]",
      "text/plain": [
       "<Figure size 432x288 with 1 Axes>"
      ]
     },
     "metadata": {
      "needs_background": "light"
     },
     "output_type": "display_data"
    },
    {
     "data": {
      "image/png": "[encoded data removed]",
      "text/plain": [
       "<Figure size 432x288 with 1 Axes>"
      ]
     },
     "metadata": {
      "needs_background": "light"
     },
     "output_type": "display_data"
    },
    {
     "data": {
      "image/png": "[encoded data removed]",
      "text/plain": [
       "<Figure size 432x288 with 1 Axes>"
      ]
     },
     "metadata": {
      "needs_background": "light"
     },
     "output_type": "display_data"
    },
    {
     "data": {
      "image/png": "[encoded data removed]",
      "text/plain": [
       "<Figure size 432x288 with 1 Axes>"
      ]
     },
     "metadata": {
      "needs_background": "light"
     },
     "output_type": "display_data"
    },
    {
     "data": {
      "image/png": "[encoded data removed]",
      "text/plain": [
       "<Figure size 432x288 with 1 Axes>"
      ]
     },
     "metadata": {
      "needs_background": "light"
     },
     "output_type": "display_data"
    },
    {
     "data": {
      "image/png": "[encoded data removed]",
      "text/plain": [
       "<Figure size 432x288 with 1 Axes>"
      ]
     },
     "metadata": {
      "needs_background": "light"
     },
     "output_type": "display_data"
    },
    {
     "data": {
      "image/png": "[encoded data removed]",
      "text/plain": [
       "<Figure size 432x288 with 1 Axes>"
      ]
     },
     "metadata": {
      "needs_background": "light"
     },
     "output_type": "display_data"
    },
    {
     "data": {
      "image/png": "[encoded data removed]",
      "text/plain": [
       "<Figure size 432x288 with 1 Axes>"
      ]
     },
     "metadata": {
      "needs_background": "light"
     },
     "output_type": "display_data"
    },
    {
     "data": {
      "image/png": "[encoded data removed]",
      "text/plain": [
       "<Figure size 432x288 with 1 Axes>"
      ]
     },
     "metadata": {
      "needs_background": "light"
     },
     "output_type": "display_data"
    },
    {
     "data": {
      "image/png": "[encoded data removed]",
      "text/plain": [
       "<Figure size 432x288 with 1 Axes>"
      ]
     },
     "metadata": {
      "needs_background": "light"
     },
     "output_type": "display_data"
    },
    {
     "data": {
      "image/png": "[encoded data removed]",
      "text/plain": [
       "<Figure size 432x288 with 1 Axes>"
      ]
     },
     "metadata": {
      "needs_background": "light"
     },
     "output_type": "display_data"
    },
    {
     "data": {
      "image/png": "[encoded data removed]",
      "text/plain": [
       "<Figure size 432x288 with 1 Axes>"
      ]
     },
     "metadata": {
      "needs_background": "light"
     },
     "output_type": "display_data"
    },
    {
     "data": {
      "image/png": "[encoded data removed]",
      "text/plain": [
       "<Figure size 432x288 with 1 Axes>"
      ]
     },
     "metadata": {
      "needs_background": "light"
     },
     "output_type": "display_data"
    }
   ],
   "source": [
    "#Utilizamos graficar_categoricas para visualizar las que tengan menos de 10 categorias de respuestas.\n",
    "graficar_categoricas(df, \"school\")\n",
    "graficar_categoricas(df, \"sex\")\n",
    "graficar_categoricas(df, \"address\")\n",
    "graficar_categoricas(df, \"famsize\")\n",
    "graficar_categoricas(df, \"school\")\n",
    "graficar_categoricas(df, \"Pstatus\")\n",
    "graficar_categoricas(df, \"Medu\")\n",
    "graficar_categoricas(df, \"Fedu\")\n",
    "graficar_categoricas(df, \"Fjob\")\n",
    "graficar_categoricas(df, \"reason\")\n",
    "graficar_categoricas(df, \"guardian\")\n",
    "graficar_categoricas(df, \"traveltime\")\n",
    "graficar_categoricas(df, \"studytime\")\n",
    "graficar_categoricas(df, \"failures\")\n",
    "graficar_categoricas(df, \"schoolsup\")\n",
    "graficar_categoricas(df, \"famsup\")\n",
    "graficar_categoricas(df, \"paid\")\n",
    "graficar_categoricas(df, \"activities\")\n",
    "graficar_categoricas(df, \"nursery\")\n",
    "graficar_categoricas(df, \"higher\")\n",
    "graficar_categoricas(df, \"internet\")\n",
    "graficar_categoricas(df, \"romantic\")\n",
    "graficar_categoricas(df, \"school\")"
   ]
  },
  {
   "cell_type": "markdown",
   "metadata": {},
   "source": [
    "## Binarizamos las variables"
   ]
  },
  {
   "cell_type": "code",
   "execution_count": 11,
   "metadata": {},
   "outputs": [
    {
     "name": "stdout",
     "output_type": "stream",
     "text": [
      "school GP    247\n",
      "MS     37\n",
      "Name: school, dtype: int64\n",
      "sex F    147\n",
      "M    137\n",
      "Name: sex, dtype: int64\n",
      "age 16    74\n",
      "18    70\n",
      "15    61\n",
      "17    60\n",
      "19    15\n",
      "20     3\n",
      "21     1\n",
      "Name: age, dtype: int64\n",
      "address U    214\n",
      "R     70\n",
      "Name: address, dtype: int64\n",
      "famsize GT3    209\n",
      "LE3     75\n",
      "Name: famsize, dtype: int64\n",
      "Pstatus T    257\n",
      "A     27\n",
      "Name: Pstatus, dtype: int64\n",
      "Medu 4    98\n",
      "2    71\n",
      "3    70\n",
      "1    44\n",
      "0     1\n",
      "Name: Medu, dtype: int64\n",
      "Fedu 2    77\n",
      "3    76\n",
      "4    68\n",
      "1    62\n",
      "0     1\n",
      "Name: Fedu, dtype: int64\n",
      "Mjob other       103\n",
      "services     68\n",
      "teacher      44\n",
      "at_home      43\n",
      "health       26\n",
      "Name: Mjob, dtype: int64\n",
      "Fjob other       159\n",
      "services     80\n",
      "teacher      21\n",
      "health       13\n",
      "at_home      11\n",
      "Name: Fjob, dtype: int64\n",
      "reason course        102\n",
      "home           78\n",
      "reputation     77\n",
      "other          27\n",
      "Name: reason, dtype: int64\n",
      "guardian mother    200\n",
      "father     60\n",
      "other      24\n",
      "Name: guardian, dtype: int64\n",
      "traveltime 1    177\n",
      "2     84\n",
      "3     18\n",
      "4      5\n",
      "Name: traveltime, dtype: int64\n",
      "studytime 2    139\n",
      "1     75\n",
      "3     51\n",
      "4     19\n",
      "Name: studytime, dtype: int64\n",
      "failures 0    223\n",
      "1     37\n",
      "2     14\n",
      "3     10\n",
      "Name: failures, dtype: int64\n",
      "schoolsup no     246\n",
      "yes     38\n",
      "Name: schoolsup, dtype: int64\n",
      "famsup yes    174\n",
      "no     110\n",
      "Name: famsup, dtype: int64\n",
      "paid no     158\n",
      "yes    126\n",
      "Name: paid, dtype: int64\n",
      "activities yes    148\n",
      "no     136\n",
      "Name: activities, dtype: int64\n",
      "nursery yes    223\n",
      "no      61\n",
      "Name: nursery, dtype: int64\n",
      "higher yes    269\n",
      "no      15\n",
      "Name: higher, dtype: int64\n",
      "internet yes    231\n",
      "no      53\n",
      "Name: internet, dtype: int64\n",
      "romantic no     189\n",
      "yes     95\n",
      "Name: romantic, dtype: int64\n",
      "famrel 4    145\n",
      "5     73\n",
      "3     47\n",
      "2     14\n",
      "1      5\n",
      "Name: famrel, dtype: int64\n",
      "freetime 3    114\n",
      "4     76\n",
      "2     49\n",
      "5     29\n",
      "1     16\n",
      "Name: freetime, dtype: int64\n",
      "goout 3    101\n",
      "2     76\n",
      "4     58\n",
      "5     35\n",
      "1     14\n",
      "Name: goout, dtype: int64\n",
      "Dalc 1    198\n",
      "2     53\n",
      "3     20\n",
      "4      8\n",
      "5      5\n",
      "Name: Dalc, dtype: int64\n",
      "Walc 1    116\n",
      "2     58\n",
      "3     54\n",
      "4     38\n",
      "5     18\n",
      "Name: Walc, dtype: int64\n",
      "health 5    104\n",
      "3     73\n",
      "4     52\n",
      "2     28\n",
      "1     27\n",
      "Name: health, dtype: int64\n",
      "absences 0     81\n",
      "2     50\n",
      "4     41\n",
      "6     23\n",
      "8     13\n",
      "10    12\n",
      "14     6\n",
      "7      6\n",
      "3      5\n",
      "5      5\n",
      "12     5\n",
      "18     5\n",
      "1      3\n",
      "11     3\n",
      "13     3\n",
      "15     3\n",
      "16     3\n",
      "20     2\n",
      "9      2\n",
      "54     1\n",
      "17     1\n",
      "19     1\n",
      "21     1\n",
      "22     1\n",
      "24     1\n",
      "25     1\n",
      "26     1\n",
      "28     1\n",
      "30     1\n",
      "38     1\n",
      "40     1\n",
      "75     1\n",
      "Name: absences, dtype: int64\n",
      "G1 10    38\n",
      "8     33\n",
      "12    29\n",
      "13    25\n",
      "9     24\n",
      "7     23\n",
      "11    22\n",
      "14    21\n",
      "6     17\n",
      "15    16\n",
      "16    15\n",
      "17     8\n",
      "18     5\n",
      "5      5\n",
      "19     2\n",
      "4      1\n",
      "Name: G1, dtype: int64\n",
      "G2 9     38\n",
      "10    34\n",
      "12    32\n",
      "13    25\n",
      "11    23\n",
      "8     22\n",
      "15    20\n",
      "7     17\n",
      "14    16\n",
      "6     11\n",
      "16    11\n",
      "0     10\n",
      "5      9\n",
      "18     7\n",
      "17     5\n",
      "19     3\n",
      "4      1\n",
      "Name: G2, dtype: int64\n",
      "G3 10    40\n",
      "11    32\n",
      "0     26\n",
      "12    24\n",
      "13    22\n",
      "9     21\n",
      "8     21\n",
      "15    20\n",
      "14    20\n",
      "6     13\n",
      "16    11\n",
      "7      9\n",
      "18     7\n",
      "17     6\n",
      "19     5\n",
      "5      5\n",
      "4      1\n",
      "20     1\n",
      "Name: G3, dtype: int64\n"
     ]
    }
   ],
   "source": [
    "#Las variables categoricas debemos binarizarlas para ingresarlas en nuestro modelo tomando los valores de 0 y 1.\n",
    "#Primero revisamos cuales son sus categorias de respuesta con value_counts()\n",
    "for i in df:\n",
    "    print(i, df[i].value_counts())"
   ]
  },
  {
   "cell_type": "code",
   "execution_count": 12,
   "metadata": {},
   "outputs": [],
   "source": [
    "#Binarizamos las variables nominales asignando valor 1 a las categorías minoritarias\n",
    "\n",
    "df['school_dummy'] = np.where(df['school'].str.strip() == 'MS', 1, 0)\n",
    "\n",
    "df['sex_dummy'] = np.where(df['sex'].str.strip() == 'M', 1, 0)\n",
    "\n",
    "df['address_dummy'] = np.where(df['address'].str.strip() == 'R', 1, 0)\n",
    "\n",
    "df['famsize_dummy'] = np.where(df['famsize'].str.strip() == 'LE3', 1, 0)\n",
    "\n",
    "df['Pstatus_dummy'] = np.where(df['Pstatus'].str.strip() == 'A', 1, 0)\n",
    "\n",
    "df['Mjob_health_dummy'] = np.where(df['Mjob'].str.strip() == 'health', 1, 0)\n",
    "df['Mjob_teacher_dummy'] = np.where(df['Mjob'].str.strip() == 'teacher', 1, 0)\n",
    "df['Mjob_at_home_dummy'] = np.where(df['Mjob'].str.strip() == 'at_home', 1, 0)\n",
    "df['Mjob_services_dummy'] = np.where(df['Mjob'].str.strip() == 'services', 1, 0)\n",
    "\n",
    "df['Fjob_health_dummy'] = np.where(df['Fjob'].str.strip() == 'health', 1, 0)\n",
    "df['Fjob_at_home_dummy'] = np.where(df['Fjob'].str.strip() == 'at_home', 1, 0)\n",
    "df['Fjob_teacher_dummy'] = np.where(df['Fjob'].str.strip() == 'teacher', 1, 0)\n",
    "df['Fjob_services_dummy'] = np.where(df['Fjob'].str.strip() == 'services', 1, 0)\n",
    "\n",
    "df['reason_other_dummy'] = np.where(df['reason'].str.strip() == 'other', 1, 0)\n",
    "df['reason_reputation_dummy'] = np.where(df['reason'].str.strip() == 'reputation', 1, 0)\n",
    "df['reason_home_dummy'] = np.where(df['reason'].str.strip() == 'home', 1, 0)\n",
    "\n",
    "df['guardian_other_dummy'] = np.where(df['guardian'].str.strip() == 'other', 1, 0)\n",
    "df['guardian_father_dummy'] = np.where(df['guardian'].str.strip() == 'father', 1, 0)\n",
    "\n",
    "df['schoolsup_dummy'] = np.where(df['schoolsup'].str.strip() == 'yes', 1, 0)\n",
    "\n",
    "df['famsup_dummy'] = np.where(df['famsup'].str.strip() == 'no', 1, 0)\n",
    "\n",
    "df['paid_dummy'] = np.where(df['paid'].str.strip() == 'yes', 1, 0)\n",
    "\n",
    "df['activities_dummy'] = np.where(df['activities'].str.strip() == 'no', 1, 0)\n",
    "\n",
    "df['nursery_dummy'] = np.where(df['nursery'].str.strip() == 'no', 1, 0)\n",
    "\n",
    "df['higher_dummy'] = np.where(df['higher'].str.strip() == 'no', 1, 0)\n",
    "\n",
    "df['internet_dummy'] = np.where(df['internet'].str.strip() == 'no', 1, 0)\n",
    "\n",
    "df['romantic_dummy'] = np.where(df['romantic'].str.strip() == 'yes', 1, 0)"
   ]
  },
  {
   "cell_type": "markdown",
   "metadata": {},
   "source": [
    "## Realizamos nuevamente el analisis descriptivo para nuestra nueva base de datos"
   ]
  },
  {
   "cell_type": "code",
   "execution_count": 13,
   "metadata": {},
   "outputs": [
    {
     "name": "stdout",
     "output_type": "stream",
     "text": [
      "GP    86.971831\n",
      "MS    13.028169\n",
      "Name: school, dtype: float64 \n",
      "\n",
      "F    51.760563\n",
      "M    48.239437\n",
      "Name: sex, dtype: float64 \n",
      "\n",
      "16    26.056338\n",
      "18    24.647887\n",
      "15    21.478873\n",
      "17    21.126761\n",
      "19     5.281690\n",
      "20     1.056338\n",
      "21     0.352113\n",
      "Name: age, dtype: float64 \n",
      "\n",
      "U    75.352113\n",
      "R    24.647887\n",
      "Name: address, dtype: float64 \n",
      "\n",
      "GT3    73.591549\n",
      "LE3    26.408451\n",
      "Name: famsize, dtype: float64 \n",
      "\n",
      "T    90.492958\n",
      "A     9.507042\n",
      "Name: Pstatus, dtype: float64 \n",
      "\n",
      "4    34.507042\n",
      "2    25.000000\n",
      "3    24.647887\n",
      "1    15.492958\n",
      "0     0.352113\n",
      "Name: Medu, dtype: float64 \n",
      "\n",
      "2    27.112676\n",
      "3    26.760563\n",
      "4    23.943662\n",
      "1    21.830986\n",
      "0     0.352113\n",
      "Name: Fedu, dtype: float64 \n",
      "\n",
      "other       36.267606\n",
      "services    23.943662\n",
      "teacher     15.492958\n",
      "at_home     15.140845\n",
      "health       9.154930\n",
      "Name: Mjob, dtype: float64 \n",
      "\n",
      "other       55.985915\n",
      "services    28.169014\n",
      "teacher      7.394366\n",
      "health       4.577465\n",
      "at_home      3.873239\n",
      "Name: Fjob, dtype: float64 \n",
      "\n",
      "course        35.915493\n",
      "home          27.464789\n",
      "reputation    27.112676\n",
      "other          9.507042\n",
      "Name: reason, dtype: float64 \n",
      "\n",
      "mother    70.422535\n",
      "father    21.126761\n",
      "other      8.450704\n",
      "Name: guardian, dtype: float64 \n",
      "\n",
      "1    62.323944\n",
      "2    29.577465\n",
      "3     6.338028\n",
      "4     1.760563\n",
      "Name: traveltime, dtype: float64 \n",
      "\n",
      "2    48.943662\n",
      "1    26.408451\n",
      "3    17.957746\n",
      "4     6.690141\n",
      "Name: studytime, dtype: float64 \n",
      "\n",
      "0    78.521127\n",
      "1    13.028169\n",
      "2     4.929577\n",
      "3     3.521127\n",
      "Name: failures, dtype: float64 \n",
      "\n",
      "no     86.619718\n",
      "yes    13.380282\n",
      "Name: schoolsup, dtype: float64 \n",
      "\n",
      "yes    61.267606\n",
      "no     38.732394\n",
      "Name: famsup, dtype: float64 \n",
      "\n",
      "no     55.633803\n",
      "yes    44.366197\n",
      "Name: paid, dtype: float64 \n",
      "\n",
      "yes    52.112676\n",
      "no     47.887324\n",
      "Name: activities, dtype: float64 \n",
      "\n",
      "yes    78.521127\n",
      "no     21.478873\n",
      "Name: nursery, dtype: float64 \n",
      "\n",
      "yes    94.71831\n",
      "no      5.28169\n",
      "Name: higher, dtype: float64 \n",
      "\n",
      "yes    81.338028\n",
      "no     18.661972\n",
      "Name: internet, dtype: float64 \n",
      "\n",
      "no     66.549296\n",
      "yes    33.450704\n",
      "Name: romantic, dtype: float64 \n",
      "\n",
      "4    51.056338\n",
      "5    25.704225\n",
      "3    16.549296\n",
      "2     4.929577\n",
      "1     1.760563\n",
      "Name: famrel, dtype: float64 \n",
      "\n",
      "3    40.140845\n",
      "4    26.760563\n",
      "2    17.253521\n",
      "5    10.211268\n",
      "1     5.633803\n",
      "Name: freetime, dtype: float64 \n",
      "\n",
      "3    35.563380\n",
      "2    26.760563\n",
      "4    20.422535\n",
      "5    12.323944\n",
      "1     4.929577\n",
      "Name: goout, dtype: float64 \n",
      "\n",
      "1    69.718310\n",
      "2    18.661972\n",
      "3     7.042254\n",
      "4     2.816901\n",
      "5     1.760563\n",
      "Name: Dalc, dtype: float64 \n",
      "\n",
      "1    40.845070\n",
      "2    20.422535\n",
      "3    19.014085\n",
      "4    13.380282\n",
      "5     6.338028\n",
      "Name: Walc, dtype: float64 \n",
      "\n",
      "5    36.619718\n",
      "3    25.704225\n",
      "4    18.309859\n",
      "2     9.859155\n",
      "1     9.507042\n",
      "Name: health, dtype: float64 \n",
      "\n",
      "count    284.000000\n",
      "mean       5.588028\n",
      "std        8.156335\n",
      "min        0.000000\n",
      "25%        0.000000\n",
      "50%        4.000000\n",
      "75%        7.000000\n",
      "max       75.000000\n",
      "Name: absences, dtype: float64 \n",
      "\n",
      "count    284.000000\n",
      "mean      10.933099\n",
      "std        3.289199\n",
      "min        4.000000\n",
      "25%        8.000000\n",
      "50%       11.000000\n",
      "75%       13.000000\n",
      "max       19.000000\n",
      "Name: G1, dtype: float64 \n",
      "\n",
      "count    284.000000\n",
      "mean      10.640845\n",
      "std        3.789220\n",
      "min        0.000000\n",
      "25%        9.000000\n",
      "50%       10.500000\n",
      "75%       13.000000\n",
      "max       19.000000\n",
      "Name: G2, dtype: float64 \n",
      "\n",
      "count    284.000000\n",
      "mean      10.394366\n",
      "std        4.565902\n",
      "min        0.000000\n",
      "25%        8.000000\n",
      "50%       11.000000\n",
      "75%       13.000000\n",
      "max       20.000000\n",
      "Name: G3, dtype: float64 \n",
      "\n",
      "0    86.971831\n",
      "1    13.028169\n",
      "Name: school_dummy, dtype: float64 \n",
      "\n",
      "0    51.760563\n",
      "1    48.239437\n",
      "Name: sex_dummy, dtype: float64 \n",
      "\n",
      "0    75.352113\n",
      "1    24.647887\n",
      "Name: address_dummy, dtype: float64 \n",
      "\n",
      "0    73.591549\n",
      "1    26.408451\n",
      "Name: famsize_dummy, dtype: float64 \n",
      "\n",
      "0    90.492958\n",
      "1     9.507042\n",
      "Name: Pstatus_dummy, dtype: float64 \n",
      "\n",
      "0    90.84507\n",
      "1     9.15493\n",
      "Name: Mjob_health_dummy, dtype: float64 \n",
      "\n",
      "0    84.507042\n",
      "1    15.492958\n",
      "Name: Mjob_teacher_dummy, dtype: float64 \n",
      "\n",
      "0    84.859155\n",
      "1    15.140845\n",
      "Name: Mjob_at_home_dummy, dtype: float64 \n",
      "\n",
      "0    76.056338\n",
      "1    23.943662\n",
      "Name: Mjob_services_dummy, dtype: float64 \n",
      "\n",
      "0    95.422535\n",
      "1     4.577465\n",
      "Name: Fjob_health_dummy, dtype: float64 \n",
      "\n",
      "0    96.126761\n",
      "1     3.873239\n",
      "Name: Fjob_at_home_dummy, dtype: float64 \n",
      "\n",
      "0    92.605634\n",
      "1     7.394366\n",
      "Name: Fjob_teacher_dummy, dtype: float64 \n",
      "\n",
      "0    71.830986\n",
      "1    28.169014\n",
      "Name: Fjob_services_dummy, dtype: float64 \n",
      "\n",
      "0    90.492958\n",
      "1     9.507042\n",
      "Name: reason_other_dummy, dtype: float64 \n",
      "\n",
      "0    72.887324\n",
      "1    27.112676\n",
      "Name: reason_reputation_dummy, dtype: float64 \n",
      "\n",
      "0    72.535211\n",
      "1    27.464789\n",
      "Name: reason_home_dummy, dtype: float64 \n",
      "\n",
      "0    91.549296\n",
      "1     8.450704\n",
      "Name: guardian_other_dummy, dtype: float64 \n",
      "\n",
      "0    78.873239\n",
      "1    21.126761\n",
      "Name: guardian_father_dummy, dtype: float64 \n",
      "\n",
      "0    86.619718\n",
      "1    13.380282\n",
      "Name: schoolsup_dummy, dtype: float64 \n",
      "\n",
      "0    61.267606\n",
      "1    38.732394\n",
      "Name: famsup_dummy, dtype: float64 \n",
      "\n",
      "0    55.633803\n",
      "1    44.366197\n",
      "Name: paid_dummy, dtype: float64 \n",
      "\n",
      "0    52.112676\n",
      "1    47.887324\n",
      "Name: activities_dummy, dtype: float64 \n",
      "\n",
      "0    78.521127\n",
      "1    21.478873\n",
      "Name: nursery_dummy, dtype: float64 \n",
      "\n",
      "0    94.71831\n",
      "1     5.28169\n",
      "Name: higher_dummy, dtype: float64 \n",
      "\n",
      "0    81.338028\n",
      "1    18.661972\n",
      "Name: internet_dummy, dtype: float64 \n",
      "\n",
      "0    66.549296\n",
      "1    33.450704\n",
      "Name: romantic_dummy, dtype: float64 \n",
      "\n"
     ]
    }
   ],
   "source": [
    "#Luego de la binarizacion volvemos a utlizar la funcion descriptivos para analizar la base\n",
    "descriptivos(df)"
   ]
  },
  {
   "cell_type": "markdown",
   "metadata": {},
   "source": [
    "## Visualizacion de nuestras nuevas variables"
   ]
  },
  {
   "cell_type": "code",
   "execution_count": 14,
   "metadata": {},
   "outputs": [
    {
     "data": {
      "image/png": "[encoded data removed]",
      "text/plain": [
       "<Figure size 432x288 with 1 Axes>"
      ]
     },
     "metadata": {
      "needs_background": "light"
     },
     "output_type": "display_data"
    }
   ],
   "source": [
    "#School en binaria con GP como categoria mayoritaria\n",
    "graficar_categoricas(df, \"school_dummy\")"
   ]
  },
  {
   "cell_type": "code",
   "execution_count": 15,
   "metadata": {},
   "outputs": [
    {
     "data": {
      "image/png": "[encoded data removed]",
      "text/plain": [
       "<Figure size 432x288 with 1 Axes>"
      ]
     },
     "metadata": {
      "needs_background": "light"
     },
     "output_type": "display_data"
    }
   ],
   "source": [
    "#sex en binaria con F como mayoritaria\n",
    "graficar_categoricas(df, \"sex_dummy\") "
   ]
  },
  {
   "cell_type": "code",
   "execution_count": 16,
   "metadata": {},
   "outputs": [
    {
     "data": {
      "image/png": "[encoded data removed]",
      "text/plain": [
       "<Figure size 432x288 with 1 Axes>"
      ]
     },
     "metadata": {
      "needs_background": "light"
     },
     "output_type": "display_data"
    }
   ],
   "source": [
    "#Address en binaria con U como mayoritaria\n",
    "graficar_categoricas(df, 'address_dummy')"
   ]
  },
  {
   "cell_type": "code",
   "execution_count": 17,
   "metadata": {},
   "outputs": [
    {
     "data": {
      "image/png": "[encoded data removed]",
      "text/plain": [
       "<Figure size 432x288 with 1 Axes>"
      ]
     },
     "metadata": {
      "needs_background": "light"
     },
     "output_type": "display_data"
    }
   ],
   "source": [
    "#Famsize en binaria con GT3 como mayoritaria\n",
    "graficar_categoricas(df, 'famsize_dummy')"
   ]
  },
  {
   "cell_type": "code",
   "execution_count": 18,
   "metadata": {},
   "outputs": [
    {
     "data": {
      "image/png": "[encoded data removed]",
      "text/plain": [
       "<Figure size 432x288 with 1 Axes>"
      ]
     },
     "metadata": {
      "needs_background": "light"
     },
     "output_type": "display_data"
    }
   ],
   "source": [
    "#Pstatus en binaria con T como mayoritaria\n",
    "graficar_categoricas(df, \"Pstatus_dummy\")"
   ]
  },
  {
   "cell_type": "code",
   "execution_count": 19,
   "metadata": {},
   "outputs": [
    {
     "data": {
      "image/png": "[encoded data removed]",
      "text/plain": [
       "<Figure size 432x288 with 1 Axes>"
      ]
     },
     "metadata": {
      "needs_background": "light"
     },
     "output_type": "display_data"
    },
    {
     "data": {
      "image/png": "[encoded data removed]",
      "text/plain": [
       "<Figure size 432x288 with 1 Axes>"
      ]
     },
     "metadata": {
      "needs_background": "light"
     },
     "output_type": "display_data"
    },
    {
     "data": {
      "image/png": "[encoded data removed]",
      "text/plain": [
       "<Figure size 432x288 with 1 Axes>"
      ]
     },
     "metadata": {
      "needs_background": "light"
     },
     "output_type": "display_data"
    },
    {
     "data": {
      "image/png": "[encoded data removed]",
      "text/plain": [
       "<Figure size 432x288 with 1 Axes>"
      ]
     },
     "metadata": {
      "needs_background": "light"
     },
     "output_type": "display_data"
    },
    {
     "data": {
      "image/png": "[encoded data removed]",
      "text/plain": [
       "<Figure size 432x288 with 1 Axes>"
      ]
     },
     "metadata": {
      "needs_background": "light"
     },
     "output_type": "display_data"
    },
    {
     "data": {
      "image/png": "[encoded data removed]",
      "text/plain": [
       "<Figure size 432x288 with 1 Axes>"
      ]
     },
     "metadata": {
      "needs_background": "light"
     },
     "output_type": "display_data"
    },
    {
     "data": {
      "image/png": "[encoded data removed]",
      "text/plain": [
       "<Figure size 432x288 with 1 Axes>"
      ]
     },
     "metadata": {
      "needs_background": "light"
     },
     "output_type": "display_data"
    },
    {
     "data": {
      "image/png": "[encoded data removed]",
      "text/plain": [
       "<Figure size 432x288 with 1 Axes>"
      ]
     },
     "metadata": {
      "needs_background": "light"
     },
     "output_type": "display_data"
    }
   ],
   "source": [
    "#Mjob y Fjob en binarias con other como mayoritaria en ambas variables.\n",
    "graficar_categoricas(df, 'Mjob_health_dummy')\n",
    "graficar_categoricas(df, 'Mjob_teacher_dummy')\n",
    "graficar_categoricas(df, 'Mjob_at_home_dummy')\n",
    "graficar_categoricas(df, 'Mjob_services_dummy')\n",
    "graficar_categoricas(df, 'Fjob_health_dummy')\n",
    "graficar_categoricas(df, 'Fjob_at_home_dummy')\n",
    "graficar_categoricas(df, \"Fjob_teacher_dummy\")\n",
    "graficar_categoricas(df, 'Fjob_services_dummy')"
   ]
  },
  {
   "cell_type": "code",
   "execution_count": 20,
   "metadata": {},
   "outputs": [
    {
     "data": {
      "image/png": "[encoded data removed]",
      "text/plain": [
       "<Figure size 432x288 with 1 Axes>"
      ]
     },
     "metadata": {
      "needs_background": "light"
     },
     "output_type": "display_data"
    },
    {
     "data": {
      "image/png": "[encoded data removed]",
      "text/plain": [
       "<Figure size 432x288 with 1 Axes>"
      ]
     },
     "metadata": {
      "needs_background": "light"
     },
     "output_type": "display_data"
    },
    {
     "data": {
      "image/png": "[encoded data removed]",
      "text/plain": [
       "<Figure size 432x288 with 1 Axes>"
      ]
     },
     "metadata": {
      "needs_background": "light"
     },
     "output_type": "display_data"
    }
   ],
   "source": [
    "#Reason en dummy con course como mayoritaria.\n",
    "graficar_categoricas(df, 'reason_other_dummy')\n",
    "graficar_categoricas(df, 'reason_reputation_dummy')\n",
    "graficar_categoricas(df, 'reason_home_dummy')"
   ]
  },
  {
   "cell_type": "code",
   "execution_count": 21,
   "metadata": {},
   "outputs": [
    {
     "data": {
      "image/png": "[encoded data removed]",
      "text/plain": [
       "<Figure size 432x288 with 1 Axes>"
      ]
     },
     "metadata": {
      "needs_background": "light"
     },
     "output_type": "display_data"
    },
    {
     "data": {
      "image/png": "[encoded data removed]",
      "text/plain": [
       "<Figure size 432x288 with 1 Axes>"
      ]
     },
     "metadata": {
      "needs_background": "light"
     },
     "output_type": "display_data"
    }
   ],
   "source": [
    "#guardian en dummy con mother como mayoritaria\n",
    "graficar_categoricas(df, 'guardian_other_dummy')\n",
    "graficar_categoricas(df, 'guardian_father_dummy')"
   ]
  },
  {
   "cell_type": "code",
   "execution_count": 22,
   "metadata": {},
   "outputs": [
    {
     "data": {
      "image/png": "[encoded data removed]",
      "text/plain": [
       "<Figure size 432x288 with 1 Axes>"
      ]
     },
     "metadata": {
      "needs_background": "light"
     },
     "output_type": "display_data"
    },
    {
     "data": {
      "image/png": "[encoded data removed]",
      "text/plain": [
       "<Figure size 432x288 with 1 Axes>"
      ]
     },
     "metadata": {
      "needs_background": "light"
     },
     "output_type": "display_data"
    }
   ],
   "source": [
    "#schoolsup en dummy con \"no\" como pricipal categoria.\n",
    "#famsup en dummy con \"yes\" como principal categoria\n",
    "graficar_categoricas(df, 'schoolsup_dummy')\n",
    "graficar_categoricas(df, 'famsup_dummy')"
   ]
  },
  {
   "cell_type": "code",
   "execution_count": 23,
   "metadata": {},
   "outputs": [
    {
     "data": {
      "image/png": "[encoded data removed]",
      "text/plain": [
       "<Figure size 432x288 with 1 Axes>"
      ]
     },
     "metadata": {
      "needs_background": "light"
     },
     "output_type": "display_data"
    }
   ],
   "source": [
    "#paid en binaria con \"no\" como categoria principal\n",
    "graficar_categoricas(df, 'paid_dummy')"
   ]
  },
  {
   "cell_type": "code",
   "execution_count": 24,
   "metadata": {},
   "outputs": [
    {
     "data": {
      "image/png": "[encoded data removed]",
      "text/plain": [
       "<Figure size 432x288 with 1 Axes>"
      ]
     },
     "metadata": {
      "needs_background": "light"
     },
     "output_type": "display_data"
    }
   ],
   "source": [
    "#activities en dummy con \"yes\" como principal\n",
    "graficar_categoricas(df, 'activities_dummy')"
   ]
  },
  {
   "cell_type": "code",
   "execution_count": 25,
   "metadata": {},
   "outputs": [
    {
     "data": {
      "image/png": "[encoded data removed]",
      "text/plain": [
       "<Figure size 432x288 with 1 Axes>"
      ]
     },
     "metadata": {
      "needs_background": "light"
     },
     "output_type": "display_data"
    }
   ],
   "source": [
    "#nursery en dummy con \"yes\" como principal\n",
    "graficar_categoricas(df, 'nursery_dummy')"
   ]
  },
  {
   "cell_type": "code",
   "execution_count": 26,
   "metadata": {},
   "outputs": [
    {
     "data": {
      "image/png": "[encoded data removed]",
      "text/plain": [
       "<Figure size 432x288 with 1 Axes>"
      ]
     },
     "metadata": {
      "needs_background": "light"
     },
     "output_type": "display_data"
    }
   ],
   "source": [
    "#higher en dummy con \"yes\" como principal\n",
    "graficar_categoricas(df, 'higher_dummy')"
   ]
  },
  {
   "cell_type": "code",
   "execution_count": 27,
   "metadata": {},
   "outputs": [
    {
     "data": {
      "image/png": "[encoded data removed]",
      "text/plain": [
       "<Figure size 432x288 with 1 Axes>"
      ]
     },
     "metadata": {
      "needs_background": "light"
     },
     "output_type": "display_data"
    }
   ],
   "source": [
    "#internet en dummy con \"yes\" como principal\n",
    "graficar_categoricas(df, 'internet_dummy')"
   ]
  },
  {
   "cell_type": "code",
   "execution_count": 28,
   "metadata": {},
   "outputs": [
    {
     "data": {
      "image/png": "[encoded data removed]",
      "text/plain": [
       "<Figure size 432x288 with 1 Axes>"
      ]
     },
     "metadata": {
      "needs_background": "light"
     },
     "output_type": "display_data"
    }
   ],
   "source": [
    "#romantic en dummy con \"no\" como principal\n",
    "graficar_categoricas(df, 'romantic_dummy')"
   ]
  },
  {
   "cell_type": "code",
   "execution_count": 29,
   "metadata": {},
   "outputs": [
    {
     "data": {
      "text/plain": [
       "Index(['school', 'sex', 'age', 'address', 'famsize', 'Pstatus', 'Medu', 'Fedu',\n",
       "       'Mjob', 'Fjob', 'reason', 'guardian', 'traveltime', 'studytime',\n",
       "       'failures', 'schoolsup', 'famsup', 'paid', 'activities', 'nursery',\n",
       "       'higher', 'internet', 'romantic', 'famrel', 'freetime', 'goout', 'Dalc',\n",
       "       'Walc', 'health', 'absences', 'G1', 'G2', 'G3', 'school_dummy',\n",
       "       'sex_dummy', 'address_dummy', 'famsize_dummy', 'Pstatus_dummy',\n",
       "       'Mjob_health_dummy', 'Mjob_teacher_dummy', 'Mjob_at_home_dummy',\n",
       "       'Mjob_services_dummy', 'Fjob_health_dummy', 'Fjob_at_home_dummy',\n",
       "       'Fjob_teacher_dummy', 'Fjob_services_dummy', 'reason_other_dummy',\n",
       "       'reason_reputation_dummy', 'reason_home_dummy', 'guardian_other_dummy',\n",
       "       'guardian_father_dummy', 'schoolsup_dummy', 'famsup_dummy',\n",
       "       'paid_dummy', 'activities_dummy', 'nursery_dummy', 'higher_dummy',\n",
       "       'internet_dummy', 'romantic_dummy'],\n",
       "      dtype='object')"
      ]
     },
     "execution_count": 29,
     "metadata": {},
     "output_type": "execute_result"
    }
   ],
   "source": [
    "df.columns"
   ]
  },
  {
   "cell_type": "markdown",
   "metadata": {},
   "source": [
    "## Modelacion descriptiva"
   ]
  },
  {
   "cell_type": "code",
   "execution_count": 30,
   "metadata": {},
   "outputs": [
    {
     "data": {
      "text/html": [
       "<div>\n",
       "<style scoped>\n",
       "    .dataframe tbody tr th:only-of-type {\n",
       "        vertical-align: middle;\n",
       "    }\n",
       "\n",
       "    .dataframe tbody tr th {\n",
       "        vertical-align: top;\n",
       "    }\n",
       "\n",
       "    .dataframe thead th {\n",
       "        text-align: right;\n",
       "    }\n",
       "</style>\n",
       "<table border=\"1\" class=\"dataframe\">\n",
       "  <thead>\n",
       "    <tr style=\"text-align: right;\">\n",
       "      <th></th>\n",
       "      <th>school</th>\n",
       "      <th>sex</th>\n",
       "      <th>age</th>\n",
       "      <th>address</th>\n",
       "      <th>famsize</th>\n",
       "      <th>Pstatus</th>\n",
       "      <th>Medu</th>\n",
       "      <th>Fedu</th>\n",
       "      <th>Mjob</th>\n",
       "      <th>Fjob</th>\n",
       "      <th>...</th>\n",
       "      <th>guardian_other_dummy</th>\n",
       "      <th>guardian_father_dummy</th>\n",
       "      <th>schoolsup_dummy</th>\n",
       "      <th>famsup_dummy</th>\n",
       "      <th>paid_dummy</th>\n",
       "      <th>activities_dummy</th>\n",
       "      <th>nursery_dummy</th>\n",
       "      <th>higher_dummy</th>\n",
       "      <th>internet_dummy</th>\n",
       "      <th>romantic_dummy</th>\n",
       "    </tr>\n",
       "  </thead>\n",
       "  <tbody>\n",
       "    <tr>\n",
       "      <th>0</th>\n",
       "      <td>GP</td>\n",
       "      <td>F</td>\n",
       "      <td>17</td>\n",
       "      <td>U</td>\n",
       "      <td>GT3</td>\n",
       "      <td>T</td>\n",
       "      <td>1</td>\n",
       "      <td>1</td>\n",
       "      <td>at_home</td>\n",
       "      <td>other</td>\n",
       "      <td>...</td>\n",
       "      <td>0</td>\n",
       "      <td>1</td>\n",
       "      <td>0</td>\n",
       "      <td>0</td>\n",
       "      <td>0</td>\n",
       "      <td>1</td>\n",
       "      <td>1</td>\n",
       "      <td>0</td>\n",
       "      <td>0</td>\n",
       "      <td>0</td>\n",
       "    </tr>\n",
       "    <tr>\n",
       "      <th>1</th>\n",
       "      <td>GP</td>\n",
       "      <td>F</td>\n",
       "      <td>15</td>\n",
       "      <td>U</td>\n",
       "      <td>GT3</td>\n",
       "      <td>T</td>\n",
       "      <td>4</td>\n",
       "      <td>2</td>\n",
       "      <td>health</td>\n",
       "      <td>services</td>\n",
       "      <td>...</td>\n",
       "      <td>0</td>\n",
       "      <td>0</td>\n",
       "      <td>0</td>\n",
       "      <td>0</td>\n",
       "      <td>1</td>\n",
       "      <td>0</td>\n",
       "      <td>0</td>\n",
       "      <td>0</td>\n",
       "      <td>0</td>\n",
       "      <td>1</td>\n",
       "    </tr>\n",
       "    <tr>\n",
       "      <th>2</th>\n",
       "      <td>GP</td>\n",
       "      <td>M</td>\n",
       "      <td>16</td>\n",
       "      <td>U</td>\n",
       "      <td>LE3</td>\n",
       "      <td>T</td>\n",
       "      <td>4</td>\n",
       "      <td>3</td>\n",
       "      <td>services</td>\n",
       "      <td>other</td>\n",
       "      <td>...</td>\n",
       "      <td>0</td>\n",
       "      <td>0</td>\n",
       "      <td>0</td>\n",
       "      <td>0</td>\n",
       "      <td>1</td>\n",
       "      <td>0</td>\n",
       "      <td>0</td>\n",
       "      <td>0</td>\n",
       "      <td>0</td>\n",
       "      <td>0</td>\n",
       "    </tr>\n",
       "    <tr>\n",
       "      <th>3</th>\n",
       "      <td>GP</td>\n",
       "      <td>M</td>\n",
       "      <td>16</td>\n",
       "      <td>U</td>\n",
       "      <td>LE3</td>\n",
       "      <td>T</td>\n",
       "      <td>2</td>\n",
       "      <td>2</td>\n",
       "      <td>other</td>\n",
       "      <td>other</td>\n",
       "      <td>...</td>\n",
       "      <td>0</td>\n",
       "      <td>0</td>\n",
       "      <td>0</td>\n",
       "      <td>1</td>\n",
       "      <td>0</td>\n",
       "      <td>1</td>\n",
       "      <td>0</td>\n",
       "      <td>0</td>\n",
       "      <td>0</td>\n",
       "      <td>0</td>\n",
       "    </tr>\n",
       "    <tr>\n",
       "      <th>4</th>\n",
       "      <td>GP</td>\n",
       "      <td>F</td>\n",
       "      <td>17</td>\n",
       "      <td>U</td>\n",
       "      <td>GT3</td>\n",
       "      <td>A</td>\n",
       "      <td>4</td>\n",
       "      <td>4</td>\n",
       "      <td>other</td>\n",
       "      <td>teacher</td>\n",
       "      <td>...</td>\n",
       "      <td>0</td>\n",
       "      <td>0</td>\n",
       "      <td>1</td>\n",
       "      <td>0</td>\n",
       "      <td>0</td>\n",
       "      <td>1</td>\n",
       "      <td>0</td>\n",
       "      <td>0</td>\n",
       "      <td>1</td>\n",
       "      <td>0</td>\n",
       "    </tr>\n",
       "  </tbody>\n",
       "</table>\n",
       "<p>5 rows × 59 columns</p>\n",
       "</div>"
      ],
      "text/plain": [
       "  school sex  age address famsize Pstatus  Medu  Fedu      Mjob      Fjob  \\\n",
       "0     GP   F   17       U     GT3       T     1     1   at_home     other   \n",
       "1     GP   F   15       U     GT3       T     4     2    health  services   \n",
       "2     GP   M   16       U     LE3       T     4     3  services     other   \n",
       "3     GP   M   16       U     LE3       T     2     2     other     other   \n",
       "4     GP   F   17       U     GT3       A     4     4     other   teacher   \n",
       "\n",
       "   ... guardian_other_dummy guardian_father_dummy  schoolsup_dummy  \\\n",
       "0  ...                    0                     1                0   \n",
       "1  ...                    0                     0                0   \n",
       "2  ...                    0                     0                0   \n",
       "3  ...                    0                     0                0   \n",
       "4  ...                    0                     0                1   \n",
       "\n",
       "   famsup_dummy  paid_dummy activities_dummy nursery_dummy higher_dummy  \\\n",
       "0             0           0                1             1            0   \n",
       "1             0           1                0             0            0   \n",
       "2             0           1                0             0            0   \n",
       "3             1           0                1             0            0   \n",
       "4             0           0                1             0            0   \n",
       "\n",
       "  internet_dummy romantic_dummy  \n",
       "0              0              0  \n",
       "1              0              1  \n",
       "2              0              0  \n",
       "3              0              0  \n",
       "4              1              0  \n",
       "\n",
       "[5 rows x 59 columns]"
      ]
     },
     "execution_count": 30,
     "metadata": {},
     "output_type": "execute_result"
    }
   ],
   "source": [
    "df.reset_index(drop = True, inplace = True)\n",
    "df.head()"
   ]
  },
  {
   "cell_type": "markdown",
   "metadata": {},
   "source": [
    "Como se sostuvo en un inicio, este es un problema en el que aplicaremos regresion lineal para explicar las notas que obtuvieron los alumnos durante el primer semestre, segundo y final.\n",
    "\n",
    "Para esto aplicaremos la formula: \n",
    "\n",
    "\n",
    "$G_{1}={{\\beta }_{0} + \\sum_{j=0}^N {\\beta }_{j} \\cdot {X}}$\n",
    "  \n",
    "  \n",
    "$G_{2}={{\\beta }_{0} + \\sum_{j=0}^N {\\beta }_{j} \\cdot {X}}$\n",
    "  \n",
    "  \n",
    "$G_{3}={{\\beta }_{0} + \\sum_{j=0}^N {\\beta }_{j} \\cdot {X}}$\n",
    "\n",
    "Para esto utilizaremos la funcion ols de la libreria stats.models.formula.api "
   ]
  },
  {
   "cell_type": "markdown",
   "metadata": {},
   "source": [
    "### Modelo G1 con todas las variables"
   ]
  },
  {
   "cell_type": "code",
   "execution_count": 31,
   "metadata": {},
   "outputs": [
    {
     "data": {
      "text/html": [
       "<table class=\"simpletable\">\n",
       "<caption>OLS Regression Results</caption>\n",
       "<tr>\n",
       "  <th>Dep. Variable:</th>           <td>G1</td>        <th>  R-squared:         </th> <td>   0.331</td>\n",
       "</tr>\n",
       "<tr>\n",
       "  <th>Model:</th>                   <td>OLS</td>       <th>  Adj. R-squared:    </th> <td>   0.224</td>\n",
       "</tr>\n",
       "<tr>\n",
       "  <th>Method:</th>             <td>Least Squares</td>  <th>  F-statistic:       </th> <td>   3.090</td>\n",
       "</tr>\n",
       "<tr>\n",
       "  <th>Date:</th>             <td>Mon, 29 Jul 2019</td> <th>  Prob (F-statistic):</th> <td>5.75e-08</td>\n",
       "</tr>\n",
       "<tr>\n",
       "  <th>Time:</th>                 <td>20:15:35</td>     <th>  Log-Likelihood:    </th> <td> -683.63</td>\n",
       "</tr>\n",
       "<tr>\n",
       "  <th>No. Observations:</th>      <td>   284</td>      <th>  AIC:               </th> <td>   1447.</td>\n",
       "</tr>\n",
       "<tr>\n",
       "  <th>Df Residuals:</th>          <td>   244</td>      <th>  BIC:               </th> <td>   1593.</td>\n",
       "</tr>\n",
       "<tr>\n",
       "  <th>Df Model:</th>              <td>    39</td>      <th>                     </th>     <td> </td>   \n",
       "</tr>\n",
       "<tr>\n",
       "  <th>Covariance Type:</th>      <td>nonrobust</td>    <th>                     </th>     <td> </td>   \n",
       "</tr>\n",
       "</table>\n",
       "<table class=\"simpletable\">\n",
       "<tr>\n",
       "             <td></td>                <th>coef</th>     <th>std err</th>      <th>t</th>      <th>P>|t|</th>  <th>[0.025</th>    <th>0.975]</th>  \n",
       "</tr>\n",
       "<tr>\n",
       "  <th>Intercept</th>               <td>    7.8430</td> <td>    3.407</td> <td>    2.302</td> <td> 0.022</td> <td>    1.133</td> <td>   14.553</td>\n",
       "</tr>\n",
       "<tr>\n",
       "  <th>age</th>                     <td>    0.0772</td> <td>    0.185</td> <td>    0.418</td> <td> 0.677</td> <td>   -0.287</td> <td>    0.441</td>\n",
       "</tr>\n",
       "<tr>\n",
       "  <th>Medu</th>                    <td>    0.1809</td> <td>    0.282</td> <td>    0.642</td> <td> 0.521</td> <td>   -0.374</td> <td>    0.736</td>\n",
       "</tr>\n",
       "<tr>\n",
       "  <th>Fedu</th>                    <td>    0.1527</td> <td>    0.236</td> <td>    0.646</td> <td> 0.519</td> <td>   -0.313</td> <td>    0.618</td>\n",
       "</tr>\n",
       "<tr>\n",
       "  <th>traveltime</th>              <td>   -0.0215</td> <td>    0.291</td> <td>   -0.074</td> <td> 0.941</td> <td>   -0.594</td> <td>    0.551</td>\n",
       "</tr>\n",
       "<tr>\n",
       "  <th>studytime</th>               <td>    0.5074</td> <td>    0.245</td> <td>    2.068</td> <td> 0.040</td> <td>    0.024</td> <td>    0.991</td>\n",
       "</tr>\n",
       "<tr>\n",
       "  <th>failures</th>                <td>   -1.1235</td> <td>    0.282</td> <td>   -3.977</td> <td> 0.000</td> <td>   -1.680</td> <td>   -0.567</td>\n",
       "</tr>\n",
       "<tr>\n",
       "  <th>famrel</th>                  <td>    0.1449</td> <td>    0.213</td> <td>    0.681</td> <td> 0.497</td> <td>   -0.274</td> <td>    0.564</td>\n",
       "</tr>\n",
       "<tr>\n",
       "  <th>freetime</th>                <td>    0.3778</td> <td>    0.193</td> <td>    1.959</td> <td> 0.051</td> <td>   -0.002</td> <td>    0.758</td>\n",
       "</tr>\n",
       "<tr>\n",
       "  <th>goout</th>                   <td>   -0.7691</td> <td>    0.199</td> <td>   -3.873</td> <td> 0.000</td> <td>   -1.160</td> <td>   -0.378</td>\n",
       "</tr>\n",
       "<tr>\n",
       "  <th>Dalc</th>                    <td>   -0.0730</td> <td>    0.286</td> <td>   -0.255</td> <td> 0.799</td> <td>   -0.636</td> <td>    0.490</td>\n",
       "</tr>\n",
       "<tr>\n",
       "  <th>Walc</th>                    <td>    0.1585</td> <td>    0.210</td> <td>    0.756</td> <td> 0.451</td> <td>   -0.255</td> <td>    0.572</td>\n",
       "</tr>\n",
       "<tr>\n",
       "  <th>health</th>                  <td>   -0.2918</td> <td>    0.142</td> <td>   -2.062</td> <td> 0.040</td> <td>   -0.571</td> <td>   -0.013</td>\n",
       "</tr>\n",
       "<tr>\n",
       "  <th>absences</th>                <td>   -0.0048</td> <td>    0.024</td> <td>   -0.196</td> <td> 0.845</td> <td>   -0.053</td> <td>    0.043</td>\n",
       "</tr>\n",
       "<tr>\n",
       "  <th>school_dummy</th>            <td>   -0.3886</td> <td>    0.666</td> <td>   -0.583</td> <td> 0.560</td> <td>   -1.701</td> <td>    0.924</td>\n",
       "</tr>\n",
       "<tr>\n",
       "  <th>sex_dummy</th>               <td>    0.7631</td> <td>    0.432</td> <td>    1.768</td> <td> 0.078</td> <td>   -0.087</td> <td>    1.613</td>\n",
       "</tr>\n",
       "<tr>\n",
       "  <th>address_dummy</th>           <td>   -0.0205</td> <td>    0.487</td> <td>   -0.042</td> <td> 0.966</td> <td>   -0.980</td> <td>    0.939</td>\n",
       "</tr>\n",
       "<tr>\n",
       "  <th>famsize_dummy</th>           <td>    0.3125</td> <td>    0.440</td> <td>    0.710</td> <td> 0.478</td> <td>   -0.555</td> <td>    1.180</td>\n",
       "</tr>\n",
       "<tr>\n",
       "  <th>Pstatus_dummy</th>           <td>    0.1872</td> <td>    0.650</td> <td>    0.288</td> <td> 0.774</td> <td>   -1.094</td> <td>    1.468</td>\n",
       "</tr>\n",
       "<tr>\n",
       "  <th>Mjob_health_dummy</th>       <td>    1.5674</td> <td>    0.790</td> <td>    1.983</td> <td> 0.048</td> <td>    0.011</td> <td>    3.124</td>\n",
       "</tr>\n",
       "<tr>\n",
       "  <th>Mjob_teacher_dummy</th>      <td>   -0.5427</td> <td>    0.703</td> <td>   -0.772</td> <td> 0.441</td> <td>   -1.928</td> <td>    0.843</td>\n",
       "</tr>\n",
       "<tr>\n",
       "  <th>Mjob_at_home_dummy</th>      <td>    0.5423</td> <td>    0.598</td> <td>    0.907</td> <td> 0.365</td> <td>   -0.636</td> <td>    1.720</td>\n",
       "</tr>\n",
       "<tr>\n",
       "  <th>Mjob_services_dummy</th>     <td>    0.9336</td> <td>    0.522</td> <td>    1.788</td> <td> 0.075</td> <td>   -0.095</td> <td>    1.962</td>\n",
       "</tr>\n",
       "<tr>\n",
       "  <th>Fjob_health_dummy</th>       <td>    0.4193</td> <td>    0.952</td> <td>    0.440</td> <td> 0.660</td> <td>   -1.456</td> <td>    2.294</td>\n",
       "</tr>\n",
       "<tr>\n",
       "  <th>Fjob_at_home_dummy</th>      <td>    1.4765</td> <td>    0.984</td> <td>    1.500</td> <td> 0.135</td> <td>   -0.462</td> <td>    3.415</td>\n",
       "</tr>\n",
       "<tr>\n",
       "  <th>Fjob_teacher_dummy</th>      <td>    2.2932</td> <td>    0.796</td> <td>    2.882</td> <td> 0.004</td> <td>    0.726</td> <td>    3.860</td>\n",
       "</tr>\n",
       "<tr>\n",
       "  <th>Fjob_services_dummy</th>     <td>    0.6241</td> <td>    0.471</td> <td>    1.326</td> <td> 0.186</td> <td>   -0.303</td> <td>    1.551</td>\n",
       "</tr>\n",
       "<tr>\n",
       "  <th>reason_other_dummy</th>      <td>    0.1005</td> <td>    0.675</td> <td>    0.149</td> <td> 0.882</td> <td>   -1.230</td> <td>    1.431</td>\n",
       "</tr>\n",
       "<tr>\n",
       "  <th>reason_reputation_dummy</th> <td>    0.5312</td> <td>    0.487</td> <td>    1.090</td> <td> 0.277</td> <td>   -0.429</td> <td>    1.491</td>\n",
       "</tr>\n",
       "<tr>\n",
       "  <th>reason_home_dummy</th>       <td>    0.3701</td> <td>    0.473</td> <td>    0.783</td> <td> 0.434</td> <td>   -0.561</td> <td>    1.301</td>\n",
       "</tr>\n",
       "<tr>\n",
       "  <th>guardian_other_dummy</th>    <td>    0.0880</td> <td>    0.782</td> <td>    0.113</td> <td> 0.910</td> <td>   -1.453</td> <td>    1.629</td>\n",
       "</tr>\n",
       "<tr>\n",
       "  <th>guardian_father_dummy</th>   <td>   -0.2087</td> <td>    0.479</td> <td>   -0.436</td> <td> 0.663</td> <td>   -1.152</td> <td>    0.734</td>\n",
       "</tr>\n",
       "<tr>\n",
       "  <th>schoolsup_dummy</th>         <td>   -1.7737</td> <td>    0.564</td> <td>   -3.145</td> <td> 0.002</td> <td>   -2.885</td> <td>   -0.663</td>\n",
       "</tr>\n",
       "<tr>\n",
       "  <th>famsup_dummy</th>            <td>    1.0062</td> <td>    0.411</td> <td>    2.447</td> <td> 0.015</td> <td>    0.196</td> <td>    1.816</td>\n",
       "</tr>\n",
       "<tr>\n",
       "  <th>paid_dummy</th>              <td>    0.0321</td> <td>    0.403</td> <td>    0.080</td> <td> 0.937</td> <td>   -0.762</td> <td>    0.826</td>\n",
       "</tr>\n",
       "<tr>\n",
       "  <th>activities_dummy</th>        <td>    0.4719</td> <td>    0.370</td> <td>    1.276</td> <td> 0.203</td> <td>   -0.257</td> <td>    1.201</td>\n",
       "</tr>\n",
       "<tr>\n",
       "  <th>nursery_dummy</th>           <td>    0.0255</td> <td>    0.455</td> <td>    0.056</td> <td> 0.955</td> <td>   -0.871</td> <td>    0.922</td>\n",
       "</tr>\n",
       "<tr>\n",
       "  <th>higher_dummy</th>            <td>   -1.1077</td> <td>    0.876</td> <td>   -1.265</td> <td> 0.207</td> <td>   -2.833</td> <td>    0.617</td>\n",
       "</tr>\n",
       "<tr>\n",
       "  <th>internet_dummy</th>          <td>   -0.0671</td> <td>    0.502</td> <td>   -0.134</td> <td> 0.894</td> <td>   -1.055</td> <td>    0.921</td>\n",
       "</tr>\n",
       "<tr>\n",
       "  <th>romantic_dummy</th>          <td>   -0.0842</td> <td>    0.399</td> <td>   -0.211</td> <td> 0.833</td> <td>   -0.870</td> <td>    0.702</td>\n",
       "</tr>\n",
       "</table>\n",
       "<table class=\"simpletable\">\n",
       "<tr>\n",
       "  <th>Omnibus:</th>       <td> 6.431</td> <th>  Durbin-Watson:     </th> <td>   2.003</td>\n",
       "</tr>\n",
       "<tr>\n",
       "  <th>Prob(Omnibus):</th> <td> 0.040</td> <th>  Jarque-Bera (JB):  </th> <td>   4.178</td>\n",
       "</tr>\n",
       "<tr>\n",
       "  <th>Skew:</th>          <td> 0.128</td> <th>  Prob(JB):          </th> <td>   0.124</td>\n",
       "</tr>\n",
       "<tr>\n",
       "  <th>Kurtosis:</th>      <td> 2.464</td> <th>  Cond. No.          </th> <td>    399.</td>\n",
       "</tr>\n",
       "</table><br/><br/>Warnings:<br/>[1] Standard Errors assume that the covariance matrix of the errors is correctly specified."
      ],
      "text/plain": [
       "<class 'statsmodels.iolib.summary.Summary'>\n",
       "\"\"\"\n",
       "                            OLS Regression Results                            \n",
       "==============================================================================\n",
       "Dep. Variable:                     G1   R-squared:                       0.331\n",
       "Model:                            OLS   Adj. R-squared:                  0.224\n",
       "Method:                 Least Squares   F-statistic:                     3.090\n",
       "Date:                Mon, 29 Jul 2019   Prob (F-statistic):           5.75e-08\n",
       "Time:                        20:15:35   Log-Likelihood:                -683.63\n",
       "No. Observations:                 284   AIC:                             1447.\n",
       "Df Residuals:                     244   BIC:                             1593.\n",
       "Df Model:                          39                                         \n",
       "Covariance Type:            nonrobust                                         \n",
       "===========================================================================================\n",
       "                              coef    std err          t      P>|t|      [0.025      0.975]\n",
       "-------------------------------------------------------------------------------------------\n",
       "Intercept                   7.8430      3.407      2.302      0.022       1.133      14.553\n",
       "age                         0.0772      0.185      0.418      0.677      -0.287       0.441\n",
       "Medu                        0.1809      0.282      0.642      0.521      -0.374       0.736\n",
       "Fedu                        0.1527      0.236      0.646      0.519      -0.313       0.618\n",
       "traveltime                 -0.0215      0.291     -0.074      0.941      -0.594       0.551\n",
       "studytime                   0.5074      0.245      2.068      0.040       0.024       0.991\n",
       "failures                   -1.1235      0.282     -3.977      0.000      -1.680      -0.567\n",
       "famrel                      0.1449      0.213      0.681      0.497      -0.274       0.564\n",
       "freetime                    0.3778      0.193      1.959      0.051      -0.002       0.758\n",
       "goout                      -0.7691      0.199     -3.873      0.000      -1.160      -0.378\n",
       "Dalc                       -0.0730      0.286     -0.255      0.799      -0.636       0.490\n",
       "Walc                        0.1585      0.210      0.756      0.451      -0.255       0.572\n",
       "health                     -0.2918      0.142     -2.062      0.040      -0.571      -0.013\n",
       "absences                   -0.0048      0.024     -0.196      0.845      -0.053       0.043\n",
       "school_dummy               -0.3886      0.666     -0.583      0.560      -1.701       0.924\n",
       "sex_dummy                   0.7631      0.432      1.768      0.078      -0.087       1.613\n",
       "address_dummy              -0.0205      0.487     -0.042      0.966      -0.980       0.939\n",
       "famsize_dummy               0.3125      0.440      0.710      0.478      -0.555       1.180\n",
       "Pstatus_dummy               0.1872      0.650      0.288      0.774      -1.094       1.468\n",
       "Mjob_health_dummy           1.5674      0.790      1.983      0.048       0.011       3.124\n",
       "Mjob_teacher_dummy         -0.5427      0.703     -0.772      0.441      -1.928       0.843\n",
       "Mjob_at_home_dummy          0.5423      0.598      0.907      0.365      -0.636       1.720\n",
       "Mjob_services_dummy         0.9336      0.522      1.788      0.075      -0.095       1.962\n",
       "Fjob_health_dummy           0.4193      0.952      0.440      0.660      -1.456       2.294\n",
       "Fjob_at_home_dummy          1.4765      0.984      1.500      0.135      -0.462       3.415\n",
       "Fjob_teacher_dummy          2.2932      0.796      2.882      0.004       0.726       3.860\n",
       "Fjob_services_dummy         0.6241      0.471      1.326      0.186      -0.303       1.551\n",
       "reason_other_dummy          0.1005      0.675      0.149      0.882      -1.230       1.431\n",
       "reason_reputation_dummy     0.5312      0.487      1.090      0.277      -0.429       1.491\n",
       "reason_home_dummy           0.3701      0.473      0.783      0.434      -0.561       1.301\n",
       "guardian_other_dummy        0.0880      0.782      0.113      0.910      -1.453       1.629\n",
       "guardian_father_dummy      -0.2087      0.479     -0.436      0.663      -1.152       0.734\n",
       "schoolsup_dummy            -1.7737      0.564     -3.145      0.002      -2.885      -0.663\n",
       "famsup_dummy                1.0062      0.411      2.447      0.015       0.196       1.816\n",
       "paid_dummy                  0.0321      0.403      0.080      0.937      -0.762       0.826\n",
       "activities_dummy            0.4719      0.370      1.276      0.203      -0.257       1.201\n",
       "nursery_dummy               0.0255      0.455      0.056      0.955      -0.871       0.922\n",
       "higher_dummy               -1.1077      0.876     -1.265      0.207      -2.833       0.617\n",
       "internet_dummy             -0.0671      0.502     -0.134      0.894      -1.055       0.921\n",
       "romantic_dummy             -0.0842      0.399     -0.211      0.833      -0.870       0.702\n",
       "==============================================================================\n",
       "Omnibus:                        6.431   Durbin-Watson:                   2.003\n",
       "Prob(Omnibus):                  0.040   Jarque-Bera (JB):                4.178\n",
       "Skew:                           0.128   Prob(JB):                        0.124\n",
       "Kurtosis:                       2.464   Cond. No.                         399.\n",
       "==============================================================================\n",
       "\n",
       "Warnings:\n",
       "[1] Standard Errors assume that the covariance matrix of the errors is correctly specified.\n",
       "\"\"\""
      ]
     },
     "execution_count": 31,
     "metadata": {},
     "output_type": "execute_result"
    }
   ],
   "source": [
    "modelo_g1 = smf.ols(\"G1 ~ age + Medu + Fedu + traveltime + studytime + failures + famrel + freetime + goout + Dalc + Walc + health + absences + school_dummy + sex_dummy + address_dummy + famsize_dummy + Pstatus_dummy + Mjob_health_dummy + Mjob_teacher_dummy + Mjob_at_home_dummy + Mjob_services_dummy + Fjob_health_dummy + Fjob_at_home_dummy + Fjob_teacher_dummy + Fjob_services_dummy + reason_other_dummy + reason_reputation_dummy + reason_home_dummy + guardian_other_dummy + guardian_father_dummy + schoolsup_dummy + famsup_dummy + paid_dummy + activities_dummy + nursery_dummy + higher_dummy + internet_dummy + romantic_dummy\", df).fit()\n",
    "modelo_g1.summary()"
   ]
  },
  {
   "cell_type": "markdown",
   "metadata": {},
   "source": [
    "## Depuramos el modelo G1\n",
    "Utilizando un nivel de significancia del 95%, eliminamos aquellas variables que en el modelo presenten P_value mayor a 0.05\n",
    "\n",
    "- age (0.677)\n",
    "- Medu (0.521)\n",
    "- Fedu (0.519)\n",
    "- traveltime (0.941)\n",
    "- famrel (0.497)\n",
    "- freetime (0.051) \n",
    "- Dalc (0.799)\n",
    "- Walc (0.451)\n",
    "- absences (0.845)\n",
    "- school_dummy (0.560)\n",
    "- sex_dummy (0.078)\n",
    "- address_dummy (0.966)\n",
    "- famsize_dummy (0.478)\n",
    "- Pstatus_dummy (0.774)\n",
    "- Mjob_teacher_dummy (0.441)\n",
    "- Mjob_at_home_dummy (0.365)\n",
    "- Mjob_services_dummy (0.075)\n",
    "- Fjob_health_dummy (0.660)\n",
    "- Fjob_at_home_dummy (0.135)\n",
    "- Fjob_services_dummy (0.186)\n",
    "- reason_other_dummy (0.882)\n",
    "- reason_reputation_dummy (0.277)\n",
    "- reason_home_dummy (0.434)\n",
    "- guardian_other_dummy (0.910)\n",
    "- guardian_father_dummy (0.663)\n",
    "- paid_dummy (0.937)\n",
    "- activities_dummy (0.203)\n",
    "- nursery_dummy (0.955)\n",
    "- higher_dummy (0.207)\n",
    "- internet_dummy (0.894)\n",
    "- romantic_dummy (0.833)"
   ]
  },
  {
   "cell_type": "code",
   "execution_count": 32,
   "metadata": {},
   "outputs": [
    {
     "data": {
      "text/html": [
       "<table class=\"simpletable\">\n",
       "<caption>OLS Regression Results</caption>\n",
       "<tr>\n",
       "  <th>Dep. Variable:</th>           <td>G1</td>        <th>  R-squared:         </th> <td>   0.249</td>\n",
       "</tr>\n",
       "<tr>\n",
       "  <th>Model:</th>                   <td>OLS</td>       <th>  Adj. R-squared:    </th> <td>   0.228</td>\n",
       "</tr>\n",
       "<tr>\n",
       "  <th>Method:</th>             <td>Least Squares</td>  <th>  F-statistic:       </th> <td>   11.42</td>\n",
       "</tr>\n",
       "<tr>\n",
       "  <th>Date:</th>             <td>Mon, 29 Jul 2019</td> <th>  Prob (F-statistic):</th> <td>5.59e-14</td>\n",
       "</tr>\n",
       "<tr>\n",
       "  <th>Time:</th>                 <td>20:15:35</td>     <th>  Log-Likelihood:    </th> <td> -699.89</td>\n",
       "</tr>\n",
       "<tr>\n",
       "  <th>No. Observations:</th>      <td>   284</td>      <th>  AIC:               </th> <td>   1418.</td>\n",
       "</tr>\n",
       "<tr>\n",
       "  <th>Df Residuals:</th>          <td>   275</td>      <th>  BIC:               </th> <td>   1451.</td>\n",
       "</tr>\n",
       "<tr>\n",
       "  <th>Df Model:</th>              <td>     8</td>      <th>                     </th>     <td> </td>   \n",
       "</tr>\n",
       "<tr>\n",
       "  <th>Covariance Type:</th>      <td>nonrobust</td>    <th>                     </th>     <td> </td>   \n",
       "</tr>\n",
       "</table>\n",
       "<table class=\"simpletable\">\n",
       "<tr>\n",
       "           <td></td>             <th>coef</th>     <th>std err</th>      <th>t</th>      <th>P>|t|</th>  <th>[0.025</th>    <th>0.975]</th>  \n",
       "</tr>\n",
       "<tr>\n",
       "  <th>Intercept</th>          <td>   12.7024</td> <td>    0.925</td> <td>   13.726</td> <td> 0.000</td> <td>   10.881</td> <td>   14.524</td>\n",
       "</tr>\n",
       "<tr>\n",
       "  <th>studytime</th>          <td>    0.3880</td> <td>    0.212</td> <td>    1.833</td> <td> 0.068</td> <td>   -0.029</td> <td>    0.805</td>\n",
       "</tr>\n",
       "<tr>\n",
       "  <th>failures</th>           <td>   -1.2038</td> <td>    0.242</td> <td>   -4.971</td> <td> 0.000</td> <td>   -1.681</td> <td>   -0.727</td>\n",
       "</tr>\n",
       "<tr>\n",
       "  <th>goout</th>              <td>   -0.5403</td> <td>    0.163</td> <td>   -3.314</td> <td> 0.001</td> <td>   -0.861</td> <td>   -0.219</td>\n",
       "</tr>\n",
       "<tr>\n",
       "  <th>health</th>             <td>   -0.2355</td> <td>    0.132</td> <td>   -1.789</td> <td> 0.075</td> <td>   -0.495</td> <td>    0.024</td>\n",
       "</tr>\n",
       "<tr>\n",
       "  <th>Mjob_health_dummy</th>  <td>    1.4750</td> <td>    0.601</td> <td>    2.453</td> <td> 0.015</td> <td>    0.291</td> <td>    2.659</td>\n",
       "</tr>\n",
       "<tr>\n",
       "  <th>Fjob_teacher_dummy</th> <td>    2.0756</td> <td>    0.664</td> <td>    3.125</td> <td> 0.002</td> <td>    0.768</td> <td>    3.383</td>\n",
       "</tr>\n",
       "<tr>\n",
       "  <th>schoolsup_dummy</th>    <td>   -1.9478</td> <td>    0.511</td> <td>   -3.810</td> <td> 0.000</td> <td>   -2.954</td> <td>   -0.941</td>\n",
       "</tr>\n",
       "<tr>\n",
       "  <th>famsup_dummy</th>       <td>    0.8549</td> <td>    0.366</td> <td>    2.335</td> <td> 0.020</td> <td>    0.134</td> <td>    1.575</td>\n",
       "</tr>\n",
       "</table>\n",
       "<table class=\"simpletable\">\n",
       "<tr>\n",
       "  <th>Omnibus:</th>       <td> 9.975</td> <th>  Durbin-Watson:     </th> <td>   1.996</td>\n",
       "</tr>\n",
       "<tr>\n",
       "  <th>Prob(Omnibus):</th> <td> 0.007</td> <th>  Jarque-Bera (JB):  </th> <td>   5.403</td>\n",
       "</tr>\n",
       "<tr>\n",
       "  <th>Skew:</th>          <td> 0.121</td> <th>  Prob(JB):          </th> <td>  0.0671</td>\n",
       "</tr>\n",
       "<tr>\n",
       "  <th>Kurtosis:</th>      <td> 2.369</td> <th>  Cond. No.          </th> <td>    30.5</td>\n",
       "</tr>\n",
       "</table><br/><br/>Warnings:<br/>[1] Standard Errors assume that the covariance matrix of the errors is correctly specified."
      ],
      "text/plain": [
       "<class 'statsmodels.iolib.summary.Summary'>\n",
       "\"\"\"\n",
       "                            OLS Regression Results                            \n",
       "==============================================================================\n",
       "Dep. Variable:                     G1   R-squared:                       0.249\n",
       "Model:                            OLS   Adj. R-squared:                  0.228\n",
       "Method:                 Least Squares   F-statistic:                     11.42\n",
       "Date:                Mon, 29 Jul 2019   Prob (F-statistic):           5.59e-14\n",
       "Time:                        20:15:35   Log-Likelihood:                -699.89\n",
       "No. Observations:                 284   AIC:                             1418.\n",
       "Df Residuals:                     275   BIC:                             1451.\n",
       "Df Model:                           8                                         \n",
       "Covariance Type:            nonrobust                                         \n",
       "======================================================================================\n",
       "                         coef    std err          t      P>|t|      [0.025      0.975]\n",
       "--------------------------------------------------------------------------------------\n",
       "Intercept             12.7024      0.925     13.726      0.000      10.881      14.524\n",
       "studytime              0.3880      0.212      1.833      0.068      -0.029       0.805\n",
       "failures              -1.2038      0.242     -4.971      0.000      -1.681      -0.727\n",
       "goout                 -0.5403      0.163     -3.314      0.001      -0.861      -0.219\n",
       "health                -0.2355      0.132     -1.789      0.075      -0.495       0.024\n",
       "Mjob_health_dummy      1.4750      0.601      2.453      0.015       0.291       2.659\n",
       "Fjob_teacher_dummy     2.0756      0.664      3.125      0.002       0.768       3.383\n",
       "schoolsup_dummy       -1.9478      0.511     -3.810      0.000      -2.954      -0.941\n",
       "famsup_dummy           0.8549      0.366      2.335      0.020       0.134       1.575\n",
       "==============================================================================\n",
       "Omnibus:                        9.975   Durbin-Watson:                   1.996\n",
       "Prob(Omnibus):                  0.007   Jarque-Bera (JB):                5.403\n",
       "Skew:                           0.121   Prob(JB):                       0.0671\n",
       "Kurtosis:                       2.369   Cond. No.                         30.5\n",
       "==============================================================================\n",
       "\n",
       "Warnings:\n",
       "[1] Standard Errors assume that the covariance matrix of the errors is correctly specified.\n",
       "\"\"\""
      ]
     },
     "execution_count": 32,
     "metadata": {},
     "output_type": "execute_result"
    }
   ],
   "source": [
    "modelo_g1 = smf.ols(\"G1 ~ studytime + failures + goout + health + Mjob_health_dummy + Fjob_teacher_dummy + schoolsup_dummy + famsup_dummy\", df).fit()\n",
    "modelo_g1.summary()"
   ]
  },
  {
   "cell_type": "markdown",
   "metadata": {},
   "source": [
    "### 2da depuración del modelo G1"
   ]
  },
  {
   "cell_type": "markdown",
   "metadata": {},
   "source": [
    "Luego de la primera depuración, los niveles de significancia variaron en algunas variables obteniendo P_values mayores a 0.05 por lo que debemos eliminarlas de nuestro modelo.\n",
    "\n",
    "- studytime (0.068)\n",
    "- health (0.075)"
   ]
  },
  {
   "cell_type": "code",
   "execution_count": 33,
   "metadata": {},
   "outputs": [
    {
     "data": {
      "text/html": [
       "<table class=\"simpletable\">\n",
       "<caption>OLS Regression Results</caption>\n",
       "<tr>\n",
       "  <th>Dep. Variable:</th>           <td>G1</td>        <th>  R-squared:         </th> <td>   0.230</td>\n",
       "</tr>\n",
       "<tr>\n",
       "  <th>Model:</th>                   <td>OLS</td>       <th>  Adj. R-squared:    </th> <td>   0.213</td>\n",
       "</tr>\n",
       "<tr>\n",
       "  <th>Method:</th>             <td>Least Squares</td>  <th>  F-statistic:       </th> <td>   13.76</td>\n",
       "</tr>\n",
       "<tr>\n",
       "  <th>Date:</th>             <td>Mon, 29 Jul 2019</td> <th>  Prob (F-statistic):</th> <td>1.12e-13</td>\n",
       "</tr>\n",
       "<tr>\n",
       "  <th>Time:</th>                 <td>20:15:35</td>     <th>  Log-Likelihood:    </th> <td> -703.59</td>\n",
       "</tr>\n",
       "<tr>\n",
       "  <th>No. Observations:</th>      <td>   284</td>      <th>  AIC:               </th> <td>   1421.</td>\n",
       "</tr>\n",
       "<tr>\n",
       "  <th>Df Residuals:</th>          <td>   277</td>      <th>  BIC:               </th> <td>   1447.</td>\n",
       "</tr>\n",
       "<tr>\n",
       "  <th>Df Model:</th>              <td>     6</td>      <th>                     </th>     <td> </td>   \n",
       "</tr>\n",
       "<tr>\n",
       "  <th>Covariance Type:</th>      <td>nonrobust</td>    <th>                     </th>     <td> </td>   \n",
       "</tr>\n",
       "</table>\n",
       "<table class=\"simpletable\">\n",
       "<tr>\n",
       "           <td></td>             <th>coef</th>     <th>std err</th>      <th>t</th>      <th>P>|t|</th>  <th>[0.025</th>    <th>0.975]</th>  \n",
       "</tr>\n",
       "<tr>\n",
       "  <th>Intercept</th>          <td>   12.7694</td> <td>    0.566</td> <td>   22.547</td> <td> 0.000</td> <td>   11.655</td> <td>   13.884</td>\n",
       "</tr>\n",
       "<tr>\n",
       "  <th>failures</th>           <td>   -1.3095</td> <td>    0.241</td> <td>   -5.433</td> <td> 0.000</td> <td>   -1.784</td> <td>   -0.835</td>\n",
       "</tr>\n",
       "<tr>\n",
       "  <th>goout</th>              <td>   -0.5553</td> <td>    0.164</td> <td>   -3.382</td> <td> 0.001</td> <td>   -0.879</td> <td>   -0.232</td>\n",
       "</tr>\n",
       "<tr>\n",
       "  <th>Mjob_health_dummy</th>  <td>    1.3992</td> <td>    0.606</td> <td>    2.308</td> <td> 0.022</td> <td>    0.206</td> <td>    2.593</td>\n",
       "</tr>\n",
       "<tr>\n",
       "  <th>Fjob_teacher_dummy</th> <td>    1.9875</td> <td>    0.668</td> <td>    2.974</td> <td> 0.003</td> <td>    0.672</td> <td>    3.303</td>\n",
       "</tr>\n",
       "<tr>\n",
       "  <th>schoolsup_dummy</th>    <td>   -1.9180</td> <td>    0.516</td> <td>   -3.717</td> <td> 0.000</td> <td>   -2.934</td> <td>   -0.902</td>\n",
       "</tr>\n",
       "<tr>\n",
       "  <th>famsup_dummy</th>       <td>    0.7647</td> <td>    0.363</td> <td>    2.108</td> <td> 0.036</td> <td>    0.050</td> <td>    1.479</td>\n",
       "</tr>\n",
       "</table>\n",
       "<table class=\"simpletable\">\n",
       "<tr>\n",
       "  <th>Omnibus:</th>       <td> 5.751</td> <th>  Durbin-Watson:     </th> <td>   1.976</td>\n",
       "</tr>\n",
       "<tr>\n",
       "  <th>Prob(Omnibus):</th> <td> 0.056</td> <th>  Jarque-Bera (JB):  </th> <td>   3.939</td>\n",
       "</tr>\n",
       "<tr>\n",
       "  <th>Skew:</th>          <td> 0.134</td> <th>  Prob(JB):          </th> <td>   0.139</td>\n",
       "</tr>\n",
       "<tr>\n",
       "  <th>Kurtosis:</th>      <td> 2.489</td> <th>  Cond. No.          </th> <td>    14.1</td>\n",
       "</tr>\n",
       "</table><br/><br/>Warnings:<br/>[1] Standard Errors assume that the covariance matrix of the errors is correctly specified."
      ],
      "text/plain": [
       "<class 'statsmodels.iolib.summary.Summary'>\n",
       "\"\"\"\n",
       "                            OLS Regression Results                            \n",
       "==============================================================================\n",
       "Dep. Variable:                     G1   R-squared:                       0.230\n",
       "Model:                            OLS   Adj. R-squared:                  0.213\n",
       "Method:                 Least Squares   F-statistic:                     13.76\n",
       "Date:                Mon, 29 Jul 2019   Prob (F-statistic):           1.12e-13\n",
       "Time:                        20:15:35   Log-Likelihood:                -703.59\n",
       "No. Observations:                 284   AIC:                             1421.\n",
       "Df Residuals:                     277   BIC:                             1447.\n",
       "Df Model:                           6                                         \n",
       "Covariance Type:            nonrobust                                         \n",
       "======================================================================================\n",
       "                         coef    std err          t      P>|t|      [0.025      0.975]\n",
       "--------------------------------------------------------------------------------------\n",
       "Intercept             12.7694      0.566     22.547      0.000      11.655      13.884\n",
       "failures              -1.3095      0.241     -5.433      0.000      -1.784      -0.835\n",
       "goout                 -0.5553      0.164     -3.382      0.001      -0.879      -0.232\n",
       "Mjob_health_dummy      1.3992      0.606      2.308      0.022       0.206       2.593\n",
       "Fjob_teacher_dummy     1.9875      0.668      2.974      0.003       0.672       3.303\n",
       "schoolsup_dummy       -1.9180      0.516     -3.717      0.000      -2.934      -0.902\n",
       "famsup_dummy           0.7647      0.363      2.108      0.036       0.050       1.479\n",
       "==============================================================================\n",
       "Omnibus:                        5.751   Durbin-Watson:                   1.976\n",
       "Prob(Omnibus):                  0.056   Jarque-Bera (JB):                3.939\n",
       "Skew:                           0.134   Prob(JB):                        0.139\n",
       "Kurtosis:                       2.489   Cond. No.                         14.1\n",
       "==============================================================================\n",
       "\n",
       "Warnings:\n",
       "[1] Standard Errors assume that the covariance matrix of the errors is correctly specified.\n",
       "\"\"\""
      ]
     },
     "execution_count": 33,
     "metadata": {},
     "output_type": "execute_result"
    }
   ],
   "source": [
    "modelo_g1 = smf.ols(\"G1 ~ failures + goout + Mjob_health_dummy + Fjob_teacher_dummy + schoolsup_dummy + famsup_dummy\", df).fit()\n",
    "modelo_g1.summary()"
   ]
  },
  {
   "cell_type": "markdown",
   "metadata": {},
   "source": [
    "### Modelo G2 con todas las variables."
   ]
  },
  {
   "cell_type": "code",
   "execution_count": 34,
   "metadata": {},
   "outputs": [
    {
     "data": {
      "text/html": [
       "<table class=\"simpletable\">\n",
       "<caption>OLS Regression Results</caption>\n",
       "<tr>\n",
       "  <th>Dep. Variable:</th>           <td>G2</td>        <th>  R-squared:         </th> <td>   0.778</td>\n",
       "</tr>\n",
       "<tr>\n",
       "  <th>Model:</th>                   <td>OLS</td>       <th>  Adj. R-squared:    </th> <td>   0.741</td>\n",
       "</tr>\n",
       "<tr>\n",
       "  <th>Method:</th>             <td>Least Squares</td>  <th>  F-statistic:       </th> <td>   21.23</td>\n",
       "</tr>\n",
       "<tr>\n",
       "  <th>Date:</th>             <td>Mon, 29 Jul 2019</td> <th>  Prob (F-statistic):</th> <td>6.35e-59</td>\n",
       "</tr>\n",
       "<tr>\n",
       "  <th>Time:</th>                 <td>20:15:35</td>     <th>  Log-Likelihood:    </th> <td> -567.39</td>\n",
       "</tr>\n",
       "<tr>\n",
       "  <th>No. Observations:</th>      <td>   284</td>      <th>  AIC:               </th> <td>   1217.</td>\n",
       "</tr>\n",
       "<tr>\n",
       "  <th>Df Residuals:</th>          <td>   243</td>      <th>  BIC:               </th> <td>   1366.</td>\n",
       "</tr>\n",
       "<tr>\n",
       "  <th>Df Model:</th>              <td>    40</td>      <th>                     </th>     <td> </td>   \n",
       "</tr>\n",
       "<tr>\n",
       "  <th>Covariance Type:</th>      <td>nonrobust</td>    <th>                     </th>     <td> </td>   \n",
       "</tr>\n",
       "</table>\n",
       "<table class=\"simpletable\">\n",
       "<tr>\n",
       "             <td></td>                <th>coef</th>     <th>std err</th>      <th>t</th>      <th>P>|t|</th>  <th>[0.025</th>    <th>0.975]</th>  \n",
       "</tr>\n",
       "<tr>\n",
       "  <th>Intercept</th>               <td>    4.7079</td> <td>    2.292</td> <td>    2.054</td> <td> 0.041</td> <td>    0.194</td> <td>    9.222</td>\n",
       "</tr>\n",
       "<tr>\n",
       "  <th>G1</th>                      <td>    0.9721</td> <td>    0.043</td> <td>   22.817</td> <td> 0.000</td> <td>    0.888</td> <td>    1.056</td>\n",
       "</tr>\n",
       "<tr>\n",
       "  <th>age</th>                     <td>   -0.1446</td> <td>    0.123</td> <td>   -1.176</td> <td> 0.241</td> <td>   -0.387</td> <td>    0.098</td>\n",
       "</tr>\n",
       "<tr>\n",
       "  <th>Medu</th>                    <td>    0.1463</td> <td>    0.188</td> <td>    0.780</td> <td> 0.436</td> <td>   -0.223</td> <td>    0.516</td>\n",
       "</tr>\n",
       "<tr>\n",
       "  <th>Fedu</th>                    <td>   -0.2716</td> <td>    0.157</td> <td>   -1.726</td> <td> 0.086</td> <td>   -0.582</td> <td>    0.038</td>\n",
       "</tr>\n",
       "<tr>\n",
       "  <th>traveltime</th>              <td>   -0.2002</td> <td>    0.194</td> <td>   -1.035</td> <td> 0.302</td> <td>   -0.581</td> <td>    0.181</td>\n",
       "</tr>\n",
       "<tr>\n",
       "  <th>studytime</th>               <td>   -0.0761</td> <td>    0.165</td> <td>   -0.462</td> <td> 0.644</td> <td>   -0.401</td> <td>    0.248</td>\n",
       "</tr>\n",
       "<tr>\n",
       "  <th>failures</th>                <td>   -0.0372</td> <td>    0.194</td> <td>   -0.192</td> <td> 0.848</td> <td>   -0.419</td> <td>    0.345</td>\n",
       "</tr>\n",
       "<tr>\n",
       "  <th>famrel</th>                  <td>   -0.1127</td> <td>    0.142</td> <td>   -0.794</td> <td> 0.428</td> <td>   -0.392</td> <td>    0.167</td>\n",
       "</tr>\n",
       "<tr>\n",
       "  <th>freetime</th>                <td>   -0.0353</td> <td>    0.129</td> <td>   -0.273</td> <td> 0.785</td> <td>   -0.290</td> <td>    0.219</td>\n",
       "</tr>\n",
       "<tr>\n",
       "  <th>goout</th>                   <td>   -0.2179</td> <td>    0.136</td> <td>   -1.600</td> <td> 0.111</td> <td>   -0.486</td> <td>    0.050</td>\n",
       "</tr>\n",
       "<tr>\n",
       "  <th>Dalc</th>                    <td>   -0.1390</td> <td>    0.190</td> <td>   -0.731</td> <td> 0.466</td> <td>   -0.514</td> <td>    0.236</td>\n",
       "</tr>\n",
       "<tr>\n",
       "  <th>Walc</th>                    <td>    0.2052</td> <td>    0.140</td> <td>    1.468</td> <td> 0.143</td> <td>   -0.070</td> <td>    0.480</td>\n",
       "</tr>\n",
       "<tr>\n",
       "  <th>health</th>                  <td>   -0.1065</td> <td>    0.095</td> <td>   -1.121</td> <td> 0.264</td> <td>   -0.294</td> <td>    0.081</td>\n",
       "</tr>\n",
       "<tr>\n",
       "  <th>absences</th>                <td>   -0.0032</td> <td>    0.016</td> <td>   -0.198</td> <td> 0.843</td> <td>   -0.035</td> <td>    0.029</td>\n",
       "</tr>\n",
       "<tr>\n",
       "  <th>school_dummy</th>            <td>    0.6174</td> <td>    0.444</td> <td>    1.391</td> <td> 0.165</td> <td>   -0.257</td> <td>    1.492</td>\n",
       "</tr>\n",
       "<tr>\n",
       "  <th>sex_dummy</th>               <td>    0.1467</td> <td>    0.289</td> <td>    0.507</td> <td> 0.612</td> <td>   -0.423</td> <td>    0.716</td>\n",
       "</tr>\n",
       "<tr>\n",
       "  <th>address_dummy</th>           <td>   -0.7340</td> <td>    0.324</td> <td>   -2.265</td> <td> 0.024</td> <td>   -1.372</td> <td>   -0.096</td>\n",
       "</tr>\n",
       "<tr>\n",
       "  <th>famsize_dummy</th>           <td>    0.1601</td> <td>    0.293</td> <td>    0.546</td> <td> 0.586</td> <td>   -0.418</td> <td>    0.738</td>\n",
       "</tr>\n",
       "<tr>\n",
       "  <th>Pstatus_dummy</th>           <td>    0.4132</td> <td>    0.433</td> <td>    0.954</td> <td> 0.341</td> <td>   -0.440</td> <td>    1.266</td>\n",
       "</tr>\n",
       "<tr>\n",
       "  <th>Mjob_health_dummy</th>       <td>   -0.1755</td> <td>    0.530</td> <td>   -0.331</td> <td> 0.741</td> <td>   -1.220</td> <td>    0.869</td>\n",
       "</tr>\n",
       "<tr>\n",
       "  <th>Mjob_teacher_dummy</th>      <td>   -0.3872</td> <td>    0.469</td> <td>   -0.826</td> <td> 0.409</td> <td>   -1.310</td> <td>    0.536</td>\n",
       "</tr>\n",
       "<tr>\n",
       "  <th>Mjob_at_home_dummy</th>      <td>   -0.4824</td> <td>    0.399</td> <td>   -1.210</td> <td> 0.227</td> <td>   -1.268</td> <td>    0.303</td>\n",
       "</tr>\n",
       "<tr>\n",
       "  <th>Mjob_services_dummy</th>     <td>   -0.3352</td> <td>    0.350</td> <td>   -0.958</td> <td> 0.339</td> <td>   -1.024</td> <td>    0.354</td>\n",
       "</tr>\n",
       "<tr>\n",
       "  <th>Fjob_health_dummy</th>       <td>   -0.1301</td> <td>    0.634</td> <td>   -0.205</td> <td> 0.838</td> <td>   -1.379</td> <td>    1.118</td>\n",
       "</tr>\n",
       "<tr>\n",
       "  <th>Fjob_at_home_dummy</th>      <td>   -0.7780</td> <td>    0.658</td> <td>   -1.182</td> <td> 0.238</td> <td>   -2.074</td> <td>    0.518</td>\n",
       "</tr>\n",
       "<tr>\n",
       "  <th>Fjob_teacher_dummy</th>      <td>   -0.5328</td> <td>    0.538</td> <td>   -0.990</td> <td> 0.323</td> <td>   -1.593</td> <td>    0.528</td>\n",
       "</tr>\n",
       "<tr>\n",
       "  <th>Fjob_services_dummy</th>     <td>    0.2965</td> <td>    0.314</td> <td>    0.943</td> <td> 0.346</td> <td>   -0.323</td> <td>    0.916</td>\n",
       "</tr>\n",
       "<tr>\n",
       "  <th>reason_other_dummy</th>      <td>    0.7022</td> <td>    0.450</td> <td>    1.562</td> <td> 0.120</td> <td>   -0.183</td> <td>    1.588</td>\n",
       "</tr>\n",
       "<tr>\n",
       "  <th>reason_reputation_dummy</th> <td>    0.1314</td> <td>    0.325</td> <td>    0.404</td> <td> 0.686</td> <td>   -0.509</td> <td>    0.772</td>\n",
       "</tr>\n",
       "<tr>\n",
       "  <th>reason_home_dummy</th>       <td>    0.1074</td> <td>    0.315</td> <td>    0.341</td> <td> 0.733</td> <td>   -0.513</td> <td>    0.728</td>\n",
       "</tr>\n",
       "<tr>\n",
       "  <th>guardian_other_dummy</th>    <td>   -0.0878</td> <td>    0.520</td> <td>   -0.169</td> <td> 0.866</td> <td>   -1.113</td> <td>    0.937</td>\n",
       "</tr>\n",
       "<tr>\n",
       "  <th>guardian_father_dummy</th>   <td>    0.1603</td> <td>    0.319</td> <td>    0.503</td> <td> 0.615</td> <td>   -0.467</td> <td>    0.788</td>\n",
       "</tr>\n",
       "<tr>\n",
       "  <th>schoolsup_dummy</th>         <td>    0.6846</td> <td>    0.383</td> <td>    1.788</td> <td> 0.075</td> <td>   -0.069</td> <td>    1.439</td>\n",
       "</tr>\n",
       "<tr>\n",
       "  <th>famsup_dummy</th>            <td>    0.0243</td> <td>    0.277</td> <td>    0.088</td> <td> 0.930</td> <td>   -0.521</td> <td>    0.570</td>\n",
       "</tr>\n",
       "<tr>\n",
       "  <th>paid_dummy</th>              <td>    0.4468</td> <td>    0.268</td> <td>    1.666</td> <td> 0.097</td> <td>   -0.081</td> <td>    0.975</td>\n",
       "</tr>\n",
       "<tr>\n",
       "  <th>activities_dummy</th>        <td>   -0.2479</td> <td>    0.247</td> <td>   -1.003</td> <td> 0.317</td> <td>   -0.735</td> <td>    0.239</td>\n",
       "</tr>\n",
       "<tr>\n",
       "  <th>nursery_dummy</th>           <td>   -0.1686</td> <td>    0.303</td> <td>   -0.557</td> <td> 0.578</td> <td>   -0.765</td> <td>    0.428</td>\n",
       "</tr>\n",
       "<tr>\n",
       "  <th>higher_dummy</th>            <td>   -0.0326</td> <td>    0.585</td> <td>   -0.056</td> <td> 0.956</td> <td>   -1.184</td> <td>    1.119</td>\n",
       "</tr>\n",
       "<tr>\n",
       "  <th>internet_dummy</th>          <td>   -0.3763</td> <td>    0.334</td> <td>   -1.127</td> <td> 0.261</td> <td>   -1.034</td> <td>    0.281</td>\n",
       "</tr>\n",
       "<tr>\n",
       "  <th>romantic_dummy</th>          <td>   -0.6505</td> <td>    0.266</td> <td>   -2.450</td> <td> 0.015</td> <td>   -1.174</td> <td>   -0.127</td>\n",
       "</tr>\n",
       "</table>\n",
       "<table class=\"simpletable\">\n",
       "<tr>\n",
       "  <th>Omnibus:</th>       <td>101.740</td> <th>  Durbin-Watson:     </th> <td>   1.372</td>\n",
       "</tr>\n",
       "<tr>\n",
       "  <th>Prob(Omnibus):</th> <td> 0.000</td>  <th>  Jarque-Bera (JB):  </th> <td> 444.443</td>\n",
       "</tr>\n",
       "<tr>\n",
       "  <th>Skew:</th>          <td>-1.437</td>  <th>  Prob(JB):          </th> <td>3.09e-97</td>\n",
       "</tr>\n",
       "<tr>\n",
       "  <th>Kurtosis:</th>      <td> 8.413</td>  <th>  Cond. No.          </th> <td>    460.</td>\n",
       "</tr>\n",
       "</table><br/><br/>Warnings:<br/>[1] Standard Errors assume that the covariance matrix of the errors is correctly specified."
      ],
      "text/plain": [
       "<class 'statsmodels.iolib.summary.Summary'>\n",
       "\"\"\"\n",
       "                            OLS Regression Results                            \n",
       "==============================================================================\n",
       "Dep. Variable:                     G2   R-squared:                       0.778\n",
       "Model:                            OLS   Adj. R-squared:                  0.741\n",
       "Method:                 Least Squares   F-statistic:                     21.23\n",
       "Date:                Mon, 29 Jul 2019   Prob (F-statistic):           6.35e-59\n",
       "Time:                        20:15:35   Log-Likelihood:                -567.39\n",
       "No. Observations:                 284   AIC:                             1217.\n",
       "Df Residuals:                     243   BIC:                             1366.\n",
       "Df Model:                          40                                         \n",
       "Covariance Type:            nonrobust                                         \n",
       "===========================================================================================\n",
       "                              coef    std err          t      P>|t|      [0.025      0.975]\n",
       "-------------------------------------------------------------------------------------------\n",
       "Intercept                   4.7079      2.292      2.054      0.041       0.194       9.222\n",
       "G1                          0.9721      0.043     22.817      0.000       0.888       1.056\n",
       "age                        -0.1446      0.123     -1.176      0.241      -0.387       0.098\n",
       "Medu                        0.1463      0.188      0.780      0.436      -0.223       0.516\n",
       "Fedu                       -0.2716      0.157     -1.726      0.086      -0.582       0.038\n",
       "traveltime                 -0.2002      0.194     -1.035      0.302      -0.581       0.181\n",
       "studytime                  -0.0761      0.165     -0.462      0.644      -0.401       0.248\n",
       "failures                   -0.0372      0.194     -0.192      0.848      -0.419       0.345\n",
       "famrel                     -0.1127      0.142     -0.794      0.428      -0.392       0.167\n",
       "freetime                   -0.0353      0.129     -0.273      0.785      -0.290       0.219\n",
       "goout                      -0.2179      0.136     -1.600      0.111      -0.486       0.050\n",
       "Dalc                       -0.1390      0.190     -0.731      0.466      -0.514       0.236\n",
       "Walc                        0.2052      0.140      1.468      0.143      -0.070       0.480\n",
       "health                     -0.1065      0.095     -1.121      0.264      -0.294       0.081\n",
       "absences                   -0.0032      0.016     -0.198      0.843      -0.035       0.029\n",
       "school_dummy                0.6174      0.444      1.391      0.165      -0.257       1.492\n",
       "sex_dummy                   0.1467      0.289      0.507      0.612      -0.423       0.716\n",
       "address_dummy              -0.7340      0.324     -2.265      0.024      -1.372      -0.096\n",
       "famsize_dummy               0.1601      0.293      0.546      0.586      -0.418       0.738\n",
       "Pstatus_dummy               0.4132      0.433      0.954      0.341      -0.440       1.266\n",
       "Mjob_health_dummy          -0.1755      0.530     -0.331      0.741      -1.220       0.869\n",
       "Mjob_teacher_dummy         -0.3872      0.469     -0.826      0.409      -1.310       0.536\n",
       "Mjob_at_home_dummy         -0.4824      0.399     -1.210      0.227      -1.268       0.303\n",
       "Mjob_services_dummy        -0.3352      0.350     -0.958      0.339      -1.024       0.354\n",
       "Fjob_health_dummy          -0.1301      0.634     -0.205      0.838      -1.379       1.118\n",
       "Fjob_at_home_dummy         -0.7780      0.658     -1.182      0.238      -2.074       0.518\n",
       "Fjob_teacher_dummy         -0.5328      0.538     -0.990      0.323      -1.593       0.528\n",
       "Fjob_services_dummy         0.2965      0.314      0.943      0.346      -0.323       0.916\n",
       "reason_other_dummy          0.7022      0.450      1.562      0.120      -0.183       1.588\n",
       "reason_reputation_dummy     0.1314      0.325      0.404      0.686      -0.509       0.772\n",
       "reason_home_dummy           0.1074      0.315      0.341      0.733      -0.513       0.728\n",
       "guardian_other_dummy       -0.0878      0.520     -0.169      0.866      -1.113       0.937\n",
       "guardian_father_dummy       0.1603      0.319      0.503      0.615      -0.467       0.788\n",
       "schoolsup_dummy             0.6846      0.383      1.788      0.075      -0.069       1.439\n",
       "famsup_dummy                0.0243      0.277      0.088      0.930      -0.521       0.570\n",
       "paid_dummy                  0.4468      0.268      1.666      0.097      -0.081       0.975\n",
       "activities_dummy           -0.2479      0.247     -1.003      0.317      -0.735       0.239\n",
       "nursery_dummy              -0.1686      0.303     -0.557      0.578      -0.765       0.428\n",
       "higher_dummy               -0.0326      0.585     -0.056      0.956      -1.184       1.119\n",
       "internet_dummy             -0.3763      0.334     -1.127      0.261      -1.034       0.281\n",
       "romantic_dummy             -0.6505      0.266     -2.450      0.015      -1.174      -0.127\n",
       "==============================================================================\n",
       "Omnibus:                      101.740   Durbin-Watson:                   1.372\n",
       "Prob(Omnibus):                  0.000   Jarque-Bera (JB):              444.443\n",
       "Skew:                          -1.437   Prob(JB):                     3.09e-97\n",
       "Kurtosis:                       8.413   Cond. No.                         460.\n",
       "==============================================================================\n",
       "\n",
       "Warnings:\n",
       "[1] Standard Errors assume that the covariance matrix of the errors is correctly specified.\n",
       "\"\"\""
      ]
     },
     "execution_count": 34,
     "metadata": {},
     "output_type": "execute_result"
    }
   ],
   "source": [
    "modelo_g2 = smf.ols(\"G2 ~ G1 + age + Medu + Fedu + traveltime + studytime + failures + famrel + freetime + goout + Dalc + Walc + health + absences + school_dummy + sex_dummy + address_dummy + famsize_dummy + Pstatus_dummy + Mjob_health_dummy + Mjob_teacher_dummy + Mjob_at_home_dummy + Mjob_services_dummy + Fjob_health_dummy + Fjob_at_home_dummy + Fjob_teacher_dummy + Fjob_services_dummy + reason_other_dummy + reason_reputation_dummy + reason_home_dummy + guardian_other_dummy + guardian_father_dummy + schoolsup_dummy + famsup_dummy + paid_dummy + activities_dummy + nursery_dummy + higher_dummy + internet_dummy + romantic_dummy\", df).fit()\n",
    "modelo_g2.summary()"
   ]
  },
  {
   "cell_type": "markdown",
   "metadata": {},
   "source": [
    "### Depuramos el modelo G2\n",
    "\n",
    "Utilizando un nivel de significancia del 95%, eliminamos aquellas variables que en el modelo presenten P_value mayor a 0.05\n",
    "\n",
    "- age (0.241)\n",
    "- Medu (0.436)\n",
    "- Fedu (0.086)\n",
    "- traveltime (0.302)\n",
    "- studytime (0.644)\n",
    "- failures (0.848)\n",
    "- famrel (0.428)\n",
    "- freetime (0.785)\n",
    "- goout (0.111)\n",
    "- Dalc (0.466)\n",
    "- Walc (0.143)\n",
    "- health (0.264)\n",
    "- absences (0.843)\n",
    "- school_dummy (0.165)\n",
    "- sex_dummy (0.612)\n",
    "- famsize_dummy (0.586)\n",
    "- Pstatus_dummy (0.341)\n",
    "- Mjob_health_dummy (0.741)\n",
    "- Mjob_teacher_dummy (0.409)\n",
    "- Mjob_at_home_dummy (0.227)\n",
    "- Mjob_services_dummy (0.339)\n",
    "- Fjob_health_dummy (0.838)\n",
    "- Fjob_at_home_dummy (0.238)\n",
    "- Fjob_teacher_dummy (0.323)\n",
    "- Fjob_services_dummy (0.346)\n",
    "- reason_other_dummy (0.120)\n",
    "- reason_reputation_dummy (0.686)\n",
    "- reason_home_dumm (0.733)\n",
    "- guardian_other_dummy (0.866)\n",
    "- guardian_father_dummy (0.615)\n",
    "- schoolsup_dummy (0.075)\n",
    "- famsup_dummy (0.930)\n",
    "- paid_dummy (0.097)\n",
    "- activities_dummy (0.317)\n",
    "- nursery_dummy (0.578)\n",
    "- higher_dummy (0.956)\n",
    "- internet_dummy (0.261)"
   ]
  },
  {
   "cell_type": "markdown",
   "metadata": {},
   "source": [
    "### Modelo G2 depurado"
   ]
  },
  {
   "cell_type": "code",
   "execution_count": 35,
   "metadata": {},
   "outputs": [
    {
     "data": {
      "text/html": [
       "<table class=\"simpletable\">\n",
       "<caption>OLS Regression Results</caption>\n",
       "<tr>\n",
       "  <th>Dep. Variable:</th>           <td>G2</td>        <th>  R-squared:         </th> <td>   0.738</td>\n",
       "</tr>\n",
       "<tr>\n",
       "  <th>Model:</th>                   <td>OLS</td>       <th>  Adj. R-squared:    </th> <td>   0.735</td>\n",
       "</tr>\n",
       "<tr>\n",
       "  <th>Method:</th>             <td>Least Squares</td>  <th>  F-statistic:       </th> <td>   262.9</td>\n",
       "</tr>\n",
       "<tr>\n",
       "  <th>Date:</th>             <td>Mon, 29 Jul 2019</td> <th>  Prob (F-statistic):</th> <td>4.22e-81</td>\n",
       "</tr>\n",
       "<tr>\n",
       "  <th>Time:</th>                 <td>20:15:35</td>     <th>  Log-Likelihood:    </th> <td> -590.62</td>\n",
       "</tr>\n",
       "<tr>\n",
       "  <th>No. Observations:</th>      <td>   284</td>      <th>  AIC:               </th> <td>   1189.</td>\n",
       "</tr>\n",
       "<tr>\n",
       "  <th>Df Residuals:</th>          <td>   280</td>      <th>  BIC:               </th> <td>   1204.</td>\n",
       "</tr>\n",
       "<tr>\n",
       "  <th>Df Model:</th>              <td>     3</td>      <th>                     </th>     <td> </td>   \n",
       "</tr>\n",
       "<tr>\n",
       "  <th>Covariance Type:</th>      <td>nonrobust</td>    <th>                     </th>     <td> </td>   \n",
       "</tr>\n",
       "</table>\n",
       "<table class=\"simpletable\">\n",
       "<tr>\n",
       "         <td></td>           <th>coef</th>     <th>std err</th>      <th>t</th>      <th>P>|t|</th>  <th>[0.025</th>    <th>0.975]</th>  \n",
       "</tr>\n",
       "<tr>\n",
       "  <th>Intercept</th>      <td>    0.5115</td> <td>    0.422</td> <td>    1.211</td> <td> 0.227</td> <td>   -0.320</td> <td>    1.343</td>\n",
       "</tr>\n",
       "<tr>\n",
       "  <th>G1</th>             <td>    0.9679</td> <td>    0.035</td> <td>   27.404</td> <td> 0.000</td> <td>    0.898</td> <td>    1.037</td>\n",
       "</tr>\n",
       "<tr>\n",
       "  <th>address_dummy</th>  <td>   -0.8709</td> <td>    0.269</td> <td>   -3.237</td> <td> 0.001</td> <td>   -1.400</td> <td>   -0.341</td>\n",
       "</tr>\n",
       "<tr>\n",
       "  <th>romantic_dummy</th> <td>   -0.7129</td> <td>    0.245</td> <td>   -2.906</td> <td> 0.004</td> <td>   -1.196</td> <td>   -0.230</td>\n",
       "</tr>\n",
       "</table>\n",
       "<table class=\"simpletable\">\n",
       "<tr>\n",
       "  <th>Omnibus:</th>       <td>150.193</td> <th>  Durbin-Watson:     </th> <td>   1.193</td> \n",
       "</tr>\n",
       "<tr>\n",
       "  <th>Prob(Omnibus):</th> <td> 0.000</td>  <th>  Jarque-Bera (JB):  </th> <td>1073.152</td> \n",
       "</tr>\n",
       "<tr>\n",
       "  <th>Skew:</th>          <td>-2.051</td>  <th>  Prob(JB):          </th> <td>9.29e-234</td>\n",
       "</tr>\n",
       "<tr>\n",
       "  <th>Kurtosis:</th>      <td>11.595</td>  <th>  Cond. No.          </th> <td>    43.0</td> \n",
       "</tr>\n",
       "</table><br/><br/>Warnings:<br/>[1] Standard Errors assume that the covariance matrix of the errors is correctly specified."
      ],
      "text/plain": [
       "<class 'statsmodels.iolib.summary.Summary'>\n",
       "\"\"\"\n",
       "                            OLS Regression Results                            \n",
       "==============================================================================\n",
       "Dep. Variable:                     G2   R-squared:                       0.738\n",
       "Model:                            OLS   Adj. R-squared:                  0.735\n",
       "Method:                 Least Squares   F-statistic:                     262.9\n",
       "Date:                Mon, 29 Jul 2019   Prob (F-statistic):           4.22e-81\n",
       "Time:                        20:15:35   Log-Likelihood:                -590.62\n",
       "No. Observations:                 284   AIC:                             1189.\n",
       "Df Residuals:                     280   BIC:                             1204.\n",
       "Df Model:                           3                                         \n",
       "Covariance Type:            nonrobust                                         \n",
       "==================================================================================\n",
       "                     coef    std err          t      P>|t|      [0.025      0.975]\n",
       "----------------------------------------------------------------------------------\n",
       "Intercept          0.5115      0.422      1.211      0.227      -0.320       1.343\n",
       "G1                 0.9679      0.035     27.404      0.000       0.898       1.037\n",
       "address_dummy     -0.8709      0.269     -3.237      0.001      -1.400      -0.341\n",
       "romantic_dummy    -0.7129      0.245     -2.906      0.004      -1.196      -0.230\n",
       "==============================================================================\n",
       "Omnibus:                      150.193   Durbin-Watson:                   1.193\n",
       "Prob(Omnibus):                  0.000   Jarque-Bera (JB):             1073.152\n",
       "Skew:                          -2.051   Prob(JB):                    9.29e-234\n",
       "Kurtosis:                      11.595   Cond. No.                         43.0\n",
       "==============================================================================\n",
       "\n",
       "Warnings:\n",
       "[1] Standard Errors assume that the covariance matrix of the errors is correctly specified.\n",
       "\"\"\""
      ]
     },
     "execution_count": 35,
     "metadata": {},
     "output_type": "execute_result"
    }
   ],
   "source": [
    "modelo_g2 = smf.ols(\"G2 ~ G1 + address_dummy + romantic_dummy\", df).fit()\n",
    "modelo_g2.summary()"
   ]
  },
  {
   "cell_type": "markdown",
   "metadata": {},
   "source": [
    "### Modelo G3 con todas las variables"
   ]
  },
  {
   "cell_type": "code",
   "execution_count": 36,
   "metadata": {},
   "outputs": [
    {
     "data": {
      "text/html": [
       "<table class=\"simpletable\">\n",
       "<caption>OLS Regression Results</caption>\n",
       "<tr>\n",
       "  <th>Dep. Variable:</th>           <td>G3</td>        <th>  R-squared:         </th> <td>   0.853</td>\n",
       "</tr>\n",
       "<tr>\n",
       "  <th>Model:</th>                   <td>OLS</td>       <th>  Adj. R-squared:    </th> <td>   0.828</td>\n",
       "</tr>\n",
       "<tr>\n",
       "  <th>Method:</th>             <td>Least Squares</td>  <th>  F-statistic:       </th> <td>   34.13</td>\n",
       "</tr>\n",
       "<tr>\n",
       "  <th>Date:</th>             <td>Mon, 29 Jul 2019</td> <th>  Prob (F-statistic):</th> <td>4.20e-79</td>\n",
       "</tr>\n",
       "<tr>\n",
       "  <th>Time:</th>                 <td>20:15:35</td>     <th>  Log-Likelihood:    </th> <td> -561.92</td>\n",
       "</tr>\n",
       "<tr>\n",
       "  <th>No. Observations:</th>      <td>   284</td>      <th>  AIC:               </th> <td>   1208.</td>\n",
       "</tr>\n",
       "<tr>\n",
       "  <th>Df Residuals:</th>          <td>   242</td>      <th>  BIC:               </th> <td>   1361.</td>\n",
       "</tr>\n",
       "<tr>\n",
       "  <th>Df Model:</th>              <td>    41</td>      <th>                     </th>     <td> </td>   \n",
       "</tr>\n",
       "<tr>\n",
       "  <th>Covariance Type:</th>      <td>nonrobust</td>    <th>                     </th>     <td> </td>   \n",
       "</tr>\n",
       "</table>\n",
       "<table class=\"simpletable\">\n",
       "<tr>\n",
       "             <td></td>                <th>coef</th>     <th>std err</th>      <th>t</th>      <th>P>|t|</th>  <th>[0.025</th>    <th>0.975]</th>  \n",
       "</tr>\n",
       "<tr>\n",
       "  <th>Intercept</th>               <td>   -1.2992</td> <td>    2.272</td> <td>   -0.572</td> <td> 0.568</td> <td>   -5.775</td> <td>    3.176</td>\n",
       "</tr>\n",
       "<tr>\n",
       "  <th>G1</th>                      <td>    0.2197</td> <td>    0.074</td> <td>    2.959</td> <td> 0.003</td> <td>    0.073</td> <td>    0.366</td>\n",
       "</tr>\n",
       "<tr>\n",
       "  <th>G2</th>                      <td>    0.9008</td> <td>    0.063</td> <td>   14.285</td> <td> 0.000</td> <td>    0.777</td> <td>    1.025</td>\n",
       "</tr>\n",
       "<tr>\n",
       "  <th>age</th>                     <td>   -0.1150</td> <td>    0.121</td> <td>   -0.949</td> <td> 0.344</td> <td>   -0.354</td> <td>    0.124</td>\n",
       "</tr>\n",
       "<tr>\n",
       "  <th>Medu</th>                    <td>    0.1718</td> <td>    0.185</td> <td>    0.931</td> <td> 0.353</td> <td>   -0.192</td> <td>    0.536</td>\n",
       "</tr>\n",
       "<tr>\n",
       "  <th>Fedu</th>                    <td>   -0.2286</td> <td>    0.156</td> <td>   -1.469</td> <td> 0.143</td> <td>   -0.535</td> <td>    0.078</td>\n",
       "</tr>\n",
       "<tr>\n",
       "  <th>traveltime</th>              <td>    0.0706</td> <td>    0.191</td> <td>    0.370</td> <td> 0.712</td> <td>   -0.305</td> <td>    0.446</td>\n",
       "</tr>\n",
       "<tr>\n",
       "  <th>studytime</th>               <td>   -0.1092</td> <td>    0.162</td> <td>   -0.674</td> <td> 0.501</td> <td>   -0.428</td> <td>    0.210</td>\n",
       "</tr>\n",
       "<tr>\n",
       "  <th>failures</th>                <td>   -0.2126</td> <td>    0.191</td> <td>   -1.115</td> <td> 0.266</td> <td>   -0.588</td> <td>    0.163</td>\n",
       "</tr>\n",
       "<tr>\n",
       "  <th>famrel</th>                  <td>    0.4285</td> <td>    0.140</td> <td>    3.070</td> <td> 0.002</td> <td>    0.154</td> <td>    0.703</td>\n",
       "</tr>\n",
       "<tr>\n",
       "  <th>freetime</th>                <td>    0.0901</td> <td>    0.127</td> <td>    0.709</td> <td> 0.479</td> <td>   -0.160</td> <td>    0.341</td>\n",
       "</tr>\n",
       "<tr>\n",
       "  <th>goout</th>                   <td>   -0.2009</td> <td>    0.135</td> <td>   -1.493</td> <td> 0.137</td> <td>   -0.466</td> <td>    0.064</td>\n",
       "</tr>\n",
       "<tr>\n",
       "  <th>Dalc</th>                    <td>   -0.3441</td> <td>    0.187</td> <td>   -1.838</td> <td> 0.067</td> <td>   -0.713</td> <td>    0.025</td>\n",
       "</tr>\n",
       "<tr>\n",
       "  <th>Walc</th>                    <td>    0.3981</td> <td>    0.138</td> <td>    2.885</td> <td> 0.004</td> <td>    0.126</td> <td>    0.670</td>\n",
       "</tr>\n",
       "<tr>\n",
       "  <th>health</th>                  <td>    0.0219</td> <td>    0.094</td> <td>    0.234</td> <td> 0.816</td> <td>   -0.163</td> <td>    0.206</td>\n",
       "</tr>\n",
       "<tr>\n",
       "  <th>absences</th>                <td>    0.0417</td> <td>    0.016</td> <td>    2.613</td> <td> 0.010</td> <td>    0.010</td> <td>    0.073</td>\n",
       "</tr>\n",
       "<tr>\n",
       "  <th>school_dummy</th>            <td>    0.7901</td> <td>    0.438</td> <td>    1.804</td> <td> 0.072</td> <td>   -0.073</td> <td>    1.653</td>\n",
       "</tr>\n",
       "<tr>\n",
       "  <th>sex_dummy</th>               <td>    0.0428</td> <td>    0.284</td> <td>    0.151</td> <td> 0.880</td> <td>   -0.517</td> <td>    0.603</td>\n",
       "</tr>\n",
       "<tr>\n",
       "  <th>address_dummy</th>           <td>   -0.2036</td> <td>    0.322</td> <td>   -0.633</td> <td> 0.528</td> <td>   -0.838</td> <td>    0.430</td>\n",
       "</tr>\n",
       "<tr>\n",
       "  <th>famsize_dummy</th>           <td>   -0.1268</td> <td>    0.288</td> <td>   -0.440</td> <td> 0.661</td> <td>   -0.695</td> <td>    0.441</td>\n",
       "</tr>\n",
       "<tr>\n",
       "  <th>Pstatus_dummy</th>           <td>    0.4331</td> <td>    0.426</td> <td>    1.016</td> <td> 0.311</td> <td>   -0.407</td> <td>    1.273</td>\n",
       "</tr>\n",
       "<tr>\n",
       "  <th>Mjob_health_dummy</th>       <td>   -0.4635</td> <td>    0.521</td> <td>   -0.889</td> <td> 0.375</td> <td>   -1.490</td> <td>    0.563</td>\n",
       "</tr>\n",
       "<tr>\n",
       "  <th>Mjob_teacher_dummy</th>      <td>   -0.3667</td> <td>    0.461</td> <td>   -0.795</td> <td> 0.427</td> <td>   -1.275</td> <td>    0.542</td>\n",
       "</tr>\n",
       "<tr>\n",
       "  <th>Mjob_at_home_dummy</th>      <td>   -0.4246</td> <td>    0.393</td> <td>   -1.080</td> <td> 0.281</td> <td>   -1.199</td> <td>    0.350</td>\n",
       "</tr>\n",
       "<tr>\n",
       "  <th>Mjob_services_dummy</th>     <td>   -0.2436</td> <td>    0.344</td> <td>   -0.707</td> <td> 0.480</td> <td>   -0.922</td> <td>    0.435</td>\n",
       "</tr>\n",
       "<tr>\n",
       "  <th>Fjob_health_dummy</th>       <td>    0.4201</td> <td>    0.623</td> <td>    0.674</td> <td> 0.501</td> <td>   -0.807</td> <td>    1.647</td>\n",
       "</tr>\n",
       "<tr>\n",
       "  <th>Fjob_at_home_dummy</th>      <td>    0.4859</td> <td>    0.649</td> <td>    0.749</td> <td> 0.455</td> <td>   -0.792</td> <td>    1.764</td>\n",
       "</tr>\n",
       "<tr>\n",
       "  <th>Fjob_teacher_dummy</th>      <td>    0.1664</td> <td>    0.530</td> <td>    0.314</td> <td> 0.754</td> <td>   -0.878</td> <td>    1.211</td>\n",
       "</tr>\n",
       "<tr>\n",
       "  <th>Fjob_services_dummy</th>     <td>   -0.1026</td> <td>    0.310</td> <td>   -0.332</td> <td> 0.741</td> <td>   -0.712</td> <td>    0.507</td>\n",
       "</tr>\n",
       "<tr>\n",
       "  <th>reason_other_dummy</th>      <td>    0.2194</td> <td>    0.444</td> <td>    0.494</td> <td> 0.622</td> <td>   -0.655</td> <td>    1.094</td>\n",
       "</tr>\n",
       "<tr>\n",
       "  <th>reason_reputation_dummy</th> <td>    0.2429</td> <td>    0.320</td> <td>    0.760</td> <td> 0.448</td> <td>   -0.387</td> <td>    0.873</td>\n",
       "</tr>\n",
       "<tr>\n",
       "  <th>reason_home_dummy</th>       <td>   -0.2593</td> <td>    0.310</td> <td>   -0.838</td> <td> 0.403</td> <td>   -0.869</td> <td>    0.350</td>\n",
       "</tr>\n",
       "<tr>\n",
       "  <th>guardian_other_dummy</th>    <td>   -0.6633</td> <td>    0.512</td> <td>   -1.296</td> <td> 0.196</td> <td>   -1.671</td> <td>    0.345</td>\n",
       "</tr>\n",
       "<tr>\n",
       "  <th>guardian_father_dummy</th>   <td>   -0.2051</td> <td>    0.313</td> <td>   -0.654</td> <td> 0.513</td> <td>   -0.822</td> <td>    0.412</td>\n",
       "</tr>\n",
       "<tr>\n",
       "  <th>schoolsup_dummy</th>         <td>    0.2645</td> <td>    0.379</td> <td>    0.698</td> <td> 0.486</td> <td>   -0.482</td> <td>    1.011</td>\n",
       "</tr>\n",
       "<tr>\n",
       "  <th>famsup_dummy</th>            <td>   -0.1858</td> <td>    0.272</td> <td>   -0.682</td> <td> 0.496</td> <td>   -0.722</td> <td>    0.351</td>\n",
       "</tr>\n",
       "<tr>\n",
       "  <th>paid_dummy</th>              <td>    0.0888</td> <td>    0.265</td> <td>    0.335</td> <td> 0.738</td> <td>   -0.434</td> <td>    0.611</td>\n",
       "</tr>\n",
       "<tr>\n",
       "  <th>activities_dummy</th>        <td>    0.3307</td> <td>    0.243</td> <td>    1.359</td> <td> 0.175</td> <td>   -0.149</td> <td>    0.810</td>\n",
       "</tr>\n",
       "<tr>\n",
       "  <th>nursery_dummy</th>           <td>    0.0393</td> <td>    0.298</td> <td>    0.132</td> <td> 0.895</td> <td>   -0.547</td> <td>    0.626</td>\n",
       "</tr>\n",
       "<tr>\n",
       "  <th>higher_dummy</th>            <td>   -0.4869</td> <td>    0.575</td> <td>   -0.847</td> <td> 0.398</td> <td>   -1.619</td> <td>    0.645</td>\n",
       "</tr>\n",
       "<tr>\n",
       "  <th>internet_dummy</th>          <td>   -0.0045</td> <td>    0.329</td> <td>   -0.014</td> <td> 0.989</td> <td>   -0.653</td> <td>    0.643</td>\n",
       "</tr>\n",
       "<tr>\n",
       "  <th>romantic_dummy</th>          <td>   -0.2096</td> <td>    0.264</td> <td>   -0.793</td> <td> 0.428</td> <td>   -0.730</td> <td>    0.311</td>\n",
       "</tr>\n",
       "</table>\n",
       "<table class=\"simpletable\">\n",
       "<tr>\n",
       "  <th>Omnibus:</th>       <td>131.180</td> <th>  Durbin-Watson:     </th> <td>   1.984</td> \n",
       "</tr>\n",
       "<tr>\n",
       "  <th>Prob(Omnibus):</th> <td> 0.000</td>  <th>  Jarque-Bera (JB):  </th> <td> 603.163</td> \n",
       "</tr>\n",
       "<tr>\n",
       "  <th>Skew:</th>          <td>-1.915</td>  <th>  Prob(JB):          </th> <td>1.06e-131</td>\n",
       "</tr>\n",
       "<tr>\n",
       "  <th>Kurtosis:</th>      <td> 9.025</td>  <th>  Cond. No.          </th> <td>    514.</td> \n",
       "</tr>\n",
       "</table><br/><br/>Warnings:<br/>[1] Standard Errors assume that the covariance matrix of the errors is correctly specified."
      ],
      "text/plain": [
       "<class 'statsmodels.iolib.summary.Summary'>\n",
       "\"\"\"\n",
       "                            OLS Regression Results                            \n",
       "==============================================================================\n",
       "Dep. Variable:                     G3   R-squared:                       0.853\n",
       "Model:                            OLS   Adj. R-squared:                  0.828\n",
       "Method:                 Least Squares   F-statistic:                     34.13\n",
       "Date:                Mon, 29 Jul 2019   Prob (F-statistic):           4.20e-79\n",
       "Time:                        20:15:35   Log-Likelihood:                -561.92\n",
       "No. Observations:                 284   AIC:                             1208.\n",
       "Df Residuals:                     242   BIC:                             1361.\n",
       "Df Model:                          41                                         \n",
       "Covariance Type:            nonrobust                                         \n",
       "===========================================================================================\n",
       "                              coef    std err          t      P>|t|      [0.025      0.975]\n",
       "-------------------------------------------------------------------------------------------\n",
       "Intercept                  -1.2992      2.272     -0.572      0.568      -5.775       3.176\n",
       "G1                          0.2197      0.074      2.959      0.003       0.073       0.366\n",
       "G2                          0.9008      0.063     14.285      0.000       0.777       1.025\n",
       "age                        -0.1150      0.121     -0.949      0.344      -0.354       0.124\n",
       "Medu                        0.1718      0.185      0.931      0.353      -0.192       0.536\n",
       "Fedu                       -0.2286      0.156     -1.469      0.143      -0.535       0.078\n",
       "traveltime                  0.0706      0.191      0.370      0.712      -0.305       0.446\n",
       "studytime                  -0.1092      0.162     -0.674      0.501      -0.428       0.210\n",
       "failures                   -0.2126      0.191     -1.115      0.266      -0.588       0.163\n",
       "famrel                      0.4285      0.140      3.070      0.002       0.154       0.703\n",
       "freetime                    0.0901      0.127      0.709      0.479      -0.160       0.341\n",
       "goout                      -0.2009      0.135     -1.493      0.137      -0.466       0.064\n",
       "Dalc                       -0.3441      0.187     -1.838      0.067      -0.713       0.025\n",
       "Walc                        0.3981      0.138      2.885      0.004       0.126       0.670\n",
       "health                      0.0219      0.094      0.234      0.816      -0.163       0.206\n",
       "absences                    0.0417      0.016      2.613      0.010       0.010       0.073\n",
       "school_dummy                0.7901      0.438      1.804      0.072      -0.073       1.653\n",
       "sex_dummy                   0.0428      0.284      0.151      0.880      -0.517       0.603\n",
       "address_dummy              -0.2036      0.322     -0.633      0.528      -0.838       0.430\n",
       "famsize_dummy              -0.1268      0.288     -0.440      0.661      -0.695       0.441\n",
       "Pstatus_dummy               0.4331      0.426      1.016      0.311      -0.407       1.273\n",
       "Mjob_health_dummy          -0.4635      0.521     -0.889      0.375      -1.490       0.563\n",
       "Mjob_teacher_dummy         -0.3667      0.461     -0.795      0.427      -1.275       0.542\n",
       "Mjob_at_home_dummy         -0.4246      0.393     -1.080      0.281      -1.199       0.350\n",
       "Mjob_services_dummy        -0.2436      0.344     -0.707      0.480      -0.922       0.435\n",
       "Fjob_health_dummy           0.4201      0.623      0.674      0.501      -0.807       1.647\n",
       "Fjob_at_home_dummy          0.4859      0.649      0.749      0.455      -0.792       1.764\n",
       "Fjob_teacher_dummy          0.1664      0.530      0.314      0.754      -0.878       1.211\n",
       "Fjob_services_dummy        -0.1026      0.310     -0.332      0.741      -0.712       0.507\n",
       "reason_other_dummy          0.2194      0.444      0.494      0.622      -0.655       1.094\n",
       "reason_reputation_dummy     0.2429      0.320      0.760      0.448      -0.387       0.873\n",
       "reason_home_dummy          -0.2593      0.310     -0.838      0.403      -0.869       0.350\n",
       "guardian_other_dummy       -0.6633      0.512     -1.296      0.196      -1.671       0.345\n",
       "guardian_father_dummy      -0.2051      0.313     -0.654      0.513      -0.822       0.412\n",
       "schoolsup_dummy             0.2645      0.379      0.698      0.486      -0.482       1.011\n",
       "famsup_dummy               -0.1858      0.272     -0.682      0.496      -0.722       0.351\n",
       "paid_dummy                  0.0888      0.265      0.335      0.738      -0.434       0.611\n",
       "activities_dummy            0.3307      0.243      1.359      0.175      -0.149       0.810\n",
       "nursery_dummy               0.0393      0.298      0.132      0.895      -0.547       0.626\n",
       "higher_dummy               -0.4869      0.575     -0.847      0.398      -1.619       0.645\n",
       "internet_dummy             -0.0045      0.329     -0.014      0.989      -0.653       0.643\n",
       "romantic_dummy             -0.2096      0.264     -0.793      0.428      -0.730       0.311\n",
       "==============================================================================\n",
       "Omnibus:                      131.180   Durbin-Watson:                   1.984\n",
       "Prob(Omnibus):                  0.000   Jarque-Bera (JB):              603.163\n",
       "Skew:                          -1.915   Prob(JB):                    1.06e-131\n",
       "Kurtosis:                       9.025   Cond. No.                         514.\n",
       "==============================================================================\n",
       "\n",
       "Warnings:\n",
       "[1] Standard Errors assume that the covariance matrix of the errors is correctly specified.\n",
       "\"\"\""
      ]
     },
     "execution_count": 36,
     "metadata": {},
     "output_type": "execute_result"
    }
   ],
   "source": [
    "modelo_g3 = smf.ols(\"G3 ~ G1 + G2 + age + Medu + Fedu + traveltime + studytime + failures + famrel + freetime + goout + Dalc + Walc + health + absences + school_dummy + sex_dummy + address_dummy + famsize_dummy + Pstatus_dummy + Mjob_health_dummy + Mjob_teacher_dummy + Mjob_at_home_dummy + Mjob_services_dummy + Fjob_health_dummy + Fjob_at_home_dummy + Fjob_teacher_dummy + Fjob_services_dummy + reason_other_dummy + reason_reputation_dummy + reason_home_dummy + guardian_other_dummy + guardian_father_dummy + schoolsup_dummy + famsup_dummy + paid_dummy + activities_dummy + nursery_dummy + higher_dummy + internet_dummy + romantic_dummy\", df).fit()\n",
    "modelo_g3.summary()"
   ]
  },
  {
   "cell_type": "markdown",
   "metadata": {},
   "source": [
    "### Modelo G3 depurado"
   ]
  },
  {
   "cell_type": "markdown",
   "metadata": {},
   "source": [
    "Utilizando un nivel de significancia del 95%, eliminamos aquellas variables que en el modelo presenten P_value mayor a 0.05\n",
    "\n",
    "- age (0.344)\n",
    "- Medu (0.353)\n",
    "- Fedu (0.143)\n",
    "- traveltime (0.712)\n",
    "- studytime (0.501)\n",
    "- failures (0.266)\n",
    "- freetime (0.479)\n",
    "- goout (0.137)\n",
    "- Dalc (0.067)\n",
    "- health (0.816)\n",
    "- school_dummy (0.072)\n",
    "- sex_dummy (0.880)\n",
    "- address_dummy\t(0.528)\n",
    "- famsize_dummy\t (0.661)\n",
    "- Pstatus_dummy (0.311)\n",
    "- Mjob_health_dummy (0.375)\n",
    "- Mjob_teacher_dummy (0.427)\n",
    "- Mjob_at_home_dummy (0.281)\n",
    "- Mjob_services_dummy (0.480)\n",
    "- Fjob_health_dummy\t(0.501)\n",
    "- Fjob_at_home_dummy (0.455)\n",
    "- Fjob_teacher_dummy (0.754)\n",
    "- Fjob_services_dummy (0.741)\n",
    "- reason_other_dummy (0.622)\n",
    "- reason_reputation_dummy (0.448)\n",
    "- reason_home_dummy (0.403)\n",
    "- guardian_other_dummy (0.196)\n",
    "- guardian_father_dummy (0.513)\n",
    "- schoolsup_dummy (0.486)\n",
    "- famsup_dummy (0.496)\n",
    "- paid_dummy (0.738)\n",
    "- activities_dummy (0.175)\n",
    "- nursery_dummy (0.895)\n",
    "- higher_dummy (0.398)\n",
    "- internet_dummy (0.989)\n",
    "- romantic_dummy (0.428)"
   ]
  },
  {
   "cell_type": "code",
   "execution_count": 37,
   "metadata": {},
   "outputs": [
    {
     "data": {
      "text/html": [
       "<table class=\"simpletable\">\n",
       "<caption>OLS Regression Results</caption>\n",
       "<tr>\n",
       "  <th>Dep. Variable:</th>           <td>G3</td>        <th>  R-squared:         </th> <td>   0.830</td> \n",
       "</tr>\n",
       "<tr>\n",
       "  <th>Model:</th>                   <td>OLS</td>       <th>  Adj. R-squared:    </th> <td>   0.827</td> \n",
       "</tr>\n",
       "<tr>\n",
       "  <th>Method:</th>             <td>Least Squares</td>  <th>  F-statistic:       </th> <td>   339.7</td> \n",
       "</tr>\n",
       "<tr>\n",
       "  <th>Date:</th>             <td>Mon, 29 Jul 2019</td> <th>  Prob (F-statistic):</th> <td>6.92e-106</td>\n",
       "</tr>\n",
       "<tr>\n",
       "  <th>Time:</th>                 <td>20:15:35</td>     <th>  Log-Likelihood:    </th> <td> -582.44</td> \n",
       "</tr>\n",
       "<tr>\n",
       "  <th>No. Observations:</th>      <td>   284</td>      <th>  AIC:               </th> <td>   1175.</td> \n",
       "</tr>\n",
       "<tr>\n",
       "  <th>Df Residuals:</th>          <td>   279</td>      <th>  BIC:               </th> <td>   1193.</td> \n",
       "</tr>\n",
       "<tr>\n",
       "  <th>Df Model:</th>              <td>     4</td>      <th>                     </th>     <td> </td>    \n",
       "</tr>\n",
       "<tr>\n",
       "  <th>Covariance Type:</th>      <td>nonrobust</td>    <th>                     </th>     <td> </td>    \n",
       "</tr>\n",
       "</table>\n",
       "<table class=\"simpletable\">\n",
       "<tr>\n",
       "      <td></td>         <th>coef</th>     <th>std err</th>      <th>t</th>      <th>P>|t|</th>  <th>[0.025</th>    <th>0.975]</th>  \n",
       "</tr>\n",
       "<tr>\n",
       "  <th>Intercept</th> <td>   -3.4489</td> <td>    0.641</td> <td>   -5.383</td> <td> 0.000</td> <td>   -4.710</td> <td>   -2.188</td>\n",
       "</tr>\n",
       "<tr>\n",
       "  <th>G1</th>        <td>    0.1735</td> <td>    0.065</td> <td>    2.670</td> <td> 0.008</td> <td>    0.046</td> <td>    0.301</td>\n",
       "</tr>\n",
       "<tr>\n",
       "  <th>G2</th>        <td>    0.9652</td> <td>    0.056</td> <td>   17.114</td> <td> 0.000</td> <td>    0.854</td> <td>    1.076</td>\n",
       "</tr>\n",
       "<tr>\n",
       "  <th>famrel</th>    <td>    0.3708</td> <td>    0.128</td> <td>    2.887</td> <td> 0.004</td> <td>    0.118</td> <td>    0.624</td>\n",
       "</tr>\n",
       "<tr>\n",
       "  <th>absences</th>  <td>    0.0385</td> <td>    0.014</td> <td>    2.773</td> <td> 0.006</td> <td>    0.011</td> <td>    0.066</td>\n",
       "</tr>\n",
       "</table>\n",
       "<table class=\"simpletable\">\n",
       "<tr>\n",
       "  <th>Omnibus:</th>       <td>181.709</td> <th>  Durbin-Watson:     </th> <td>   1.771</td> \n",
       "</tr>\n",
       "<tr>\n",
       "  <th>Prob(Omnibus):</th> <td> 0.000</td>  <th>  Jarque-Bera (JB):  </th> <td>1313.320</td> \n",
       "</tr>\n",
       "<tr>\n",
       "  <th>Skew:</th>          <td>-2.640</td>  <th>  Prob(JB):          </th> <td>6.55e-286</td>\n",
       "</tr>\n",
       "<tr>\n",
       "  <th>Kurtosis:</th>      <td>12.116</td>  <th>  Cond. No.          </th> <td>    101.</td> \n",
       "</tr>\n",
       "</table><br/><br/>Warnings:<br/>[1] Standard Errors assume that the covariance matrix of the errors is correctly specified."
      ],
      "text/plain": [
       "<class 'statsmodels.iolib.summary.Summary'>\n",
       "\"\"\"\n",
       "                            OLS Regression Results                            \n",
       "==============================================================================\n",
       "Dep. Variable:                     G3   R-squared:                       0.830\n",
       "Model:                            OLS   Adj. R-squared:                  0.827\n",
       "Method:                 Least Squares   F-statistic:                     339.7\n",
       "Date:                Mon, 29 Jul 2019   Prob (F-statistic):          6.92e-106\n",
       "Time:                        20:15:35   Log-Likelihood:                -582.44\n",
       "No. Observations:                 284   AIC:                             1175.\n",
       "Df Residuals:                     279   BIC:                             1193.\n",
       "Df Model:                           4                                         \n",
       "Covariance Type:            nonrobust                                         \n",
       "==============================================================================\n",
       "                 coef    std err          t      P>|t|      [0.025      0.975]\n",
       "------------------------------------------------------------------------------\n",
       "Intercept     -3.4489      0.641     -5.383      0.000      -4.710      -2.188\n",
       "G1             0.1735      0.065      2.670      0.008       0.046       0.301\n",
       "G2             0.9652      0.056     17.114      0.000       0.854       1.076\n",
       "famrel         0.3708      0.128      2.887      0.004       0.118       0.624\n",
       "absences       0.0385      0.014      2.773      0.006       0.011       0.066\n",
       "==============================================================================\n",
       "Omnibus:                      181.709   Durbin-Watson:                   1.771\n",
       "Prob(Omnibus):                  0.000   Jarque-Bera (JB):             1313.320\n",
       "Skew:                          -2.640   Prob(JB):                    6.55e-286\n",
       "Kurtosis:                      12.116   Cond. No.                         101.\n",
       "==============================================================================\n",
       "\n",
       "Warnings:\n",
       "[1] Standard Errors assume that the covariance matrix of the errors is correctly specified.\n",
       "\"\"\""
      ]
     },
     "execution_count": 37,
     "metadata": {},
     "output_type": "execute_result"
    }
   ],
   "source": [
    "modelo_g3 = smf.ols(\"G3 ~ G1 + G2 + famrel + absences\", df).fit()\n",
    "modelo_g3.summary()"
   ]
  },
  {
   "cell_type": "markdown",
   "metadata": {},
   "source": [
    "# Analisis modelo G1, G2 y G3\n",
    "\n",
    "- El modelo depurado G1 tiene un R cuadrado mejorado de 0.213. Es decir, que las variables failures, goout, Mjob_health_dummy, Fjob_teacher_dummy, schoolsup_dummy y famsup_dummy explican un 21,3% las notas que obtuvieron los alumnos durante el primer semestre.\n",
    "\n",
    "- El modelo final para G2 tiene un R cuadrado mejorado de 0.735. Es decir, las variables significativas G1, address_dummy y romantic_dummy explican un 73.5% la nota de un alumno en el segundo semestre.\n",
    "\n",
    "- El modelo final de G3 tiene un R cuadrado ajustado de 0.827. Las variables G1, G2, famrel y absences que son las significativas en este modelo están explicando un 82.7% las notas de los alumnos al final del semestre.\n",
    "\n",
    "- Lo que se observa es que las notas que obtienen los alumnos en determinado espacio de tiempo tiene mayor relevancia que otras variables para explicar el rendimiento academico. Al agregar las notas que obtuvieron en G1 para explicar las que obtuvieron G2, la capacidad explicativa del modelo creció casi un 50%."
   ]
  },
  {
   "cell_type": "markdown",
   "metadata": {},
   "source": [
    "## Analisis de factores latentes"
   ]
  },
  {
   "cell_type": "code",
   "execution_count": 38,
   "metadata": {},
   "outputs": [
    {
     "data": {
      "text/html": [
       "<div>\n",
       "<style scoped>\n",
       "    .dataframe tbody tr th:only-of-type {\n",
       "        vertical-align: middle;\n",
       "    }\n",
       "\n",
       "    .dataframe tbody tr th {\n",
       "        vertical-align: top;\n",
       "    }\n",
       "\n",
       "    .dataframe thead th {\n",
       "        text-align: right;\n",
       "    }\n",
       "</style>\n",
       "<table border=\"1\" class=\"dataframe\">\n",
       "  <thead>\n",
       "    <tr style=\"text-align: right;\">\n",
       "      <th></th>\n",
       "      <th>famrel</th>\n",
       "      <th>freetime</th>\n",
       "      <th>goout</th>\n",
       "      <th>Dalc</th>\n",
       "      <th>Walc</th>\n",
       "      <th>health</th>\n",
       "    </tr>\n",
       "  </thead>\n",
       "  <tbody>\n",
       "    <tr>\n",
       "      <th>0</th>\n",
       "      <td>5</td>\n",
       "      <td>3</td>\n",
       "      <td>3</td>\n",
       "      <td>1</td>\n",
       "      <td>1</td>\n",
       "      <td>3</td>\n",
       "    </tr>\n",
       "    <tr>\n",
       "      <th>1</th>\n",
       "      <td>3</td>\n",
       "      <td>2</td>\n",
       "      <td>2</td>\n",
       "      <td>1</td>\n",
       "      <td>1</td>\n",
       "      <td>5</td>\n",
       "    </tr>\n",
       "    <tr>\n",
       "      <th>2</th>\n",
       "      <td>5</td>\n",
       "      <td>4</td>\n",
       "      <td>2</td>\n",
       "      <td>1</td>\n",
       "      <td>2</td>\n",
       "      <td>5</td>\n",
       "    </tr>\n",
       "    <tr>\n",
       "      <th>3</th>\n",
       "      <td>4</td>\n",
       "      <td>4</td>\n",
       "      <td>4</td>\n",
       "      <td>1</td>\n",
       "      <td>1</td>\n",
       "      <td>3</td>\n",
       "    </tr>\n",
       "    <tr>\n",
       "      <th>4</th>\n",
       "      <td>4</td>\n",
       "      <td>1</td>\n",
       "      <td>4</td>\n",
       "      <td>1</td>\n",
       "      <td>1</td>\n",
       "      <td>1</td>\n",
       "    </tr>\n",
       "  </tbody>\n",
       "</table>\n",
       "</div>"
      ],
      "text/plain": [
       "   famrel  freetime  goout  Dalc  Walc  health\n",
       "0       5         3      3     1     1       3\n",
       "1       3         2      2     1     1       5\n",
       "2       5         4      2     1     2       5\n",
       "3       4         4      4     1     1       3\n",
       "4       4         1      4     1     1       1"
      ]
     },
     "execution_count": 38,
     "metadata": {},
     "output_type": "execute_result"
    }
   ],
   "source": [
    "#Para analizar los factores latentes que solicito la psicopedagoga lo primero será extraer las categorias relevantes creando un nuevo DataFrame con famrel, freetime, goout, Dalc, Walc y health\n",
    "df2 = df\n",
    "df2 = df.loc[:, [\"famrel\", \"freetime\", \"goout\", \"Dalc\", \"Walc\", \"health\"]]\n",
    "df2.head()"
   ]
  },
  {
   "cell_type": "markdown",
   "metadata": {},
   "source": [
    "### Visualizacion de los promedios para nuestro nuevo DataFrame"
   ]
  },
  {
   "cell_type": "code",
   "execution_count": 39,
   "metadata": {},
   "outputs": [
    {
     "name": "stdout",
     "output_type": "stream",
     "text": [
      "famrel : 3.9401408450704225\n",
      "freetime : 3.186619718309859\n",
      "goout : 3.084507042253521\n",
      "Dalc : 1.482394366197183\n",
      "Walc : 2.23943661971831\n",
      "health : 3.6267605633802815\n"
     ]
    }
   ],
   "source": [
    "#Graficamos la media de nuestras variables extraidas para observar su comportamiento.\n",
    "\n",
    "for i in range(df2.shape[1]):\n",
    "   print(df2.columns[i], ':', df2[df2.columns[i]].mean())"
   ]
  },
  {
   "cell_type": "code",
   "execution_count": 40,
   "metadata": {},
   "outputs": [
    {
     "data": {
      "text/plain": [
       "[<matplotlib.lines.Line2D at 0xf73eb70>]"
      ]
     },
     "execution_count": 40,
     "metadata": {},
     "output_type": "execute_result"
    },
    {
     "data": {
      "image/png": "[encoded data removed]",
      "text/plain": [
       "<Figure size 864x432 with 1 Axes>"
      ]
     },
     "metadata": {
      "needs_background": "light"
     },
     "output_type": "display_data"
    }
   ],
   "source": [
    "#Graficamos la media de nuestras variables extraidas para observar su comportamiento.\n",
    "variable, mean = [], []\n",
    "\n",
    "for colname, serie in df2.iteritems():\n",
    "    variable.append(colname)\n",
    "    mean.append(serie.mean())\n",
    "    \n",
    "tmp_df = pd.DataFrame({\"var\": variable, \"mean\": mean}).sort_values(by=[\"mean\"])\n",
    "plt.figure(figsize = (12, 6))\n",
    "plt.plot(tmp_df[\"mean\"], tmp_df[\"var\"], \"o\")"
   ]
  },
  {
   "cell_type": "code",
   "execution_count": 41,
   "metadata": {},
   "outputs": [
    {
     "data": {
      "text/plain": [
       "<matplotlib.axes._subplots.AxesSubplot at 0xf5b69d0>"
      ]
     },
     "execution_count": 41,
     "metadata": {},
     "output_type": "execute_result"
    },
    {
     "data": {
      "image/png": "[encoded data removed]",
      "text/plain": [
       "<Figure size 864x432 with 2 Axes>"
      ]
     },
     "metadata": {
      "needs_background": "light"
     },
     "output_type": "display_data"
    }
   ],
   "source": [
    "#Utilizamos el mapa de correlaciones para observar la relacion entre las variables de df2\n",
    "\n",
    "plt.figure(figsize = (12,6))\n",
    "sns.heatmap(df2.corr(), cmap =\"Blues\", annot = True)"
   ]
  },
  {
   "cell_type": "markdown",
   "metadata": {},
   "source": [
    "Las principales correlaciones se dan entre:\n",
    "- Walc y Dalc con un 0.64\n",
    "- goout y Walc con un 0.45\n",
    "- goout y Dalc con un 0.28\n",
    "- goout y freetime con un 0.25\n",
    "- freetime y Dalc con 0.21"
   ]
  },
  {
   "cell_type": "markdown",
   "metadata": {},
   "source": [
    "Luego de conocer las correlaciones, inspeccionaremos la ideonidad de nuestra bateria de preguntas utilizando las pruebas de esferacidad de Barlett y Kaiser-MeyerOlkin\n"
   ]
  },
  {
   "cell_type": "code",
   "execution_count": 42,
   "metadata": {},
   "outputs": [
    {
     "data": {
      "text/plain": [
       "(264.49786296650615, 6.038167101270064e-48)"
      ]
     },
     "execution_count": 42,
     "metadata": {},
     "output_type": "execute_result"
    }
   ],
   "source": [
    "#Prueba Barlett\n",
    "factor.calculate_bartlett_sphericity(df2)"
   ]
  },
  {
   "cell_type": "markdown",
   "metadata": {},
   "source": [
    "Dado el valor-p de la prueba, se puede rechazar la hipótesis de que la matriz de correlaciones sea una matriz identidad. Por lo tanto, existen covarianzas entre 2 o más ítems de la batería de preguntas"
   ]
  },
  {
   "cell_type": "code",
   "execution_count": 43,
   "metadata": {},
   "outputs": [
    {
     "data": {
      "text/plain": [
       "(array([0.50173343, 0.57692329, 0.61683967, 0.58664172, 0.5554092 ,\n",
       "        0.59265861]), 0.5767240731164599)"
      ]
     },
     "execution_count": 43,
     "metadata": {},
     "output_type": "execute_result"
    }
   ],
   "source": [
    "#Prueba Kaiser-MeyerOlkin\n",
    "factor.calculate_kmo(df2)"
   ]
  },
  {
   "cell_type": "markdown",
   "metadata": {},
   "source": [
    "En el caso de la prueba Kaiser-MeyerOlkin nos arroja que todos los valores son menores a 0.7 por lo que no podemos afirmar que existan factores latentes.\n",
    "\n",
    "Como el resultado de ambas pruebas no fue concluyente, se sugiere continuar con el analisis y calcular los factores latentes."
   ]
  },
  {
   "cell_type": "code",
   "execution_count": 44,
   "metadata": {},
   "outputs": [
    {
     "data": {
      "image/png": "[encoded data removed]",
      "text/plain": [
       "<Figure size 432x288 with 1 Axes>"
      ]
     },
     "metadata": {
      "needs_background": "light"
     },
     "output_type": "display_data"
    }
   ],
   "source": [
    "factorize = factor.FactorAnalyzer(n_factors=10, rotation = None, method='principal')\n",
    "factorize.fit(df2)\n",
    "factor_screeplot = factorize.get_eigenvalues()[0]\n",
    "\n",
    "plt.plot(np.arange(len(factor_screeplot)), factor_screeplot, 'o-', color='tomato')\n",
    "plt.xlabel('Número de Factor')\n",
    "plt.ylabel('Valores Propios')\n",
    "plt.axhline(1)\n",
    "plt.title(\"Scree plot\");"
   ]
  },
  {
   "cell_type": "markdown",
   "metadata": {},
   "source": [
    "El grafico nos aclara el panorama y observamos que existe al menos un factor latente (sobre 1).\n",
    "Para mejorar el analisis consideraremos 3 factores latentes, uno que se encuentra sobre eugenvalue > 1, otro que cae en eugenvalue = 1 y un tercero que está muy cercano a 1 (0.75)."
   ]
  },
  {
   "cell_type": "markdown",
   "metadata": {},
   "source": [
    "### Extraemos las cargas del modelo e identiicamos que items están asociados a cada factor."
   ]
  },
  {
   "cell_type": "code",
   "execution_count": 45,
   "metadata": {},
   "outputs": [
    {
     "data": {
      "text/plain": [
       "FactorAnalyzer(bounds=(0.005, 1), impute='median', is_corr_matrix=False,\n",
       "               method='principal', n_factors=3, rotation='varimax',\n",
       "               rotation_kwargs={}, use_smc=True)"
      ]
     },
     "execution_count": 45,
     "metadata": {},
     "output_type": "execute_result"
    }
   ],
   "source": [
    "#Asignamos 3 factores y creamos nuestro modelo\n",
    "factorize2 = factor.FactorAnalyzer(n_factors=3, rotation = \"varimax\", method='principal')\n",
    "factorize2.fit(df2)"
   ]
  },
  {
   "cell_type": "code",
   "execution_count": 46,
   "metadata": {},
   "outputs": [
    {
     "data": {
      "text/html": [
       "<div>\n",
       "<style scoped>\n",
       "    .dataframe tbody tr th:only-of-type {\n",
       "        vertical-align: middle;\n",
       "    }\n",
       "\n",
       "    .dataframe tbody tr th {\n",
       "        vertical-align: top;\n",
       "    }\n",
       "\n",
       "    .dataframe thead th {\n",
       "        text-align: right;\n",
       "    }\n",
       "</style>\n",
       "<table border=\"1\" class=\"dataframe\">\n",
       "  <thead>\n",
       "    <tr style=\"text-align: right;\">\n",
       "      <th></th>\n",
       "      <th>Factor1</th>\n",
       "      <th>Factor2</th>\n",
       "      <th>Factor3</th>\n",
       "    </tr>\n",
       "  </thead>\n",
       "  <tbody>\n",
       "    <tr>\n",
       "      <th>famrel</th>\n",
       "      <td>-0.252594</td>\n",
       "      <td>0.784663</td>\n",
       "      <td>0.091678</td>\n",
       "    </tr>\n",
       "    <tr>\n",
       "      <th>freetime</th>\n",
       "      <td>0.276031</td>\n",
       "      <td>0.661000</td>\n",
       "      <td>0.015221</td>\n",
       "    </tr>\n",
       "    <tr>\n",
       "      <th>goout</th>\n",
       "      <td>0.623415</td>\n",
       "      <td>0.413409</td>\n",
       "      <td>-0.213611</td>\n",
       "    </tr>\n",
       "    <tr>\n",
       "      <th>Dalc</th>\n",
       "      <td>0.826496</td>\n",
       "      <td>-0.043552</td>\n",
       "      <td>0.138267</td>\n",
       "    </tr>\n",
       "    <tr>\n",
       "      <th>Walc</th>\n",
       "      <td>0.880170</td>\n",
       "      <td>-0.025237</td>\n",
       "      <td>0.068753</td>\n",
       "    </tr>\n",
       "    <tr>\n",
       "      <th>health</th>\n",
       "      <td>0.081312</td>\n",
       "      <td>0.072590</td>\n",
       "      <td>0.968936</td>\n",
       "    </tr>\n",
       "  </tbody>\n",
       "</table>\n",
       "</div>"
      ],
      "text/plain": [
       "           Factor1   Factor2   Factor3\n",
       "famrel   -0.252594  0.784663  0.091678\n",
       "freetime  0.276031  0.661000  0.015221\n",
       "goout     0.623415  0.413409 -0.213611\n",
       "Dalc      0.826496 -0.043552  0.138267\n",
       "Walc      0.880170 -0.025237  0.068753\n",
       "health    0.081312  0.072590  0.968936"
      ]
     },
     "execution_count": 46,
     "metadata": {},
     "output_type": "execute_result"
    }
   ],
   "source": [
    "#Asignamos nuestros factores a un DataFrame con cada una de las variables\n",
    "factor_loadings = pd.DataFrame(factorize2.loadings_)\n",
    "factor_loadings.set_index(df2.columns, inplace=True)\n",
    "factor_loadings.columns = ['Factor1', 'Factor2', \"Factor3\"]\n",
    "factor_loadings"
   ]
  },
  {
   "cell_type": "markdown",
   "metadata": {},
   "source": [
    "### Factores latentes"
   ]
  },
  {
   "cell_type": "code",
   "execution_count": 47,
   "metadata": {},
   "outputs": [
    {
     "data": {
      "text/html": [
       "<div>\n",
       "<style scoped>\n",
       "    .dataframe tbody tr th:only-of-type {\n",
       "        vertical-align: middle;\n",
       "    }\n",
       "\n",
       "    .dataframe tbody tr th {\n",
       "        vertical-align: top;\n",
       "    }\n",
       "\n",
       "    .dataframe thead th {\n",
       "        text-align: right;\n",
       "    }\n",
       "</style>\n",
       "<table border=\"1\" class=\"dataframe\">\n",
       "  <thead>\n",
       "    <tr style=\"text-align: right;\">\n",
       "      <th></th>\n",
       "      <th>Factor1</th>\n",
       "      <th>Factor2</th>\n",
       "      <th>Factor3</th>\n",
       "    </tr>\n",
       "  </thead>\n",
       "  <tbody>\n",
       "    <tr>\n",
       "      <th>famrel</th>\n",
       "      <td></td>\n",
       "      <td>0.78</td>\n",
       "      <td></td>\n",
       "    </tr>\n",
       "    <tr>\n",
       "      <th>freetime</th>\n",
       "      <td></td>\n",
       "      <td>0.66</td>\n",
       "      <td></td>\n",
       "    </tr>\n",
       "    <tr>\n",
       "      <th>goout</th>\n",
       "      <td>0.62</td>\n",
       "      <td>0.41</td>\n",
       "      <td></td>\n",
       "    </tr>\n",
       "    <tr>\n",
       "      <th>Dalc</th>\n",
       "      <td>0.83</td>\n",
       "      <td></td>\n",
       "      <td></td>\n",
       "    </tr>\n",
       "    <tr>\n",
       "      <th>Walc</th>\n",
       "      <td>0.88</td>\n",
       "      <td></td>\n",
       "      <td></td>\n",
       "    </tr>\n",
       "    <tr>\n",
       "      <th>health</th>\n",
       "      <td></td>\n",
       "      <td></td>\n",
       "      <td>0.97</td>\n",
       "    </tr>\n",
       "  </tbody>\n",
       "</table>\n",
       "</div>"
      ],
      "text/plain": [
       "         Factor1 Factor2 Factor3\n",
       "famrel              0.78        \n",
       "freetime            0.66        \n",
       "goout       0.62    0.41        \n",
       "Dalc        0.83                \n",
       "Walc        0.88                \n",
       "health                      0.97"
      ]
     },
     "execution_count": 47,
     "metadata": {},
     "output_type": "execute_result"
    }
   ],
   "source": [
    "#Extraemos los 3 factores mencionados y observamos a qué podrían estar relacionados según nuestra bateria de preguntas.\n",
    "nuevo_df = factor_loadings.applymap(lambda x: np.where(x < .4, ' ', round(x, 2)))\n",
    "nuevo_df"
   ]
  },
  {
   "cell_type": "markdown",
   "metadata": {},
   "source": [
    "### Analisis de factores latentes\n",
    "Respecto a los factores latentes que obtuvimos, observamos que:\n",
    "\n",
    "- Factor 1 dice relación con el uso que le dan los estudiantes a su tiempo libre o de ocio.\n",
    "- Factor 2 sugiere que el factor latente puede ser la supervisión parental o de una figura mayor.\n",
    "- Factor 3 apunta a la salud de los individuos."
   ]
  },
  {
   "cell_type": "markdown",
   "metadata": {},
   "source": [
    "\n",
    "\n",
    "## Modelacion predictiva para G3\n",
    "\n",
    "\n",
    "### A continuacion se presentan los tres modelos predictivos para la variable G3.\n",
    "Primero incluyendo todas las variables.\n",
    "\n",
    "Segundo incluyendo solo las variables significativas en base a la Prueba de Pearson.\n",
    "\n",
    "Tercero incluyendo solo las variables significativas en base a la Prueba de Pearson y alterando uno de sus hiperparametros (Normalize).\n"
   ]
  },
  {
   "cell_type": "markdown",
   "metadata": {},
   "source": [
    "## Modelo saturado"
   ]
  },
  {
   "cell_type": "code",
   "execution_count": 48,
   "metadata": {},
   "outputs": [],
   "source": [
    "#Creamos nuestra variable dependiente y las independientes en los vectores y_vec1 y x_mat1\n",
    "y_vec1 = df[\"G3\"]\n",
    "x_mat1 = df.loc[:, [\"G1\", \"G2\", \"age\", \"Medu\", \"Fedu\", \"traveltime\", \"studytime\", \"failures\", \"famrel\", \"freetime\", \"goout\", \"Dalc\", \"Walc\", \"health\", \"absences\", \"school_dummy\", \"sex_dummy\", \"address_dummy\", \"famsize_dummy\", \"Pstatus_dummy\", \"Mjob_health_dummy\", \"Mjob_teacher_dummy\", \"Mjob_at_home_dummy\", \"Mjob_services_dummy\", \"Fjob_health_dummy\", \"Fjob_at_home_dummy\", \"Fjob_teacher_dummy\", \"Fjob_services_dummy\", \"reason_other_dummy\", \"reason_reputation_dummy\", \"reason_home_dummy\", \"guardian_other_dummy\", \"guardian_father_dummy\", \"schoolsup_dummy\", \"famsup_dummy\", \"paid_dummy\", \"activities_dummy\", \"nursery_dummy\", \"higher_dummy\", \"internet_dummy\", \"romantic_dummy\"]]              \n",
    "x_train1, x_test1, y_train1, y_test1 = train_test_split(x_mat1, y_vec1, test_size = .33, random_state=11238)"
   ]
  },
  {
   "cell_type": "code",
   "execution_count": 49,
   "metadata": {},
   "outputs": [],
   "source": [
    "#Creamos nuestro modelo o funcion de regresion lineal\n",
    "#Le entregamos nuestros datos de entrenamiento y testeo\n",
    "modelo_saturado_g3 = LinearRegression().fit(x_train1, y_train1)"
   ]
  },
  {
   "cell_type": "code",
   "execution_count": 50,
   "metadata": {},
   "outputs": [
    {
     "data": {
      "text/plain": [
       "-1.6551190002774696"
      ]
     },
     "execution_count": 50,
     "metadata": {},
     "output_type": "execute_result"
    }
   ],
   "source": [
    "#Obtenemos la pendiente o coeficiente de regresion\n",
    "modelo_saturado_g3.intercept_"
   ]
  },
  {
   "cell_type": "code",
   "execution_count": 51,
   "metadata": {},
   "outputs": [
    {
     "data": {
      "text/plain": [
       "array([ 0.18616024,  0.92394003, -0.06830248,  0.11677037, -0.29920886,\n",
       "        0.06531415,  0.09960769, -0.44193886,  0.27684427, -0.0289176 ,\n",
       "       -0.00566013, -0.29939394,  0.33350504,  0.12812363,  0.03202892,\n",
       "        0.32928516,  0.01084849,  0.09431963,  0.15654513,  0.10589657,\n",
       "       -0.7931447 , -0.26549564, -0.53814122, -0.34612465,  0.5900131 ,\n",
       "        0.04237919,  0.12827541, -0.11198328,  0.38465843,  0.04896171,\n",
       "       -0.3826038 , -0.23197045, -0.10637282,  0.14427636, -0.13530257,\n",
       "       -0.27583928,  0.25926074,  0.08161894, -1.75425925,  0.0468639 ,\n",
       "       -0.11186088])"
      ]
     },
     "execution_count": 51,
     "metadata": {},
     "output_type": "execute_result"
    }
   ],
   "source": [
    "#Obtenemos los coeficientes de cada variable ingresada al modelo\n",
    "modelo_saturado_g3.coef_"
   ]
  },
  {
   "cell_type": "code",
   "execution_count": 52,
   "metadata": {},
   "outputs": [
    {
     "name": "stdout",
     "output_type": "stream",
     "text": [
      "MSE2: 4.42\n",
      "R2: 0.79\n",
      "La cantidad de predicciones realizadas en X_test son:  94\n"
     ]
    }
   ],
   "source": [
    "yhat_saturado = modelo_saturado_g3.predict(x_test1)\n",
    "\n",
    "mse_modelo = mean_squared_error(y_test1, yhat_saturado).round(2)\n",
    "r2_modelo = r2_score(y_test1, yhat_saturado).round(2)\n",
    "\n",
    "print(f\"MSE2: {mse_modelo}\\nR2: {r2_modelo}\")\n",
    "print(\"La cantidad de predicciones realizadas en X_test son: \", len(yhat_saturado))"
   ]
  },
  {
   "cell_type": "markdown",
   "metadata": {},
   "source": [
    "MSE: nuestro MSE de 4.42 nos indica que el error entre los valores estimados y reales es alta\n",
    "\n",
    "R2: La variabilidad explicada por nuestras variables en el modelo es de 79%."
   ]
  },
  {
   "cell_type": "markdown",
   "metadata": {},
   "source": [
    "## Modelo depurado"
   ]
  },
  {
   "cell_type": "code",
   "execution_count": 53,
   "metadata": {},
   "outputs": [],
   "source": [
    "#Creamos nuestra variable dependiente y las independientes en los vectores y_vec1 y x_mat1\n",
    "y_vec2 = df[\"G3\"]\n",
    "x_mat2 = df.loc[:, [\"G1\", \"G2\", \"famrel\", \"absences\"]]\n",
    "x_train2, x_test2, y_train2, y_test2 = train_test_split(x_mat2, y_vec2, test_size = .33, random_state=11238)       "
   ]
  },
  {
   "cell_type": "code",
   "execution_count": 54,
   "metadata": {},
   "outputs": [],
   "source": [
    "#Creamos nuestro modelo o funcion de regresion lineal\n",
    "#Le entregamos nuestros datos de entrenamiento y testeo\n",
    "modelo_depurado_g3 = LinearRegression().fit(x_train2, y_train2)"
   ]
  },
  {
   "cell_type": "code",
   "execution_count": 55,
   "metadata": {},
   "outputs": [
    {
     "data": {
      "text/plain": [
       "-3.320512021958539"
      ]
     },
     "execution_count": 55,
     "metadata": {},
     "output_type": "execute_result"
    }
   ],
   "source": [
    "#Obtenemos la pendiente o coeficiente de regresion\n",
    "modelo_depurado_g3.intercept_"
   ]
  },
  {
   "cell_type": "code",
   "execution_count": 56,
   "metadata": {},
   "outputs": [
    {
     "data": {
      "text/plain": [
       "array([0.19181203, 0.9533171 , 0.32735718, 0.02809659])"
      ]
     },
     "execution_count": 56,
     "metadata": {},
     "output_type": "execute_result"
    }
   ],
   "source": [
    "#Obtenemos los coeficientes de cada variable ingresada al modelo\n",
    "modelo_depurado_g3.coef_"
   ]
  },
  {
   "cell_type": "code",
   "execution_count": 57,
   "metadata": {},
   "outputs": [
    {
     "name": "stdout",
     "output_type": "stream",
     "text": [
      "MSE2: 3.88\n",
      "R2: 0.81\n",
      "La cantidad de predicciones realizadas en X_test2 son:  94\n"
     ]
    }
   ],
   "source": [
    "yhat_depurado2 = modelo_depurado_g3.predict(x_test2)\n",
    "\n",
    "mse_modelo2 = mean_squared_error(y_test2, yhat_depurado2).round(2)\n",
    "r2_modelo2 = r2_score(y_test2, yhat_depurado2).round(2)\n",
    "\n",
    "print(f\"MSE2: {mse_modelo2}\\nR2: {r2_modelo2}\")\n",
    "print(\"La cantidad de predicciones realizadas en X_test2 son: \", len(yhat_depurado2))"
   ]
  },
  {
   "cell_type": "markdown",
   "metadata": {},
   "source": [
    "MSE: nuestro MSE de 3.88 nos indica que el error entre los valores estimados y reales es alta\n",
    "\n",
    "R2: La variabilidad explicada por nuestras variables en el modelo es de 81%."
   ]
  },
  {
   "cell_type": "markdown",
   "metadata": {},
   "source": [
    "## Modelo con parametros alterados"
   ]
  },
  {
   "cell_type": "code",
   "execution_count": 58,
   "metadata": {},
   "outputs": [],
   "source": [
    "#Creamos nuestra variable dependiente y las independientes en los vectores y_vec1 y x_mat1\n",
    "y_vec3 = df[\"G3\"]\n",
    "x_mat3 = df.loc[:, [\"G1\", \"G2\", \"famrel\", \"absences\"]]\n",
    "x_train3, x_test3, y_train3, y_test3 = train_test_split(x_mat3, y_vec3, test_size = .33, random_state=11238)       "
   ]
  },
  {
   "cell_type": "code",
   "execution_count": 59,
   "metadata": {},
   "outputs": [],
   "source": [
    "#Creamos nuestro modelo alterado\n",
    "modelo_alterado = LinearRegression(fit_intercept=False, normalize=True)"
   ]
  },
  {
   "cell_type": "code",
   "execution_count": 60,
   "metadata": {},
   "outputs": [],
   "source": [
    "#Le ingresamos los valores a nuestro modelo\n",
    "modelo_alterado = modelo_alterado.fit(x_train3, y_train3)"
   ]
  },
  {
   "cell_type": "code",
   "execution_count": 61,
   "metadata": {},
   "outputs": [
    {
     "data": {
      "text/plain": [
       "0.0"
      ]
     },
     "execution_count": 61,
     "metadata": {},
     "output_type": "execute_result"
    }
   ],
   "source": [
    "#Obtenemos la pendiente o coeficiente de regresion\n",
    "modelo_alterado.intercept_"
   ]
  },
  {
   "cell_type": "code",
   "execution_count": 62,
   "metadata": {},
   "outputs": [
    {
     "data": {
      "text/plain": [
       "array([ 0.09759294,  0.94006575, -0.18776574,  0.01748601])"
      ]
     },
     "execution_count": 62,
     "metadata": {},
     "output_type": "execute_result"
    }
   ],
   "source": [
    "#Obtenemos los coeficientes de cada variable ingresada al modelo\n",
    "modelo_alterado.coef_"
   ]
  },
  {
   "cell_type": "code",
   "execution_count": 63,
   "metadata": {},
   "outputs": [
    {
     "name": "stdout",
     "output_type": "stream",
     "text": [
      "MSE2: 3.88\n",
      "R2: 0.79\n",
      "La cantidad de predicciones realizadas en X_test2 son:  94\n"
     ]
    }
   ],
   "source": [
    "yhat_alterado = modelo_alterado.predict(x_test3)\n",
    "\n",
    "mse_modelo3 = mean_squared_error(y_test3, yhat_alterado).round(2)\n",
    "r2_modelo3 = r2_score(y_test3, yhat_alterado).round(2)\n",
    "\n",
    "print(f\"MSE2: {mse_modelo2}\\nR2: {r2_modelo3}\")\n",
    "print(\"La cantidad de predicciones realizadas en X_test2 son: \", len(yhat_alterado))"
   ]
  },
  {
   "cell_type": "markdown",
   "metadata": {},
   "source": [
    "MSE: nuestro MSE de 3.88 nos indica que el error entre los valores estimados y reales es alta\n",
    "\n",
    "R2: La variabilidad explicada por nuestras variables en el modelo es de 79%."
   ]
  },
  {
   "cell_type": "markdown",
   "metadata": {},
   "source": [
    "### Resumen estadisticos:\n",
    "\n",
    "Modelo saturado:\n",
    "MSE2: 4.42\n",
    "R2: 0.79\n",
    "    \n",
    "Modelo depurado:\n",
    "MSE2: 3.88\n",
    "R2: 0.81\n",
    "    \n",
    "Modelo alterado:\n",
    "MSE2: 3.88\n",
    "R2: 0.79\n",
    "\n",
    "\n",
    "### Conclusion:\n",
    "\n",
    "Considerando el rendimiento de nuestros modelos, podemos optar por utilizar el modelo depurado. Este explica un 81% de la variabilidad de las variables vs el 79% que explican los otros dos modelos.\n",
    "\n",
    "Además, el nivel de precision es mayor al modelo saturado e igual al modelo alterado con 3.88 nivel de errores."
   ]
  }
 ],
 "metadata": {
  "kernelspec": {
   "display_name": "Python 3",
   "language": "python",
   "name": "python3"
  },
  "language_info": {
   "codemirror_mode": {
    "name": "ipython",
    "version": 3
   },
   "file_extension": ".py",
   "mimetype": "text/x-python",
   "name": "python",
   "nbconvert_exporter": "python",
   "pygments_lexer": "ipython3",
   "version": "3.7.3"
  }
 },
 "nbformat": 4,
 "nbformat_minor": 2
}

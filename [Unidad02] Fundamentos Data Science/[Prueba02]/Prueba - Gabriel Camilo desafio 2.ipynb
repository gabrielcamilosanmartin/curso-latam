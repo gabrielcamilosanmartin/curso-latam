{
 "cells": [
  {
   "cell_type": "markdown",
   "metadata": {},
   "source": [
    "# Desafío 2: Rendimiento Escolar\n",
    "\n",
    "\n",
    "Nombre: Gabriel Camilo San Martín\n",
    "\n",
    "Profesor: Josué Fredes\n",
    "\n",
    "Generación: G4\n",
    "\n",
    "\n",
    "\n",
    "## Enunciado\n",
    "\n",
    "Lo contactan de una escuela Portuguesa para generar un modelo que identifique aquellos alumnos que presentan un bajo desempeño académico, medido en el promedio final del año escolar. Para ello le envían un archivo con registros sociodemográficos y conductuales de los alumnos dos escuelas para perfilar a los estudiantes. De manera adicional la psicopedagoga sugiere inspeccionar una batería de preguntas asociadas a aspectos ambientales del alumno (de famrel a health ) y ver si éstas se pueden abstraer en categorías latentes.\n",
    "\n",
    "## Descripción de la base de datos\n",
    "\n",
    "Para responder esta pregunta deben utilizar el archivo students.csv . Las variables que componen la base se detallan a continuación.\n",
    "\n",
    "### Variables\n",
    "- `school` : Escuela del estudiante. (binaria: 'GP' - Gabriel Pereira o 'MS' - Mousinho da Silveira)\n",
    "- `sex` : Sexo del estudiante. (binaria: 'F' - Mujer o 'M' - Hombre)\n",
    "- `age` : Edad del estudiante. (numérica: de 15 a 22)\n",
    "- `address` : Ubicación de la casa del estudiante. (binaria: 'U' - urbana o 'R' - rural)\n",
    "- `famsize` : Tamaño de la familia. (binaria: 'LE3' - less or equal to 3 or 'GT3' - greater than 3)\n",
    "- `Pstatus` : Estado cohabitacional de los padres. (binaria: 'T' - cohabitando juntos o 'A' - viviendo separados)\n",
    "- `Medu` : Nivel educacional de la madre. (numérica: 0 - ninguno, 1 - educación básica (4to), 2 - de 5to a 9, 3 - educación media, o 4 - educación superior).\n",
    "- `Fedu` : Nivel educacional del padre. (numérica: 0 - ninguno, 1 - educación básica (4to), 2 - de 5to a 9, 3 - educación media, o 4 - educación superior).\n",
    "- `Mjob` : Ocupación de la madre. (nominal: 'teacher' profesora, 'health' relacionada a salud, 'services' (e.g. administración pública o policía), 'at_home' en casa u 'other' otra).\n",
    "- `Fjob` : Ocupación del padre (nominal: 'teacher' profesor, 'health' relacionado a salud, 'services' (e.g. administración pública o policía), 'at_home' en casa u 'other' otra).\n",
    "- `reason` : Razón para escoger la escuela (nominal: 'home' cercano a casa, 'reputation' reputación de la escuela, 'course' preferencia de cursos u 'other' otra)\n",
    "- `guardian` : Apoderado del estudiante (nominal: 'mother' madre, 'father' padre u 'other' otro)\n",
    "- `traveltime` : Tiempo de viaje entre hogar y colegio. (numeric: 1 - <15 min., 2 - 15 a 30 min., 3 - 30 min. a 1 hora, or 4 - >1 hora).\n",
    "- `studytime` : Horas semanales dedicadas al estudio. (numérica: 1 - <2 horas, 2 - 2 a 5 horas, 3 - 5 a 10 horas, o 4 - >10 horas)\n",
    "- `failures` : Número de clases reprobadas. (numérica: n si 1<=n<3, de lo contrario 4)\n",
    "- `schoolsup` : Apoyo educacional del colegio. (binaria: si o no)\n",
    "- `famsup` : Apoyo educacional familiar. (binaria: si o no)\n",
    "- `paid` : Clases particulares pagadas (matemáticas o portugués) (binaria: si o no)\n",
    "- `activities` : Actividades extracurriculares. (binaria: si o no)\n",
    "- `nursery` : Asistió a guardería infantil. (binaria: si o no)\n",
    "- `higher` : Desea proseguir estudios superiores (binaria: si o no)\n",
    "- `internet` : Acceso a internet desde el hogar (binaria: si o no)\n",
    "- `romantic` : Relación romántica (binaria: si o no)\n",
    "- `famrel` : Calidad de las relaciones familiares. (numérica: de 1 - muy malas a 5 - excelentes)\n",
    "- `freetime` : Tiempo libre fuera del colegio (numérica: de 1 - muy poco a 5 - mucho)\n",
    "- `goout` : Salidas con amigos (numérica: de 1 - muy pocas a 5 - muchas)\n",
    "- `Dalc` : Consumo de alcohol en día de semana (numérica: de 1 - muy bajo a 5 - muy alto)\n",
    "- `Walc` : Consumo de alcohol en fines de semana (numérica: de 1 - muy bajo a 5 - muy alto)\n",
    "- `health` : Estado de salud actual (numérica: from 1 - muy malo to 5 - muy bueno)\n",
    "- `absences` : Cantidad de ausencias escolares (numérica: de 0 a 93)\n",
    "\n",
    "### Vector objetivo\n",
    "- `G1` : Notas durante el primer semestre (numérica: de 0 a 20). Este es uno de sus vectores objetivos para el modelo descriptivo.\n",
    "- `G2` : Notas durante el segundo semestre (numérica: de 0 a 20). Este es uno de sus vectores objetivos para el modelo descriptivo.\n",
    "- `G3` : Promedio final (numérica: de 0 a 20). Este es uno de sus vectores objetivos para el modelo descriptivo y el vector a predecir en el modelo predictivo."
   ]
  },
  {
   "cell_type": "markdown",
   "metadata": {},
   "source": [
    "---\n",
    "## Preliminares\n",
    "### Descripción del problema.\n",
    "\n",
    "Para el presente problema se busca predecir el comportamiento de 3 variables. Por este motivo se determina que el problema es de **Regresión**\n",
    "\n",
    "### Objetivos\n",
    "#### Objetivo General\n",
    "- Basado en los atributos contenidos en el archivo `students.csv`, se debe generar un modelo predictivo que permita determinar el comportamiento de `G3` y modelos saturados para `G1`, `G2` y `G3` \n",
    "\n",
    "#### Objetivos Específicos\n",
    "    \n",
    "- Recodificar atributos segun sugerencia de la organizacion, recodificar variables cualitativas en terminos binarios y eliminar datos perdidos.\n",
    "- Determinar las variables relevantes para la creación del modelo.\n",
    "- mejorar el modelo en base a los resultados de mediciones realizadas.\n",
    "- Elegir modelo con mejores resultados.\n",
    "    \n",
    "#### Implementación de solución: Criterios de optimización y métricas de desempeño.\n",
    "\n",
    "1. Se debe preparar el ambiente de trabajo importando las librerías a utilizar y el archivo *csv* pertinente.\n",
    "2. Se recodificará la información según sugerencias de la organización y se deben crear variables discretas basadas en variables cualitativas, esto basado en un análisis exploratorio de los datos entregados. Finalmente, en esta etapa, se debe remplazar los valores perdidos por valores NaN, para su posterior eliminación. \n",
    "3. Se debe realizar un análisis descriptivo para permitir un mejor entendimiento del problema, se deben identificar medidas univariadas, datos perdidos y gráficos distributivos.\n",
    "4. Mediante un mapa de calor de covarianzas se determinarán las variables relevantes para la creación de los modelos.\n",
    "5. Se debe crear los modelos saturados y predictivo. Para validar los modelos se empleara $R^{2}$"
   ]
  },
  {
   "cell_type": "markdown",
   "metadata": {},
   "source": [
    "---\n",
    "## Aspectos Computacionales\n",
    "\n",
    "### Librerías y módulos a implementar."
   ]
  },
  {
   "cell_type": "code",
   "execution_count": 25,
   "metadata": {},
   "outputs": [],
   "source": [
    "import pandas as pd # Permite trabajar con data frame\n",
    "import numpy as np # Agrega mayor soporte para vectores y matrices\n",
    "import matplotlib.pyplot as plt # Biblioteca para la generación de gráficos\n",
    "import seaborn as sns # Biblioteca de visualización de datos basada en matplotlib\n",
    "import scipy.stats as stats # Ayudará a generar distribuciones\n",
    "\n",
    "# Módulo que proporciona clases y funciones para la estimación de muchos modelos estadísticos diferentes.\n",
    "import statsmodels.api as sm\n",
    "import statsmodels.formula.api as smf\n",
    "import missingno as msgn\n",
    "\n",
    "# Biblioteca para aprendizaje de máquina\n",
    "from sklearn import linear_model\n",
    "from sklearn.model_selection import train_test_split\n",
    "from sklearn.preprocessing import StandardScaler\n",
    "\n",
    "# Métricas evaluación\n",
    "from sklearn.metrics import classification_report, roc_curve, roc_auc_score, mean_squared_error, r2_score\n",
    "\n",
    "from auxiliar_functions import *\n",
    "import factor_analyzer as factor\n",
    "\n",
    "from warnings import simplefilter\n",
    "simplefilter(action='ignore', category=FutureWarning)"
   ]
  },
  {
   "cell_type": "code",
   "execution_count": 2,
   "metadata": {},
   "outputs": [
    {
     "data": {
      "text/html": [
       "<div>\n",
       "<style scoped>\n",
       "    .dataframe tbody tr th:only-of-type {\n",
       "        vertical-align: middle;\n",
       "    }\n",
       "\n",
       "    .dataframe tbody tr th {\n",
       "        vertical-align: top;\n",
       "    }\n",
       "\n",
       "    .dataframe thead th {\n",
       "        text-align: right;\n",
       "    }\n",
       "</style>\n",
       "<table border=\"1\" class=\"dataframe\">\n",
       "  <thead>\n",
       "    <tr style=\"text-align: right;\">\n",
       "      <th></th>\n",
       "      <th>school</th>\n",
       "      <th>sex</th>\n",
       "      <th>age</th>\n",
       "      <th>address</th>\n",
       "      <th>famsize</th>\n",
       "      <th>Pstatus</th>\n",
       "      <th>Medu</th>\n",
       "      <th>Fedu</th>\n",
       "      <th>Mjob</th>\n",
       "      <th>Fjob</th>\n",
       "      <th>...</th>\n",
       "      <th>famrel</th>\n",
       "      <th>freetime</th>\n",
       "      <th>goout</th>\n",
       "      <th>Dalc</th>\n",
       "      <th>Walc</th>\n",
       "      <th>health</th>\n",
       "      <th>absences</th>\n",
       "      <th>G1</th>\n",
       "      <th>G2</th>\n",
       "      <th>G3</th>\n",
       "    </tr>\n",
       "  </thead>\n",
       "  <tbody>\n",
       "    <tr>\n",
       "      <th>1</th>\n",
       "      <td>GP</td>\n",
       "      <td>F</td>\n",
       "      <td>\"17\"</td>\n",
       "      <td>U</td>\n",
       "      <td>GT3</td>\n",
       "      <td>T</td>\n",
       "      <td>1</td>\n",
       "      <td>1</td>\n",
       "      <td>at_home</td>\n",
       "      <td>other</td>\n",
       "      <td>...</td>\n",
       "      <td>5</td>\n",
       "      <td>3</td>\n",
       "      <td>\"3\"</td>\n",
       "      <td>1</td>\n",
       "      <td>1</td>\n",
       "      <td>\"3\"</td>\n",
       "      <td>4</td>\n",
       "      <td>5</td>\n",
       "      <td>5</td>\n",
       "      <td>6</td>\n",
       "    </tr>\n",
       "    <tr>\n",
       "      <th>3</th>\n",
       "      <td>GP</td>\n",
       "      <td>F</td>\n",
       "      <td>\"15\"</td>\n",
       "      <td>U</td>\n",
       "      <td>GT3</td>\n",
       "      <td>T</td>\n",
       "      <td>4</td>\n",
       "      <td>2</td>\n",
       "      <td>health</td>\n",
       "      <td>services</td>\n",
       "      <td>...</td>\n",
       "      <td>3</td>\n",
       "      <td>2</td>\n",
       "      <td>\"2\"</td>\n",
       "      <td>1</td>\n",
       "      <td>1</td>\n",
       "      <td>\"5\"</td>\n",
       "      <td>2</td>\n",
       "      <td>15</td>\n",
       "      <td>14</td>\n",
       "      <td>15</td>\n",
       "    </tr>\n",
       "    <tr>\n",
       "      <th>5</th>\n",
       "      <td>GP</td>\n",
       "      <td>M</td>\n",
       "      <td>\"16\"</td>\n",
       "      <td>U</td>\n",
       "      <td>LE3</td>\n",
       "      <td>T</td>\n",
       "      <td>4</td>\n",
       "      <td>3</td>\n",
       "      <td>services</td>\n",
       "      <td>other</td>\n",
       "      <td>...</td>\n",
       "      <td>5</td>\n",
       "      <td>4</td>\n",
       "      <td>\"2\"</td>\n",
       "      <td>1</td>\n",
       "      <td>2</td>\n",
       "      <td>\"5\"</td>\n",
       "      <td>10</td>\n",
       "      <td>15</td>\n",
       "      <td>15</td>\n",
       "      <td>15</td>\n",
       "    </tr>\n",
       "    <tr>\n",
       "      <th>6</th>\n",
       "      <td>GP</td>\n",
       "      <td>M</td>\n",
       "      <td>\"16\"</td>\n",
       "      <td>U</td>\n",
       "      <td>LE3</td>\n",
       "      <td>T</td>\n",
       "      <td>2</td>\n",
       "      <td>2</td>\n",
       "      <td>other</td>\n",
       "      <td>other</td>\n",
       "      <td>...</td>\n",
       "      <td>4</td>\n",
       "      <td>4</td>\n",
       "      <td>\"4\"</td>\n",
       "      <td>1</td>\n",
       "      <td>1</td>\n",
       "      <td>\"3\"</td>\n",
       "      <td>0</td>\n",
       "      <td>12</td>\n",
       "      <td>12</td>\n",
       "      <td>11</td>\n",
       "    </tr>\n",
       "    <tr>\n",
       "      <th>7</th>\n",
       "      <td>GP</td>\n",
       "      <td>F</td>\n",
       "      <td>\"17\"</td>\n",
       "      <td>U</td>\n",
       "      <td>GT3</td>\n",
       "      <td>A</td>\n",
       "      <td>4</td>\n",
       "      <td>4</td>\n",
       "      <td>other</td>\n",
       "      <td>teacher</td>\n",
       "      <td>...</td>\n",
       "      <td>4</td>\n",
       "      <td>1</td>\n",
       "      <td>\"4\"</td>\n",
       "      <td>1</td>\n",
       "      <td>1</td>\n",
       "      <td>\"1\"</td>\n",
       "      <td>6</td>\n",
       "      <td>6</td>\n",
       "      <td>5</td>\n",
       "      <td>6</td>\n",
       "    </tr>\n",
       "  </tbody>\n",
       "</table>\n",
       "<p>5 rows × 33 columns</p>\n",
       "</div>"
      ],
      "text/plain": [
       "  school sex   age address famsize Pstatus Medu Fedu      Mjob      Fjob  ...  \\\n",
       "1     GP   F  \"17\"       U     GT3       T    1    1   at_home     other  ...   \n",
       "3     GP   F  \"15\"       U     GT3       T    4    2    health  services  ...   \n",
       "5     GP   M  \"16\"       U     LE3       T    4    3  services     other  ...   \n",
       "6     GP   M  \"16\"       U     LE3       T    2    2     other     other  ...   \n",
       "7     GP   F  \"17\"       U     GT3       A    4    4     other   teacher  ...   \n",
       "\n",
       "  famrel freetime goout Dalc Walc health absences  G1  G2  G3  \n",
       "1      5        3   \"3\"    1    1    \"3\"        4   5   5   6  \n",
       "3      3        2   \"2\"    1    1    \"5\"        2  15  14  15  \n",
       "5      5        4   \"2\"    1    2    \"5\"       10  15  15  15  \n",
       "6      4        4   \"4\"    1    1    \"3\"        0  12  12  11  \n",
       "7      4        1   \"4\"    1    1    \"1\"        6   6   5   6  \n",
       "\n",
       "[5 rows x 33 columns]"
      ]
     },
     "execution_count": 2,
     "metadata": {},
     "output_type": "execute_result"
    }
   ],
   "source": [
    "df = pd.read_csv('students.csv', sep='|',index_col=0)\n",
    "df = df.replace('nulidade', np.nan)\n",
    "df = df.replace('sem validade', np.nan)\n",
    "df = df.replace('zero', np.nan)\n",
    "df = df.replace('NaN', np.nan)\n",
    "df = df.replace('', np.nan)\n",
    "#Eliminando los datos perdidos del dataframe\n",
    "df = df.dropna()\n",
    "df.head()"
   ]
  },
  {
   "cell_type": "code",
   "execution_count": null,
   "metadata": {},
   "outputs": [],
   "source": []
  },
  {
   "cell_type": "markdown",
   "metadata": {},
   "source": [
    "---\n",
    "## Descripción\n",
    "\n",
    "### Análisis descriptivo según tipo de variables (enfoque estadístico y computacional).\n",
    "\n",
    "Considerar medidas univariadas/frecuencias, datos perdidos y gráficos distributivos sobre las variables a analizar. Detallar estrategia de pre procesamiento (datos perdidos y recodificaciones)"
   ]
  },
  {
   "cell_type": "code",
   "execution_count": 3,
   "metadata": {},
   "outputs": [
    {
     "name": "stdout",
     "output_type": "stream",
     "text": [
      "GP    247\n",
      "MS     37\n",
      "Name: school, dtype: int64\n",
      "\n",
      "F    147\n",
      "M    137\n",
      "Name: sex, dtype: int64\n",
      "\n",
      "U    214\n",
      "R     70\n",
      "Name: address, dtype: int64\n",
      "\n",
      "GT3    209\n",
      "LE3     75\n",
      "Name: famsize, dtype: int64\n",
      "\n",
      "T    257\n",
      "A     27\n",
      "Name: Pstatus, dtype: int64\n",
      "\n",
      "no     246\n",
      "yes     38\n",
      "Name: schoolsup, dtype: int64\n",
      "\n",
      "yes    174\n",
      "no     110\n",
      "Name: famsup, dtype: int64\n",
      "\n",
      "no     158\n",
      "yes    126\n",
      "Name: paid, dtype: int64\n",
      "\n",
      "yes    148\n",
      "no     136\n",
      "Name: activities, dtype: int64\n",
      "\n",
      "yes    223\n",
      "no      61\n",
      "Name: nursery, dtype: int64\n",
      "\n",
      "yes    269\n",
      "no      15\n",
      "Name: higher, dtype: int64\n",
      "\n",
      "yes    231\n",
      "no      53\n",
      "Name: internet, dtype: int64\n",
      "\n",
      "no     189\n",
      "yes     95\n",
      "Name: romantic, dtype: int64\n",
      "\n"
     ]
    }
   ],
   "source": [
    "# se inspeccionan las columnas para determinar valor 1 y 0\n",
    "print(df['school'].value_counts())\n",
    "print()\n",
    "print(df['sex'].value_counts())\n",
    "print()\n",
    "print(df['address'].value_counts())\n",
    "print()\n",
    "print(df['famsize'].value_counts())\n",
    "print()\n",
    "print(df['Pstatus'].value_counts())\n",
    "print()\n",
    "print(df['schoolsup'].value_counts())\n",
    "print()\n",
    "print(df['famsup'].value_counts())\n",
    "print()\n",
    "print(df['paid'].value_counts())\n",
    "print()\n",
    "print(df['activities'].value_counts())\n",
    "print()\n",
    "print(df['nursery'].value_counts())\n",
    "print()\n",
    "print(df['higher'].value_counts())\n",
    "print()\n",
    "print(df['internet'].value_counts())\n",
    "print()\n",
    "print(df['romantic'].value_counts())\n",
    "print()"
   ]
  },
  {
   "cell_type": "code",
   "execution_count": 4,
   "metadata": {},
   "outputs": [
    {
     "data": {
      "text/html": [
       "<div>\n",
       "<style scoped>\n",
       "    .dataframe tbody tr th:only-of-type {\n",
       "        vertical-align: middle;\n",
       "    }\n",
       "\n",
       "    .dataframe tbody tr th {\n",
       "        vertical-align: top;\n",
       "    }\n",
       "\n",
       "    .dataframe thead th {\n",
       "        text-align: right;\n",
       "    }\n",
       "</style>\n",
       "<table border=\"1\" class=\"dataframe\">\n",
       "  <thead>\n",
       "    <tr style=\"text-align: right;\">\n",
       "      <th></th>\n",
       "      <th>school</th>\n",
       "      <th>sex</th>\n",
       "      <th>age</th>\n",
       "      <th>address</th>\n",
       "      <th>famsize</th>\n",
       "      <th>Pstatus</th>\n",
       "      <th>Medu</th>\n",
       "      <th>Fedu</th>\n",
       "      <th>Mjob</th>\n",
       "      <th>Fjob</th>\n",
       "      <th>...</th>\n",
       "      <th>bin_Mjob_at_home</th>\n",
       "      <th>bin_Fjob_teacher</th>\n",
       "      <th>bin_Fjob_health</th>\n",
       "      <th>bin_Fjob_services</th>\n",
       "      <th>bin_Fjob_at_home</th>\n",
       "      <th>bin_reason_home</th>\n",
       "      <th>bin_reason_reputation</th>\n",
       "      <th>bin_reason_other</th>\n",
       "      <th>bin_guardian_father</th>\n",
       "      <th>bin_guardian_other</th>\n",
       "    </tr>\n",
       "  </thead>\n",
       "  <tbody>\n",
       "    <tr>\n",
       "      <th>1</th>\n",
       "      <td>0</td>\n",
       "      <td>0</td>\n",
       "      <td>\"17\"</td>\n",
       "      <td>0</td>\n",
       "      <td>0</td>\n",
       "      <td>0</td>\n",
       "      <td>1</td>\n",
       "      <td>1</td>\n",
       "      <td>at_home</td>\n",
       "      <td>other</td>\n",
       "      <td>...</td>\n",
       "      <td>1</td>\n",
       "      <td>0</td>\n",
       "      <td>0</td>\n",
       "      <td>0</td>\n",
       "      <td>0</td>\n",
       "      <td>0</td>\n",
       "      <td>0</td>\n",
       "      <td>0</td>\n",
       "      <td>1</td>\n",
       "      <td>0</td>\n",
       "    </tr>\n",
       "    <tr>\n",
       "      <th>3</th>\n",
       "      <td>0</td>\n",
       "      <td>0</td>\n",
       "      <td>\"15\"</td>\n",
       "      <td>0</td>\n",
       "      <td>0</td>\n",
       "      <td>0</td>\n",
       "      <td>4</td>\n",
       "      <td>2</td>\n",
       "      <td>health</td>\n",
       "      <td>services</td>\n",
       "      <td>...</td>\n",
       "      <td>0</td>\n",
       "      <td>0</td>\n",
       "      <td>0</td>\n",
       "      <td>1</td>\n",
       "      <td>0</td>\n",
       "      <td>1</td>\n",
       "      <td>0</td>\n",
       "      <td>0</td>\n",
       "      <td>0</td>\n",
       "      <td>0</td>\n",
       "    </tr>\n",
       "    <tr>\n",
       "      <th>5</th>\n",
       "      <td>0</td>\n",
       "      <td>1</td>\n",
       "      <td>\"16\"</td>\n",
       "      <td>0</td>\n",
       "      <td>1</td>\n",
       "      <td>0</td>\n",
       "      <td>4</td>\n",
       "      <td>3</td>\n",
       "      <td>services</td>\n",
       "      <td>other</td>\n",
       "      <td>...</td>\n",
       "      <td>0</td>\n",
       "      <td>0</td>\n",
       "      <td>0</td>\n",
       "      <td>0</td>\n",
       "      <td>0</td>\n",
       "      <td>0</td>\n",
       "      <td>1</td>\n",
       "      <td>0</td>\n",
       "      <td>0</td>\n",
       "      <td>0</td>\n",
       "    </tr>\n",
       "    <tr>\n",
       "      <th>6</th>\n",
       "      <td>0</td>\n",
       "      <td>1</td>\n",
       "      <td>\"16\"</td>\n",
       "      <td>0</td>\n",
       "      <td>1</td>\n",
       "      <td>0</td>\n",
       "      <td>2</td>\n",
       "      <td>2</td>\n",
       "      <td>other</td>\n",
       "      <td>other</td>\n",
       "      <td>...</td>\n",
       "      <td>0</td>\n",
       "      <td>0</td>\n",
       "      <td>0</td>\n",
       "      <td>0</td>\n",
       "      <td>0</td>\n",
       "      <td>1</td>\n",
       "      <td>0</td>\n",
       "      <td>0</td>\n",
       "      <td>0</td>\n",
       "      <td>0</td>\n",
       "    </tr>\n",
       "    <tr>\n",
       "      <th>7</th>\n",
       "      <td>0</td>\n",
       "      <td>0</td>\n",
       "      <td>\"17\"</td>\n",
       "      <td>0</td>\n",
       "      <td>0</td>\n",
       "      <td>1</td>\n",
       "      <td>4</td>\n",
       "      <td>4</td>\n",
       "      <td>other</td>\n",
       "      <td>teacher</td>\n",
       "      <td>...</td>\n",
       "      <td>0</td>\n",
       "      <td>1</td>\n",
       "      <td>0</td>\n",
       "      <td>0</td>\n",
       "      <td>0</td>\n",
       "      <td>1</td>\n",
       "      <td>0</td>\n",
       "      <td>0</td>\n",
       "      <td>0</td>\n",
       "      <td>0</td>\n",
       "    </tr>\n",
       "  </tbody>\n",
       "</table>\n",
       "<p>5 rows × 46 columns</p>\n",
       "</div>"
      ],
      "text/plain": [
       "   school  sex   age  address  famsize  Pstatus Medu Fedu      Mjob      Fjob  \\\n",
       "1       0    0  \"17\"        0        0        0    1    1   at_home     other   \n",
       "3       0    0  \"15\"        0        0        0    4    2    health  services   \n",
       "5       0    1  \"16\"        0        1        0    4    3  services     other   \n",
       "6       0    1  \"16\"        0        1        0    2    2     other     other   \n",
       "7       0    0  \"17\"        0        0        1    4    4     other   teacher   \n",
       "\n",
       "   ... bin_Mjob_at_home bin_Fjob_teacher bin_Fjob_health bin_Fjob_services  \\\n",
       "1  ...                1                0               0                 0   \n",
       "3  ...                0                0               0                 1   \n",
       "5  ...                0                0               0                 0   \n",
       "6  ...                0                0               0                 0   \n",
       "7  ...                0                1               0                 0   \n",
       "\n",
       "  bin_Fjob_at_home  bin_reason_home  bin_reason_reputation  bin_reason_other  \\\n",
       "1                0                0                      0                 0   \n",
       "3                0                1                      0                 0   \n",
       "5                0                0                      1                 0   \n",
       "6                0                1                      0                 0   \n",
       "7                0                1                      0                 0   \n",
       "\n",
       "   bin_guardian_father  bin_guardian_other  \n",
       "1                    1                   0  \n",
       "3                    0                   0  \n",
       "5                    0                   0  \n",
       "6                    0                   0  \n",
       "7                    0                   0  \n",
       "\n",
       "[5 rows x 46 columns]"
      ]
     },
     "execution_count": 4,
     "metadata": {},
     "output_type": "execute_result"
    }
   ],
   "source": [
    "# Se aplica binarizacion sobre las variables. \n",
    "df['school'] = np.where(df['school'] == 'GP', 0, 1)\n",
    "df['sex'] = np.where(df['sex'] == 'F', 0, 1)\n",
    "df['address'] = np.where(df['address'] == 'U', 0, 1)\n",
    "df['famsize'] = np.where(df['famsize'] == 'GT3', 0, 1)\n",
    "df['Pstatus'] = np.where(df['Pstatus'] == 'T', 0, 1)\n",
    "df['schoolsup'] = np.where(df['schoolsup'] == 'no', 0, 1)\n",
    "df['famsup'] = np.where(df['famsup'] == 'yes', 0, 1)\n",
    "df['paid'] = np.where(df['paid'] == 'no', 0, 1)\n",
    "df['activities'] = np.where(df['activities'] == 'yes', 0, 1)\n",
    "df['nursery'] = np.where(df['nursery'] == 'yes', 0, 1)\n",
    "df['higher'] = np.where(df['higher'] == 'yes', 0, 1)\n",
    "df['internet'] = np.where(df['internet'] == 'yes', 0, 1)\n",
    "df['romantic'] = np.where(df['romantic'] == 'no', 0, 1)\n",
    "\n",
    "#variables Mjob\n",
    "variables_originales = nuevas_variables = ['teacher','health','services','at_home','other']\n",
    "df = bin_and_remplace(variables_originales, nuevas_variables, 'Mjob', df)\n",
    "\n",
    "#variables Fjob\n",
    "df = bin_and_remplace(variables_originales, nuevas_variables, 'Fjob', df)\n",
    "\n",
    "#variables reason\n",
    "variables_originales = nuevas_variables = ['home', 'reputation', 'course', 'other']\n",
    "df = bin_and_remplace(variables_originales, nuevas_variables, 'reason', df)\n",
    "\n",
    "#variables guardian\n",
    "variables_originales = nuevas_variables = ['mother', 'father', 'other']\n",
    "df = bin_and_remplace(variables_originales, nuevas_variables, 'guardian', df)\n",
    "\n",
    "df.head()"
   ]
  },
  {
   "cell_type": "code",
   "execution_count": 5,
   "metadata": {},
   "outputs": [
    {
     "data": {
      "text/plain": [
       "<matplotlib.axes._subplots.AxesSubplot at 0xd90e650>"
      ]
     },
     "execution_count": 5,
     "metadata": {},
     "output_type": "execute_result"
    },
    {
     "data": {
      "image/png": "[encoded data removed]",
      "text/plain": [
       "<Figure size 1728x720 with 3 Axes>"
      ]
     },
     "metadata": {
      "needs_background": "light"
     },
     "output_type": "display_data"
    }
   ],
   "source": [
    "# La inspección de valores NaN de data frame inicial se muestra en sgte gráfico.\n",
    "msgn.bar(df)"
   ]
  },
  {
   "cell_type": "code",
   "execution_count": 6,
   "metadata": {},
   "outputs": [
    {
     "name": "stdout",
     "output_type": "stream",
     "text": [
      "se eliminaron: 0 datos\n"
     ]
    }
   ],
   "source": [
    "filas_inicial = df.shape[0]\n",
    "# se encuentran datos perdidos en el dataframe y se eliminan\n",
    "df = df.dropna()\n",
    "print ( 'se eliminaron: ' + str(filas_inicial - df.shape[0])+' datos')"
   ]
  },
  {
   "cell_type": "code",
   "execution_count": 7,
   "metadata": {},
   "outputs": [],
   "source": [
    "# Las variables guardadas como string, se convierten en interos\n",
    "df['age'] = df['age'].str.replace('\"','',regex=True).astype(int)\n",
    "df['goout'] = df['goout'].str.replace('\"','',regex=True).astype(int)\n",
    "df['health'] = df['health'].str.replace('\"','',regex=True).astype(int)\n",
    "df['studytime'] = df['studytime'].astype(int)\n",
    "df['failures'] = df['failures'].astype(int)\n",
    "df['famrel'] = df['famrel'].astype(int)\n",
    "df['freetime'] = df['freetime'].astype(int)\n",
    "df['Dalc'] = df['Dalc'].astype(int)\n",
    "df['Walc'] = df['Walc'].astype(int)\n",
    "df['health'] = df['health'].astype(int)\n",
    "df['absences'] = df['absences'].astype(int)\n",
    "df['Medu'] = df['Medu'].astype(int)\n",
    "df['Fedu'] = df['Fedu'].astype(int)\n",
    "df['traveltime'] = df['traveltime'].astype(int)\n",
    "\n",
    "df['G1'] = df['G1'].astype(int)\n",
    "df['G2'] = df['G2'].astype(int)\n",
    "df['G3'] = df['G3'].astype(int)"
   ]
  },
  {
   "cell_type": "code",
   "execution_count": 8,
   "metadata": {},
   "outputs": [
    {
     "name": "stdout",
     "output_type": "stream",
     "text": [
      "******************school**********************\n",
      "0    0.869718\n",
      "1    0.130282\n",
      "Name: school, dtype: float64\n",
      "****************************************\n",
      "\n",
      "******************sex**********************\n",
      "0    0.517606\n",
      "1    0.482394\n",
      "Name: sex, dtype: float64\n",
      "****************************************\n",
      "\n",
      "******************age**********************\n",
      "count    284.000000\n",
      "mean      16.707746\n",
      "std        1.284238\n",
      "min       15.000000\n",
      "25%       16.000000\n",
      "50%       17.000000\n",
      "75%       18.000000\n",
      "max       21.000000\n",
      "Name: age, dtype: float64\n",
      "****************************************\n",
      "\n",
      "******************address**********************\n",
      "0    0.753521\n",
      "1    0.246479\n",
      "Name: address, dtype: float64\n",
      "****************************************\n",
      "\n",
      "******************famsize**********************\n",
      "0    0.735915\n",
      "1    0.264085\n",
      "Name: famsize, dtype: float64\n",
      "****************************************\n",
      "\n",
      "******************Pstatus**********************\n",
      "0    0.90493\n",
      "1    0.09507\n",
      "Name: Pstatus, dtype: float64\n",
      "****************************************\n",
      "\n",
      "******************Medu**********************\n",
      "count    284.000000\n",
      "mean       2.774648\n",
      "std        1.095409\n",
      "min        0.000000\n",
      "25%        2.000000\n",
      "50%        3.000000\n",
      "75%        4.000000\n",
      "max        4.000000\n",
      "Name: Medu, dtype: float64\n",
      "****************************************\n",
      "\n",
      "******************Fedu**********************\n",
      "count    284.000000\n",
      "mean       2.521127\n",
      "std        1.091038\n",
      "min        0.000000\n",
      "25%        2.000000\n",
      "50%        3.000000\n",
      "75%        3.000000\n",
      "max        4.000000\n",
      "Name: Fedu, dtype: float64\n",
      "****************************************\n",
      "\n",
      "******************traveltime**********************\n",
      "count    284.000000\n",
      "mean       1.475352\n",
      "std        0.695334\n",
      "min        1.000000\n",
      "25%        1.000000\n",
      "50%        1.000000\n",
      "75%        2.000000\n",
      "max        4.000000\n",
      "Name: traveltime, dtype: float64\n",
      "****************************************\n",
      "\n",
      "******************studytime**********************\n",
      "count    284.000000\n",
      "mean       2.049296\n",
      "std        0.843411\n",
      "min        1.000000\n",
      "25%        1.000000\n",
      "50%        2.000000\n",
      "75%        2.000000\n",
      "max        4.000000\n",
      "Name: studytime, dtype: float64\n",
      "****************************************\n",
      "\n",
      "******************failures**********************\n",
      "count    284.000000\n",
      "mean       0.334507\n",
      "std        0.730994\n",
      "min        0.000000\n",
      "25%        0.000000\n",
      "50%        0.000000\n",
      "75%        0.000000\n",
      "max        3.000000\n",
      "Name: failures, dtype: float64\n",
      "****************************************\n",
      "\n",
      "******************schoolsup**********************\n",
      "0    0.866197\n",
      "1    0.133803\n",
      "Name: schoolsup, dtype: float64\n",
      "****************************************\n",
      "\n",
      "******************famsup**********************\n",
      "0    0.612676\n",
      "1    0.387324\n",
      "Name: famsup, dtype: float64\n",
      "****************************************\n",
      "\n",
      "******************paid**********************\n",
      "0    0.556338\n",
      "1    0.443662\n",
      "Name: paid, dtype: float64\n",
      "****************************************\n",
      "\n",
      "******************activities**********************\n",
      "0    0.521127\n",
      "1    0.478873\n",
      "Name: activities, dtype: float64\n",
      "****************************************\n",
      "\n",
      "******************nursery**********************\n",
      "0    0.785211\n",
      "1    0.214789\n",
      "Name: nursery, dtype: float64\n",
      "****************************************\n",
      "\n",
      "******************higher**********************\n",
      "0    0.947183\n",
      "1    0.052817\n",
      "Name: higher, dtype: float64\n",
      "****************************************\n",
      "\n",
      "******************internet**********************\n",
      "0    0.81338\n",
      "1    0.18662\n",
      "Name: internet, dtype: float64\n",
      "****************************************\n",
      "\n",
      "******************romantic**********************\n",
      "0    0.665493\n",
      "1    0.334507\n",
      "Name: romantic, dtype: float64\n",
      "****************************************\n",
      "\n",
      "******************famrel**********************\n",
      "count    284.000000\n",
      "mean       3.940141\n",
      "std        0.881659\n",
      "min        1.000000\n",
      "25%        4.000000\n",
      "50%        4.000000\n",
      "75%        5.000000\n",
      "max        5.000000\n",
      "Name: famrel, dtype: float64\n",
      "****************************************\n",
      "\n",
      "******************freetime**********************\n",
      "count    284.00000\n",
      "mean       3.18662\n",
      "std        1.02117\n",
      "min        1.00000\n",
      "25%        3.00000\n",
      "50%        3.00000\n",
      "75%        4.00000\n",
      "max        5.00000\n",
      "Name: freetime, dtype: float64\n",
      "****************************************\n",
      "\n",
      "******************goout**********************\n",
      "count    284.000000\n",
      "mean       3.084507\n",
      "std        1.076527\n",
      "min        1.000000\n",
      "25%        2.000000\n",
      "50%        3.000000\n",
      "75%        4.000000\n",
      "max        5.000000\n",
      "Name: goout, dtype: float64\n",
      "****************************************\n",
      "\n",
      "******************Dalc**********************\n",
      "count    284.000000\n",
      "mean       1.482394\n",
      "std        0.879512\n",
      "min        1.000000\n",
      "25%        1.000000\n",
      "50%        1.000000\n",
      "75%        2.000000\n",
      "max        5.000000\n",
      "Name: Dalc, dtype: float64\n",
      "****************************************\n",
      "\n",
      "******************Walc**********************\n",
      "count    284.000000\n",
      "mean       2.239437\n",
      "std        1.285580\n",
      "min        1.000000\n",
      "25%        1.000000\n",
      "50%        2.000000\n",
      "75%        3.000000\n",
      "max        5.000000\n",
      "Name: Walc, dtype: float64\n",
      "****************************************\n",
      "\n",
      "******************health**********************\n",
      "count    284.000000\n",
      "mean       3.626761\n",
      "std        1.319113\n",
      "min        1.000000\n",
      "25%        3.000000\n",
      "50%        4.000000\n",
      "75%        5.000000\n",
      "max        5.000000\n",
      "Name: health, dtype: float64\n",
      "****************************************\n",
      "\n",
      "******************absences**********************\n",
      "count    284.000000\n",
      "mean       5.588028\n",
      "std        8.156335\n",
      "min        0.000000\n",
      "25%        0.000000\n",
      "50%        4.000000\n",
      "75%        7.000000\n",
      "max       75.000000\n",
      "Name: absences, dtype: float64\n",
      "****************************************\n",
      "\n",
      "******************G1**********************\n",
      "count    284.000000\n",
      "mean      10.933099\n",
      "std        3.289199\n",
      "min        4.000000\n",
      "25%        8.000000\n",
      "50%       11.000000\n",
      "75%       13.000000\n",
      "max       19.000000\n",
      "Name: G1, dtype: float64\n",
      "****************************************\n",
      "\n",
      "******************G2**********************\n",
      "count    284.000000\n",
      "mean      10.640845\n",
      "std        3.789220\n",
      "min        0.000000\n",
      "25%        9.000000\n",
      "50%       10.500000\n",
      "75%       13.000000\n",
      "max       19.000000\n",
      "Name: G2, dtype: float64\n",
      "****************************************\n",
      "\n",
      "******************G3**********************\n",
      "count    284.000000\n",
      "mean      10.394366\n",
      "std        4.565902\n",
      "min        0.000000\n",
      "25%        8.000000\n",
      "50%       11.000000\n",
      "75%       13.000000\n",
      "max       20.000000\n",
      "Name: G3, dtype: float64\n",
      "****************************************\n",
      "\n",
      "******************bin_Mjob_teacher**********************\n",
      "0    0.84507\n",
      "1    0.15493\n",
      "Name: bin_Mjob_teacher, dtype: float64\n",
      "****************************************\n",
      "\n",
      "******************bin_Mjob_health**********************\n",
      "0    0.908451\n",
      "1    0.091549\n",
      "Name: bin_Mjob_health, dtype: float64\n",
      "****************************************\n",
      "\n",
      "******************bin_Mjob_services**********************\n",
      "0    0.760563\n",
      "1    0.239437\n",
      "Name: bin_Mjob_services, dtype: float64\n",
      "****************************************\n",
      "\n",
      "******************bin_Mjob_at_home**********************\n",
      "0    0.848592\n",
      "1    0.151408\n",
      "Name: bin_Mjob_at_home, dtype: float64\n",
      "****************************************\n",
      "\n",
      "******************bin_Fjob_teacher**********************\n",
      "0    0.926056\n",
      "1    0.073944\n",
      "Name: bin_Fjob_teacher, dtype: float64\n",
      "****************************************\n",
      "\n",
      "******************bin_Fjob_health**********************\n",
      "0    0.954225\n",
      "1    0.045775\n",
      "Name: bin_Fjob_health, dtype: float64\n",
      "****************************************\n",
      "\n",
      "******************bin_Fjob_services**********************\n",
      "0    0.71831\n",
      "1    0.28169\n",
      "Name: bin_Fjob_services, dtype: float64\n",
      "****************************************\n",
      "\n",
      "******************bin_Fjob_at_home**********************\n",
      "0    0.961268\n",
      "1    0.038732\n",
      "Name: bin_Fjob_at_home, dtype: float64\n",
      "****************************************\n",
      "\n",
      "******************bin_reason_home**********************\n",
      "0    0.725352\n",
      "1    0.274648\n",
      "Name: bin_reason_home, dtype: float64\n",
      "****************************************\n",
      "\n",
      "******************bin_reason_reputation**********************\n",
      "0    0.728873\n",
      "1    0.271127\n",
      "Name: bin_reason_reputation, dtype: float64\n",
      "****************************************\n",
      "\n",
      "******************bin_reason_other**********************\n",
      "0    0.90493\n",
      "1    0.09507\n",
      "Name: bin_reason_other, dtype: float64\n",
      "****************************************\n",
      "\n",
      "******************bin_guardian_father**********************\n",
      "0    0.788732\n",
      "1    0.211268\n",
      "Name: bin_guardian_father, dtype: float64\n",
      "****************************************\n",
      "\n",
      "******************bin_guardian_other**********************\n",
      "0    0.915493\n",
      "1    0.084507\n",
      "Name: bin_guardian_other, dtype: float64\n",
      "****************************************\n",
      "\n"
     ]
    }
   ],
   "source": [
    "drop_columns = ['Mjob', 'Fjob', 'reason', 'guardian']\n",
    "if set(drop_columns).issubset(df.columns):\n",
    "    df = df.drop(drop_columns, axis=1)\n",
    "for i in df:\n",
    "        print('******************'+i+'**********************')\n",
    "        if len(df[i].value_counts()) > 2:\n",
    "            print(df[i].describe())\n",
    "        else:\n",
    "            print(df[i].value_counts('%'))\n",
    "        print ('****************************************\\n')"
   ]
  },
  {
   "cell_type": "code",
   "execution_count": 9,
   "metadata": {},
   "outputs": [
    {
     "name": "stdout",
     "output_type": "stream",
     "text": [
      "0    247\n",
      "1     37\n",
      "Name: school, dtype: int64\n"
     ]
    },
    {
     "data": {
      "image/png": "[encoded data removed]",
      "text/plain": [
       "<Figure size 432x288 with 1 Axes>"
      ]
     },
     "metadata": {
      "needs_background": "light"
     },
     "output_type": "display_data"
    },
    {
     "name": "stdout",
     "output_type": "stream",
     "text": [
      "0    147\n",
      "1    137\n",
      "Name: sex, dtype: int64\n"
     ]
    },
    {
     "data": {
      "image/png": "[encoded data removed]",
      "text/plain": [
       "<Figure size 432x288 with 1 Axes>"
      ]
     },
     "metadata": {
      "needs_background": "light"
     },
     "output_type": "display_data"
    },
    {
     "data": {
      "image/png": "[encoded data removed]",
      "text/plain": [
       "<Figure size 432x288 with 1 Axes>"
      ]
     },
     "metadata": {
      "needs_background": "light"
     },
     "output_type": "display_data"
    },
    {
     "name": "stdout",
     "output_type": "stream",
     "text": [
      "0    214\n",
      "1     70\n",
      "Name: address, dtype: int64\n"
     ]
    },
    {
     "data": {
      "image/png": "[encoded data removed]",
      "text/plain": [
       "<Figure size 432x288 with 1 Axes>"
      ]
     },
     "metadata": {
      "needs_background": "light"
     },
     "output_type": "display_data"
    },
    {
     "name": "stdout",
     "output_type": "stream",
     "text": [
      "0    209\n",
      "1     75\n",
      "Name: famsize, dtype: int64\n"
     ]
    },
    {
     "data": {
      "image/png": "[encoded data removed]",
      "text/plain": [
       "<Figure size 432x288 with 1 Axes>"
      ]
     },
     "metadata": {
      "needs_background": "light"
     },
     "output_type": "display_data"
    },
    {
     "name": "stdout",
     "output_type": "stream",
     "text": [
      "0    257\n",
      "1     27\n",
      "Name: Pstatus, dtype: int64\n"
     ]
    },
    {
     "data": {
      "image/png": "[encoded data removed]",
      "text/plain": [
       "<Figure size 432x288 with 1 Axes>"
      ]
     },
     "metadata": {
      "needs_background": "light"
     },
     "output_type": "display_data"
    },
    {
     "name": "stdout",
     "output_type": "stream",
     "text": [
      "4    98\n",
      "2    71\n",
      "3    70\n",
      "1    44\n",
      "0     1\n",
      "Name: Medu, dtype: int64\n"
     ]
    },
    {
     "data": {
      "image/png": "[encoded data removed]",
      "text/plain": [
       "<Figure size 432x288 with 1 Axes>"
      ]
     },
     "metadata": {
      "needs_background": "light"
     },
     "output_type": "display_data"
    },
    {
     "name": "stdout",
     "output_type": "stream",
     "text": [
      "2    77\n",
      "3    76\n",
      "4    68\n",
      "1    62\n",
      "0     1\n",
      "Name: Fedu, dtype: int64\n"
     ]
    },
    {
     "data": {
      "image/png": "[encoded data removed]",
      "text/plain": [
       "<Figure size 432x288 with 1 Axes>"
      ]
     },
     "metadata": {
      "needs_background": "light"
     },
     "output_type": "display_data"
    },
    {
     "name": "stdout",
     "output_type": "stream",
     "text": [
      "1    177\n",
      "2     84\n",
      "3     18\n",
      "4      5\n",
      "Name: traveltime, dtype: int64\n"
     ]
    },
    {
     "data": {
      "image/png": "[encoded data removed]",
      "text/plain": [
       "<Figure size 432x288 with 1 Axes>"
      ]
     },
     "metadata": {
      "needs_background": "light"
     },
     "output_type": "display_data"
    },
    {
     "data": {
      "image/png": "[encoded data removed]",
      "text/plain": [
       "<Figure size 432x288 with 1 Axes>"
      ]
     },
     "metadata": {
      "needs_background": "light"
     },
     "output_type": "display_data"
    },
    {
     "data": {
      "image/png": "[encoded data removed]",
      "text/plain": [
       "<Figure size 432x288 with 1 Axes>"
      ]
     },
     "metadata": {
      "needs_background": "light"
     },
     "output_type": "display_data"
    },
    {
     "name": "stdout",
     "output_type": "stream",
     "text": [
      "0    246\n",
      "1     38\n",
      "Name: schoolsup, dtype: int64\n"
     ]
    },
    {
     "data": {
      "image/png": "[encoded data removed]",
      "text/plain": [
       "<Figure size 432x288 with 1 Axes>"
      ]
     },
     "metadata": {
      "needs_background": "light"
     },
     "output_type": "display_data"
    },
    {
     "name": "stdout",
     "output_type": "stream",
     "text": [
      "0    174\n",
      "1    110\n",
      "Name: famsup, dtype: int64\n"
     ]
    },
    {
     "data": {
      "image/png": "[encoded data removed]",
      "text/plain": [
       "<Figure size 432x288 with 1 Axes>"
      ]
     },
     "metadata": {
      "needs_background": "light"
     },
     "output_type": "display_data"
    },
    {
     "name": "stdout",
     "output_type": "stream",
     "text": [
      "0    158\n",
      "1    126\n",
      "Name: paid, dtype: int64\n"
     ]
    },
    {
     "data": {
      "image/png": "[encoded data removed]",
      "text/plain": [
       "<Figure size 432x288 with 1 Axes>"
      ]
     },
     "metadata": {
      "needs_background": "light"
     },
     "output_type": "display_data"
    },
    {
     "name": "stdout",
     "output_type": "stream",
     "text": [
      "0    148\n",
      "1    136\n",
      "Name: activities, dtype: int64\n"
     ]
    },
    {
     "data": {
      "image/png": "[encoded data removed]",
      "text/plain": [
       "<Figure size 432x288 with 1 Axes>"
      ]
     },
     "metadata": {
      "needs_background": "light"
     },
     "output_type": "display_data"
    },
    {
     "name": "stdout",
     "output_type": "stream",
     "text": [
      "0    223\n",
      "1     61\n",
      "Name: nursery, dtype: int64\n"
     ]
    },
    {
     "data": {
      "image/png": "[encoded data removed]",
      "text/plain": [
       "<Figure size 432x288 with 1 Axes>"
      ]
     },
     "metadata": {
      "needs_background": "light"
     },
     "output_type": "display_data"
    },
    {
     "name": "stdout",
     "output_type": "stream",
     "text": [
      "0    269\n",
      "1     15\n",
      "Name: higher, dtype: int64\n"
     ]
    },
    {
     "data": {
      "image/png": "[encoded data removed]",
      "text/plain": [
       "<Figure size 432x288 with 1 Axes>"
      ]
     },
     "metadata": {
      "needs_background": "light"
     },
     "output_type": "display_data"
    },
    {
     "name": "stdout",
     "output_type": "stream",
     "text": [
      "0    231\n",
      "1     53\n",
      "Name: internet, dtype: int64\n"
     ]
    },
    {
     "data": {
      "image/png": "[encoded data removed]",
      "text/plain": [
       "<Figure size 432x288 with 1 Axes>"
      ]
     },
     "metadata": {
      "needs_background": "light"
     },
     "output_type": "display_data"
    },
    {
     "name": "stdout",
     "output_type": "stream",
     "text": [
      "0    189\n",
      "1     95\n",
      "Name: romantic, dtype: int64\n"
     ]
    },
    {
     "data": {
      "image/png": "[encoded data removed]",
      "text/plain": [
       "<Figure size 432x288 with 1 Axes>"
      ]
     },
     "metadata": {
      "needs_background": "light"
     },
     "output_type": "display_data"
    },
    {
     "data": {
      "image/png": "[encoded data removed]",
      "text/plain": [
       "<Figure size 432x288 with 1 Axes>"
      ]
     },
     "metadata": {
      "needs_background": "light"
     },
     "output_type": "display_data"
    },
    {
     "data": {
      "image/png": "[encoded data removed]",
      "text/plain": [
       "<Figure size 432x288 with 1 Axes>"
      ]
     },
     "metadata": {
      "needs_background": "light"
     },
     "output_type": "display_data"
    },
    {
     "data": {
      "image/png": "[encoded data removed]",
      "text/plain": [
       "<Figure size 432x288 with 1 Axes>"
      ]
     },
     "metadata": {
      "needs_background": "light"
     },
     "output_type": "display_data"
    },
    {
     "data": {
      "image/png": "[encoded data removed]",
      "text/plain": [
       "<Figure size 432x288 with 1 Axes>"
      ]
     },
     "metadata": {
      "needs_background": "light"
     },
     "output_type": "display_data"
    },
    {
     "data": {
      "image/png": "[encoded data removed]",
      "text/plain": [
       "<Figure size 432x288 with 1 Axes>"
      ]
     },
     "metadata": {
      "needs_background": "light"
     },
     "output_type": "display_data"
    },
    {
     "data": {
      "image/png": "[encoded data removed]",
      "text/plain": [
       "<Figure size 432x288 with 1 Axes>"
      ]
     },
     "metadata": {
      "needs_background": "light"
     },
     "output_type": "display_data"
    },
    {
     "data": {
      "image/png": "[encoded data removed]",
      "text/plain": [
       "<Figure size 432x288 with 1 Axes>"
      ]
     },
     "metadata": {
      "needs_background": "light"
     },
     "output_type": "display_data"
    },
    {
     "data": {
      "image/png": "[encoded data removed]",
      "text/plain": [
       "<Figure size 432x288 with 1 Axes>"
      ]
     },
     "metadata": {
      "needs_background": "light"
     },
     "output_type": "display_data"
    },
    {
     "data": {
      "image/png": "[encoded data removed]",
      "text/plain": [
       "<Figure size 432x288 with 1 Axes>"
      ]
     },
     "metadata": {
      "needs_background": "light"
     },
     "output_type": "display_data"
    },
    {
     "data": {
      "image/png": "[encoded data removed]",
      "text/plain": [
       "<Figure size 432x288 with 1 Axes>"
      ]
     },
     "metadata": {
      "needs_background": "light"
     },
     "output_type": "display_data"
    },
    {
     "name": "stdout",
     "output_type": "stream",
     "text": [
      "0    240\n",
      "1     44\n",
      "Name: bin_Mjob_teacher, dtype: int64\n"
     ]
    },
    {
     "data": {
      "image/png": "[encoded data removed]",
      "text/plain": [
       "<Figure size 432x288 with 1 Axes>"
      ]
     },
     "metadata": {
      "needs_background": "light"
     },
     "output_type": "display_data"
    },
    {
     "name": "stdout",
     "output_type": "stream",
     "text": [
      "0    258\n",
      "1     26\n",
      "Name: bin_Mjob_health, dtype: int64\n"
     ]
    },
    {
     "data": {
      "image/png": "[encoded data removed]",
      "text/plain": [
       "<Figure size 432x288 with 1 Axes>"
      ]
     },
     "metadata": {
      "needs_background": "light"
     },
     "output_type": "display_data"
    },
    {
     "name": "stdout",
     "output_type": "stream",
     "text": [
      "0    216\n",
      "1     68\n",
      "Name: bin_Mjob_services, dtype: int64\n"
     ]
    },
    {
     "data": {
      "image/png": "[encoded data removed]",
      "text/plain": [
       "<Figure size 432x288 with 1 Axes>"
      ]
     },
     "metadata": {
      "needs_background": "light"
     },
     "output_type": "display_data"
    },
    {
     "name": "stdout",
     "output_type": "stream",
     "text": [
      "0    241\n",
      "1     43\n",
      "Name: bin_Mjob_at_home, dtype: int64\n"
     ]
    },
    {
     "data": {
      "image/png": "[encoded data removed]",
      "text/plain": [
       "<Figure size 432x288 with 1 Axes>"
      ]
     },
     "metadata": {
      "needs_background": "light"
     },
     "output_type": "display_data"
    },
    {
     "name": "stdout",
     "output_type": "stream",
     "text": [
      "0    263\n",
      "1     21\n",
      "Name: bin_Fjob_teacher, dtype: int64\n"
     ]
    },
    {
     "data": {
      "image/png": "[encoded data removed]",
      "text/plain": [
       "<Figure size 432x288 with 1 Axes>"
      ]
     },
     "metadata": {
      "needs_background": "light"
     },
     "output_type": "display_data"
    },
    {
     "name": "stdout",
     "output_type": "stream",
     "text": [
      "0    271\n",
      "1     13\n",
      "Name: bin_Fjob_health, dtype: int64\n"
     ]
    },
    {
     "data": {
      "image/png": "[encoded data removed]",
      "text/plain": [
       "<Figure size 432x288 with 1 Axes>"
      ]
     },
     "metadata": {
      "needs_background": "light"
     },
     "output_type": "display_data"
    },
    {
     "name": "stdout",
     "output_type": "stream",
     "text": [
      "0    204\n",
      "1     80\n",
      "Name: bin_Fjob_services, dtype: int64\n"
     ]
    },
    {
     "data": {
      "image/png": "[encoded data removed]",
      "text/plain": [
       "<Figure size 432x288 with 1 Axes>"
      ]
     },
     "metadata": {
      "needs_background": "light"
     },
     "output_type": "display_data"
    },
    {
     "name": "stdout",
     "output_type": "stream",
     "text": [
      "0    273\n",
      "1     11\n",
      "Name: bin_Fjob_at_home, dtype: int64\n"
     ]
    },
    {
     "data": {
      "image/png": "[encoded data removed]",
      "text/plain": [
       "<Figure size 432x288 with 1 Axes>"
      ]
     },
     "metadata": {
      "needs_background": "light"
     },
     "output_type": "display_data"
    },
    {
     "name": "stdout",
     "output_type": "stream",
     "text": [
      "0    206\n",
      "1     78\n",
      "Name: bin_reason_home, dtype: int64\n"
     ]
    },
    {
     "data": {
      "image/png": "[encoded data removed]",
      "text/plain": [
       "<Figure size 432x288 with 1 Axes>"
      ]
     },
     "metadata": {
      "needs_background": "light"
     },
     "output_type": "display_data"
    },
    {
     "name": "stdout",
     "output_type": "stream",
     "text": [
      "0    207\n",
      "1     77\n",
      "Name: bin_reason_reputation, dtype: int64\n"
     ]
    },
    {
     "data": {
      "image/png": "[encoded data removed]",
      "text/plain": [
       "<Figure size 432x288 with 1 Axes>"
      ]
     },
     "metadata": {
      "needs_background": "light"
     },
     "output_type": "display_data"
    },
    {
     "name": "stdout",
     "output_type": "stream",
     "text": [
      "0    257\n",
      "1     27\n",
      "Name: bin_reason_other, dtype: int64\n"
     ]
    },
    {
     "data": {
      "image/png": "[encoded data removed]",
      "text/plain": [
       "<Figure size 432x288 with 1 Axes>"
      ]
     },
     "metadata": {
      "needs_background": "light"
     },
     "output_type": "display_data"
    },
    {
     "name": "stdout",
     "output_type": "stream",
     "text": [
      "0    224\n",
      "1     60\n",
      "Name: bin_guardian_father, dtype: int64\n"
     ]
    },
    {
     "data": {
      "image/png": "[encoded data removed]",
      "text/plain": [
       "<Figure size 432x288 with 1 Axes>"
      ]
     },
     "metadata": {
      "needs_background": "light"
     },
     "output_type": "display_data"
    },
    {
     "name": "stdout",
     "output_type": "stream",
     "text": [
      "0    260\n",
      "1     24\n",
      "Name: bin_guardian_other, dtype: int64\n"
     ]
    },
    {
     "data": {
      "image/png": "[encoded data removed]",
      "text/plain": [
       "<Figure size 432x288 with 1 Axes>"
      ]
     },
     "metadata": {
      "needs_background": "light"
     },
     "output_type": "display_data"
    }
   ],
   "source": [
    "\n",
    "\n",
    "for head in df:\n",
    "    if len(df[head].value_counts()) > 2 and not (head in ['Medu', 'Fedu', 'traveltime']):\n",
    "        plt.hist(df[head])\n",
    "        plt.axvline(df[head].mean(),lw = 3,color = 'blue',linestyle = '--')\n",
    "        plt.title(head)\n",
    "    else:\n",
    "        sns.countplot(x=df[head])\n",
    "        plt.title(head)\n",
    "        print(df[head].value_counts())\n",
    "    plt.show()"
   ]
  },
  {
   "cell_type": "markdown",
   "metadata": {},
   "source": [
    "## Modelación descriptiva\n",
    "En los siguientes modelos re realiza regresion lineal segun la siguiente formula. \n",
    "$$G_{i}={{\\beta }_{0} + \\sum_{j=0}^N {\\beta }_{j} \\cdot {X}}$$\n",
    "### G1"
   ]
  },
  {
   "cell_type": "code",
   "execution_count": 10,
   "metadata": {},
   "outputs": [
    {
     "data": {
      "text/html": [
       "<table class=\"simpletable\">\n",
       "<caption>OLS Regression Results</caption>\n",
       "<tr>\n",
       "  <th>Dep. Variable:</th>           <td>G1</td>        <th>  R-squared:         </th> <td>   0.331</td>\n",
       "</tr>\n",
       "<tr>\n",
       "  <th>Model:</th>                   <td>OLS</td>       <th>  Adj. R-squared:    </th> <td>   0.224</td>\n",
       "</tr>\n",
       "<tr>\n",
       "  <th>Method:</th>             <td>Least Squares</td>  <th>  F-statistic:       </th> <td>   3.090</td>\n",
       "</tr>\n",
       "<tr>\n",
       "  <th>Date:</th>             <td>Thu, 01 Aug 2019</td> <th>  Prob (F-statistic):</th> <td>5.75e-08</td>\n",
       "</tr>\n",
       "<tr>\n",
       "  <th>Time:</th>                 <td>07:40:26</td>     <th>  Log-Likelihood:    </th> <td> -683.63</td>\n",
       "</tr>\n",
       "<tr>\n",
       "  <th>No. Observations:</th>      <td>   284</td>      <th>  AIC:               </th> <td>   1447.</td>\n",
       "</tr>\n",
       "<tr>\n",
       "  <th>Df Residuals:</th>          <td>   244</td>      <th>  BIC:               </th> <td>   1593.</td>\n",
       "</tr>\n",
       "<tr>\n",
       "  <th>Df Model:</th>              <td>    39</td>      <th>                     </th>     <td> </td>   \n",
       "</tr>\n",
       "<tr>\n",
       "  <th>Covariance Type:</th>      <td>nonrobust</td>    <th>                     </th>     <td> </td>   \n",
       "</tr>\n",
       "</table>\n",
       "<table class=\"simpletable\">\n",
       "<tr>\n",
       "            <td></td>               <th>coef</th>     <th>std err</th>      <th>t</th>      <th>P>|t|</th>  <th>[0.025</th>    <th>0.975]</th>  \n",
       "</tr>\n",
       "<tr>\n",
       "  <th>Intercept</th>             <td>    7.8430</td> <td>    3.407</td> <td>    2.302</td> <td> 0.022</td> <td>    1.133</td> <td>   14.553</td>\n",
       "</tr>\n",
       "<tr>\n",
       "  <th>school</th>                <td>   -0.3886</td> <td>    0.666</td> <td>   -0.583</td> <td> 0.560</td> <td>   -1.701</td> <td>    0.924</td>\n",
       "</tr>\n",
       "<tr>\n",
       "  <th>sex</th>                   <td>    0.7631</td> <td>    0.432</td> <td>    1.768</td> <td> 0.078</td> <td>   -0.087</td> <td>    1.613</td>\n",
       "</tr>\n",
       "<tr>\n",
       "  <th>age</th>                   <td>    0.0772</td> <td>    0.185</td> <td>    0.418</td> <td> 0.677</td> <td>   -0.287</td> <td>    0.441</td>\n",
       "</tr>\n",
       "<tr>\n",
       "  <th>address</th>               <td>   -0.0205</td> <td>    0.487</td> <td>   -0.042</td> <td> 0.966</td> <td>   -0.980</td> <td>    0.939</td>\n",
       "</tr>\n",
       "<tr>\n",
       "  <th>famsize</th>               <td>    0.3125</td> <td>    0.440</td> <td>    0.710</td> <td> 0.478</td> <td>   -0.555</td> <td>    1.180</td>\n",
       "</tr>\n",
       "<tr>\n",
       "  <th>Pstatus</th>               <td>    0.1872</td> <td>    0.650</td> <td>    0.288</td> <td> 0.774</td> <td>   -1.094</td> <td>    1.468</td>\n",
       "</tr>\n",
       "<tr>\n",
       "  <th>Medu</th>                  <td>    0.1809</td> <td>    0.282</td> <td>    0.642</td> <td> 0.521</td> <td>   -0.374</td> <td>    0.736</td>\n",
       "</tr>\n",
       "<tr>\n",
       "  <th>Fedu</th>                  <td>    0.1527</td> <td>    0.236</td> <td>    0.646</td> <td> 0.519</td> <td>   -0.313</td> <td>    0.618</td>\n",
       "</tr>\n",
       "<tr>\n",
       "  <th>traveltime</th>            <td>   -0.0215</td> <td>    0.291</td> <td>   -0.074</td> <td> 0.941</td> <td>   -0.594</td> <td>    0.551</td>\n",
       "</tr>\n",
       "<tr>\n",
       "  <th>studytime</th>             <td>    0.5074</td> <td>    0.245</td> <td>    2.068</td> <td> 0.040</td> <td>    0.024</td> <td>    0.991</td>\n",
       "</tr>\n",
       "<tr>\n",
       "  <th>failures</th>              <td>   -1.1235</td> <td>    0.282</td> <td>   -3.977</td> <td> 0.000</td> <td>   -1.680</td> <td>   -0.567</td>\n",
       "</tr>\n",
       "<tr>\n",
       "  <th>schoolsup</th>             <td>   -1.7737</td> <td>    0.564</td> <td>   -3.145</td> <td> 0.002</td> <td>   -2.885</td> <td>   -0.663</td>\n",
       "</tr>\n",
       "<tr>\n",
       "  <th>famsup</th>                <td>    1.0062</td> <td>    0.411</td> <td>    2.447</td> <td> 0.015</td> <td>    0.196</td> <td>    1.816</td>\n",
       "</tr>\n",
       "<tr>\n",
       "  <th>paid</th>                  <td>    0.0321</td> <td>    0.403</td> <td>    0.080</td> <td> 0.937</td> <td>   -0.762</td> <td>    0.826</td>\n",
       "</tr>\n",
       "<tr>\n",
       "  <th>activities</th>            <td>    0.4719</td> <td>    0.370</td> <td>    1.276</td> <td> 0.203</td> <td>   -0.257</td> <td>    1.201</td>\n",
       "</tr>\n",
       "<tr>\n",
       "  <th>nursery</th>               <td>    0.0255</td> <td>    0.455</td> <td>    0.056</td> <td> 0.955</td> <td>   -0.871</td> <td>    0.922</td>\n",
       "</tr>\n",
       "<tr>\n",
       "  <th>higher</th>                <td>   -1.1077</td> <td>    0.876</td> <td>   -1.265</td> <td> 0.207</td> <td>   -2.833</td> <td>    0.617</td>\n",
       "</tr>\n",
       "<tr>\n",
       "  <th>internet</th>              <td>   -0.0671</td> <td>    0.502</td> <td>   -0.134</td> <td> 0.894</td> <td>   -1.055</td> <td>    0.921</td>\n",
       "</tr>\n",
       "<tr>\n",
       "  <th>romantic</th>              <td>   -0.0842</td> <td>    0.399</td> <td>   -0.211</td> <td> 0.833</td> <td>   -0.870</td> <td>    0.702</td>\n",
       "</tr>\n",
       "<tr>\n",
       "  <th>famrel</th>                <td>    0.1449</td> <td>    0.213</td> <td>    0.681</td> <td> 0.497</td> <td>   -0.274</td> <td>    0.564</td>\n",
       "</tr>\n",
       "<tr>\n",
       "  <th>freetime</th>              <td>    0.3778</td> <td>    0.193</td> <td>    1.959</td> <td> 0.051</td> <td>   -0.002</td> <td>    0.758</td>\n",
       "</tr>\n",
       "<tr>\n",
       "  <th>goout</th>                 <td>   -0.7691</td> <td>    0.199</td> <td>   -3.873</td> <td> 0.000</td> <td>   -1.160</td> <td>   -0.378</td>\n",
       "</tr>\n",
       "<tr>\n",
       "  <th>Dalc</th>                  <td>   -0.0730</td> <td>    0.286</td> <td>   -0.255</td> <td> 0.799</td> <td>   -0.636</td> <td>    0.490</td>\n",
       "</tr>\n",
       "<tr>\n",
       "  <th>Walc</th>                  <td>    0.1585</td> <td>    0.210</td> <td>    0.756</td> <td> 0.451</td> <td>   -0.255</td> <td>    0.572</td>\n",
       "</tr>\n",
       "<tr>\n",
       "  <th>health</th>                <td>   -0.2918</td> <td>    0.142</td> <td>   -2.062</td> <td> 0.040</td> <td>   -0.571</td> <td>   -0.013</td>\n",
       "</tr>\n",
       "<tr>\n",
       "  <th>absences</th>              <td>   -0.0048</td> <td>    0.024</td> <td>   -0.196</td> <td> 0.845</td> <td>   -0.053</td> <td>    0.043</td>\n",
       "</tr>\n",
       "<tr>\n",
       "  <th>bin_Mjob_teacher</th>      <td>   -0.5427</td> <td>    0.703</td> <td>   -0.772</td> <td> 0.441</td> <td>   -1.928</td> <td>    0.843</td>\n",
       "</tr>\n",
       "<tr>\n",
       "  <th>bin_Mjob_health</th>       <td>    1.5674</td> <td>    0.790</td> <td>    1.983</td> <td> 0.048</td> <td>    0.011</td> <td>    3.124</td>\n",
       "</tr>\n",
       "<tr>\n",
       "  <th>bin_Mjob_services</th>     <td>    0.9336</td> <td>    0.522</td> <td>    1.788</td> <td> 0.075</td> <td>   -0.095</td> <td>    1.962</td>\n",
       "</tr>\n",
       "<tr>\n",
       "  <th>bin_Mjob_at_home</th>      <td>    0.5423</td> <td>    0.598</td> <td>    0.907</td> <td> 0.365</td> <td>   -0.636</td> <td>    1.720</td>\n",
       "</tr>\n",
       "<tr>\n",
       "  <th>bin_Fjob_teacher</th>      <td>    2.2932</td> <td>    0.796</td> <td>    2.882</td> <td> 0.004</td> <td>    0.726</td> <td>    3.860</td>\n",
       "</tr>\n",
       "<tr>\n",
       "  <th>bin_Fjob_health</th>       <td>    0.4193</td> <td>    0.952</td> <td>    0.440</td> <td> 0.660</td> <td>   -1.456</td> <td>    2.294</td>\n",
       "</tr>\n",
       "<tr>\n",
       "  <th>bin_Fjob_services</th>     <td>    0.6241</td> <td>    0.471</td> <td>    1.326</td> <td> 0.186</td> <td>   -0.303</td> <td>    1.551</td>\n",
       "</tr>\n",
       "<tr>\n",
       "  <th>bin_Fjob_at_home</th>      <td>    1.4765</td> <td>    0.984</td> <td>    1.500</td> <td> 0.135</td> <td>   -0.462</td> <td>    3.415</td>\n",
       "</tr>\n",
       "<tr>\n",
       "  <th>bin_reason_home</th>       <td>    0.3701</td> <td>    0.473</td> <td>    0.783</td> <td> 0.434</td> <td>   -0.561</td> <td>    1.301</td>\n",
       "</tr>\n",
       "<tr>\n",
       "  <th>bin_reason_reputation</th> <td>    0.5312</td> <td>    0.487</td> <td>    1.090</td> <td> 0.277</td> <td>   -0.429</td> <td>    1.491</td>\n",
       "</tr>\n",
       "<tr>\n",
       "  <th>bin_reason_other</th>      <td>    0.1005</td> <td>    0.675</td> <td>    0.149</td> <td> 0.882</td> <td>   -1.230</td> <td>    1.431</td>\n",
       "</tr>\n",
       "<tr>\n",
       "  <th>bin_guardian_father</th>   <td>   -0.2087</td> <td>    0.479</td> <td>   -0.436</td> <td> 0.663</td> <td>   -1.152</td> <td>    0.734</td>\n",
       "</tr>\n",
       "<tr>\n",
       "  <th>bin_guardian_other</th>    <td>    0.0880</td> <td>    0.782</td> <td>    0.113</td> <td> 0.910</td> <td>   -1.453</td> <td>    1.629</td>\n",
       "</tr>\n",
       "</table>\n",
       "<table class=\"simpletable\">\n",
       "<tr>\n",
       "  <th>Omnibus:</th>       <td> 6.431</td> <th>  Durbin-Watson:     </th> <td>   2.003</td>\n",
       "</tr>\n",
       "<tr>\n",
       "  <th>Prob(Omnibus):</th> <td> 0.040</td> <th>  Jarque-Bera (JB):  </th> <td>   4.178</td>\n",
       "</tr>\n",
       "<tr>\n",
       "  <th>Skew:</th>          <td> 0.128</td> <th>  Prob(JB):          </th> <td>   0.124</td>\n",
       "</tr>\n",
       "<tr>\n",
       "  <th>Kurtosis:</th>      <td> 2.464</td> <th>  Cond. No.          </th> <td>    399.</td>\n",
       "</tr>\n",
       "</table><br/><br/>Warnings:<br/>[1] Standard Errors assume that the covariance matrix of the errors is correctly specified."
      ],
      "text/plain": [
       "<class 'statsmodels.iolib.summary.Summary'>\n",
       "\"\"\"\n",
       "                            OLS Regression Results                            \n",
       "==============================================================================\n",
       "Dep. Variable:                     G1   R-squared:                       0.331\n",
       "Model:                            OLS   Adj. R-squared:                  0.224\n",
       "Method:                 Least Squares   F-statistic:                     3.090\n",
       "Date:                Thu, 01 Aug 2019   Prob (F-statistic):           5.75e-08\n",
       "Time:                        07:40:26   Log-Likelihood:                -683.63\n",
       "No. Observations:                 284   AIC:                             1447.\n",
       "Df Residuals:                     244   BIC:                             1593.\n",
       "Df Model:                          39                                         \n",
       "Covariance Type:            nonrobust                                         \n",
       "=========================================================================================\n",
       "                            coef    std err          t      P>|t|      [0.025      0.975]\n",
       "-----------------------------------------------------------------------------------------\n",
       "Intercept                 7.8430      3.407      2.302      0.022       1.133      14.553\n",
       "school                   -0.3886      0.666     -0.583      0.560      -1.701       0.924\n",
       "sex                       0.7631      0.432      1.768      0.078      -0.087       1.613\n",
       "age                       0.0772      0.185      0.418      0.677      -0.287       0.441\n",
       "address                  -0.0205      0.487     -0.042      0.966      -0.980       0.939\n",
       "famsize                   0.3125      0.440      0.710      0.478      -0.555       1.180\n",
       "Pstatus                   0.1872      0.650      0.288      0.774      -1.094       1.468\n",
       "Medu                      0.1809      0.282      0.642      0.521      -0.374       0.736\n",
       "Fedu                      0.1527      0.236      0.646      0.519      -0.313       0.618\n",
       "traveltime               -0.0215      0.291     -0.074      0.941      -0.594       0.551\n",
       "studytime                 0.5074      0.245      2.068      0.040       0.024       0.991\n",
       "failures                 -1.1235      0.282     -3.977      0.000      -1.680      -0.567\n",
       "schoolsup                -1.7737      0.564     -3.145      0.002      -2.885      -0.663\n",
       "famsup                    1.0062      0.411      2.447      0.015       0.196       1.816\n",
       "paid                      0.0321      0.403      0.080      0.937      -0.762       0.826\n",
       "activities                0.4719      0.370      1.276      0.203      -0.257       1.201\n",
       "nursery                   0.0255      0.455      0.056      0.955      -0.871       0.922\n",
       "higher                   -1.1077      0.876     -1.265      0.207      -2.833       0.617\n",
       "internet                 -0.0671      0.502     -0.134      0.894      -1.055       0.921\n",
       "romantic                 -0.0842      0.399     -0.211      0.833      -0.870       0.702\n",
       "famrel                    0.1449      0.213      0.681      0.497      -0.274       0.564\n",
       "freetime                  0.3778      0.193      1.959      0.051      -0.002       0.758\n",
       "goout                    -0.7691      0.199     -3.873      0.000      -1.160      -0.378\n",
       "Dalc                     -0.0730      0.286     -0.255      0.799      -0.636       0.490\n",
       "Walc                      0.1585      0.210      0.756      0.451      -0.255       0.572\n",
       "health                   -0.2918      0.142     -2.062      0.040      -0.571      -0.013\n",
       "absences                 -0.0048      0.024     -0.196      0.845      -0.053       0.043\n",
       "bin_Mjob_teacher         -0.5427      0.703     -0.772      0.441      -1.928       0.843\n",
       "bin_Mjob_health           1.5674      0.790      1.983      0.048       0.011       3.124\n",
       "bin_Mjob_services         0.9336      0.522      1.788      0.075      -0.095       1.962\n",
       "bin_Mjob_at_home          0.5423      0.598      0.907      0.365      -0.636       1.720\n",
       "bin_Fjob_teacher          2.2932      0.796      2.882      0.004       0.726       3.860\n",
       "bin_Fjob_health           0.4193      0.952      0.440      0.660      -1.456       2.294\n",
       "bin_Fjob_services         0.6241      0.471      1.326      0.186      -0.303       1.551\n",
       "bin_Fjob_at_home          1.4765      0.984      1.500      0.135      -0.462       3.415\n",
       "bin_reason_home           0.3701      0.473      0.783      0.434      -0.561       1.301\n",
       "bin_reason_reputation     0.5312      0.487      1.090      0.277      -0.429       1.491\n",
       "bin_reason_other          0.1005      0.675      0.149      0.882      -1.230       1.431\n",
       "bin_guardian_father      -0.2087      0.479     -0.436      0.663      -1.152       0.734\n",
       "bin_guardian_other        0.0880      0.782      0.113      0.910      -1.453       1.629\n",
       "==============================================================================\n",
       "Omnibus:                        6.431   Durbin-Watson:                   2.003\n",
       "Prob(Omnibus):                  0.040   Jarque-Bera (JB):                4.178\n",
       "Skew:                           0.128   Prob(JB):                        0.124\n",
       "Kurtosis:                       2.464   Cond. No.                         399.\n",
       "==============================================================================\n",
       "\n",
       "Warnings:\n",
       "[1] Standard Errors assume that the covariance matrix of the errors is correctly specified.\n",
       "\"\"\""
      ]
     },
     "execution_count": 10,
     "metadata": {},
     "output_type": "execute_result"
    }
   ],
   "source": [
    "# Creamos una lista con los nombres de todas las variables, para formar el string de la regresión de forma más fácil\n",
    "columnas = df.columns.tolist()\n",
    "# Removemos de la lista el nombre del vector objetivo\n",
    "for var in ['G1', 'G2', 'G3']:\n",
    "    if var in columnas:\n",
    "        columnas.remove(var)\n",
    "# Se crea el modelo de regresión logistica\n",
    "modelo = smf.ols('G1 ~ ' + ' + '.join(columnas), df).fit()\n",
    "modelo.summary()"
   ]
  },
  {
   "cell_type": "markdown",
   "metadata": {},
   "source": [
    "La función summary muestra un resumen de toda la información de la regresión. Basado en esto, seleccionamos las variables con p-value < 0.025 (significancia mayor a 97.5) y removemos del modelo las siguientes variables:\n",
    "- `school`\n",
    "- `sex`\n",
    "- `age`\n",
    "- `address`\n",
    "- `famsize`\n",
    "- `Pstatus`\n",
    "- `Medu`\n",
    "- `Fedu`\n",
    "- `traveltime`\n",
    "- `studytime`\n",
    "- `paid`\n",
    "- `activities`\n",
    "- `nursery`\n",
    "- `higher`\n",
    "- `internet`\n",
    "- `romantic`\n",
    "- `famrel`\n",
    "- `freetime`\n",
    "- `Dalc`\n",
    "- `Walc`\n",
    "- `health`\n",
    "- `absences`\n",
    "- `bin_Mjob_teacher`\n",
    "- `bin_Mjob_health`\n",
    "- `bin_Mjob_services`\n",
    "- `bin_Mjob_at_home`\n",
    "- `bin_Fjob_health`\n",
    "- `bin_Fjob_services`\n",
    "- `bin_Fjob_at_home`\n",
    "- `bin_reason_home`\n",
    "- `bin_reason_reputation`\n",
    "- `bin_reason_other`\n",
    "- `bin_guardian_father`\n",
    "- `bin_guardian_other`"
   ]
  },
  {
   "cell_type": "code",
   "execution_count": 11,
   "metadata": {},
   "outputs": [
    {
     "data": {
      "text/html": [
       "<table class=\"simpletable\">\n",
       "<caption>OLS Regression Results</caption>\n",
       "<tr>\n",
       "  <th>Dep. Variable:</th>           <td>G1</td>        <th>  R-squared:         </th> <td>   0.215</td>\n",
       "</tr>\n",
       "<tr>\n",
       "  <th>Model:</th>                   <td>OLS</td>       <th>  Adj. R-squared:    </th> <td>   0.201</td>\n",
       "</tr>\n",
       "<tr>\n",
       "  <th>Method:</th>             <td>Least Squares</td>  <th>  F-statistic:       </th> <td>   15.20</td>\n",
       "</tr>\n",
       "<tr>\n",
       "  <th>Date:</th>             <td>Thu, 01 Aug 2019</td> <th>  Prob (F-statistic):</th> <td>3.30e-13</td>\n",
       "</tr>\n",
       "<tr>\n",
       "  <th>Time:</th>                 <td>07:40:26</td>     <th>  Log-Likelihood:    </th> <td> -706.29</td>\n",
       "</tr>\n",
       "<tr>\n",
       "  <th>No. Observations:</th>      <td>   284</td>      <th>  AIC:               </th> <td>   1425.</td>\n",
       "</tr>\n",
       "<tr>\n",
       "  <th>Df Residuals:</th>          <td>   278</td>      <th>  BIC:               </th> <td>   1446.</td>\n",
       "</tr>\n",
       "<tr>\n",
       "  <th>Df Model:</th>              <td>     5</td>      <th>                     </th>     <td> </td>   \n",
       "</tr>\n",
       "<tr>\n",
       "  <th>Covariance Type:</th>      <td>nonrobust</td>    <th>                     </th>     <td> </td>   \n",
       "</tr>\n",
       "</table>\n",
       "<table class=\"simpletable\">\n",
       "<tr>\n",
       "          <td></td>            <th>coef</th>     <th>std err</th>      <th>t</th>      <th>P>|t|</th>  <th>[0.025</th>    <th>0.975]</th>  \n",
       "</tr>\n",
       "<tr>\n",
       "  <th>Intercept</th>        <td>   12.9071</td> <td>    0.568</td> <td>   22.742</td> <td> 0.000</td> <td>   11.790</td> <td>   14.024</td>\n",
       "</tr>\n",
       "<tr>\n",
       "  <th>failures</th>         <td>   -1.3189</td> <td>    0.243</td> <td>   -5.431</td> <td> 0.000</td> <td>   -1.797</td> <td>   -0.841</td>\n",
       "</tr>\n",
       "<tr>\n",
       "  <th>schoolsup</th>        <td>   -1.9953</td> <td>    0.519</td> <td>   -3.846</td> <td> 0.000</td> <td>   -3.017</td> <td>   -0.974</td>\n",
       "</tr>\n",
       "<tr>\n",
       "  <th>famsup</th>           <td>    0.6692</td> <td>    0.363</td> <td>    1.842</td> <td> 0.067</td> <td>   -0.046</td> <td>    1.384</td>\n",
       "</tr>\n",
       "<tr>\n",
       "  <th>goout</th>            <td>   -0.5403</td> <td>    0.165</td> <td>   -3.268</td> <td> 0.001</td> <td>   -0.866</td> <td>   -0.215</td>\n",
       "</tr>\n",
       "<tr>\n",
       "  <th>bin_Fjob_teacher</th> <td>    1.9143</td> <td>    0.673</td> <td>    2.846</td> <td> 0.005</td> <td>    0.590</td> <td>    3.238</td>\n",
       "</tr>\n",
       "</table>\n",
       "<table class=\"simpletable\">\n",
       "<tr>\n",
       "  <th>Omnibus:</th>       <td> 6.186</td> <th>  Durbin-Watson:     </th> <td>   1.982</td>\n",
       "</tr>\n",
       "<tr>\n",
       "  <th>Prob(Omnibus):</th> <td> 0.045</td> <th>  Jarque-Bera (JB):  </th> <td>   4.235</td>\n",
       "</tr>\n",
       "<tr>\n",
       "  <th>Skew:</th>          <td> 0.149</td> <th>  Prob(JB):          </th> <td>   0.120</td>\n",
       "</tr>\n",
       "<tr>\n",
       "  <th>Kurtosis:</th>      <td> 2.481</td> <th>  Cond. No.          </th> <td>    13.8</td>\n",
       "</tr>\n",
       "</table><br/><br/>Warnings:<br/>[1] Standard Errors assume that the covariance matrix of the errors is correctly specified."
      ],
      "text/plain": [
       "<class 'statsmodels.iolib.summary.Summary'>\n",
       "\"\"\"\n",
       "                            OLS Regression Results                            \n",
       "==============================================================================\n",
       "Dep. Variable:                     G1   R-squared:                       0.215\n",
       "Model:                            OLS   Adj. R-squared:                  0.201\n",
       "Method:                 Least Squares   F-statistic:                     15.20\n",
       "Date:                Thu, 01 Aug 2019   Prob (F-statistic):           3.30e-13\n",
       "Time:                        07:40:26   Log-Likelihood:                -706.29\n",
       "No. Observations:                 284   AIC:                             1425.\n",
       "Df Residuals:                     278   BIC:                             1446.\n",
       "Df Model:                           5                                         \n",
       "Covariance Type:            nonrobust                                         \n",
       "====================================================================================\n",
       "                       coef    std err          t      P>|t|      [0.025      0.975]\n",
       "------------------------------------------------------------------------------------\n",
       "Intercept           12.9071      0.568     22.742      0.000      11.790      14.024\n",
       "failures            -1.3189      0.243     -5.431      0.000      -1.797      -0.841\n",
       "schoolsup           -1.9953      0.519     -3.846      0.000      -3.017      -0.974\n",
       "famsup               0.6692      0.363      1.842      0.067      -0.046       1.384\n",
       "goout               -0.5403      0.165     -3.268      0.001      -0.866      -0.215\n",
       "bin_Fjob_teacher     1.9143      0.673      2.846      0.005       0.590       3.238\n",
       "==============================================================================\n",
       "Omnibus:                        6.186   Durbin-Watson:                   1.982\n",
       "Prob(Omnibus):                  0.045   Jarque-Bera (JB):                4.235\n",
       "Skew:                           0.149   Prob(JB):                        0.120\n",
       "Kurtosis:                       2.481   Cond. No.                         13.8\n",
       "==============================================================================\n",
       "\n",
       "Warnings:\n",
       "[1] Standard Errors assume that the covariance matrix of the errors is correctly specified.\n",
       "\"\"\""
      ]
     },
     "execution_count": 11,
     "metadata": {},
     "output_type": "execute_result"
    }
   ],
   "source": [
    "# Consideramos solo las variables con p-value < 0.025 (significancia mayor a 97.5). removemos las siguientes \n",
    "# variables del modelo\n",
    "for var in ['school', 'sex', 'age', 'address', 'famsize', 'Pstatus', 'Medu', 'Fedu', \n",
    "            'traveltime', 'studytime', 'paid', 'activities', 'nursery', 'higher', 'internet', 'romantic', \n",
    "            'famrel', 'freetime', 'Dalc', 'Walc', 'health', 'absences', 'bin_Mjob_teacher', 'bin_Mjob_health', \n",
    "            'bin_Mjob_services', 'bin_Mjob_at_home', 'bin_Fjob_health', 'bin_Fjob_services', 'bin_Fjob_at_home', \n",
    "            'bin_reason_home', 'bin_reason_reputation', 'bin_reason_other', 'bin_guardian_father', 'bin_guardian_other']:\n",
    "    if var in columnas:\n",
    "        columnas.remove(var)\n",
    "modelo = smf.ols('G1 ~ ' + ' + '.join(columnas), df).fit()\n",
    "modelo.summary()"
   ]
  },
  {
   "cell_type": "code",
   "execution_count": 12,
   "metadata": {},
   "outputs": [
    {
     "data": {
      "text/html": [
       "<table class=\"simpletable\">\n",
       "<caption>OLS Regression Results</caption>\n",
       "<tr>\n",
       "  <th>Dep. Variable:</th>           <td>G1</td>        <th>  R-squared:         </th> <td>   0.205</td>\n",
       "</tr>\n",
       "<tr>\n",
       "  <th>Model:</th>                   <td>OLS</td>       <th>  Adj. R-squared:    </th> <td>   0.194</td>\n",
       "</tr>\n",
       "<tr>\n",
       "  <th>Method:</th>             <td>Least Squares</td>  <th>  F-statistic:       </th> <td>   18.00</td>\n",
       "</tr>\n",
       "<tr>\n",
       "  <th>Date:</th>             <td>Thu, 01 Aug 2019</td> <th>  Prob (F-statistic):</th> <td>3.64e-13</td>\n",
       "</tr>\n",
       "<tr>\n",
       "  <th>Time:</th>                 <td>07:40:26</td>     <th>  Log-Likelihood:    </th> <td> -708.02</td>\n",
       "</tr>\n",
       "<tr>\n",
       "  <th>No. Observations:</th>      <td>   284</td>      <th>  AIC:               </th> <td>   1426.</td>\n",
       "</tr>\n",
       "<tr>\n",
       "  <th>Df Residuals:</th>          <td>   279</td>      <th>  BIC:               </th> <td>   1444.</td>\n",
       "</tr>\n",
       "<tr>\n",
       "  <th>Df Model:</th>              <td>     4</td>      <th>                     </th>     <td> </td>   \n",
       "</tr>\n",
       "<tr>\n",
       "  <th>Covariance Type:</th>      <td>nonrobust</td>    <th>                     </th>     <td> </td>   \n",
       "</tr>\n",
       "</table>\n",
       "<table class=\"simpletable\">\n",
       "<tr>\n",
       "          <td></td>            <th>coef</th>     <th>std err</th>      <th>t</th>      <th>P>|t|</th>  <th>[0.025</th>    <th>0.975]</th>  \n",
       "</tr>\n",
       "<tr>\n",
       "  <th>Intercept</th>        <td>   13.1936</td> <td>    0.548</td> <td>   24.069</td> <td> 0.000</td> <td>   12.115</td> <td>   14.273</td>\n",
       "</tr>\n",
       "<tr>\n",
       "  <th>failures</th>         <td>   -1.3059</td> <td>    0.244</td> <td>   -5.357</td> <td> 0.000</td> <td>   -1.786</td> <td>   -0.826</td>\n",
       "</tr>\n",
       "<tr>\n",
       "  <th>schoolsup</th>        <td>   -2.1287</td> <td>    0.516</td> <td>   -4.126</td> <td> 0.000</td> <td>   -3.144</td> <td>   -1.113</td>\n",
       "</tr>\n",
       "<tr>\n",
       "  <th>goout</th>            <td>   -0.5424</td> <td>    0.166</td> <td>   -3.267</td> <td> 0.001</td> <td>   -0.869</td> <td>   -0.216</td>\n",
       "</tr>\n",
       "<tr>\n",
       "  <th>bin_Fjob_teacher</th> <td>    1.8159</td> <td>    0.673</td> <td>    2.697</td> <td> 0.007</td> <td>    0.490</td> <td>    3.141</td>\n",
       "</tr>\n",
       "</table>\n",
       "<table class=\"simpletable\">\n",
       "<tr>\n",
       "  <th>Omnibus:</th>       <td> 5.648</td> <th>  Durbin-Watson:     </th> <td>   2.010</td>\n",
       "</tr>\n",
       "<tr>\n",
       "  <th>Prob(Omnibus):</th> <td> 0.059</td> <th>  Jarque-Bera (JB):  </th> <td>   4.053</td>\n",
       "</tr>\n",
       "<tr>\n",
       "  <th>Skew:</th>          <td> 0.155</td> <th>  Prob(JB):          </th> <td>   0.132</td>\n",
       "</tr>\n",
       "<tr>\n",
       "  <th>Kurtosis:</th>      <td> 2.504</td> <th>  Cond. No.          </th> <td>    13.5</td>\n",
       "</tr>\n",
       "</table><br/><br/>Warnings:<br/>[1] Standard Errors assume that the covariance matrix of the errors is correctly specified."
      ],
      "text/plain": [
       "<class 'statsmodels.iolib.summary.Summary'>\n",
       "\"\"\"\n",
       "                            OLS Regression Results                            \n",
       "==============================================================================\n",
       "Dep. Variable:                     G1   R-squared:                       0.205\n",
       "Model:                            OLS   Adj. R-squared:                  0.194\n",
       "Method:                 Least Squares   F-statistic:                     18.00\n",
       "Date:                Thu, 01 Aug 2019   Prob (F-statistic):           3.64e-13\n",
       "Time:                        07:40:26   Log-Likelihood:                -708.02\n",
       "No. Observations:                 284   AIC:                             1426.\n",
       "Df Residuals:                     279   BIC:                             1444.\n",
       "Df Model:                           4                                         \n",
       "Covariance Type:            nonrobust                                         \n",
       "====================================================================================\n",
       "                       coef    std err          t      P>|t|      [0.025      0.975]\n",
       "------------------------------------------------------------------------------------\n",
       "Intercept           13.1936      0.548     24.069      0.000      12.115      14.273\n",
       "failures            -1.3059      0.244     -5.357      0.000      -1.786      -0.826\n",
       "schoolsup           -2.1287      0.516     -4.126      0.000      -3.144      -1.113\n",
       "goout               -0.5424      0.166     -3.267      0.001      -0.869      -0.216\n",
       "bin_Fjob_teacher     1.8159      0.673      2.697      0.007       0.490       3.141\n",
       "==============================================================================\n",
       "Omnibus:                        5.648   Durbin-Watson:                   2.010\n",
       "Prob(Omnibus):                  0.059   Jarque-Bera (JB):                4.053\n",
       "Skew:                           0.155   Prob(JB):                        0.132\n",
       "Kurtosis:                       2.504   Cond. No.                         13.5\n",
       "==============================================================================\n",
       "\n",
       "Warnings:\n",
       "[1] Standard Errors assume that the covariance matrix of the errors is correctly specified.\n",
       "\"\"\""
      ]
     },
     "execution_count": 12,
     "metadata": {},
     "output_type": "execute_result"
    }
   ],
   "source": [
    "# se descarta bin_famsup\n",
    "for var in ['famsup']:\n",
    "    if var in columnas:\n",
    "        columnas.remove(var)\n",
    "modelo_g1 = smf.ols('G1 ~ ' + ' + '.join(columnas), df).fit()\n",
    "modelo_g1.summary()"
   ]
  },
  {
   "cell_type": "markdown",
   "metadata": {},
   "source": [
    "Finalmente se obtiene un modelo donde todos los regresores son significativos. Presenta un $R^{2} ajustado = 0.194$ que difiere en 0.006 del modelo inicial."
   ]
  },
  {
   "cell_type": "code",
   "execution_count": 13,
   "metadata": {},
   "outputs": [
    {
     "name": "stdout",
     "output_type": "stream",
     "text": [
      "\n",
      "Goodness of Fit statistics\n",
      "             Statistics      Value\n",
      "2                 BIC:  1444.2783\n",
      "3      Log-Likelihood:    -708.02\n",
      "4         F-statistic:      18.00\n",
      "5  Prob (F-statistic):   3.64e-13\n",
      "6               Scale:     8.7226\n",
      "\n",
      "Point Estimates\n",
      "\n",
      "                       Coef.  Std.Err.\n",
      "Intercept         13.193644  0.548152\n",
      "failures          -1.305912  0.243793\n",
      "schoolsup         -2.128743  0.515961\n",
      "goout             -0.542437  0.166058\n",
      "bin_Fjob_teacher   1.815877  0.673391\n"
     ]
    }
   ],
   "source": [
    "concise_summary(modelo_g1)"
   ]
  },
  {
   "cell_type": "markdown",
   "metadata": {},
   "source": [
    "### G2"
   ]
  },
  {
   "cell_type": "code",
   "execution_count": 14,
   "metadata": {},
   "outputs": [
    {
     "data": {
      "text/html": [
       "<table class=\"simpletable\">\n",
       "<caption>OLS Regression Results</caption>\n",
       "<tr>\n",
       "  <th>Dep. Variable:</th>           <td>G2</td>        <th>  R-squared:         </th> <td>   0.778</td>\n",
       "</tr>\n",
       "<tr>\n",
       "  <th>Model:</th>                   <td>OLS</td>       <th>  Adj. R-squared:    </th> <td>   0.741</td>\n",
       "</tr>\n",
       "<tr>\n",
       "  <th>Method:</th>             <td>Least Squares</td>  <th>  F-statistic:       </th> <td>   21.23</td>\n",
       "</tr>\n",
       "<tr>\n",
       "  <th>Date:</th>             <td>Thu, 01 Aug 2019</td> <th>  Prob (F-statistic):</th> <td>6.35e-59</td>\n",
       "</tr>\n",
       "<tr>\n",
       "  <th>Time:</th>                 <td>07:40:27</td>     <th>  Log-Likelihood:    </th> <td> -567.39</td>\n",
       "</tr>\n",
       "<tr>\n",
       "  <th>No. Observations:</th>      <td>   284</td>      <th>  AIC:               </th> <td>   1217.</td>\n",
       "</tr>\n",
       "<tr>\n",
       "  <th>Df Residuals:</th>          <td>   243</td>      <th>  BIC:               </th> <td>   1366.</td>\n",
       "</tr>\n",
       "<tr>\n",
       "  <th>Df Model:</th>              <td>    40</td>      <th>                     </th>     <td> </td>   \n",
       "</tr>\n",
       "<tr>\n",
       "  <th>Covariance Type:</th>      <td>nonrobust</td>    <th>                     </th>     <td> </td>   \n",
       "</tr>\n",
       "</table>\n",
       "<table class=\"simpletable\">\n",
       "<tr>\n",
       "            <td></td>               <th>coef</th>     <th>std err</th>      <th>t</th>      <th>P>|t|</th>  <th>[0.025</th>    <th>0.975]</th>  \n",
       "</tr>\n",
       "<tr>\n",
       "  <th>Intercept</th>             <td>    4.7079</td> <td>    2.292</td> <td>    2.054</td> <td> 0.041</td> <td>    0.194</td> <td>    9.222</td>\n",
       "</tr>\n",
       "<tr>\n",
       "  <th>school</th>                <td>    0.6174</td> <td>    0.444</td> <td>    1.391</td> <td> 0.165</td> <td>   -0.257</td> <td>    1.492</td>\n",
       "</tr>\n",
       "<tr>\n",
       "  <th>sex</th>                   <td>    0.1467</td> <td>    0.289</td> <td>    0.507</td> <td> 0.612</td> <td>   -0.423</td> <td>    0.716</td>\n",
       "</tr>\n",
       "<tr>\n",
       "  <th>age</th>                   <td>   -0.1446</td> <td>    0.123</td> <td>   -1.176</td> <td> 0.241</td> <td>   -0.387</td> <td>    0.098</td>\n",
       "</tr>\n",
       "<tr>\n",
       "  <th>address</th>               <td>   -0.7340</td> <td>    0.324</td> <td>   -2.265</td> <td> 0.024</td> <td>   -1.372</td> <td>   -0.096</td>\n",
       "</tr>\n",
       "<tr>\n",
       "  <th>famsize</th>               <td>    0.1601</td> <td>    0.293</td> <td>    0.546</td> <td> 0.586</td> <td>   -0.418</td> <td>    0.738</td>\n",
       "</tr>\n",
       "<tr>\n",
       "  <th>Pstatus</th>               <td>    0.4132</td> <td>    0.433</td> <td>    0.954</td> <td> 0.341</td> <td>   -0.440</td> <td>    1.266</td>\n",
       "</tr>\n",
       "<tr>\n",
       "  <th>Medu</th>                  <td>    0.1463</td> <td>    0.188</td> <td>    0.780</td> <td> 0.436</td> <td>   -0.223</td> <td>    0.516</td>\n",
       "</tr>\n",
       "<tr>\n",
       "  <th>Fedu</th>                  <td>   -0.2716</td> <td>    0.157</td> <td>   -1.726</td> <td> 0.086</td> <td>   -0.582</td> <td>    0.038</td>\n",
       "</tr>\n",
       "<tr>\n",
       "  <th>traveltime</th>            <td>   -0.2002</td> <td>    0.194</td> <td>   -1.035</td> <td> 0.302</td> <td>   -0.581</td> <td>    0.181</td>\n",
       "</tr>\n",
       "<tr>\n",
       "  <th>studytime</th>             <td>   -0.0761</td> <td>    0.165</td> <td>   -0.462</td> <td> 0.644</td> <td>   -0.401</td> <td>    0.248</td>\n",
       "</tr>\n",
       "<tr>\n",
       "  <th>failures</th>              <td>   -0.0372</td> <td>    0.194</td> <td>   -0.192</td> <td> 0.848</td> <td>   -0.419</td> <td>    0.345</td>\n",
       "</tr>\n",
       "<tr>\n",
       "  <th>schoolsup</th>             <td>    0.6846</td> <td>    0.383</td> <td>    1.788</td> <td> 0.075</td> <td>   -0.069</td> <td>    1.439</td>\n",
       "</tr>\n",
       "<tr>\n",
       "  <th>famsup</th>                <td>    0.0243</td> <td>    0.277</td> <td>    0.088</td> <td> 0.930</td> <td>   -0.521</td> <td>    0.570</td>\n",
       "</tr>\n",
       "<tr>\n",
       "  <th>paid</th>                  <td>    0.4468</td> <td>    0.268</td> <td>    1.666</td> <td> 0.097</td> <td>   -0.081</td> <td>    0.975</td>\n",
       "</tr>\n",
       "<tr>\n",
       "  <th>activities</th>            <td>   -0.2479</td> <td>    0.247</td> <td>   -1.003</td> <td> 0.317</td> <td>   -0.735</td> <td>    0.239</td>\n",
       "</tr>\n",
       "<tr>\n",
       "  <th>nursery</th>               <td>   -0.1686</td> <td>    0.303</td> <td>   -0.557</td> <td> 0.578</td> <td>   -0.765</td> <td>    0.428</td>\n",
       "</tr>\n",
       "<tr>\n",
       "  <th>higher</th>                <td>   -0.0326</td> <td>    0.585</td> <td>   -0.056</td> <td> 0.956</td> <td>   -1.184</td> <td>    1.119</td>\n",
       "</tr>\n",
       "<tr>\n",
       "  <th>internet</th>              <td>   -0.3763</td> <td>    0.334</td> <td>   -1.127</td> <td> 0.261</td> <td>   -1.034</td> <td>    0.281</td>\n",
       "</tr>\n",
       "<tr>\n",
       "  <th>romantic</th>              <td>   -0.6505</td> <td>    0.266</td> <td>   -2.450</td> <td> 0.015</td> <td>   -1.174</td> <td>   -0.127</td>\n",
       "</tr>\n",
       "<tr>\n",
       "  <th>famrel</th>                <td>   -0.1127</td> <td>    0.142</td> <td>   -0.794</td> <td> 0.428</td> <td>   -0.392</td> <td>    0.167</td>\n",
       "</tr>\n",
       "<tr>\n",
       "  <th>freetime</th>              <td>   -0.0353</td> <td>    0.129</td> <td>   -0.273</td> <td> 0.785</td> <td>   -0.290</td> <td>    0.219</td>\n",
       "</tr>\n",
       "<tr>\n",
       "  <th>goout</th>                 <td>   -0.2179</td> <td>    0.136</td> <td>   -1.600</td> <td> 0.111</td> <td>   -0.486</td> <td>    0.050</td>\n",
       "</tr>\n",
       "<tr>\n",
       "  <th>Dalc</th>                  <td>   -0.1390</td> <td>    0.190</td> <td>   -0.731</td> <td> 0.466</td> <td>   -0.514</td> <td>    0.236</td>\n",
       "</tr>\n",
       "<tr>\n",
       "  <th>Walc</th>                  <td>    0.2052</td> <td>    0.140</td> <td>    1.468</td> <td> 0.143</td> <td>   -0.070</td> <td>    0.480</td>\n",
       "</tr>\n",
       "<tr>\n",
       "  <th>health</th>                <td>   -0.1065</td> <td>    0.095</td> <td>   -1.121</td> <td> 0.264</td> <td>   -0.294</td> <td>    0.081</td>\n",
       "</tr>\n",
       "<tr>\n",
       "  <th>absences</th>              <td>   -0.0032</td> <td>    0.016</td> <td>   -0.198</td> <td> 0.843</td> <td>   -0.035</td> <td>    0.029</td>\n",
       "</tr>\n",
       "<tr>\n",
       "  <th>G1</th>                    <td>    0.9721</td> <td>    0.043</td> <td>   22.817</td> <td> 0.000</td> <td>    0.888</td> <td>    1.056</td>\n",
       "</tr>\n",
       "<tr>\n",
       "  <th>bin_Mjob_teacher</th>      <td>   -0.3872</td> <td>    0.469</td> <td>   -0.826</td> <td> 0.409</td> <td>   -1.310</td> <td>    0.536</td>\n",
       "</tr>\n",
       "<tr>\n",
       "  <th>bin_Mjob_health</th>       <td>   -0.1755</td> <td>    0.530</td> <td>   -0.331</td> <td> 0.741</td> <td>   -1.220</td> <td>    0.869</td>\n",
       "</tr>\n",
       "<tr>\n",
       "  <th>bin_Mjob_services</th>     <td>   -0.3352</td> <td>    0.350</td> <td>   -0.958</td> <td> 0.339</td> <td>   -1.024</td> <td>    0.354</td>\n",
       "</tr>\n",
       "<tr>\n",
       "  <th>bin_Mjob_at_home</th>      <td>   -0.4824</td> <td>    0.399</td> <td>   -1.210</td> <td> 0.227</td> <td>   -1.268</td> <td>    0.303</td>\n",
       "</tr>\n",
       "<tr>\n",
       "  <th>bin_Fjob_teacher</th>      <td>   -0.5328</td> <td>    0.538</td> <td>   -0.990</td> <td> 0.323</td> <td>   -1.593</td> <td>    0.528</td>\n",
       "</tr>\n",
       "<tr>\n",
       "  <th>bin_Fjob_health</th>       <td>   -0.1301</td> <td>    0.634</td> <td>   -0.205</td> <td> 0.838</td> <td>   -1.379</td> <td>    1.118</td>\n",
       "</tr>\n",
       "<tr>\n",
       "  <th>bin_Fjob_services</th>     <td>    0.2965</td> <td>    0.314</td> <td>    0.943</td> <td> 0.346</td> <td>   -0.323</td> <td>    0.916</td>\n",
       "</tr>\n",
       "<tr>\n",
       "  <th>bin_Fjob_at_home</th>      <td>   -0.7780</td> <td>    0.658</td> <td>   -1.182</td> <td> 0.238</td> <td>   -2.074</td> <td>    0.518</td>\n",
       "</tr>\n",
       "<tr>\n",
       "  <th>bin_reason_home</th>       <td>    0.1074</td> <td>    0.315</td> <td>    0.341</td> <td> 0.733</td> <td>   -0.513</td> <td>    0.728</td>\n",
       "</tr>\n",
       "<tr>\n",
       "  <th>bin_reason_reputation</th> <td>    0.1314</td> <td>    0.325</td> <td>    0.404</td> <td> 0.686</td> <td>   -0.509</td> <td>    0.772</td>\n",
       "</tr>\n",
       "<tr>\n",
       "  <th>bin_reason_other</th>      <td>    0.7022</td> <td>    0.450</td> <td>    1.562</td> <td> 0.120</td> <td>   -0.183</td> <td>    1.588</td>\n",
       "</tr>\n",
       "<tr>\n",
       "  <th>bin_guardian_father</th>   <td>    0.1603</td> <td>    0.319</td> <td>    0.503</td> <td> 0.615</td> <td>   -0.467</td> <td>    0.788</td>\n",
       "</tr>\n",
       "<tr>\n",
       "  <th>bin_guardian_other</th>    <td>   -0.0878</td> <td>    0.520</td> <td>   -0.169</td> <td> 0.866</td> <td>   -1.113</td> <td>    0.937</td>\n",
       "</tr>\n",
       "</table>\n",
       "<table class=\"simpletable\">\n",
       "<tr>\n",
       "  <th>Omnibus:</th>       <td>101.740</td> <th>  Durbin-Watson:     </th> <td>   1.372</td>\n",
       "</tr>\n",
       "<tr>\n",
       "  <th>Prob(Omnibus):</th> <td> 0.000</td>  <th>  Jarque-Bera (JB):  </th> <td> 444.443</td>\n",
       "</tr>\n",
       "<tr>\n",
       "  <th>Skew:</th>          <td>-1.437</td>  <th>  Prob(JB):          </th> <td>3.09e-97</td>\n",
       "</tr>\n",
       "<tr>\n",
       "  <th>Kurtosis:</th>      <td> 8.413</td>  <th>  Cond. No.          </th> <td>    460.</td>\n",
       "</tr>\n",
       "</table><br/><br/>Warnings:<br/>[1] Standard Errors assume that the covariance matrix of the errors is correctly specified."
      ],
      "text/plain": [
       "<class 'statsmodels.iolib.summary.Summary'>\n",
       "\"\"\"\n",
       "                            OLS Regression Results                            \n",
       "==============================================================================\n",
       "Dep. Variable:                     G2   R-squared:                       0.778\n",
       "Model:                            OLS   Adj. R-squared:                  0.741\n",
       "Method:                 Least Squares   F-statistic:                     21.23\n",
       "Date:                Thu, 01 Aug 2019   Prob (F-statistic):           6.35e-59\n",
       "Time:                        07:40:27   Log-Likelihood:                -567.39\n",
       "No. Observations:                 284   AIC:                             1217.\n",
       "Df Residuals:                     243   BIC:                             1366.\n",
       "Df Model:                          40                                         \n",
       "Covariance Type:            nonrobust                                         \n",
       "=========================================================================================\n",
       "                            coef    std err          t      P>|t|      [0.025      0.975]\n",
       "-----------------------------------------------------------------------------------------\n",
       "Intercept                 4.7079      2.292      2.054      0.041       0.194       9.222\n",
       "school                    0.6174      0.444      1.391      0.165      -0.257       1.492\n",
       "sex                       0.1467      0.289      0.507      0.612      -0.423       0.716\n",
       "age                      -0.1446      0.123     -1.176      0.241      -0.387       0.098\n",
       "address                  -0.7340      0.324     -2.265      0.024      -1.372      -0.096\n",
       "famsize                   0.1601      0.293      0.546      0.586      -0.418       0.738\n",
       "Pstatus                   0.4132      0.433      0.954      0.341      -0.440       1.266\n",
       "Medu                      0.1463      0.188      0.780      0.436      -0.223       0.516\n",
       "Fedu                     -0.2716      0.157     -1.726      0.086      -0.582       0.038\n",
       "traveltime               -0.2002      0.194     -1.035      0.302      -0.581       0.181\n",
       "studytime                -0.0761      0.165     -0.462      0.644      -0.401       0.248\n",
       "failures                 -0.0372      0.194     -0.192      0.848      -0.419       0.345\n",
       "schoolsup                 0.6846      0.383      1.788      0.075      -0.069       1.439\n",
       "famsup                    0.0243      0.277      0.088      0.930      -0.521       0.570\n",
       "paid                      0.4468      0.268      1.666      0.097      -0.081       0.975\n",
       "activities               -0.2479      0.247     -1.003      0.317      -0.735       0.239\n",
       "nursery                  -0.1686      0.303     -0.557      0.578      -0.765       0.428\n",
       "higher                   -0.0326      0.585     -0.056      0.956      -1.184       1.119\n",
       "internet                 -0.3763      0.334     -1.127      0.261      -1.034       0.281\n",
       "romantic                 -0.6505      0.266     -2.450      0.015      -1.174      -0.127\n",
       "famrel                   -0.1127      0.142     -0.794      0.428      -0.392       0.167\n",
       "freetime                 -0.0353      0.129     -0.273      0.785      -0.290       0.219\n",
       "goout                    -0.2179      0.136     -1.600      0.111      -0.486       0.050\n",
       "Dalc                     -0.1390      0.190     -0.731      0.466      -0.514       0.236\n",
       "Walc                      0.2052      0.140      1.468      0.143      -0.070       0.480\n",
       "health                   -0.1065      0.095     -1.121      0.264      -0.294       0.081\n",
       "absences                 -0.0032      0.016     -0.198      0.843      -0.035       0.029\n",
       "G1                        0.9721      0.043     22.817      0.000       0.888       1.056\n",
       "bin_Mjob_teacher         -0.3872      0.469     -0.826      0.409      -1.310       0.536\n",
       "bin_Mjob_health          -0.1755      0.530     -0.331      0.741      -1.220       0.869\n",
       "bin_Mjob_services        -0.3352      0.350     -0.958      0.339      -1.024       0.354\n",
       "bin_Mjob_at_home         -0.4824      0.399     -1.210      0.227      -1.268       0.303\n",
       "bin_Fjob_teacher         -0.5328      0.538     -0.990      0.323      -1.593       0.528\n",
       "bin_Fjob_health          -0.1301      0.634     -0.205      0.838      -1.379       1.118\n",
       "bin_Fjob_services         0.2965      0.314      0.943      0.346      -0.323       0.916\n",
       "bin_Fjob_at_home         -0.7780      0.658     -1.182      0.238      -2.074       0.518\n",
       "bin_reason_home           0.1074      0.315      0.341      0.733      -0.513       0.728\n",
       "bin_reason_reputation     0.1314      0.325      0.404      0.686      -0.509       0.772\n",
       "bin_reason_other          0.7022      0.450      1.562      0.120      -0.183       1.588\n",
       "bin_guardian_father       0.1603      0.319      0.503      0.615      -0.467       0.788\n",
       "bin_guardian_other       -0.0878      0.520     -0.169      0.866      -1.113       0.937\n",
       "==============================================================================\n",
       "Omnibus:                      101.740   Durbin-Watson:                   1.372\n",
       "Prob(Omnibus):                  0.000   Jarque-Bera (JB):              444.443\n",
       "Skew:                          -1.437   Prob(JB):                     3.09e-97\n",
       "Kurtosis:                       8.413   Cond. No.                         460.\n",
       "==============================================================================\n",
       "\n",
       "Warnings:\n",
       "[1] Standard Errors assume that the covariance matrix of the errors is correctly specified.\n",
       "\"\"\""
      ]
     },
     "execution_count": 14,
     "metadata": {},
     "output_type": "execute_result"
    }
   ],
   "source": [
    "# Creamos una lista con los nombres de todas las variables, para formar el string de la regresión de forma más fácil\n",
    "columnas = df.columns.tolist()\n",
    "# Removemos de la lista el nombre del vector objetivo\n",
    "for var in ['G2', 'G3']:\n",
    "    if var in columnas:\n",
    "        columnas.remove(var)\n",
    "# Se crea el modelo de regresión logistica\n",
    "modelo = smf.ols('G2 ~ ' + ' + '.join(columnas), df).fit()\n",
    "modelo.summary()"
   ]
  },
  {
   "cell_type": "markdown",
   "metadata": {},
   "source": [
    "La función summary muestra un resumen de toda la información de la regresión. Basado en esto, seleccionamos las variables con p-value < 0.025 (significancia mayor a 97.5) y removemos del modelo las siguientes variables:\n",
    "- `school`\n",
    "- `sex`\n",
    "- `age`\n",
    "- `address`\n",
    "- `famsize`\n",
    "- `Pstatus`\n",
    "- `Medu`\n",
    "- `Fedu`\n",
    "- `traveltime`\n",
    "- `studytime`\n",
    "- `failures`\n",
    "- `schoolsup`\n",
    "- `famsup`\n",
    "- `paid`\n",
    "- `activities`\n",
    "- `nursery`\n",
    "- `higher`\n",
    "- `internet`\n",
    "- `romantic`\n",
    "- `freetime`\n",
    "- `goout`\n",
    "- `Dalc`\n",
    "- `health`\n",
    "- `bin_Mjob_teacher`\n",
    "- `bin_Mjob_health`\n",
    "- `bin_Mjob_services`\n",
    "- `bin_Mjob_at_home`\n",
    "- `bin_Fjob_teacher`\n",
    "- `bin_Fjob_health`\n",
    "- `bin_Fjob_services`\n",
    "- `bin_Fjob_at_home`\n",
    "- `bin_reason_home`\n",
    "- `bin_reason_reputation`\n",
    "- `bin_reason_other`\n",
    "- `bin_guardian_father`\n",
    "- `bin_guardian_other`\n"
   ]
  },
  {
   "cell_type": "code",
   "execution_count": 15,
   "metadata": {},
   "outputs": [
    {
     "data": {
      "text/html": [
       "<table class=\"simpletable\">\n",
       "<caption>OLS Regression Results</caption>\n",
       "<tr>\n",
       "  <th>Dep. Variable:</th>           <td>G2</td>        <th>  R-squared:         </th> <td>   0.738</td>\n",
       "</tr>\n",
       "<tr>\n",
       "  <th>Model:</th>                   <td>OLS</td>       <th>  Adj. R-squared:    </th> <td>   0.735</td>\n",
       "</tr>\n",
       "<tr>\n",
       "  <th>Method:</th>             <td>Least Squares</td>  <th>  F-statistic:       </th> <td>   262.9</td>\n",
       "</tr>\n",
       "<tr>\n",
       "  <th>Date:</th>             <td>Thu, 01 Aug 2019</td> <th>  Prob (F-statistic):</th> <td>4.22e-81</td>\n",
       "</tr>\n",
       "<tr>\n",
       "  <th>Time:</th>                 <td>07:40:27</td>     <th>  Log-Likelihood:    </th> <td> -590.62</td>\n",
       "</tr>\n",
       "<tr>\n",
       "  <th>No. Observations:</th>      <td>   284</td>      <th>  AIC:               </th> <td>   1189.</td>\n",
       "</tr>\n",
       "<tr>\n",
       "  <th>Df Residuals:</th>          <td>   280</td>      <th>  BIC:               </th> <td>   1204.</td>\n",
       "</tr>\n",
       "<tr>\n",
       "  <th>Df Model:</th>              <td>     3</td>      <th>                     </th>     <td> </td>   \n",
       "</tr>\n",
       "<tr>\n",
       "  <th>Covariance Type:</th>      <td>nonrobust</td>    <th>                     </th>     <td> </td>   \n",
       "</tr>\n",
       "</table>\n",
       "<table class=\"simpletable\">\n",
       "<tr>\n",
       "      <td></td>         <th>coef</th>     <th>std err</th>      <th>t</th>      <th>P>|t|</th>  <th>[0.025</th>    <th>0.975]</th>  \n",
       "</tr>\n",
       "<tr>\n",
       "  <th>Intercept</th> <td>    0.5115</td> <td>    0.422</td> <td>    1.211</td> <td> 0.227</td> <td>   -0.320</td> <td>    1.343</td>\n",
       "</tr>\n",
       "<tr>\n",
       "  <th>address</th>   <td>   -0.8709</td> <td>    0.269</td> <td>   -3.237</td> <td> 0.001</td> <td>   -1.400</td> <td>   -0.341</td>\n",
       "</tr>\n",
       "<tr>\n",
       "  <th>romantic</th>  <td>   -0.7129</td> <td>    0.245</td> <td>   -2.906</td> <td> 0.004</td> <td>   -1.196</td> <td>   -0.230</td>\n",
       "</tr>\n",
       "<tr>\n",
       "  <th>G1</th>        <td>    0.9679</td> <td>    0.035</td> <td>   27.404</td> <td> 0.000</td> <td>    0.898</td> <td>    1.037</td>\n",
       "</tr>\n",
       "</table>\n",
       "<table class=\"simpletable\">\n",
       "<tr>\n",
       "  <th>Omnibus:</th>       <td>150.193</td> <th>  Durbin-Watson:     </th> <td>   1.193</td> \n",
       "</tr>\n",
       "<tr>\n",
       "  <th>Prob(Omnibus):</th> <td> 0.000</td>  <th>  Jarque-Bera (JB):  </th> <td>1073.152</td> \n",
       "</tr>\n",
       "<tr>\n",
       "  <th>Skew:</th>          <td>-2.051</td>  <th>  Prob(JB):          </th> <td>9.29e-234</td>\n",
       "</tr>\n",
       "<tr>\n",
       "  <th>Kurtosis:</th>      <td>11.595</td>  <th>  Cond. No.          </th> <td>    43.0</td> \n",
       "</tr>\n",
       "</table><br/><br/>Warnings:<br/>[1] Standard Errors assume that the covariance matrix of the errors is correctly specified."
      ],
      "text/plain": [
       "<class 'statsmodels.iolib.summary.Summary'>\n",
       "\"\"\"\n",
       "                            OLS Regression Results                            \n",
       "==============================================================================\n",
       "Dep. Variable:                     G2   R-squared:                       0.738\n",
       "Model:                            OLS   Adj. R-squared:                  0.735\n",
       "Method:                 Least Squares   F-statistic:                     262.9\n",
       "Date:                Thu, 01 Aug 2019   Prob (F-statistic):           4.22e-81\n",
       "Time:                        07:40:27   Log-Likelihood:                -590.62\n",
       "No. Observations:                 284   AIC:                             1189.\n",
       "Df Residuals:                     280   BIC:                             1204.\n",
       "Df Model:                           3                                         \n",
       "Covariance Type:            nonrobust                                         \n",
       "==============================================================================\n",
       "                 coef    std err          t      P>|t|      [0.025      0.975]\n",
       "------------------------------------------------------------------------------\n",
       "Intercept      0.5115      0.422      1.211      0.227      -0.320       1.343\n",
       "address       -0.8709      0.269     -3.237      0.001      -1.400      -0.341\n",
       "romantic      -0.7129      0.245     -2.906      0.004      -1.196      -0.230\n",
       "G1             0.9679      0.035     27.404      0.000       0.898       1.037\n",
       "==============================================================================\n",
       "Omnibus:                      150.193   Durbin-Watson:                   1.193\n",
       "Prob(Omnibus):                  0.000   Jarque-Bera (JB):             1073.152\n",
       "Skew:                          -2.051   Prob(JB):                    9.29e-234\n",
       "Kurtosis:                      11.595   Cond. No.                         43.0\n",
       "==============================================================================\n",
       "\n",
       "Warnings:\n",
       "[1] Standard Errors assume that the covariance matrix of the errors is correctly specified.\n",
       "\"\"\""
      ]
     },
     "execution_count": 15,
     "metadata": {},
     "output_type": "execute_result"
    }
   ],
   "source": [
    "# Consideramos solo las variables con p-value < 0.025 (significancia mayor a 97.5). removemos las siguientes \n",
    "# variables del modelo\n",
    "for var in ['school', 'sex', 'age', 'famsize', 'Pstatus', 'Medu', 'Fedu', 'traveltime', 'studytime', 'failures',\n",
    "            'schoolsup', 'famsup', 'paid', 'activities', 'nursery', 'higher', 'internet', 'famrel', 'freetime',\n",
    "            'goout', 'Dalc', 'Walc', 'health', 'absences', 'bin_Mjob_teacher', 'bin_Mjob_health', 'bin_Mjob_services',\n",
    "            'bin_Mjob_at_home', 'bin_Fjob_teacher', 'bin_Fjob_health', 'bin_Fjob_services', 'bin_Fjob_at_home',\n",
    "            'bin_reason_home', 'bin_reason_reputation', 'bin_reason_other', 'bin_guardian_father',\n",
    "            'bin_guardian_other']:\n",
    "    if var in columnas:\n",
    "        columnas.remove(var)\n",
    "modelo_g2 = smf.ols('G2 ~ ' + ' + '.join(columnas), df).fit()\n",
    "modelo_g2.summary()"
   ]
  },
  {
   "cell_type": "code",
   "execution_count": 16,
   "metadata": {},
   "outputs": [
    {
     "name": "stdout",
     "output_type": "stream",
     "text": [
      "\n",
      "Goodness of Fit statistics\n",
      "             Statistics      Value\n",
      "2                 BIC:  1203.8341\n",
      "3      Log-Likelihood:    -590.62\n",
      "4         F-statistic:      262.9\n",
      "5  Prob (F-statistic):   4.22e-81\n",
      "6               Scale:     3.8023\n",
      "\n",
      "Point Estimates\n",
      "\n",
      "               Coef.  Std.Err.\n",
      "Intercept  0.511488  0.422202\n",
      "address   -0.870911  0.269032\n",
      "romantic  -0.712859  0.245319\n",
      "G1         0.967930  0.035320\n"
     ]
    }
   ],
   "source": [
    "concise_summary(modelo_g2)"
   ]
  },
  {
   "cell_type": "markdown",
   "metadata": {},
   "source": [
    "Cabe destacar que el modelo predictivo para G2 presenta un $R^{2}$ mucho mejor que el modelo para G1."
   ]
  },
  {
   "cell_type": "markdown",
   "metadata": {},
   "source": [
    "### G3"
   ]
  },
  {
   "cell_type": "code",
   "execution_count": 17,
   "metadata": {},
   "outputs": [
    {
     "data": {
      "text/html": [
       "<table class=\"simpletable\">\n",
       "<caption>OLS Regression Results</caption>\n",
       "<tr>\n",
       "  <th>Dep. Variable:</th>           <td>G2</td>        <th>  R-squared:         </th>  <td>   1.000</td> \n",
       "</tr>\n",
       "<tr>\n",
       "  <th>Model:</th>                   <td>OLS</td>       <th>  Adj. R-squared:    </th>  <td>   1.000</td> \n",
       "</tr>\n",
       "<tr>\n",
       "  <th>Method:</th>             <td>Least Squares</td>  <th>  F-statistic:       </th>  <td>2.469e+29</td>\n",
       "</tr>\n",
       "<tr>\n",
       "  <th>Date:</th>             <td>Thu, 01 Aug 2019</td> <th>  Prob (F-statistic):</th>   <td>  0.00</td>  \n",
       "</tr>\n",
       "<tr>\n",
       "  <th>Time:</th>                 <td>07:40:28</td>     <th>  Log-Likelihood:    </th>  <td>  8577.5</td> \n",
       "</tr>\n",
       "<tr>\n",
       "  <th>No. Observations:</th>      <td>   284</td>      <th>  AIC:               </th> <td>-1.707e+04</td>\n",
       "</tr>\n",
       "<tr>\n",
       "  <th>Df Residuals:</th>          <td>   242</td>      <th>  BIC:               </th> <td>-1.692e+04</td>\n",
       "</tr>\n",
       "<tr>\n",
       "  <th>Df Model:</th>              <td>    41</td>      <th>                     </th>      <td> </td>    \n",
       "</tr>\n",
       "<tr>\n",
       "  <th>Covariance Type:</th>      <td>nonrobust</td>    <th>                     </th>      <td> </td>    \n",
       "</tr>\n",
       "</table>\n",
       "<table class=\"simpletable\">\n",
       "<tr>\n",
       "            <td></td>               <th>coef</th>     <th>std err</th>      <th>t</th>      <th>P>|t|</th>  <th>[0.025</th>    <th>0.975]</th>  \n",
       "</tr>\n",
       "<tr>\n",
       "  <th>Intercept</th>             <td> 4.764e-14</td> <td>  2.4e-14</td> <td>    1.984</td> <td> 0.048</td> <td> 3.49e-16</td> <td> 9.49e-14</td>\n",
       "</tr>\n",
       "<tr>\n",
       "  <th>school</th>                <td> 4.929e-14</td> <td> 4.63e-15</td> <td>   10.651</td> <td> 0.000</td> <td> 4.02e-14</td> <td> 5.84e-14</td>\n",
       "</tr>\n",
       "<tr>\n",
       "  <th>sex</th>                   <td>-3.414e-15</td> <td>    3e-15</td> <td>   -1.136</td> <td> 0.257</td> <td>-9.33e-15</td> <td>  2.5e-15</td>\n",
       "</tr>\n",
       "<tr>\n",
       "  <th>age</th>                   <td>-2.026e-15</td> <td> 1.28e-15</td> <td>   -1.581</td> <td> 0.115</td> <td>-4.55e-15</td> <td> 4.98e-16</td>\n",
       "</tr>\n",
       "<tr>\n",
       "  <th>address</th>               <td>-2.116e-15</td> <td>  3.4e-15</td> <td>   -0.622</td> <td> 0.534</td> <td>-8.82e-15</td> <td> 4.58e-15</td>\n",
       "</tr>\n",
       "<tr>\n",
       "  <th>famsize</th>               <td>-1.332e-15</td> <td> 3.05e-15</td> <td>   -0.437</td> <td> 0.662</td> <td>-7.34e-15</td> <td> 4.67e-15</td>\n",
       "</tr>\n",
       "<tr>\n",
       "  <th>Pstatus</th>               <td>-6.398e-15</td> <td>  4.5e-15</td> <td>   -1.420</td> <td> 0.157</td> <td>-1.53e-14</td> <td> 2.48e-15</td>\n",
       "</tr>\n",
       "<tr>\n",
       "  <th>Medu</th>                  <td>-2.857e-15</td> <td> 1.95e-15</td> <td>   -1.464</td> <td> 0.144</td> <td> -6.7e-15</td> <td> 9.86e-16</td>\n",
       "</tr>\n",
       "<tr>\n",
       "  <th>Fedu</th>                  <td> 8.327e-16</td> <td> 1.64e-15</td> <td>    0.506</td> <td> 0.613</td> <td>-2.41e-15</td> <td> 4.07e-15</td>\n",
       "</tr>\n",
       "<tr>\n",
       "  <th>traveltime</th>            <td> 1.804e-16</td> <td> 2.01e-15</td> <td>    0.090</td> <td> 0.929</td> <td>-3.79e-15</td> <td> 4.15e-15</td>\n",
       "</tr>\n",
       "<tr>\n",
       "  <th>studytime</th>             <td>  2.81e-16</td> <td> 1.71e-15</td> <td>    0.164</td> <td> 0.870</td> <td>-3.09e-15</td> <td> 3.65e-15</td>\n",
       "</tr>\n",
       "<tr>\n",
       "  <th>failures</th>              <td> 1.062e-15</td> <td> 2.02e-15</td> <td>    0.527</td> <td> 0.599</td> <td>-2.91e-15</td> <td> 5.03e-15</td>\n",
       "</tr>\n",
       "<tr>\n",
       "  <th>schoolsup</th>             <td>-8.101e-15</td> <td>    4e-15</td> <td>   -2.024</td> <td> 0.044</td> <td> -1.6e-14</td> <td>-2.17e-16</td>\n",
       "</tr>\n",
       "<tr>\n",
       "  <th>famsup</th>                <td> -1.28e-15</td> <td> 2.88e-15</td> <td>   -0.445</td> <td> 0.657</td> <td>-6.95e-15</td> <td> 4.39e-15</td>\n",
       "</tr>\n",
       "<tr>\n",
       "  <th>paid</th>                  <td> 7.633e-16</td> <td>  2.8e-15</td> <td>    0.272</td> <td> 0.786</td> <td>-4.76e-15</td> <td> 6.28e-15</td>\n",
       "</tr>\n",
       "<tr>\n",
       "  <th>activities</th>            <td>-1.749e-15</td> <td> 2.57e-15</td> <td>   -0.680</td> <td> 0.497</td> <td>-6.81e-15</td> <td> 3.32e-15</td>\n",
       "</tr>\n",
       "<tr>\n",
       "  <th>nursery</th>               <td>-6.939e-17</td> <td> 3.15e-15</td> <td>   -0.022</td> <td> 0.982</td> <td>-6.27e-15</td> <td> 6.13e-15</td>\n",
       "</tr>\n",
       "<tr>\n",
       "  <th>higher</th>                <td>-1.804e-15</td> <td> 6.07e-15</td> <td>   -0.297</td> <td> 0.767</td> <td>-1.38e-14</td> <td> 1.02e-14</td>\n",
       "</tr>\n",
       "<tr>\n",
       "  <th>internet</th>              <td>-1.013e-15</td> <td> 3.48e-15</td> <td>   -0.291</td> <td> 0.771</td> <td>-7.86e-15</td> <td> 5.83e-15</td>\n",
       "</tr>\n",
       "<tr>\n",
       "  <th>romantic</th>              <td>-8.327e-17</td> <td> 2.79e-15</td> <td>   -0.030</td> <td> 0.976</td> <td>-5.58e-15</td> <td> 5.42e-15</td>\n",
       "</tr>\n",
       "<tr>\n",
       "  <th>famrel</th>                <td>-5.308e-16</td> <td> 1.48e-15</td> <td>   -0.360</td> <td> 0.719</td> <td>-3.44e-15</td> <td> 2.37e-15</td>\n",
       "</tr>\n",
       "<tr>\n",
       "  <th>freetime</th>              <td> 2.776e-17</td> <td> 1.34e-15</td> <td>    0.021</td> <td> 0.984</td> <td>-2.62e-15</td> <td> 2.67e-15</td>\n",
       "</tr>\n",
       "<tr>\n",
       "  <th>goout</th>                 <td>  9.06e-16</td> <td> 1.42e-15</td> <td>    0.637</td> <td> 0.525</td> <td>-1.89e-15</td> <td> 3.71e-15</td>\n",
       "</tr>\n",
       "<tr>\n",
       "  <th>Dalc</th>                  <td> 1.457e-16</td> <td> 1.98e-15</td> <td>    0.074</td> <td> 0.941</td> <td>-3.75e-15</td> <td> 4.04e-15</td>\n",
       "</tr>\n",
       "<tr>\n",
       "  <th>Walc</th>                  <td>-5.035e-16</td> <td> 1.46e-15</td> <td>   -0.345</td> <td> 0.730</td> <td>-3.38e-15</td> <td> 2.37e-15</td>\n",
       "</tr>\n",
       "<tr>\n",
       "  <th>health</th>                <td> 1.353e-16</td> <td> 9.89e-16</td> <td>    0.137</td> <td> 0.891</td> <td>-1.81e-15</td> <td> 2.08e-15</td>\n",
       "</tr>\n",
       "<tr>\n",
       "  <th>absences</th>              <td>-3.411e-16</td> <td> 1.69e-16</td> <td>   -2.021</td> <td> 0.044</td> <td>-6.73e-16</td> <td>-8.69e-18</td>\n",
       "</tr>\n",
       "<tr>\n",
       "  <th>G1</th>                    <td>-1.724e-15</td> <td> 7.84e-16</td> <td>   -2.198</td> <td> 0.029</td> <td>-3.27e-15</td> <td>-1.79e-16</td>\n",
       "</tr>\n",
       "<tr>\n",
       "  <th>G2</th>                    <td>    1.0000</td> <td> 6.66e-16</td> <td>  1.5e+15</td> <td> 0.000</td> <td>    1.000</td> <td>    1.000</td>\n",
       "</tr>\n",
       "<tr>\n",
       "  <th>bin_Mjob_teacher</th>      <td>-3.428e-15</td> <td> 4.87e-15</td> <td>   -0.703</td> <td> 0.483</td> <td> -1.3e-14</td> <td> 6.17e-15</td>\n",
       "</tr>\n",
       "<tr>\n",
       "  <th>bin_Mjob_health</th>       <td>-6.321e-15</td> <td> 5.51e-15</td> <td>   -1.148</td> <td> 0.252</td> <td>-1.72e-14</td> <td> 4.53e-15</td>\n",
       "</tr>\n",
       "<tr>\n",
       "  <th>bin_Mjob_services</th>     <td>-2.831e-15</td> <td> 3.64e-15</td> <td>   -0.778</td> <td> 0.437</td> <td>   -1e-14</td> <td> 4.34e-15</td>\n",
       "</tr>\n",
       "<tr>\n",
       "  <th>bin_Mjob_at_home</th>      <td>-2.012e-15</td> <td> 4.15e-15</td> <td>   -0.484</td> <td> 0.629</td> <td>-1.02e-14</td> <td> 6.17e-15</td>\n",
       "</tr>\n",
       "<tr>\n",
       "  <th>bin_Fjob_teacher</th>      <td> 2.498e-15</td> <td>  5.6e-15</td> <td>    0.446</td> <td> 0.656</td> <td>-8.54e-15</td> <td> 1.35e-14</td>\n",
       "</tr>\n",
       "<tr>\n",
       "  <th>bin_Fjob_health</th>       <td> 4.663e-15</td> <td> 6.58e-15</td> <td>    0.708</td> <td> 0.479</td> <td>-8.31e-15</td> <td> 1.76e-14</td>\n",
       "</tr>\n",
       "<tr>\n",
       "  <th>bin_Fjob_services</th>     <td>-4.476e-16</td> <td> 3.27e-15</td> <td>   -0.137</td> <td> 0.891</td> <td>-6.89e-15</td> <td> 5.99e-15</td>\n",
       "</tr>\n",
       "<tr>\n",
       "  <th>bin_Fjob_at_home</th>      <td>-1.776e-15</td> <td> 6.85e-15</td> <td>   -0.259</td> <td> 0.796</td> <td>-1.53e-14</td> <td> 1.17e-14</td>\n",
       "</tr>\n",
       "<tr>\n",
       "  <th>bin_reason_home</th>       <td>-1.776e-15</td> <td> 3.27e-15</td> <td>   -0.543</td> <td> 0.588</td> <td>-8.22e-15</td> <td> 4.67e-15</td>\n",
       "</tr>\n",
       "<tr>\n",
       "  <th>bin_reason_reputation</th> <td> 1.034e-15</td> <td> 3.38e-15</td> <td>    0.306</td> <td> 0.760</td> <td>-5.62e-15</td> <td> 7.69e-15</td>\n",
       "</tr>\n",
       "<tr>\n",
       "  <th>bin_reason_other</th>      <td> 1.527e-15</td> <td> 4.69e-15</td> <td>    0.325</td> <td> 0.745</td> <td>-7.72e-15</td> <td> 1.08e-14</td>\n",
       "</tr>\n",
       "<tr>\n",
       "  <th>bin_guardian_father</th>   <td>-3.164e-15</td> <td> 3.31e-15</td> <td>   -0.955</td> <td> 0.340</td> <td>-9.69e-15</td> <td> 3.36e-15</td>\n",
       "</tr>\n",
       "<tr>\n",
       "  <th>bin_guardian_other</th>    <td> 2.496e-15</td> <td> 5.41e-15</td> <td>    0.462</td> <td> 0.645</td> <td>-8.15e-15</td> <td> 1.31e-14</td>\n",
       "</tr>\n",
       "</table>\n",
       "<table class=\"simpletable\">\n",
       "<tr>\n",
       "  <th>Omnibus:</th>       <td>76.179</td> <th>  Durbin-Watson:     </th> <td>   0.353</td>\n",
       "</tr>\n",
       "<tr>\n",
       "  <th>Prob(Omnibus):</th> <td> 0.000</td> <th>  Jarque-Bera (JB):  </th> <td> 136.570</td>\n",
       "</tr>\n",
       "<tr>\n",
       "  <th>Skew:</th>          <td>-1.479</td> <th>  Prob(JB):          </th> <td>2.21e-30</td>\n",
       "</tr>\n",
       "<tr>\n",
       "  <th>Kurtosis:</th>      <td> 4.671</td> <th>  Cond. No.          </th> <td>    514.</td>\n",
       "</tr>\n",
       "</table><br/><br/>Warnings:<br/>[1] Standard Errors assume that the covariance matrix of the errors is correctly specified."
      ],
      "text/plain": [
       "<class 'statsmodels.iolib.summary.Summary'>\n",
       "\"\"\"\n",
       "                            OLS Regression Results                            \n",
       "==============================================================================\n",
       "Dep. Variable:                     G2   R-squared:                       1.000\n",
       "Model:                            OLS   Adj. R-squared:                  1.000\n",
       "Method:                 Least Squares   F-statistic:                 2.469e+29\n",
       "Date:                Thu, 01 Aug 2019   Prob (F-statistic):               0.00\n",
       "Time:                        07:40:28   Log-Likelihood:                 8577.5\n",
       "No. Observations:                 284   AIC:                        -1.707e+04\n",
       "Df Residuals:                     242   BIC:                        -1.692e+04\n",
       "Df Model:                          41                                         \n",
       "Covariance Type:            nonrobust                                         \n",
       "=========================================================================================\n",
       "                            coef    std err          t      P>|t|      [0.025      0.975]\n",
       "-----------------------------------------------------------------------------------------\n",
       "Intercept              4.764e-14    2.4e-14      1.984      0.048    3.49e-16    9.49e-14\n",
       "school                 4.929e-14   4.63e-15     10.651      0.000    4.02e-14    5.84e-14\n",
       "sex                   -3.414e-15      3e-15     -1.136      0.257   -9.33e-15     2.5e-15\n",
       "age                   -2.026e-15   1.28e-15     -1.581      0.115   -4.55e-15    4.98e-16\n",
       "address               -2.116e-15    3.4e-15     -0.622      0.534   -8.82e-15    4.58e-15\n",
       "famsize               -1.332e-15   3.05e-15     -0.437      0.662   -7.34e-15    4.67e-15\n",
       "Pstatus               -6.398e-15    4.5e-15     -1.420      0.157   -1.53e-14    2.48e-15\n",
       "Medu                  -2.857e-15   1.95e-15     -1.464      0.144    -6.7e-15    9.86e-16\n",
       "Fedu                   8.327e-16   1.64e-15      0.506      0.613   -2.41e-15    4.07e-15\n",
       "traveltime             1.804e-16   2.01e-15      0.090      0.929   -3.79e-15    4.15e-15\n",
       "studytime               2.81e-16   1.71e-15      0.164      0.870   -3.09e-15    3.65e-15\n",
       "failures               1.062e-15   2.02e-15      0.527      0.599   -2.91e-15    5.03e-15\n",
       "schoolsup             -8.101e-15      4e-15     -2.024      0.044    -1.6e-14   -2.17e-16\n",
       "famsup                 -1.28e-15   2.88e-15     -0.445      0.657   -6.95e-15    4.39e-15\n",
       "paid                   7.633e-16    2.8e-15      0.272      0.786   -4.76e-15    6.28e-15\n",
       "activities            -1.749e-15   2.57e-15     -0.680      0.497   -6.81e-15    3.32e-15\n",
       "nursery               -6.939e-17   3.15e-15     -0.022      0.982   -6.27e-15    6.13e-15\n",
       "higher                -1.804e-15   6.07e-15     -0.297      0.767   -1.38e-14    1.02e-14\n",
       "internet              -1.013e-15   3.48e-15     -0.291      0.771   -7.86e-15    5.83e-15\n",
       "romantic              -8.327e-17   2.79e-15     -0.030      0.976   -5.58e-15    5.42e-15\n",
       "famrel                -5.308e-16   1.48e-15     -0.360      0.719   -3.44e-15    2.37e-15\n",
       "freetime               2.776e-17   1.34e-15      0.021      0.984   -2.62e-15    2.67e-15\n",
       "goout                   9.06e-16   1.42e-15      0.637      0.525   -1.89e-15    3.71e-15\n",
       "Dalc                   1.457e-16   1.98e-15      0.074      0.941   -3.75e-15    4.04e-15\n",
       "Walc                  -5.035e-16   1.46e-15     -0.345      0.730   -3.38e-15    2.37e-15\n",
       "health                 1.353e-16   9.89e-16      0.137      0.891   -1.81e-15    2.08e-15\n",
       "absences              -3.411e-16   1.69e-16     -2.021      0.044   -6.73e-16   -8.69e-18\n",
       "G1                    -1.724e-15   7.84e-16     -2.198      0.029   -3.27e-15   -1.79e-16\n",
       "G2                        1.0000   6.66e-16    1.5e+15      0.000       1.000       1.000\n",
       "bin_Mjob_teacher      -3.428e-15   4.87e-15     -0.703      0.483    -1.3e-14    6.17e-15\n",
       "bin_Mjob_health       -6.321e-15   5.51e-15     -1.148      0.252   -1.72e-14    4.53e-15\n",
       "bin_Mjob_services     -2.831e-15   3.64e-15     -0.778      0.437      -1e-14    4.34e-15\n",
       "bin_Mjob_at_home      -2.012e-15   4.15e-15     -0.484      0.629   -1.02e-14    6.17e-15\n",
       "bin_Fjob_teacher       2.498e-15    5.6e-15      0.446      0.656   -8.54e-15    1.35e-14\n",
       "bin_Fjob_health        4.663e-15   6.58e-15      0.708      0.479   -8.31e-15    1.76e-14\n",
       "bin_Fjob_services     -4.476e-16   3.27e-15     -0.137      0.891   -6.89e-15    5.99e-15\n",
       "bin_Fjob_at_home      -1.776e-15   6.85e-15     -0.259      0.796   -1.53e-14    1.17e-14\n",
       "bin_reason_home       -1.776e-15   3.27e-15     -0.543      0.588   -8.22e-15    4.67e-15\n",
       "bin_reason_reputation  1.034e-15   3.38e-15      0.306      0.760   -5.62e-15    7.69e-15\n",
       "bin_reason_other       1.527e-15   4.69e-15      0.325      0.745   -7.72e-15    1.08e-14\n",
       "bin_guardian_father   -3.164e-15   3.31e-15     -0.955      0.340   -9.69e-15    3.36e-15\n",
       "bin_guardian_other     2.496e-15   5.41e-15      0.462      0.645   -8.15e-15    1.31e-14\n",
       "==============================================================================\n",
       "Omnibus:                       76.179   Durbin-Watson:                   0.353\n",
       "Prob(Omnibus):                  0.000   Jarque-Bera (JB):              136.570\n",
       "Skew:                          -1.479   Prob(JB):                     2.21e-30\n",
       "Kurtosis:                       4.671   Cond. No.                         514.\n",
       "==============================================================================\n",
       "\n",
       "Warnings:\n",
       "[1] Standard Errors assume that the covariance matrix of the errors is correctly specified.\n",
       "\"\"\""
      ]
     },
     "execution_count": 17,
     "metadata": {},
     "output_type": "execute_result"
    }
   ],
   "source": [
    "# Creamos una lista con los nombres de todas las variables, para formar el string de la regresión de forma más fácil\n",
    "columnas = df.columns.tolist()\n",
    "# Removemos de la lista el nombre del vector objetivo\n",
    "for var in ['G3']:\n",
    "    if var in columnas:\n",
    "        columnas.remove(var)\n",
    "# Se crea el modelo de regresión logistica\n",
    "modelo = smf.ols('G2 ~ ' + ' + '.join(columnas), df).fit()\n",
    "modelo.summary()"
   ]
  },
  {
   "cell_type": "markdown",
   "metadata": {},
   "source": [
    "La función summary muestra un resumen de toda la información de la regresión. Basado en esto, seleccionamos las variables con p-value < 0.025 (significancia mayor a 97.5) y removemos del modelo las siguientes variables:\n",
    "- `school`\n",
    "- `sex`\n",
    "- `age`\n",
    "- `famsize`\n",
    "- `Pstatus`\n",
    "- `Medu`\n",
    "- `Fedu`\n",
    "- `traveltime`\n",
    "- `studytime`\n",
    "- `failures`\n",
    "- `schoolsup`\n",
    "- `famsup`\n",
    "- `paid`\n",
    "- `activities`\n",
    "- `nursery`\n",
    "- `higher`\n",
    "- `internet`\n",
    "- `famrel`\n",
    "- `freetime`\n",
    "- `goout`\n",
    "- `Dalc`\n",
    "- `Walc`\n",
    "- `health`\n",
    "- `absences`\n",
    "- `bin_Mjob_teacher`\n",
    "- `bin_Mjob_health`\n",
    "- `bin_Mjob_services`\n",
    "- `bin_Mjob_at_home`\n",
    "- `bin_Fjob_teacher`\n",
    "- `bin_Fjob_health`\n",
    "- `bin_Fjob_services`\n",
    "- `bin_Fjob_at_home`\n",
    "- `bin_reason_home`\n",
    "- `bin_reason_reputation`\n",
    "- `bin_reason_other`\n",
    "- `bin_guardian_father`\n",
    "- `bin_guardian_other`"
   ]
  },
  {
   "cell_type": "code",
   "execution_count": 18,
   "metadata": {},
   "outputs": [
    {
     "data": {
      "text/html": [
       "<table class=\"simpletable\">\n",
       "<caption>OLS Regression Results</caption>\n",
       "<tr>\n",
       "  <th>Dep. Variable:</th>           <td>G3</td>        <th>  R-squared:         </th> <td>   0.832</td> \n",
       "</tr>\n",
       "<tr>\n",
       "  <th>Model:</th>                   <td>OLS</td>       <th>  Adj. R-squared:    </th> <td>   0.829</td> \n",
       "</tr>\n",
       "<tr>\n",
       "  <th>Method:</th>             <td>Least Squares</td>  <th>  F-statistic:       </th> <td>   274.6</td> \n",
       "</tr>\n",
       "<tr>\n",
       "  <th>Date:</th>             <td>Thu, 01 Aug 2019</td> <th>  Prob (F-statistic):</th> <td>2.74e-105</td>\n",
       "</tr>\n",
       "<tr>\n",
       "  <th>Time:</th>                 <td>07:40:28</td>     <th>  Log-Likelihood:    </th> <td> -580.80</td> \n",
       "</tr>\n",
       "<tr>\n",
       "  <th>No. Observations:</th>      <td>   284</td>      <th>  AIC:               </th> <td>   1174.</td> \n",
       "</tr>\n",
       "<tr>\n",
       "  <th>Df Residuals:</th>          <td>   278</td>      <th>  BIC:               </th> <td>   1195.</td> \n",
       "</tr>\n",
       "<tr>\n",
       "  <th>Df Model:</th>              <td>     5</td>      <th>                     </th>     <td> </td>    \n",
       "</tr>\n",
       "<tr>\n",
       "  <th>Covariance Type:</th>      <td>nonrobust</td>    <th>                     </th>     <td> </td>    \n",
       "</tr>\n",
       "</table>\n",
       "<table class=\"simpletable\">\n",
       "<tr>\n",
       "      <td></td>         <th>coef</th>     <th>std err</th>      <th>t</th>      <th>P>|t|</th>  <th>[0.025</th>    <th>0.975]</th>  \n",
       "</tr>\n",
       "<tr>\n",
       "  <th>Intercept</th> <td>   -3.9531</td> <td>    0.697</td> <td>   -5.670</td> <td> 0.000</td> <td>   -5.326</td> <td>   -2.581</td>\n",
       "</tr>\n",
       "<tr>\n",
       "  <th>famrel</th>    <td>    0.3926</td> <td>    0.128</td> <td>    3.056</td> <td> 0.002</td> <td>    0.140</td> <td>    0.646</td>\n",
       "</tr>\n",
       "<tr>\n",
       "  <th>Walc</th>      <td>    0.1606</td> <td>    0.089</td> <td>    1.797</td> <td> 0.073</td> <td>   -0.015</td> <td>    0.337</td>\n",
       "</tr>\n",
       "<tr>\n",
       "  <th>absences</th>  <td>    0.0351</td> <td>    0.014</td> <td>    2.521</td> <td> 0.012</td> <td>    0.008</td> <td>    0.063</td>\n",
       "</tr>\n",
       "<tr>\n",
       "  <th>G1</th>        <td>    0.1849</td> <td>    0.065</td> <td>    2.842</td> <td> 0.005</td> <td>    0.057</td> <td>    0.313</td>\n",
       "</tr>\n",
       "<tr>\n",
       "  <th>G2</th>        <td>    0.9608</td> <td>    0.056</td> <td>   17.087</td> <td> 0.000</td> <td>    0.850</td> <td>    1.071</td>\n",
       "</tr>\n",
       "</table>\n",
       "<table class=\"simpletable\">\n",
       "<tr>\n",
       "  <th>Omnibus:</th>       <td>176.342</td> <th>  Durbin-Watson:     </th> <td>   1.800</td> \n",
       "</tr>\n",
       "<tr>\n",
       "  <th>Prob(Omnibus):</th> <td> 0.000</td>  <th>  Jarque-Bera (JB):  </th> <td>1217.142</td> \n",
       "</tr>\n",
       "<tr>\n",
       "  <th>Skew:</th>          <td>-2.558</td>  <th>  Prob(JB):          </th> <td>5.02e-265</td>\n",
       "</tr>\n",
       "<tr>\n",
       "  <th>Kurtosis:</th>      <td>11.757</td>  <th>  Cond. No.          </th> <td>    111.</td> \n",
       "</tr>\n",
       "</table><br/><br/>Warnings:<br/>[1] Standard Errors assume that the covariance matrix of the errors is correctly specified."
      ],
      "text/plain": [
       "<class 'statsmodels.iolib.summary.Summary'>\n",
       "\"\"\"\n",
       "                            OLS Regression Results                            \n",
       "==============================================================================\n",
       "Dep. Variable:                     G3   R-squared:                       0.832\n",
       "Model:                            OLS   Adj. R-squared:                  0.829\n",
       "Method:                 Least Squares   F-statistic:                     274.6\n",
       "Date:                Thu, 01 Aug 2019   Prob (F-statistic):          2.74e-105\n",
       "Time:                        07:40:28   Log-Likelihood:                -580.80\n",
       "No. Observations:                 284   AIC:                             1174.\n",
       "Df Residuals:                     278   BIC:                             1195.\n",
       "Df Model:                           5                                         \n",
       "Covariance Type:            nonrobust                                         \n",
       "==============================================================================\n",
       "                 coef    std err          t      P>|t|      [0.025      0.975]\n",
       "------------------------------------------------------------------------------\n",
       "Intercept     -3.9531      0.697     -5.670      0.000      -5.326      -2.581\n",
       "famrel         0.3926      0.128      3.056      0.002       0.140       0.646\n",
       "Walc           0.1606      0.089      1.797      0.073      -0.015       0.337\n",
       "absences       0.0351      0.014      2.521      0.012       0.008       0.063\n",
       "G1             0.1849      0.065      2.842      0.005       0.057       0.313\n",
       "G2             0.9608      0.056     17.087      0.000       0.850       1.071\n",
       "==============================================================================\n",
       "Omnibus:                      176.342   Durbin-Watson:                   1.800\n",
       "Prob(Omnibus):                  0.000   Jarque-Bera (JB):             1217.142\n",
       "Skew:                          -2.558   Prob(JB):                    5.02e-265\n",
       "Kurtosis:                      11.757   Cond. No.                         111.\n",
       "==============================================================================\n",
       "\n",
       "Warnings:\n",
       "[1] Standard Errors assume that the covariance matrix of the errors is correctly specified.\n",
       "\"\"\""
      ]
     },
     "execution_count": 18,
     "metadata": {},
     "output_type": "execute_result"
    }
   ],
   "source": [
    "# Consideramos solo las variables con p-value < 0.025 (significancia mayor a 97.5). removemos las siguientes \n",
    "# variables del modelo\n",
    "for var in ['school', 'sex', 'age', 'address', 'famsize', 'Pstatus', 'Medu', 'Fedu', 'traveltime', 'studytime',\n",
    "            'failures', 'schoolsup', 'famsup', 'paid', 'activities', 'nursery', 'higher', 'internet', 'romantic',\n",
    "            'freetime', 'goout', 'Dalc', 'health', 'bin_Mjob_teacher', 'bin_Mjob_health', 'bin_Mjob_services',\n",
    "            'bin_Mjob_at_home', 'bin_Fjob_teacher', 'bin_Fjob_health', 'bin_Fjob_services', 'bin_Fjob_at_home',\n",
    "            'bin_reason_home', 'bin_reason_reputation', 'bin_reason_other', 'bin_guardian_father', 'bin_guardian_other']:\n",
    "    if var in columnas:\n",
    "        columnas.remove(var)\n",
    "modelo = smf.ols('G3 ~ ' + ' + '.join(columnas), df).fit()\n",
    "modelo.summary()"
   ]
  },
  {
   "cell_type": "code",
   "execution_count": 19,
   "metadata": {},
   "outputs": [
    {
     "data": {
      "text/html": [
       "<table class=\"simpletable\">\n",
       "<caption>OLS Regression Results</caption>\n",
       "<tr>\n",
       "  <th>Dep. Variable:</th>           <td>G3</td>        <th>  R-squared:         </th> <td>   0.830</td> \n",
       "</tr>\n",
       "<tr>\n",
       "  <th>Model:</th>                   <td>OLS</td>       <th>  Adj. R-squared:    </th> <td>   0.827</td> \n",
       "</tr>\n",
       "<tr>\n",
       "  <th>Method:</th>             <td>Least Squares</td>  <th>  F-statistic:       </th> <td>   339.7</td> \n",
       "</tr>\n",
       "<tr>\n",
       "  <th>Date:</th>             <td>Thu, 01 Aug 2019</td> <th>  Prob (F-statistic):</th> <td>6.92e-106</td>\n",
       "</tr>\n",
       "<tr>\n",
       "  <th>Time:</th>                 <td>07:40:28</td>     <th>  Log-Likelihood:    </th> <td> -582.44</td> \n",
       "</tr>\n",
       "<tr>\n",
       "  <th>No. Observations:</th>      <td>   284</td>      <th>  AIC:               </th> <td>   1175.</td> \n",
       "</tr>\n",
       "<tr>\n",
       "  <th>Df Residuals:</th>          <td>   279</td>      <th>  BIC:               </th> <td>   1193.</td> \n",
       "</tr>\n",
       "<tr>\n",
       "  <th>Df Model:</th>              <td>     4</td>      <th>                     </th>     <td> </td>    \n",
       "</tr>\n",
       "<tr>\n",
       "  <th>Covariance Type:</th>      <td>nonrobust</td>    <th>                     </th>     <td> </td>    \n",
       "</tr>\n",
       "</table>\n",
       "<table class=\"simpletable\">\n",
       "<tr>\n",
       "      <td></td>         <th>coef</th>     <th>std err</th>      <th>t</th>      <th>P>|t|</th>  <th>[0.025</th>    <th>0.975]</th>  \n",
       "</tr>\n",
       "<tr>\n",
       "  <th>Intercept</th> <td>   -3.4489</td> <td>    0.641</td> <td>   -5.383</td> <td> 0.000</td> <td>   -4.710</td> <td>   -2.188</td>\n",
       "</tr>\n",
       "<tr>\n",
       "  <th>famrel</th>    <td>    0.3708</td> <td>    0.128</td> <td>    2.887</td> <td> 0.004</td> <td>    0.118</td> <td>    0.624</td>\n",
       "</tr>\n",
       "<tr>\n",
       "  <th>absences</th>  <td>    0.0385</td> <td>    0.014</td> <td>    2.773</td> <td> 0.006</td> <td>    0.011</td> <td>    0.066</td>\n",
       "</tr>\n",
       "<tr>\n",
       "  <th>G1</th>        <td>    0.1735</td> <td>    0.065</td> <td>    2.670</td> <td> 0.008</td> <td>    0.046</td> <td>    0.301</td>\n",
       "</tr>\n",
       "<tr>\n",
       "  <th>G2</th>        <td>    0.9652</td> <td>    0.056</td> <td>   17.114</td> <td> 0.000</td> <td>    0.854</td> <td>    1.076</td>\n",
       "</tr>\n",
       "</table>\n",
       "<table class=\"simpletable\">\n",
       "<tr>\n",
       "  <th>Omnibus:</th>       <td>181.709</td> <th>  Durbin-Watson:     </th> <td>   1.771</td> \n",
       "</tr>\n",
       "<tr>\n",
       "  <th>Prob(Omnibus):</th> <td> 0.000</td>  <th>  Jarque-Bera (JB):  </th> <td>1313.320</td> \n",
       "</tr>\n",
       "<tr>\n",
       "  <th>Skew:</th>          <td>-2.640</td>  <th>  Prob(JB):          </th> <td>6.55e-286</td>\n",
       "</tr>\n",
       "<tr>\n",
       "  <th>Kurtosis:</th>      <td>12.116</td>  <th>  Cond. No.          </th> <td>    101.</td> \n",
       "</tr>\n",
       "</table><br/><br/>Warnings:<br/>[1] Standard Errors assume that the covariance matrix of the errors is correctly specified."
      ],
      "text/plain": [
       "<class 'statsmodels.iolib.summary.Summary'>\n",
       "\"\"\"\n",
       "                            OLS Regression Results                            \n",
       "==============================================================================\n",
       "Dep. Variable:                     G3   R-squared:                       0.830\n",
       "Model:                            OLS   Adj. R-squared:                  0.827\n",
       "Method:                 Least Squares   F-statistic:                     339.7\n",
       "Date:                Thu, 01 Aug 2019   Prob (F-statistic):          6.92e-106\n",
       "Time:                        07:40:28   Log-Likelihood:                -582.44\n",
       "No. Observations:                 284   AIC:                             1175.\n",
       "Df Residuals:                     279   BIC:                             1193.\n",
       "Df Model:                           4                                         \n",
       "Covariance Type:            nonrobust                                         \n",
       "==============================================================================\n",
       "                 coef    std err          t      P>|t|      [0.025      0.975]\n",
       "------------------------------------------------------------------------------\n",
       "Intercept     -3.4489      0.641     -5.383      0.000      -4.710      -2.188\n",
       "famrel         0.3708      0.128      2.887      0.004       0.118       0.624\n",
       "absences       0.0385      0.014      2.773      0.006       0.011       0.066\n",
       "G1             0.1735      0.065      2.670      0.008       0.046       0.301\n",
       "G2             0.9652      0.056     17.114      0.000       0.854       1.076\n",
       "==============================================================================\n",
       "Omnibus:                      181.709   Durbin-Watson:                   1.771\n",
       "Prob(Omnibus):                  0.000   Jarque-Bera (JB):             1313.320\n",
       "Skew:                          -2.640   Prob(JB):                    6.55e-286\n",
       "Kurtosis:                      12.116   Cond. No.                         101.\n",
       "==============================================================================\n",
       "\n",
       "Warnings:\n",
       "[1] Standard Errors assume that the covariance matrix of the errors is correctly specified.\n",
       "\"\"\""
      ]
     },
     "execution_count": 19,
     "metadata": {},
     "output_type": "execute_result"
    }
   ],
   "source": [
    "# Se saca Walc\n",
    "for var in ['Walc']:\n",
    "    if var in columnas:\n",
    "        columnas.remove(var)\n",
    "modelo_g3 = smf.ols('G3 ~ ' + ' + '.join(columnas), df).fit()\n",
    "modelo_g3.summary()"
   ]
  },
  {
   "cell_type": "code",
   "execution_count": 20,
   "metadata": {},
   "outputs": [
    {
     "name": "stdout",
     "output_type": "stream",
     "text": [
      "\n",
      "Goodness of Fit statistics\n",
      "             Statistics      Value\n",
      "2                 BIC:  1193.1243\n",
      "3      Log-Likelihood:    -582.44\n",
      "4         F-statistic:      339.7\n",
      "5  Prob (F-statistic):  6.92e-106\n",
      "6               Scale:     3.6023\n",
      "\n",
      "Point Estimates\n",
      "\n",
      "               Coef.  Std.Err.\n",
      "Intercept -3.448876  0.640749\n",
      "famrel     0.370755  0.128416\n",
      "absences   0.038464  0.013871\n",
      "G1         0.173524  0.064999\n",
      "G2         0.965179  0.056398\n"
     ]
    }
   ],
   "source": [
    "concise_summary(modelo_g3)"
   ]
  },
  {
   "cell_type": "markdown",
   "metadata": {},
   "source": [
    "El modelo depurado G1 $R^{2}$ mejorado de 0.213, G2 de 0.735 y G3 de 0.827. "
   ]
  },
  {
   "cell_type": "markdown",
   "metadata": {},
   "source": [
    "### Analisis de factores latentes"
   ]
  },
  {
   "cell_type": "code",
   "execution_count": 47,
   "metadata": {},
   "outputs": [
    {
     "data": {
      "text/html": [
       "<div>\n",
       "<style scoped>\n",
       "    .dataframe tbody tr th:only-of-type {\n",
       "        vertical-align: middle;\n",
       "    }\n",
       "\n",
       "    .dataframe tbody tr th {\n",
       "        vertical-align: top;\n",
       "    }\n",
       "\n",
       "    .dataframe thead th {\n",
       "        text-align: right;\n",
       "    }\n",
       "</style>\n",
       "<table border=\"1\" class=\"dataframe\">\n",
       "  <thead>\n",
       "    <tr style=\"text-align: right;\">\n",
       "      <th></th>\n",
       "      <th>famrel</th>\n",
       "      <th>freetime</th>\n",
       "      <th>goout</th>\n",
       "      <th>Dalc</th>\n",
       "      <th>Walc</th>\n",
       "      <th>health</th>\n",
       "    </tr>\n",
       "  </thead>\n",
       "  <tbody>\n",
       "    <tr>\n",
       "      <th>1</th>\n",
       "      <td>5</td>\n",
       "      <td>3</td>\n",
       "      <td>3</td>\n",
       "      <td>1</td>\n",
       "      <td>1</td>\n",
       "      <td>3</td>\n",
       "    </tr>\n",
       "    <tr>\n",
       "      <th>3</th>\n",
       "      <td>3</td>\n",
       "      <td>2</td>\n",
       "      <td>2</td>\n",
       "      <td>1</td>\n",
       "      <td>1</td>\n",
       "      <td>5</td>\n",
       "    </tr>\n",
       "    <tr>\n",
       "      <th>5</th>\n",
       "      <td>5</td>\n",
       "      <td>4</td>\n",
       "      <td>2</td>\n",
       "      <td>1</td>\n",
       "      <td>2</td>\n",
       "      <td>5</td>\n",
       "    </tr>\n",
       "    <tr>\n",
       "      <th>6</th>\n",
       "      <td>4</td>\n",
       "      <td>4</td>\n",
       "      <td>4</td>\n",
       "      <td>1</td>\n",
       "      <td>1</td>\n",
       "      <td>3</td>\n",
       "    </tr>\n",
       "    <tr>\n",
       "      <th>7</th>\n",
       "      <td>4</td>\n",
       "      <td>1</td>\n",
       "      <td>4</td>\n",
       "      <td>1</td>\n",
       "      <td>1</td>\n",
       "      <td>1</td>\n",
       "    </tr>\n",
       "  </tbody>\n",
       "</table>\n",
       "</div>"
      ],
      "text/plain": [
       "   famrel  freetime  goout  Dalc  Walc  health\n",
       "1       5         3      3     1     1       3\n",
       "3       3         2      2     1     1       5\n",
       "5       5         4      2     1     2       5\n",
       "6       4         4      4     1     1       3\n",
       "7       4         1      4     1     1       1"
      ]
     },
     "execution_count": 47,
     "metadata": {},
     "output_type": "execute_result"
    }
   ],
   "source": [
    "# Se crea un nuevo dataframe\n",
    "\n",
    "df2 = df\n",
    "df2 = df.loc[:, ['famrel', 'freetime', 'goout', 'Dalc', 'Walc', 'health']]\n",
    "df2.head()"
   ]
  },
  {
   "cell_type": "code",
   "execution_count": 48,
   "metadata": {},
   "outputs": [
    {
     "data": {
      "image/png": "[encoded data removed]",
      "text/plain": [
       "<Figure size 432x288 with 1 Axes>"
      ]
     },
     "metadata": {
      "needs_background": "light"
     },
     "output_type": "display_data"
    },
    {
     "data": {
      "text/plain": [
       "<matplotlib.axes._subplots.AxesSubplot at 0x9f1e90>"
      ]
     },
     "execution_count": 48,
     "metadata": {},
     "output_type": "execute_result"
    },
    {
     "data": {
      "image/png": "[encoded data removed]",
      "text/plain": [
       "<Figure size 432x288 with 2 Axes>"
      ]
     },
     "metadata": {
      "needs_background": "light"
     },
     "output_type": "display_data"
    }
   ],
   "source": [
    "# graficamos las medias de las variables del nuevo dataframe\n",
    "promedio = []\n",
    "\n",
    "for head, var in df2.iteritems():\n",
    "    promedio.append((head, var.mean()))\n",
    "    \n",
    "promedio = sorted(promedio, key=lambda x : x[1])\n",
    "plt.plot([i[0] for i in promedio], [i[1] for i in promedio], 'o-', color = 'blue')\n",
    "plt.xticks(rotation = 90)\n",
    "plt.show()\n",
    "#dibujamos el mapa de correlaciones\n",
    "\n",
    "sns.heatmap(df2.corr(), annot = True)"
   ]
  },
  {
   "cell_type": "markdown",
   "metadata": {},
   "source": [
    "las correlasciones más altas son: \n",
    "- Walc y Dalc (0.64) \n",
    "- Walc y goout (0.45)"
   ]
  },
  {
   "cell_type": "code",
   "execution_count": null,
   "metadata": {},
   "outputs": [],
   "source": [
    "factor.calculate_bartlett_sphericity(df2)"
   ]
  },
  {
   "cell_type": "markdown",
   "metadata": {},
   "source": [
    "La matriz de correlaciones no es igual a la matriz de identidad, es decir, los elementos no se relacionan unicamente con sigo mismo, existiendo covarianzas entre 2 o más ítems de la batería de preguntas"
   ]
  },
  {
   "cell_type": "code",
   "execution_count": null,
   "metadata": {},
   "outputs": [],
   "source": [
    "factor.calculate_kmo(df2)"
   ]
  },
  {
   "cell_type": "code",
   "execution_count": null,
   "metadata": {},
   "outputs": [],
   "source": [
    "Tanto los valores individuales como el global de KMO son menores a 0.7, por lo que no podemos afirmar que existan factor latente importante."
   ]
  },
  {
   "cell_type": "markdown",
   "metadata": {},
   "source": [
    "## Modelación predictiva"
   ]
  },
  {
   "cell_type": "code",
   "execution_count": 104,
   "metadata": {},
   "outputs": [],
   "source": [
    "# Modelo predictivo saturado\n",
    "columnas = df.columns.tolist()\n",
    "# Removemos de la lista el nombre del vector objetivo\n",
    "for var in ['G3']:\n",
    "    if var in columnas:\n",
    "        columnas.remove(var)\n",
    "\n",
    "# dividimos la muestra en entrenamiento y validación\n",
    "x_train, x_test, y_train, y_test = train_test_split(df.loc[:,columnas], df['G3'], test_size = .33, random_state = 11238)\n",
    "modelo_saturado = linear_model.LinearRegression().fit(x_train, y_train)"
   ]
  },
  {
   "cell_type": "code",
   "execution_count": 105,
   "metadata": {},
   "outputs": [
    {
     "name": "stdout",
     "output_type": "stream",
     "text": [
      "('intercepto', -1.6551190002774092)\n",
      "('school', 0.32928516090984683)\n",
      "('sex', 0.01084848873543004)\n",
      "('age', -0.06830247587774747)\n",
      "('address', 0.09431963417665506)\n",
      "('famsize', 0.15654512507532717)\n",
      "('Pstatus', 0.10589657044996562)\n",
      "('Medu', 0.11677037267676879)\n",
      "('Fedu', -0.2992088596218016)\n",
      "('traveltime', 0.06531415232861049)\n",
      "('studytime', 0.09960768736371496)\n",
      "('failures', -0.4419388572963215)\n",
      "('schoolsup', 0.14427635620508833)\n",
      "('famsup', -0.13530256666033863)\n",
      "('paid', -0.27583928246605904)\n",
      "('activities', 0.25926074079862454)\n",
      "('nursery', 0.08161894205751634)\n",
      "('higher', -1.7542592458143664)\n",
      "('internet', 0.04686390232644211)\n",
      "('romantic', -0.11186088153912775)\n",
      "('famrel', 0.27684426796471756)\n",
      "('freetime', -0.028917599965395162)\n",
      "('goout', -0.005660134327537614)\n",
      "('Dalc', -0.2993939412548653)\n",
      "('Walc', 0.33350504100518574)\n",
      "('health', 0.1281236297989386)\n",
      "('absences', 0.032028918140779655)\n",
      "('G1', 0.18616023550145122)\n",
      "('G2', 0.9239400309327097)\n",
      "('bin_Mjob_teacher', -0.26549564318713215)\n",
      "('bin_Mjob_health', -0.7931447006163519)\n",
      "('bin_Mjob_services', -0.34612465408658427)\n",
      "('bin_Mjob_at_home', -0.538141222066618)\n",
      "('bin_Fjob_teacher', 0.1282754057766189)\n",
      "('bin_Fjob_health', 0.5900130957977611)\n",
      "('bin_Fjob_services', -0.1119832757506693)\n",
      "('bin_Fjob_at_home', 0.04237918865677533)\n",
      "('bin_reason_home', -0.382603797214948)\n",
      "('bin_reason_reputation', 0.048961714477220725)\n",
      "('bin_reason_other', 0.3846584333803636)\n",
      "('bin_guardian_father', -0.10637282116864198)\n",
      "('bin_guardian_other', -0.23197045032404867)\n"
     ]
    }
   ],
   "source": [
    "# Se obtienen los siguientes coeficientes\n",
    "print(('intercepto', modelo_saturado.intercept_))\n",
    "for i in range(len(columnas)):\n",
    "    print((columnas[i],modelo_saturado.coef_[i]))"
   ]
  },
  {
   "cell_type": "code",
   "execution_count": 106,
   "metadata": {},
   "outputs": [
    {
     "name": "stdout",
     "output_type": "stream",
     "text": [
      "MSE: 4.421730843324752\n",
      "R^2: 0.7852990848704362\n"
     ]
    }
   ],
   "source": [
    "y_hat = modelo_saturado.predict(x_test)\n",
    "print(\"MSE: \" + str(mean_squared_error(y_test, y_hat)))\n",
    "print(\"R^2: \" + str(r2_score(y_test, y_hat)))"
   ]
  },
  {
   "cell_type": "code",
   "execution_count": 107,
   "metadata": {},
   "outputs": [],
   "source": [
    "# Modelo predictivo depurado\n",
    "columnas = df.columns.tolist()\n",
    "# Removemos de la lista el nombre del vector objetivo\n",
    "for var in ['G3', 'Walc', 'school', 'sex', 'age', 'address', 'famsize', 'Pstatus', 'Medu', 'Fedu', 'traveltime', 'studytime',\n",
    "            'failures', 'schoolsup', 'famsup', 'paid', 'activities', 'nursery', 'higher', 'internet', 'romantic',\n",
    "            'freetime', 'goout', 'Dalc', 'health', 'bin_Mjob_teacher', 'bin_Mjob_health', 'bin_Mjob_services',\n",
    "            'bin_Mjob_at_home', 'bin_Fjob_teacher', 'bin_Fjob_health', 'bin_Fjob_services', 'bin_Fjob_at_home',\n",
    "            'bin_reason_home', 'bin_reason_reputation', 'bin_reason_other', 'bin_guardian_father', 'bin_guardian_other']:\n",
    "    if var in columnas:\n",
    "        columnas.remove(var)\n",
    "# dividimos la muestra en entrenamiento y validación\n",
    "x_train, x_test, y_train, y_test = train_test_split(df.loc[:,columnas], df['G3'], test_size = .33, random_state = 11238)\n",
    "modelo_depurado = linear_model.LinearRegression().fit(x_train, y_train)"
   ]
  },
  {
   "cell_type": "code",
   "execution_count": 108,
   "metadata": {},
   "outputs": [
    {
     "name": "stdout",
     "output_type": "stream",
     "text": [
      "('intercepto', -3.320512021958505)\n",
      "('famrel', 0.3273571808700463)\n",
      "('absences', 0.028096594292261412)\n",
      "('G1', 0.19181202668079347)\n",
      "('G2', 0.953317097140688)\n"
     ]
    }
   ],
   "source": [
    "# Se obtienen los siguientes coeficientes\n",
    "print(('intercepto', modelo_depurado.intercept_))\n",
    "for i in range(len(columnas)):\n",
    "    print((columnas[i],modelo_depurado.coef_[i]))"
   ]
  },
  {
   "cell_type": "code",
   "execution_count": 109,
   "metadata": {},
   "outputs": [
    {
     "name": "stdout",
     "output_type": "stream",
     "text": [
      "MSE: 3.8802163608374522\n",
      "R^2: 0.8115927827605853\n"
     ]
    }
   ],
   "source": [
    "y_hat = modelo_depurado.predict(x_test)\n",
    "print(\"MSE: \" + str(mean_squared_error(y_test, y_hat)))\n",
    "print(\"R^2: \" + str(r2_score(y_test, y_hat)))"
   ]
  },
  {
   "cell_type": "markdown",
   "metadata": {},
   "source": [
    "Presenta un menor error cuadratico medio y un mayor $R^{2}$ indicando una mejora respecto al modelo anterior"
   ]
  },
  {
   "cell_type": "code",
   "execution_count": 115,
   "metadata": {},
   "outputs": [],
   "source": [
    "#Modelo predictivo depurado sin intercepto\n",
    "# dividimos la muestra en entrenamiento y validación\n",
    "x_train, x_test, y_train, y_test = train_test_split(df.loc[:,columnas], df['G3'], test_size = .33, random_state = 11238)\n",
    "modelo_depurado_sin_intercepto = linear_model.LinearRegression(fit_intercept = False).fit(x_train, y_train)\n"
   ]
  },
  {
   "cell_type": "code",
   "execution_count": 116,
   "metadata": {},
   "outputs": [
    {
     "name": "stdout",
     "output_type": "stream",
     "text": [
      "('intercepto', 0.0)\n",
      "('famrel', -0.1877657394628691)\n",
      "('absences', 0.01748601148320761)\n",
      "('G1', 0.09759294143641312)\n",
      "('G2', 0.940065753590162)\n"
     ]
    }
   ],
   "source": [
    "# Se obtienen los siguientes coeficientes\n",
    "print(('intercepto', modelo_depurado_sin_intercepto.intercept_))\n",
    "for i in range(len(columnas)):\n",
    "    print((columnas[i],modelo_depurado_sin_intercepto.coef_[i]))"
   ]
  },
  {
   "cell_type": "code",
   "execution_count": 117,
   "metadata": {},
   "outputs": [
    {
     "name": "stdout",
     "output_type": "stream",
     "text": [
      "MSE: 4.381699686089429\n",
      "R^2: 0.7872428318773564\n"
     ]
    }
   ],
   "source": [
    "y_hat = modelo_depurado_sin_intercepto.predict(x_test)\n",
    "print(\"MSE: \" + str(mean_squared_error(y_test, y_hat)))\n",
    "print(\"R^2: \" + str(r2_score(y_test, y_hat)))"
   ]
  },
  {
   "cell_type": "markdown",
   "metadata": {},
   "source": [
    "Presenta un mayor error cuadratico medio y un menor $R^{2}$ respecto al modelo depurado, pero un menor MSE y un mayor $R^{2}$ que el modelo saturado.\n",
    "\n",
    "El modelo con mejor comportamiento es el modelo depurado con intercepcto: Presenta el menor MSE (3.88), el mayor $R^{2}$ (0,8115)."
   ]
  }
 ],
 "metadata": {
  "kernelspec": {
   "display_name": "Python 3",
   "language": "python",
   "name": "python3"
  },
  "language_info": {
   "codemirror_mode": {
    "name": "ipython",
    "version": 3
   },
   "file_extension": ".py",
   "mimetype": "text/x-python",
   "name": "python",
   "nbconvert_exporter": "python",
   "pygments_lexer": "ipython3",
   "version": "3.7.3"
  }
 },
 "nbformat": 4,
 "nbformat_minor": 2
}
